{
 "cells": [
  {
   "cell_type": "markdown",
   "metadata": {},
   "source": [
    "# Commanded States regression testing 2020-2024.\n",
    "\n",
    "This notebook generates a regression states file in a branch (e.g. master or a test\n",
    "branch) for each of the available state keys.\n",
    "\n",
    "The intended usage is to run this notebook with `master` checked out, then with the \n",
    "`test-branch` checked out, and then compare.\n",
    "\n",
    "Outputs are written to `validation/states-regression/<branch>`. \n",
    "\n",
    "You can compare all outputs using:\n",
    "```\n",
    "diff -r validation/states-regression/{master,test-branch}\n",
    "```\n"
   ]
  },
  {
   "cell_type": "code",
   "execution_count": 1,
   "metadata": {},
   "outputs": [],
   "source": [
    "import sys\n",
    "from pathlib import Path\n",
    "\n",
    "sys.path.insert(0, str(Path.home() / \"git\" / \"kadi\"))\n",
    "\n",
    "# Prior to ska3 2024.11.\n",
    "sys.path.insert(0, str(Path.home() / \"git\" / \"ska_sun\"))\n",
    "sys.path.insert(0, str(Path.home() / \"git\" / \"ska_helpers\"))\n",
    "\n",
    "import subprocess\n",
    "\n",
    "import numpy as np\n",
    "\n",
    "import kadi.commands.states as kcs"
   ]
  },
  {
   "cell_type": "code",
   "execution_count": 2,
   "metadata": {},
   "outputs": [],
   "source": [
    "git_branch = subprocess.getoutput([\"git branch --show-current\"])\n"
   ]
  },
  {
   "cell_type": "code",
   "execution_count": 3,
   "metadata": {},
   "outputs": [],
   "source": [
    "START = \"2020:001:00:00:00\"\n",
    "STOP = \"2024:300:00:00:00\""
   ]
  },
  {
   "cell_type": "code",
   "execution_count": 4,
   "metadata": {},
   "outputs": [],
   "source": [
    "# REMOVE this after PR #340 is merged. This PR fixes an issue with these state keys\n",
    "# prior to the new HRC ops con implemented in 2023.\n",
    "continuity = {\"hrc_24v\": \"ON\", \"hrc_15v\": \"ON\"}"
   ]
  },
  {
   "cell_type": "code",
   "execution_count": 5,
   "metadata": {},
   "outputs": [],
   "source": [
    "states = kcs.get_states(START, STOP, state_keys=kcs.STATE_KEYS, continuity=continuity)"
   ]
  },
  {
   "cell_type": "code",
   "execution_count": 6,
   "metadata": {},
   "outputs": [],
   "source": [
    "outdir = Path(git_branch)\n",
    "outdir.mkdir(exist_ok=True)"
   ]
  },
  {
   "cell_type": "code",
   "execution_count": 7,
   "metadata": {},
   "outputs": [
    {
     "name": "stdout",
     "output_type": "stream",
     "text": [
      "Writing format\n",
      "Writing subformat\n",
      "Writing letg\n",
      "Writing hetg\n",
      "Writing grating\n",
      "Writing simpos\n",
      "Writing simfa_pos\n",
      "Writing hrc_15v\n",
      "Writing hrc_24v\n",
      "Writing hrc_i\n",
      "Writing hrc_s\n",
      "Writing obsid\n",
      "Writing eclipse_timer\n",
      "Writing eclipse\n",
      "Writing sun_pos_mon\n",
      "Writing battery_connect\n",
      "Writing eclipse_enable_spm\n",
      "Writing scs84\n",
      "Writing scs98\n",
      "Writing radmon\n",
      "Writing orbit_point\n",
      "Writing aoephem1\n",
      "Writing aoephem2\n",
      "Writing aoratio\n",
      "Writing aoargper\n",
      "Writing aoeccent\n",
      "Writing ao1minus\n",
      "Writing ao1plus\n",
      "Writing aomotion\n",
      "Writing aoiterat\n",
      "Writing aoorbang\n",
      "Writing aoperige\n",
      "Writing aoascend\n",
      "Writing aosini\n",
      "Writing aoslr\n",
      "Writing aosqrtmu\n",
      "Writing ephem_update\n",
      "Writing q1\n",
      "Writing q2\n",
      "Writing q3\n",
      "Writing q4\n",
      "Writing targ_q1\n",
      "Writing targ_q2\n",
      "Writing targ_q3\n",
      "Writing targ_q4\n",
      "Writing ra\n",
      "Writing dec\n",
      "Writing roll\n",
      "Writing auto_npnt\n",
      "Writing pcad_mode\n",
      "Writing pitch\n",
      "Writing off_nom_roll\n",
      "Writing dither\n",
      "Writing dither_phase_pitch\n",
      "Writing dither_phase_yaw\n",
      "Writing dither_ampl_pitch\n",
      "Writing dither_ampl_yaw\n",
      "Writing dither_period_pitch\n",
      "Writing dither_period_yaw\n",
      "Writing clocking\n",
      "Writing power_cmd\n",
      "Writing vid_board\n",
      "Writing fep_count\n",
      "Writing si_mode\n",
      "Writing ccd_count\n",
      "Writing acisfp_setpoint\n",
      "Writing fids\n"
     ]
    }
   ],
   "source": [
    "for state_key in kcs.STATE_KEYS:\n",
    "    print(f\"Writing {state_key}\")\n",
    "    states_for_key = kcs.reduce_states(\n",
    "        states, state_keys=[state_key], merge_identical=True\n",
    "    )\n",
    "    cols = [\"datestart\", state_key]\n",
    "    if states_for_key[state_key].dtype.kind == \"O\":\n",
    "        states_for_key[state_key] = [str(value) for value in states_for_key[state_key]]\n",
    "    if states_for_key[state_key].dtype.kind == \"f\":\n",
    "        states_for_key[state_key] = np.round(states_for_key[state_key], 6)\n",
    "    states_for_key[cols].write(\n",
    "        outdir / f\"{state_key}.dat\", format=\"ascii\", overwrite=True\n",
    "    )"
   ]
  }
 ],
 "metadata": {
  "kernelspec": {
   "display_name": "base",
   "language": "python",
   "name": "python3"
  },
  "language_info": {
   "codemirror_mode": {
    "name": "ipython",
    "version": 3
   },
   "file_extension": ".py",
   "mimetype": "text/x-python",
   "name": "python",
   "nbconvert_exporter": "python",
   "pygments_lexer": "ipython3",
   "version": "3.11.8"
  }
 },
 "nbformat": 4,
 "nbformat_minor": 2
}
