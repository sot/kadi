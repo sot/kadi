{
 "cells": [
  {
   "cell_type": "markdown",
   "metadata": {},
   "source": [
    "## Functional testing for PR-302\n",
    "\n",
    "Show that the SPM violations seen in kadi validation are from timing issues in the\n",
    "eclipse exit times. Increasing the minimum violation duration from 300 to 400 seconds \n",
    "fixes things.\n",
    "\n",
    "Show that increasing setting `ValidateRoll.max_delta_vals[\"NMAN\"] = 12.0` removes\n",
    "off-nominal roll violations."
   ]
  },
  {
   "cell_type": "code",
   "execution_count": 1,
   "metadata": {},
   "outputs": [],
   "source": [
    "import sys\n",
    "sys.path.insert(0, \"..\")\n",
    "\n",
    "import cheta.utils as cheta_utils\n",
    "import ska_sun\n",
    "from cheta import fetch\n",
    "from cheta import utils\n",
    "\n",
    "import kadi\n",
    "from kadi.commands import validate\n",
    "from kadi.commands.states import get_states"
   ]
  },
  {
   "cell_type": "code",
   "execution_count": 2,
   "metadata": {},
   "outputs": [
    {
     "data": {
      "text/plain": [
       "'7.7.2.dev15+ge201f44.d20231202'"
      ]
     },
     "execution_count": 2,
     "metadata": {},
     "output_type": "execute_result"
    }
   ],
   "source": [
    "kadi.__version__"
   ]
  },
  {
   "cell_type": "code",
   "execution_count": 3,
   "metadata": {},
   "outputs": [
    {
     "data": {
      "text/plain": [
       "'/Users/aldcroft/git/kadi/validate/../kadi/__init__.py'"
      ]
     },
     "execution_count": 3,
     "metadata": {},
     "output_type": "execute_result"
    }
   ],
   "source": [
    "kadi.__file__"
   ]
  },
  {
   "cell_type": "markdown",
   "metadata": {},
   "source": [
    "### Find some times where SPM is showing a violation"
   ]
  },
  {
   "cell_type": "code",
   "execution_count": 4,
   "metadata": {},
   "outputs": [
    {
     "name": "stdout",
     "output_type": "stream",
     "text": [
      "        start                  stop        \n",
      "--------------------- ---------------------\n",
      "2023:308:02:16:43.900 2023:308:02:21:55.500\n"
     ]
    }
   ],
   "source": [
    "# spm_val = validate.ValidateSunPosMon(stop=\"2023-11-07\", days=4)\n",
    "orig = validate.ValidateSunPosMon.min_violation_duration\n",
    "validate.ValidateSunPosMon.min_violation_duration = 300\n",
    "spm_val = validate.ValidateSunPosMon(stop=\"2023-11-04 03:00:00\", days=2/24)\n",
    "print(spm_val.violations)\n",
    "spm_val.get_plot_figure()\n",
    "validate.ValidateSunPosMon.min_violation_duration = orig\n"
   ]
  },
  {
   "cell_type": "code",
   "execution_count": 5,
   "metadata": {},
   "outputs": [
    {
     "data": {
      "text/html": [
       "<div><i>Table length=7</i>\n",
       "<table id=\"table5560444736\" class=\"table-striped table-bordered table-condensed\">\n",
       "<thead><tr><th>datestart</th><th>datestop</th><th>tstart</th><th>tstop</th><th>eclipse</th><th>sun_pos_mon</th><th>trans_keys</th></tr></thead>\n",
       "<thead><tr><th>str21</th><th>str21</th><th>float64</th><th>float64</th><th>str8</th><th>str4</th><th>object</th></tr></thead>\n",
       "<tr><td>2023:308:01:00:00.000</td><td>2023:308:01:56:34.442</td><td>815446869.184</td><td>815450263.626</td><td>DAY</td><td>ENAB</td><td></td></tr>\n",
       "<tr><td>2023:308:01:56:34.442</td><td>2023:308:02:01:34.442</td><td>815450263.626</td><td>815450563.626</td><td>DAY</td><td>DISA</td><td>sun_pos_mon</td></tr>\n",
       "<tr><td>2023:308:02:01:34.442</td><td>2023:308:02:02:24.442</td><td>815450563.626</td><td>815450613.626</td><td>PENUMBRA</td><td>DISA</td><td>eclipse</td></tr>\n",
       "<tr><td>2023:308:02:02:24.442</td><td>2023:308:02:10:04.442</td><td>815450613.626</td><td>815451073.626</td><td>UMBRA</td><td>DISA</td><td>eclipse</td></tr>\n",
       "<tr><td>2023:308:02:10:04.442</td><td>2023:308:02:10:54.442</td><td>815451073.626</td><td>815451123.626</td><td>PENUMBRA</td><td>DISA</td><td>eclipse</td></tr>\n",
       "<tr><td>2023:308:02:10:54.442</td><td>2023:308:02:21:54.442</td><td>815451123.626</td><td>815451783.626</td><td>DAY</td><td>DISA</td><td>eclipse</td></tr>\n",
       "<tr><td>2023:308:02:21:54.442</td><td>2023:308:03:00:00.000</td><td>815451783.626</td><td>815454069.184</td><td>DAY</td><td>ENAB</td><td>sun_pos_mon</td></tr>\n",
       "</table></div>"
      ],
      "text/plain": [
       "<Table length=7>\n",
       "      datestart              datestop       ... sun_pos_mon  trans_keys\n",
       "        str21                 str21         ...     str4       object  \n",
       "--------------------- --------------------- ... ----------- -----------\n",
       "2023:308:01:00:00.000 2023:308:01:56:34.442 ...        ENAB            \n",
       "2023:308:01:56:34.442 2023:308:02:01:34.442 ...        DISA sun_pos_mon\n",
       "2023:308:02:01:34.442 2023:308:02:02:24.442 ...        DISA     eclipse\n",
       "2023:308:02:02:24.442 2023:308:02:10:04.442 ...        DISA     eclipse\n",
       "2023:308:02:10:04.442 2023:308:02:10:54.442 ...        DISA     eclipse\n",
       "2023:308:02:10:54.442 2023:308:02:21:54.442 ...        DISA     eclipse\n",
       "2023:308:02:21:54.442 2023:308:03:00:00.000 ...        ENAB sun_pos_mon"
      ]
     },
     "execution_count": 5,
     "metadata": {},
     "output_type": "execute_result"
    }
   ],
   "source": [
    "# SPM enable 308:02:21:54.442 is correctly set to 11 minutes after eclipse exit\n",
    "# 308:02:10:54.442. This happens from SPM auto enable by the OBC.\n",
    "states = get_states(\n",
    "    \"2023-11-04 01:00:00\", \"2023-11-04 03:00:00\", state_keys=[\"eclipse\", \"sun_pos_mon\"]\n",
    ")\n",
    "states\n"
   ]
  },
  {
   "cell_type": "markdown",
   "metadata": {},
   "source": [
    "### Telemetry shows SPM enable at 308:02:16:43.900\n",
    "\n",
    "This means the OBC must have decided the eclipse exit was just over 5 minutes earlier than \n",
    "predicted. So actual eclipse exit was 308:02:05:43.900 vs predicted 308:02:10:54.442."
   ]
  },
  {
   "cell_type": "code",
   "execution_count": 6,
   "metadata": {},
   "outputs": [
    {
     "name": "stdout",
     "output_type": "stream",
     "text": [
      "      datestart              datestop       duration     tstart        tstop     val \n",
      "--------------------- --------------------- -------- ------------- ------------- ----\n",
      "2023:308:02:10:02.100 2023:308:02:16:43.900  401.800 815451071.284 815451473.084 DISA\n",
      "2023:308:02:16:43.900 2023:308:02:24:55.900  492.000 815451473.084 815451965.084 ACT \n"
     ]
    },
    {
     "data": {
      "image/png": "[encoded data removed]",
      "text/plain": [
       "<Figure size 640x480 with 1 Axes>"
      ]
     },
     "metadata": {},
     "output_type": "display_data"
    }
   ],
   "source": [
    "spm_tlm = fetch.Msid(\"aopssupm\", \"2023-11-04 02:10:00\", \"2023-11-04 02:25:00\")\n",
    "utils.state_intervals(spm_tlm.times, spm_tlm.vals).pprint_all()\n",
    "spm_tlm.plot()"
   ]
  },
  {
   "cell_type": "code",
   "execution_count": 7,
   "metadata": {},
   "outputs": [
    {
     "data": {
      "text/html": [
       "<div><i>Table length=0</i>\n",
       "<table id=\"table5657618000\" class=\"table-striped table-bordered table-condensed\">\n",
       "<thead><tr><th>start</th><th>stop</th></tr></thead>\n",
       "<thead><tr><th>str21</th><th>str21</th></tr></thead>\n",
       "</table></div>"
      ],
      "text/plain": [
       "<Table length=0>\n",
       "start  stop\n",
       "str21 str21\n",
       "----- -----"
      ]
     },
     "execution_count": 7,
     "metadata": {},
     "output_type": "execute_result"
    }
   ],
   "source": [
    "spm_val = validate.ValidateSunPosMon(stop=\"2023-11-04 03:00:00\", days=200)\n",
    "spm_val.violations"
   ]
  },
  {
   "cell_type": "markdown",
   "metadata": {},
   "source": [
    "### Off nominal roll"
   ]
  },
  {
   "cell_type": "code",
   "execution_count": 8,
   "metadata": {},
   "outputs": [
    {
     "name": "stdout",
     "output_type": "stream",
     "text": [
      "        start                  stop        \n",
      "--------------------- ---------------------\n",
      "2023:171:14:52:47.629 2023:171:14:53:48.103\n",
      "2023:171:18:18:18.378 2023:171:18:19:44.478\n",
      "2023:171:22:21:58.978 2023:171:22:23:22.003\n",
      "2023:172:01:31:11.879 2023:172:01:32:28.753\n",
      "2023:172:05:03:01.878 2023:172:05:04:17.728\n"
     ]
    },
    {
     "data": {
      "application/vnd.plotly.v1+json": {
       "config": {
        "plotlyServerURL": "https://plot.ly"
       },
       "data": [
        {
         "hovertemplate": "%{x|%Y:%j:%H:%M:%S} %{y}",
         "line": {
          "color": "#1f77b4",
          "width": 3
         },
         "marker": {
          "opacity": 0.9,
          "size": 8
         },
         "mode": "lines+markers",
         "name": "Telem",
         "opacity": 0.75,
         "showlegend": false,
         "type": "scatter",
         "x": [
          "2023-06-20T10:00:00.665999905",
          "2023-06-20T10:01:13.440999881",
          "2023-06-20T11:00:00.465999976",
          "2023-06-20T11:01:24.515999928",
          "2023-06-20T11:56:28.090999976",
          "2023-06-20T12:00:00.265999928",
          "2023-06-20T12:01:23.290999905",
          "2023-06-20T12:59:40.590999976",
          "2023-06-20T13:00:00.065999881",
          "2023-06-20T13:01:00.540999905",
          "2023-06-20T13:56:33.840999976",
          "2023-06-20T13:59:59.865999952",
          "2023-06-20T14:00:21.390999928",
          "2023-06-20T14:26:33.740999952",
          "2023-06-20T14:27:45.490999952",
          "2023-06-20T14:28:41.865999952",
          "2023-06-20T14:29:30.040999905",
          "2023-06-20T14:30:13.090999976",
          "2023-06-20T14:30:53.065999881",
          "2023-06-20T14:31:29.965999976",
          "2023-06-20T14:32:05.840999976",
          "2023-06-20T14:32:39.665999905",
          "2023-06-20T14:33:12.465999976",
          "2023-06-20T14:33:45.265999928",
          "2023-06-20T14:34:18.065999881",
          "2023-06-20T14:34:51.890999928",
          "2023-06-20T14:35:26.740999952",
          "2023-06-20T14:36:03.640999928",
          "2023-06-20T14:36:41.565999881",
          "2023-06-20T14:37:22.565999881",
          "2023-06-20T14:38:06.640999928",
          "2023-06-20T14:38:53.790999905",
          "2023-06-20T14:39:47.090999976",
          "2023-06-20T14:40:51.665999905",
          "2023-06-20T14:42:53.640999928",
          "2023-06-20T14:43:02.865999952",
          "2023-06-20T14:44:45.365999952",
          "2023-06-20T14:45:24.315999881",
          "2023-06-20T14:45:51.990999952",
          "2023-06-20T14:46:14.540999905",
          "2023-06-20T14:46:34.015999928",
          "2023-06-20T14:46:50.415999905",
          "2023-06-20T14:47:04.765999928",
          "2023-06-20T14:47:18.090999976",
          "2023-06-20T14:47:30.390999928",
          "2023-06-20T14:47:41.665999905",
          "2023-06-20T14:47:51.915999905",
          "2023-06-20T14:48:02.165999905",
          "2023-06-20T14:48:11.390999928",
          "2023-06-20T14:48:19.590999976",
          "2023-06-20T14:48:27.790999905",
          "2023-06-20T14:48:35.990999952",
          "2023-06-20T14:48:43.165999905",
          "2023-06-20T14:48:50.340999976",
          "2023-06-20T14:48:57.515999928",
          "2023-06-20T14:49:03.665999905",
          "2023-06-20T14:49:09.815999881",
          "2023-06-20T14:49:15.965999976",
          "2023-06-20T14:49:22.115999952",
          "2023-06-20T14:49:28.265999928",
          "2023-06-20T14:49:33.390999928",
          "2023-06-20T14:49:38.515999928",
          "2023-06-20T14:49:43.640999928",
          "2023-06-20T14:49:48.765999928",
          "2023-06-20T14:49:53.890999928",
          "2023-06-20T14:49:59.015999928",
          "2023-06-20T14:50:04.140999928",
          "2023-06-20T14:50:09.265999928",
          "2023-06-20T14:50:14.390999928",
          "2023-06-20T14:50:19.515999928",
          "2023-06-20T14:50:24.640999928",
          "2023-06-20T14:50:28.740999952",
          "2023-06-20T14:50:32.840999976",
          "2023-06-20T14:50:36.940999881",
          "2023-06-20T14:50:41.040999905",
          "2023-06-20T14:50:45.140999928",
          "2023-06-20T14:50:49.240999952",
          "2023-06-20T14:50:53.340999976",
          "2023-06-20T14:50:57.440999881",
          "2023-06-20T14:51:01.540999905",
          "2023-06-20T14:51:05.640999928",
          "2023-06-20T14:51:09.740999952",
          "2023-06-20T14:51:13.840999976",
          "2023-06-20T14:51:17.940999881",
          "2023-06-20T14:51:22.040999905",
          "2023-06-20T14:51:27.165999905",
          "2023-06-20T14:51:32.290999905",
          "2023-06-20T14:51:37.415999905",
          "2023-06-20T14:51:42.540999905",
          "2023-06-20T14:51:47.665999905",
          "2023-06-20T14:51:52.790999905",
          "2023-06-20T14:51:57.915999905",
          "2023-06-20T14:52:04.065999881",
          "2023-06-20T14:52:10.215999976",
          "2023-06-20T14:52:17.390999928",
          "2023-06-20T14:52:24.565999881",
          "2023-06-20T14:52:32.765999928",
          "2023-06-20T14:52:43.015999928",
          "2023-06-20T14:52:58.390999928",
          "2023-06-20T14:53:43.490999952",
          "2023-06-20T14:54:54.215999976",
          "2023-06-20T14:54:55.240999952",
          "2023-06-20T15:16:38.015999928",
          "2023-06-20T15:26:25.340999976",
          "2023-06-20T16:05:32.590999976",
          "2023-06-20T16:06:25.890999928",
          "2023-06-20T16:11:25.190999881",
          "2023-06-20T16:51:25.740999952",
          "2023-06-20T17:39:43.415999905",
          "2023-06-20T18:18:39.390999928",
          "2023-06-20T18:19:14.240999952",
          "2023-06-20T18:19:29.615999952",
          "2023-06-20T18:19:37.815999881",
          "2023-06-20T18:19:44.990999952",
          "2023-06-20T18:19:51.140999928",
          "2023-06-20T18:19:57.290999905",
          "2023-06-20T18:20:02.415999905",
          "2023-06-20T18:20:07.540999905",
          "2023-06-20T18:20:12.665999905",
          "2023-06-20T18:20:17.790999905",
          "2023-06-20T18:20:21.890999928",
          "2023-06-20T18:20:25.990999952",
          "2023-06-20T18:20:30.090999976",
          "2023-06-20T18:20:34.190999881",
          "2023-06-20T18:20:38.290999905",
          "2023-06-20T18:20:42.390999928",
          "2023-06-20T18:20:46.490999952",
          "2023-06-20T18:20:50.590999976",
          "2023-06-20T18:20:54.690999881",
          "2023-06-20T18:20:58.790999905",
          "2023-06-20T18:21:02.890999928",
          "2023-06-20T18:21:06.990999952",
          "2023-06-20T18:21:11.090999976",
          "2023-06-20T18:21:15.190999881",
          "2023-06-20T18:21:19.290999905",
          "2023-06-20T18:21:23.390999928",
          "2023-06-20T18:21:26.465999976",
          "2023-06-20T18:21:30.565999881",
          "2023-06-20T18:21:34.665999905",
          "2023-06-20T18:21:38.765999928",
          "2023-06-20T18:21:42.865999952",
          "2023-06-20T18:21:46.965999976",
          "2023-06-20T18:21:51.065999881",
          "2023-06-20T18:21:55.165999905",
          "2023-06-20T18:21:59.265999928",
          "2023-06-20T18:22:03.365999952",
          "2023-06-20T18:22:07.465999976",
          "2023-06-20T18:22:11.565999881",
          "2023-06-20T18:22:15.665999905",
          "2023-06-20T18:22:19.765999928",
          "2023-06-20T18:22:23.865999952",
          "2023-06-20T18:22:27.965999976",
          "2023-06-20T18:22:32.065999881",
          "2023-06-20T18:22:36.165999905",
          "2023-06-20T18:22:41.290999905",
          "2023-06-20T18:22:46.415999905",
          "2023-06-20T18:22:51.540999905",
          "2023-06-20T18:22:56.665999905",
          "2023-06-20T18:23:01.790999905",
          "2023-06-20T18:23:06.915999905",
          "2023-06-20T18:23:12.040999905",
          "2023-06-20T18:23:18.190999881",
          "2023-06-20T18:23:24.340999976",
          "2023-06-20T18:23:30.490999952",
          "2023-06-20T18:23:36.640999928",
          "2023-06-20T18:23:42.790999905",
          "2023-06-20T18:23:49.965999976",
          "2023-06-20T18:23:57.140999928",
          "2023-06-20T18:24:04.315999881",
          "2023-06-20T18:24:12.515999928",
          "2023-06-20T18:24:20.715999976",
          "2023-06-20T18:24:28.915999905",
          "2023-06-20T18:24:38.140999928",
          "2023-06-20T18:24:48.390999928",
          "2023-06-20T18:24:59.665999905",
          "2023-06-20T18:25:11.965999976",
          "2023-06-20T18:25:25.290999905",
          "2023-06-20T18:25:40.665999905",
          "2023-06-20T18:25:58.090999976",
          "2023-06-20T18:26:18.590999976",
          "2023-06-20T18:26:44.215999976",
          "2023-06-20T18:27:24.190999881",
          "2023-06-20T18:28:25.690999881",
          "2023-06-20T18:30:01.015999928",
          "2023-06-20T18:30:47.140999928",
          "2023-06-20T18:31:26.090999976",
          "2023-06-20T18:31:59.915999905",
          "2023-06-20T18:32:31.690999881",
          "2023-06-20T18:33:01.415999905",
          "2023-06-20T18:33:29.090999976",
          "2023-06-20T18:33:55.740999952",
          "2023-06-20T18:34:21.365999952",
          "2023-06-20T18:34:46.990999952",
          "2023-06-20T18:35:11.590999976",
          "2023-06-20T18:35:35.165999905",
          "2023-06-20T18:35:58.740999952",
          "2023-06-20T18:36:21.290999905",
          "2023-06-20T18:36:43.840999976",
          "2023-06-20T18:37:05.365999952",
          "2023-06-20T18:37:26.890999928",
          "2023-06-20T18:37:47.390999928",
          "2023-06-20T18:38:07.890999928",
          "2023-06-20T18:38:28.390999928",
          "2023-06-20T18:38:47.865999952",
          "2023-06-20T18:39:07.340999976",
          "2023-06-20T18:39:26.815999881",
          "2023-06-20T18:39:46.290999905",
          "2023-06-20T18:40:04.740999952",
          "2023-06-20T18:40:23.190999881",
          "2023-06-20T18:40:41.640999928",
          "2023-06-20T18:40:59.065999881",
          "2023-06-20T18:41:16.490999952",
          "2023-06-20T18:41:33.915999905",
          "2023-06-20T18:41:51.340999976",
          "2023-06-20T18:42:07.740999952",
          "2023-06-20T18:42:24.140999928",
          "2023-06-20T18:42:40.540999905",
          "2023-06-20T18:42:56.940999881",
          "2023-06-20T18:43:13.340999976",
          "2023-06-20T18:43:29.740999952",
          "2023-06-20T18:43:47.165999905",
          "2023-06-20T18:44:04.590999976",
          "2023-06-20T18:44:22.015999928",
          "2023-06-20T18:44:40.465999976",
          "2023-06-20T18:44:58.915999905",
          "2023-06-20T18:45:18.390999928",
          "2023-06-20T18:45:38.890999928",
          "2023-06-20T18:45:59.390999928",
          "2023-06-20T18:46:20.915999905",
          "2023-06-20T18:46:43.465999976",
          "2023-06-20T18:47:07.040999905",
          "2023-06-20T18:47:32.665999905",
          "2023-06-20T18:48:00.340999976",
          "2023-06-20T18:48:31.090999976",
          "2023-06-20T18:49:04.915999905",
          "2023-06-20T18:49:44.890999928",
          "2023-06-20T18:50:36.140999928",
          "2023-06-20T18:52:16.590999976",
          "2023-06-20T18:56:17.465999976",
          "2023-06-20T19:52:16.390999928",
          "2023-06-20T19:56:20.340999976",
          "2023-06-20T20:52:01.840999976",
          "2023-06-20T20:52:16.190999881",
          "2023-06-20T20:52:17.215999976",
          "2023-06-20T21:51:33.965999976",
          "2023-06-20T21:52:28.290999905",
          "2023-06-20T21:53:10.315999881",
          "2023-06-20T21:53:46.190999881",
          "2023-06-20T21:54:17.965999976",
          "2023-06-20T21:54:46.665999905",
          "2023-06-20T21:55:13.315999881",
          "2023-06-20T21:55:37.915999905",
          "2023-06-20T21:56:01.490999952",
          "2023-06-20T21:56:24.040999905",
          "2023-06-20T21:56:45.565999881",
          "2023-06-20T21:57:06.065999881",
          "2023-06-20T21:57:26.565999881",
          "2023-06-20T21:57:46.040999905",
          "2023-06-20T21:58:05.515999928",
          "2023-06-20T21:58:23.965999976",
          "2023-06-20T21:58:42.415999905",
          "2023-06-20T21:58:59.840999976",
          "2023-06-20T21:59:17.265999928",
          "2023-06-20T21:59:34.690999881",
          "2023-06-20T21:59:52.115999952",
          "2023-06-20T22:00:09.540999905",
          "2023-06-20T22:00:26.965999976",
          "2023-06-20T22:00:45.415999905",
          "2023-06-20T22:01:03.865999952",
          "2023-06-20T22:01:22.315999881",
          "2023-06-20T22:01:40.765999928",
          "2023-06-20T22:02:00.240999952",
          "2023-06-20T22:02:19.715999976",
          "2023-06-20T22:02:40.215999976",
          "2023-06-20T22:03:00.715999976",
          "2023-06-20T22:03:21.215999976",
          "2023-06-20T22:03:42.740999952",
          "2023-06-20T22:04:04.265999928",
          "2023-06-20T22:04:25.790999905",
          "2023-06-20T22:04:48.340999976",
          "2023-06-20T22:05:10.890999928",
          "2023-06-20T22:05:34.465999976",
          "2023-06-20T22:05:58.040999905",
          "2023-06-20T22:06:22.640999928",
          "2023-06-20T22:06:47.240999952",
          "2023-06-20T22:07:12.865999952",
          "2023-06-20T22:07:39.515999928",
          "2023-06-20T22:08:07.190999881",
          "2023-06-20T22:08:35.890999928",
          "2023-06-20T22:09:06.640999928",
          "2023-06-20T22:09:39.440999881",
          "2023-06-20T22:10:15.315999881",
          "2023-06-20T22:10:55.290999905",
          "2023-06-20T22:11:44.490999952",
          "2023-06-20T22:13:12.640999928",
          "2023-06-20T22:14:36.690999881",
          "2023-06-20T22:15:08.465999976",
          "2023-06-20T22:15:32.040999905",
          "2023-06-20T22:15:50.490999952",
          "2023-06-20T22:16:06.890999928",
          "2023-06-20T22:16:21.240999952",
          "2023-06-20T22:16:34.565999881",
          "2023-06-20T22:16:45.840999976",
          "2023-06-20T22:16:56.090999976",
          "2023-06-20T22:17:06.340999976",
          "2023-06-20T22:17:15.565999881",
          "2023-06-20T22:17:23.765999928",
          "2023-06-20T22:17:31.965999976",
          "2023-06-20T22:17:39.140999928",
          "2023-06-20T22:17:46.315999881",
          "2023-06-20T22:17:53.490999952",
          "2023-06-20T22:18:00.665999905",
          "2023-06-20T22:18:06.815999881",
          "2023-06-20T22:18:12.965999976",
          "2023-06-20T22:18:19.115999952",
          "2023-06-20T22:18:25.265999928",
          "2023-06-20T22:18:30.390999928",
          "2023-06-20T22:18:35.515999928",
          "2023-06-20T22:18:40.640999928",
          "2023-06-20T22:18:45.765999928",
          "2023-06-20T22:18:50.890999928",
          "2023-06-20T22:18:56.015999928",
          "2023-06-20T22:19:01.140999928",
          "2023-06-20T22:19:05.240999952",
          "2023-06-20T22:19:09.340999976",
          "2023-06-20T22:19:13.440999881",
          "2023-06-20T22:19:17.540999905",
          "2023-06-20T22:19:21.640999928",
          "2023-06-20T22:19:25.740999952",
          "2023-06-20T22:19:29.840999976",
          "2023-06-20T22:19:33.940999881",
          "2023-06-20T22:19:38.040999905",
          "2023-06-20T22:19:42.140999928",
          "2023-06-20T22:19:46.240999952",
          "2023-06-20T22:19:50.340999976",
          "2023-06-20T22:19:54.440999881",
          "2023-06-20T22:19:58.540999905",
          "2023-06-20T22:20:02.640999928",
          "2023-06-20T22:20:06.740999952",
          "2023-06-20T22:20:10.840999976",
          "2023-06-20T22:20:14.940999881",
          "2023-06-20T22:20:19.040999905",
          "2023-06-20T22:20:23.140999928",
          "2023-06-20T22:20:27.240999952",
          "2023-06-20T22:20:31.340999976",
          "2023-06-20T22:20:35.440999881",
          "2023-06-20T22:20:39.540999905",
          "2023-06-20T22:20:43.640999928",
          "2023-06-20T22:20:47.740999952",
          "2023-06-20T22:20:51.840999976",
          "2023-06-20T22:20:55.940999881",
          "2023-06-20T22:21:00.040999905",
          "2023-06-20T22:21:04.140999928",
          "2023-06-20T22:21:08.240999952",
          "2023-06-20T22:21:12.340999976",
          "2023-06-20T22:21:16.440999881",
          "2023-06-20T22:21:20.540999905",
          "2023-06-20T22:21:25.665999905",
          "2023-06-20T22:21:30.790999905",
          "2023-06-20T22:21:35.915999905",
          "2023-06-20T22:21:41.040999905",
          "2023-06-20T22:21:47.190999881",
          "2023-06-20T22:21:53.340999976",
          "2023-06-20T22:22:00.515999928",
          "2023-06-20T22:22:08.715999976",
          "2023-06-20T22:22:18.965999976",
          "2023-06-20T22:22:33.315999881",
          "2023-06-20T22:24:29.140999928",
          "2023-06-20T23:01:25.190999881",
          "2023-06-20T23:47:12.190999881",
          "2023-06-21T00:26:05.090999976",
          "2023-06-21T00:26:25.590999976",
          "2023-06-21T00:31:24.890999928",
          "2023-06-21T01:11:25.440999881",
          "2023-06-21T01:31:48.265999928",
          "2023-06-21T01:32:07.740999952",
          "2023-06-21T01:32:15.940999881",
          "2023-06-21T01:32:24.140999928",
          "2023-06-21T01:32:32.340999976",
          "2023-06-21T01:32:41.565999881",
          "2023-06-21T01:32:49.765999928",
          "2023-06-21T01:32:55.915999905",
          "2023-06-21T01:33:01.040999905",
          "2023-06-21T01:33:05.140999928",
          "2023-06-21T01:33:09.240999952",
          "2023-06-21T01:33:13.340999976",
          "2023-06-21T01:33:17.440999881",
          "2023-06-21T01:33:21.540999905",
          "2023-06-21T01:33:25.640999928",
          "2023-06-21T01:33:29.740999952",
          "2023-06-21T01:33:33.840999976",
          "2023-06-21T01:33:37.940999881",
          "2023-06-21T01:33:42.040999905",
          "2023-06-21T01:33:46.140999928",
          "2023-06-21T01:33:50.240999952",
          "2023-06-21T01:33:54.340999976",
          "2023-06-21T01:33:58.440999881",
          "2023-06-21T01:34:02.540999905",
          "2023-06-21T01:34:06.640999928",
          "2023-06-21T01:34:10.740999952",
          "2023-06-21T01:34:14.840999976",
          "2023-06-21T01:34:18.940999881",
          "2023-06-21T01:34:23.040999905",
          "2023-06-21T01:34:27.140999928",
          "2023-06-21T01:34:31.240999952",
          "2023-06-21T01:34:35.340999976",
          "2023-06-21T01:34:39.440999881",
          "2023-06-21T01:34:43.540999905",
          "2023-06-21T01:34:47.640999928",
          "2023-06-21T01:34:51.740999952",
          "2023-06-21T01:34:55.840999976",
          "2023-06-21T01:34:59.940999881",
          "2023-06-21T01:35:04.040999905",
          "2023-06-21T01:35:08.140999928",
          "2023-06-21T01:35:12.240999952",
          "2023-06-21T01:35:16.340999976",
          "2023-06-21T01:35:20.440999881",
          "2023-06-21T01:35:24.540999905",
          "2023-06-21T01:35:29.665999905",
          "2023-06-21T01:35:34.790999905",
          "2023-06-21T01:35:39.915999905",
          "2023-06-21T01:35:45.040999905",
          "2023-06-21T01:35:50.165999905",
          "2023-06-21T01:35:55.290999905",
          "2023-06-21T01:36:00.415999905",
          "2023-06-21T01:36:06.565999881",
          "2023-06-21T01:36:12.715999976",
          "2023-06-21T01:36:18.865999952",
          "2023-06-21T01:36:25.015999928",
          "2023-06-21T01:36:31.165999905",
          "2023-06-21T01:36:38.340999976",
          "2023-06-21T01:36:45.515999928",
          "2023-06-21T01:36:52.690999881",
          "2023-06-21T01:37:00.890999928",
          "2023-06-21T01:37:09.090999976",
          "2023-06-21T01:37:18.315999881",
          "2023-06-21T01:37:27.540999905",
          "2023-06-21T01:37:37.790999905",
          "2023-06-21T01:37:49.065999881",
          "2023-06-21T01:38:01.365999952",
          "2023-06-21T01:38:14.690999881",
          "2023-06-21T01:38:30.065999881",
          "2023-06-21T01:38:47.490999952",
          "2023-06-21T01:39:09.015999928",
          "2023-06-21T01:39:36.690999881",
          "2023-06-21T01:40:19.740999952",
          "2023-06-21T01:41:26.365999952",
          "2023-06-21T01:43:01.690999881",
          "2023-06-21T01:43:49.865999952",
          "2023-06-21T01:44:29.840999976",
          "2023-06-21T01:45:05.715999976",
          "2023-06-21T01:45:39.540999905",
          "2023-06-21T01:46:11.315999881",
          "2023-06-21T01:46:41.040999905",
          "2023-06-21T01:47:09.740999952",
          "2023-06-21T01:47:37.415999905",
          "2023-06-21T01:48:04.065999881",
          "2023-06-21T01:48:29.690999881",
          "2023-06-21T01:48:55.315999881",
          "2023-06-21T01:49:19.915999905",
          "2023-06-21T01:49:43.490999952",
          "2023-06-21T01:50:07.065999881",
          "2023-06-21T01:50:29.615999952",
          "2023-06-21T01:50:53.190999881",
          "2023-06-21T01:51:16.765999928",
          "2023-06-21T01:51:41.365999952",
          "2023-06-21T01:52:05.965999976",
          "2023-06-21T01:52:31.590999976",
          "2023-06-21T01:52:58.240999952",
          "2023-06-21T01:53:25.915999905",
          "2023-06-21T01:53:55.640999928",
          "2023-06-21T01:54:26.390999928",
          "2023-06-21T01:55:00.215999976",
          "2023-06-21T01:55:37.115999952",
          "2023-06-21T01:56:19.140999928",
          "2023-06-21T01:57:08.340999976",
          "2023-06-21T01:58:13.940999881",
          "2023-06-21T02:02:31.215999976",
          "2023-06-21T02:58:13.740999952",
          "2023-06-21T03:01:25.415999905",
          "2023-06-21T03:58:13.540999905",
          "2023-06-21T03:58:14.565999881",
          "2023-06-21T04:37:42.315999881",
          "2023-06-21T04:38:45.865999952",
          "2023-06-21T04:39:35.065999881",
          "2023-06-21T04:40:17.090999976",
          "2023-06-21T04:40:53.990999952",
          "2023-06-21T04:41:27.815999881",
          "2023-06-21T04:41:59.590999976",
          "2023-06-21T04:42:29.315999881",
          "2023-06-21T04:42:58.015999928",
          "2023-06-21T04:43:24.665999905",
          "2023-06-21T04:43:51.315999881",
          "2023-06-21T04:44:16.940999881",
          "2023-06-21T04:44:41.540999905",
          "2023-06-21T04:45:06.140999928",
          "2023-06-21T04:45:29.715999976",
          "2023-06-21T04:45:54.315999881",
          "2023-06-21T04:46:18.915999905",
          "2023-06-21T04:46:44.540999905",
          "2023-06-21T04:47:10.165999905",
          "2023-06-21T04:47:36.815999881",
          "2023-06-21T04:48:04.490999952",
          "2023-06-21T04:48:33.190999881",
          "2023-06-21T04:49:02.915999905",
          "2023-06-21T04:49:34.690999881",
          "2023-06-21T04:50:07.490999952",
          "2023-06-21T04:50:43.365999952",
          "2023-06-21T04:51:22.315999881",
          "2023-06-21T04:52:07.415999905",
          "2023-06-21T04:53:08.915999905",
          "2023-06-21T04:54:11.440999881",
          "2023-06-21T04:55:38.565999881",
          "2023-06-21T04:56:11.365999952",
          "2023-06-21T04:56:35.965999976",
          "2023-06-21T04:56:55.440999881",
          "2023-06-21T04:57:11.840999976",
          "2023-06-21T04:57:26.190999881",
          "2023-06-21T04:57:39.515999928",
          "2023-06-21T04:57:50.790999905",
          "2023-06-21T04:58:02.065999881",
          "2023-06-21T04:58:12.315999881",
          "2023-06-21T04:58:21.540999905",
          "2023-06-21T04:58:30.765999928",
          "2023-06-21T04:58:38.965999976",
          "2023-06-21T04:58:47.165999905",
          "2023-06-21T04:58:54.340999976",
          "2023-06-21T04:59:01.515999928",
          "2023-06-21T04:59:08.690999881",
          "2023-06-21T04:59:14.840999976",
          "2023-06-21T04:59:20.990999952",
          "2023-06-21T04:59:27.140999928",
          "2023-06-21T04:59:33.290999905",
          "2023-06-21T04:59:38.415999905",
          "2023-06-21T04:59:43.540999905",
          "2023-06-21T04:59:48.665999905",
          "2023-06-21T04:59:53.790999905",
          "2023-06-21T04:59:58.915999905",
          "2023-06-21T05:00:04.040999905",
          "2023-06-21T05:00:09.165999905",
          "2023-06-21T05:00:14.290999905",
          "2023-06-21T05:00:18.390999928",
          "2023-06-21T05:00:22.490999952",
          "2023-06-21T05:00:26.590999976",
          "2023-06-21T05:00:30.690999881",
          "2023-06-21T05:00:34.790999905",
          "2023-06-21T05:00:38.890999928",
          "2023-06-21T05:00:42.990999952",
          "2023-06-21T05:00:47.090999976",
          "2023-06-21T05:00:51.190999881",
          "2023-06-21T05:00:55.290999905",
          "2023-06-21T05:00:59.390999928",
          "2023-06-21T05:01:03.490999952",
          "2023-06-21T05:01:07.590999976",
          "2023-06-21T05:01:11.690999881",
          "2023-06-21T05:01:15.790999905",
          "2023-06-21T05:01:19.890999928",
          "2023-06-21T05:01:23.990999952",
          "2023-06-21T05:01:28.090999976",
          "2023-06-21T05:01:32.190999881",
          "2023-06-21T05:01:36.290999905",
          "2023-06-21T05:01:40.390999928",
          "2023-06-21T05:01:44.490999952",
          "2023-06-21T05:01:48.590999976",
          "2023-06-21T05:01:52.690999881",
          "2023-06-21T05:01:56.790999905",
          "2023-06-21T05:02:00.890999928",
          "2023-06-21T05:02:04.990999952",
          "2023-06-21T05:02:09.090999976",
          "2023-06-21T05:02:13.190999881",
          "2023-06-21T05:02:17.290999905",
          "2023-06-21T05:02:22.415999905",
          "2023-06-21T05:02:27.540999905",
          "2023-06-21T05:02:32.665999905",
          "2023-06-21T05:02:37.790999905",
          "2023-06-21T05:02:43.940999881",
          "2023-06-21T05:02:50.090999976",
          "2023-06-21T05:02:57.265999928",
          "2023-06-21T05:03:05.465999976",
          "2023-06-21T05:03:15.715999976",
          "2023-06-21T05:03:30.065999881",
          "2023-06-21T05:04:13.115999952",
          "2023-06-21T05:41:25.565999881",
          "2023-06-21T06:21:27.140999928",
          "2023-06-21T06:26:25.415999905",
          "2023-06-21T07:01:25.640999928",
          "2023-06-21T07:36:25.865999952",
          "2023-06-21T08:11:17.890999928",
          "2023-06-21T08:11:25.065999881",
          "2023-06-21T08:15:38.240999952",
          "2023-06-21T08:18:07.890999928",
          "2023-06-21T08:19:13.490999952",
          "2023-06-21T08:20:04.740999952",
          "2023-06-21T08:20:48.815999881",
          "2023-06-21T08:21:26.740999952",
          "2023-06-21T08:22:01.590999976",
          "2023-06-21T08:22:34.390999928",
          "2023-06-21T08:23:05.140999928",
          "2023-06-21T08:23:35.890999928",
          "2023-06-21T08:24:05.615999952",
          "2023-06-21T08:24:35.340999976",
          "2023-06-21T08:25:05.065999881",
          "2023-06-21T08:25:33.765999928",
          "2023-06-21T08:26:02.465999976",
          "2023-06-21T08:26:30.140999928",
          "2023-06-21T08:26:57.815999881",
          "2023-06-21T08:27:26.515999928",
          "2023-06-21T08:27:55.215999976",
          "2023-06-21T08:28:25.965999976",
          "2023-06-21T08:28:57.740999952",
          "2023-06-21T08:29:31.565999881",
          "2023-06-21T08:30:07.440999881",
          "2023-06-21T08:30:46.390999928",
          "2023-06-21T08:31:29.440999881",
          "2023-06-21T08:32:18.640999928",
          "2023-06-21T08:33:17.065999881",
          "2023-06-21T08:34:37.015999928",
          "2023-06-21T09:34:36.815999881",
          "2023-06-21T09:34:45.015999928",
          "2023-06-21T09:59:56.890999928",
          "2023-06-21T09:59:59.965999976"
         ],
         "y": [
          -0.2071318596909996,
          -0.20698125681603305,
          -0.24410913665897313,
          -0.24401961604485947,
          -0.2812625593830431,
          -0.28087484312601263,
          -0.2807165372037493,
          -0.3185708444460896,
          -0.3185329127744065,
          -0.3184000083837809,
          -0.3553926811322484,
          -0.35523265195349846,
          -0.3551309663074987,
          -0.8495222076520595,
          -1.3414516314947174,
          -1.8386414434707519,
          -2.3337106818935944,
          -2.8258202829160703,
          -3.320630227975458,
          -3.8097654295718453,
          -4.305218533409298,
          -4.790778707457687,
          -5.276546890013882,
          -5.772801261518002,
          -6.267603779948194,
          -6.761868387155926,
          -7.251440400364096,
          -7.747582056971313,
          -8.237737594273852,
          -8.734587096026317,
          -9.234277191737437,
          -9.726086546236957,
          -10.221984945177596,
          -10.720661351653497,
          -11.220396790737757,
          -11.222905693355212,
          -10.726840833468403,
          -10.227309725531857,
          -9.739422306497866,
          -9.247829165911266,
          -8.76249373115389,
          -8.281062614388683,
          -7.810805697135881,
          -7.3296687563020395,
          -6.845156677728488,
          -6.3648411125855135,
          -5.8968579137697,
          -5.397646925746472,
          -4.920575618994084,
          -4.472935903092103,
          -4.002887612431299,
          -3.5097515192123034,
          -3.059020167069097,
          -2.5900785505992654,
          -2.1024640156402237,
          -1.669620059721624,
          -1.2225881849668843,
          -0.7617685271172528,
          -0.28719238849981643,
          0.20136534624574678,
          0.6189849359495985,
          1.0460884795596874,
          1.4822932840160679,
          1.927521767493853,
          2.381613799256334,
          2.844424699821768,
          3.3151205231144765,
          3.793636509776366,
          4.279514006284655,
          4.772214311499939,
          5.2710474012800255,
          5.6738758697466904,
          6.079988238448855,
          6.488949638190879,
          6.899973999396546,
          7.312412420824409,
          7.726317761929438,
          8.141264289906648,
          8.55693650812544,
          8.971791464726266,
          9.385831331128275,
          9.798354731404297,
          10.208878572812736,
          10.616354581606512,
          11.020232226433762,
          11.474062964335054,
          11.9638053238011,
          12.443850181467461,
          12.913047090600902,
          13.369337588010184,
          13.810933968969364,
          14.23721570878852,
          14.725065712073727,
          15.18529834593071,
          15.68324799500396,
          16.13671150695336,
          16.59442125987447,
          17.069300031032327,
          17.56876603436577,
          17.970290164132024,
          17.955012705655257,
          18.15819767737444,
          17.692963250589532,
          17.696029956009895,
          17.219335213622067,
          17.22522542882637,
          17.26010622099243,
          16.796607328332573,
          16.296702319367743,
          15.79817818552544,
          15.304570067030188,
          14.83335508812739,
          14.333743622468837,
          13.85556661939292,
          13.410373398394533,
          12.927355599597803,
          12.496990079645395,
          12.04384571905958,
          11.570351451763626,
          11.07849524465976,
          10.673686247759768,
          10.259421859625771,
          9.836170789873586,
          9.404460110865214,
          8.965384868175812,
          8.52015971977016,
          8.06902997685376,
          7.612811861333437,
          7.151396745735264,
          6.6869404932507885,
          6.219065477824475,
          5.748801033355051,
          5.276743991318782,
          4.8037260933358965,
          4.329638306675756,
          3.8561375882590685,
          3.4572437397676303,
          2.985544592620965,
          2.514952468059356,
          2.0468394013991276,
          1.580495296092083,
          1.1179398732025856,
          0.6596775766480495,
          0.20513894519127332,
          -0.24608251808877832,
          -0.693102004050394,
          -1.1359566669004917,
          -1.573575733840126,
          -2.0053707183896288,
          -2.4318863585146393,
          -2.8521992401428604,
          -3.266467693751725,
          -3.6742857061664935,
          -4.0757857329834986,
          -4.569308706735498,
          -5.052040179241633,
          -5.523245350691421,
          -5.9748680388491895,
          -6.397511239752571,
          -6.815428837785348,
          -7.232676648968059,
          -7.727017759959597,
          -8.209307064385564,
          -8.677857449895365,
          -9.132231094817776,
          -9.571980532248912,
          -10.066724677279515,
          -10.542035722384448,
          -10.998525401164091,
          -11.495465553378004,
          -11.969346100430252,
          -12.417479675514512,
          -12.889237575240326,
          -13.377741594540867,
          -13.874189740484344,
          -14.369615583282833,
          -14.849351701747482,
          -15.34737694241718,
          -15.839058832369712,
          -16.324340134866173,
          -16.816002599841354,
          -17.30990620595063,
          -17.57267456914245,
          -17.080605907048557,
          -16.589841237800087,
          -16.095227607467784,
          -15.607490970368701,
          -15.111478396858114,
          -14.617702338714365,
          -14.134793132547388,
          -13.650302635451718,
          -13.167508634893746,
          -12.669213230033993,
          -12.176666039594549,
          -11.692196823396369,
          -11.19586003096522,
          -10.710384274945758,
          -10.218254330666143,
          -9.735371099245402,
          -9.24315658092729,
          -8.765773599557637,
          -8.280355579995666,
          -7.786457037885529,
          -7.309704794533163,
          -6.825354215263902,
          -6.333373778199896,
          -5.833552486108146,
          -5.353043216069927,
          -4.865559921736031,
          -4.370975544075982,
          -3.897277145173347,
          -3.4170195797152543,
          -2.932957220795402,
          -2.439501916459825,
          -1.9688262796582643,
          -1.4922283936317582,
          -1.0111328343057677,
          -0.5291876697813986,
          -0.05038652663584078,
          0.42199804853256506,
          0.9148278279187494,
          1.397878366931551,
          1.8704768994049317,
          2.35906006717546,
          2.8348341468698837,
          3.3230379590369363,
          3.8200374228789236,
          4.2995123278710015,
          4.782627192209633,
          5.264118267570563,
          5.743978053464019,
          6.234713522373479,
          6.726692749916801,
          7.2257236021464815,
          7.714148958330145,
          8.207338871025762,
          8.701522218124412,
          9.199952838778573,
          9.236914283172638,
          9.210224615750326,
          9.210432432890114,
          9.187723677742458,
          9.187791456062623,
          9.187793262838015,
          8.690021660346348,
          8.197577232908502,
          7.700891450708506,
          7.201678646681158,
          6.705012966630272,
          6.209446408994667,
          5.713082150777401,
          5.226804064708522,
          4.7367676096065106,
          4.245838727588342,
          3.7557235989693445,
          3.274358173654502,
          2.777571419550268,
          2.2917777763811586,
          1.793404592288356,
          1.3100171382747277,
          0.8165250434759983,
          0.341496399172373,
          -0.14083134585160062,
          -0.6263883527868294,
          -1.1109248183264642,
          -1.5907343905884384,
          -2.0633874386316586,
          -2.556609922656665,
          -3.042774946874367,
          -3.5219250613368427,
          -3.9968602345931847,
          -4.487546421488826,
          -4.97027975310524,
          -5.470255573614789,
          -5.962185964669326,
          -6.44553623109357,
          -6.9440504282353315,
          -7.433472852714611,
          -7.913835370335932,
          -8.407169182403285,
          -8.890681465228816,
          -9.384964698173961,
          -9.868535240240616,
          -10.360605720999278,
          -10.844060939778398,
          -11.329500236093576,
          -11.81814440139226,
          -12.307473946847036,
          -12.793733353283557,
          -13.28918859156,
          -13.784901378516427,
          -14.283322633885406,
          -14.774776767939905,
          -15.27229546965144,
          -15.684888711738626,
          -15.193104339042822,
          -14.705772629815144,
          -14.213717567655626,
          -13.742056730186306,
          -13.25301346067308,
          -12.76640906214274,
          -12.28192839822348,
          -11.814615963191178,
          -11.354848564301824,
          -10.859699864218037,
          -10.383155526894162,
          -9.933964969192065,
          -9.459762519136344,
          -9.02345858906103,
          -8.567419639865358,
          -8.090489255080902,
          -7.592107198870466,
          -7.147879812835727,
          -6.687536222697209,
          -6.210979718577806,
          -5.718383776450761,
          -5.2953265721516045,
          -4.860552499750976,
          -4.414427026139113,
          -3.956927808955822,
          -3.488041606368675,
          -3.0075407021970793,
          -2.5162594730636294,
          -2.115276343374211,
          -1.70728002269308,
          -1.292718245368518,
          -0.8713856948026645,
          -0.4433145333910995,
          -0.009504542044234595,
          0.4303485910665326,
          0.8758847369845395,
          1.3270996228518925,
          1.7832960836996248,
          2.2440998780312955,
          2.7093031627857354,
          3.1792064861278098,
          3.652515416103867,
          4.128955218931226,
          4.6076868949129315,
          5.089013719236573,
          5.5716427300222415,
          6.05505121234148,
          6.539209458114868,
          7.022692339696784,
          7.505680676611919,
          7.987161374328452,
          8.466123002411825,
          8.942487550219552,
          9.414883296925531,
          9.882333556574189,
          10.344487835724413,
          10.800625365757636,
          11.249833086306577,
          11.691343412475494,
          12.123382481079702,
          12.545886130330452,
          12.95659034287045,
          13.451958385363136,
          13.875630117398225,
          14.33107064032058,
          14.764726007388376,
          15.25428751381911,
          15.707401887923318,
          16.18776938281165,
          16.668889196180157,
          17.162335692279708,
          17.641978930865402,
          18.056513349219266,
          17.59993473188148,
          17.099985785583044,
          16.632548313702138,
          16.634381866831117,
          16.66724835416885,
          16.177309027384684,
          15.68686842886287,
          15.188774808568892,
          14.709985779721707,
          14.235629681075444,
          13.75706777512645,
          13.259636468532852,
          12.775103789082152,
          12.307078311141929,
          11.834145127608235,
          11.426238206707149,
          11.01652337956221,
          10.607856584361642,
          10.193629985635075,
          9.769257166204138,
          9.335256742719709,
          8.892690442887485,
          8.441927431038327,
          7.984418688442321,
          7.521181984808484,
          7.053322048527338,
          6.580857728028803,
          6.105189152550576,
          5.627290499255666,
          5.148422397665774,
          4.668233711270236,
          4.188191437084754,
          3.708474969069125,
          3.2302869357630954,
          2.7540242740418748,
          2.279721058787393,
          1.8079921530012646,
          1.339556599188515,
          0.8745086461258259,
          0.41482155983106284,
          -0.04073390247037228,
          -0.49204883000623867,
          -0.9385551225175548,
          -1.3793051583067084,
          -1.8141595344780532,
          -2.242993621639866,
          -2.665120300127314,
          -3.0812951367155095,
          -3.4909429560208243,
          -3.893568393776147,
          -4.387231842285774,
          -4.869875693069,
          -5.3411009932168465,
          -5.800794946728569,
          -6.249425314518124,
          -6.686573236484465,
          -7.112473752789618,
          -7.6086098594810085,
          -8.087952667398742,
          -8.551075588666308,
          -8.998132034987831,
          -9.456717713480732,
          -9.939706148619162,
          -10.401718984400366,
          -10.84333638969905,
          -11.323621387891997,
          -11.779143261157788,
          -12.266146660514178,
          -12.72071889040972,
          -13.191458827753598,
          -13.670078911973382,
          -14.14769838933366,
          -14.616790483875917,
          -15.098724717729143,
          -15.574131834775693,
          -16.06632363137083,
          -16.55973137913399,
          -17.05590669658329,
          -17.298470195897828,
          -16.798921545659137,
          -16.310311067482324,
          -15.823243261500535,
          -15.334867046616461,
          -14.836452486057995,
          -14.338155016867585,
          -13.852732402379758,
          -13.359198092517111,
          -12.865541344001644,
          -12.37457298320744,
          -11.888258045427524,
          -11.388779206506323,
          -10.896847211308305,
          -10.414133012839697,
          -9.921014901778241,
          -9.442394573762638,
          -8.942681393220365,
          -8.451752735805854,
          -7.954798894723338,
          -7.468316478885862,
          -6.9774264965295485,
          -6.485256096950093,
          -5.99591818621758,
          -5.49619796577705,
          -5.010006119049345,
          -4.512860821619432,
          -4.017897631400657,
          -3.5185083882675494,
          -3.027502624063499,
          -2.5307842293860463,
          -2.1033047780373826,
          -2.1383376986437237,
          -2.1376282772002657,
          -2.167117020757204,
          -2.167091379346989,
          -2.665560731574446,
          -3.1582544819500016,
          -3.6533858838470272,
          -4.15097119696165,
          -4.641210774101295,
          -5.134797059696345,
          -5.629826647504337,
          -6.121452440862995,
          -6.619927044656195,
          -7.102532674657963,
          -7.602523266626595,
          -8.098472923235885,
          -8.58753242803817,
          -9.087288340170492,
          -9.569218500458987,
          -10.066693510473314,
          -10.553455566633275,
          -11.05179299625674,
          -11.533859794752875,
          -12.02132879773658,
          -12.512201446753057,
          -13.00385010061255,
          -13.493341649548583,
          -13.992905544097388,
          -14.480796188416702,
          -14.978319290122817,
          -15.46900921120635,
          -15.966251737250314,
          -16.46286230626177,
          -16.66569236742078,
          -16.175246851961955,
          -15.689876093809557,
          -15.206646118649644,
          -14.72173480910662,
          -14.243802191969884,
          -13.77018892679565,
          -13.278920840772034,
          -12.822416395848197,
          -12.32678984519015,
          -11.84019915993207,
          -11.37182312647215,
          -10.873248030285364,
          -10.403796951794183,
          -9.908540002106342,
          -9.453463868526496,
          -8.977845942058453,
          -8.481248047221902,
          -8.038727841354115,
          -7.580028530484989,
          -7.105445134858438,
          -6.614322919247984,
          -6.192724332850457,
          -5.759383029261827,
          -5.315014066644874,
          -4.859228996905311,
          -4.3919178944814545,
          -3.9135934419965754,
          -3.4245861843801126,
          -2.9247531394121125,
          -2.5173777059035984,
          -2.103081714056343,
          -1.6826896678782004,
          -1.2562510362144865,
          -0.8243464272637738,
          -0.38675362138487523,
          0.05633538363931641,
          0.5042898836884742,
          0.9574187717441498,
          1.4139544896833403,
          1.8745617842528433,
          2.3385364648152063,
          2.805637637818089,
          3.2747088437743064,
          3.745726361952983,
          4.217840485978079,
          4.690536789398418,
          5.114414967770312,
          5.585278414707996,
          6.054996653109135,
          6.522335554180997,
          6.9871749750730965,
          7.4474403907421,
          7.903879199449465,
          8.354954551441285,
          8.799627359130037,
          9.236388336176505,
          9.665273454105737,
          10.084867566850107,
          10.495841568703579,
          10.993924041048901,
          11.473888960603686,
          11.933209920714656,
          12.37054888573478,
          12.865282925863049,
          13.32383485536751,
          13.810588722847264,
          14.29600715299311,
          14.791887344276816,
          15.272024816756685,
          15.677550323880892,
          15.218946622736281,
          14.734298332810214,
          14.749714393361101,
          14.305465182813368,
          13.86065416475222,
          13.419532392877404,
          13.419617335227969,
          13.6564785693149,
          13.158639125551032,
          12.66568354542585,
          12.172790344386728,
          11.674200299957842,
          11.182171334153717,
          10.696541246293615,
          10.20280646948759,
          9.717416822686292,
          9.221671881377393,
          8.735649394520117,
          8.243438687977312,
          7.744843425853684,
          7.257231358849921,
          6.7633002494778465,
          6.276299292450847,
          5.79012458744887,
          5.291182982969199,
          4.807858800970689,
          4.310919875302081,
          3.821487138708275,
          3.3279344219909746,
          2.8367101420025,
          2.3432626319247154,
          1.8438972415439685,
          1.3444421828761406,
          0.8488290403375035,
          0.3507874955775961,
          -0.04051326116780308,
          -0.04046664182859794,
          -0.056944113784005976,
          -0.056939784790910886
         ]
        },
        {
         "hovertemplate": "%{x|%Y:%j:%H:%M:%S} %{y}",
         "line": {
          "color": "#ff7f0e",
          "width": 3
         },
         "marker": {
          "opacity": 0.9,
          "size": 8
         },
         "mode": "lines+markers",
         "name": "State",
         "opacity": 0.75,
         "showlegend": false,
         "type": "scatter",
         "x": [
          "2023-06-20T10:00:00.665999905",
          "2023-06-20T11:00:00.465999976",
          "2023-06-20T12:00:00.265999928",
          "2023-06-20T12:05:31.340999976",
          "2023-06-20T13:00:00.065999881",
          "2023-06-20T13:59:59.865999952",
          "2023-06-20T14:23:21.040999905",
          "2023-06-20T14:23:22.065999881",
          "2023-06-20T14:28:25.465999976",
          "2023-06-20T14:28:26.490999952",
          "2023-06-20T14:33:29.890999928",
          "2023-06-20T14:33:30.915999905",
          "2023-06-20T14:38:34.315999881",
          "2023-06-20T14:38:35.340999976",
          "2023-06-20T14:43:38.740999952",
          "2023-06-20T14:43:39.765999928",
          "2023-06-20T14:48:43.165999905",
          "2023-06-20T14:48:44.190999881",
          "2023-06-20T14:53:47.590999976",
          "2023-06-20T14:53:48.615999952",
          "2023-06-20T15:53:48.415999905",
          "2023-06-20T16:53:48.215999976",
          "2023-06-20T17:38:50.115999952",
          "2023-06-20T17:38:51.140999928",
          "2023-06-20T18:18:17.865999952",
          "2023-06-20T18:18:18.890999928",
          "2023-06-20T18:23:17.165999905",
          "2023-06-20T18:23:18.190999881",
          "2023-06-20T18:28:16.465999976",
          "2023-06-20T18:28:17.490999952",
          "2023-06-20T18:33:16.790999905",
          "2023-06-20T18:33:17.815999881",
          "2023-06-20T18:38:16.090999976",
          "2023-06-20T18:38:17.115999952",
          "2023-06-20T18:43:15.390999928",
          "2023-06-20T18:43:16.415999905",
          "2023-06-20T18:48:15.715999976",
          "2023-06-20T18:48:16.740999952",
          "2023-06-20T18:53:15.015999928",
          "2023-06-20T18:53:16.040999905",
          "2023-06-20T19:53:15.840999976",
          "2023-06-20T20:25:31.040999905",
          "2023-06-20T20:53:15.640999928",
          "2023-06-20T21:48:58.165999905",
          "2023-06-20T21:48:59.190999881",
          "2023-06-20T21:53:53.365999952",
          "2023-06-20T21:53:54.390999928",
          "2023-06-20T21:58:47.540999905",
          "2023-06-20T21:58:48.565999881",
          "2023-06-20T22:03:42.740999952",
          "2023-06-20T22:03:43.765999928",
          "2023-06-20T22:08:36.915999905",
          "2023-06-20T22:08:37.940999881",
          "2023-06-20T22:13:32.115999952",
          "2023-06-20T22:13:33.140999928",
          "2023-06-20T22:18:26.290999905",
          "2023-06-20T22:18:27.315999881",
          "2023-06-20T22:23:21.490999952",
          "2023-06-20T22:23:22.515999928",
          "2023-06-20T23:12:09.915999905",
          "2023-06-20T23:12:10.940999881",
          "2023-06-21T00:12:10.740999952",
          "2023-06-21T01:12:10.540999905",
          "2023-06-21T01:31:11.365999952",
          "2023-06-21T01:31:12.390999928",
          "2023-06-21T01:36:08.615999952",
          "2023-06-21T01:36:09.640999928",
          "2023-06-21T01:41:05.865999952",
          "2023-06-21T01:41:06.890999928",
          "2023-06-21T01:46:04.140999928",
          "2023-06-21T01:46:05.165999905",
          "2023-06-21T01:51:01.390999928",
          "2023-06-21T01:51:02.415999905",
          "2023-06-21T01:55:58.640999928",
          "2023-06-21T01:55:59.665999905",
          "2023-06-21T02:00:56.915999905",
          "2023-06-21T02:00:57.940999881",
          "2023-06-21T03:00:57.740999952",
          "2023-06-21T04:00:57.540999905",
          "2023-06-21T04:34:46.015999928",
          "2023-06-21T04:34:47.040999905",
          "2023-06-21T04:39:41.215999976",
          "2023-06-21T04:39:42.240999952",
          "2023-06-21T04:44:36.415999905",
          "2023-06-21T04:44:37.440999881",
          "2023-06-21T04:49:31.615999952",
          "2023-06-21T04:49:32.640999928",
          "2023-06-21T04:54:26.815999881",
          "2023-06-21T04:54:27.840999976",
          "2023-06-21T04:59:22.015999928",
          "2023-06-21T04:59:23.040999905",
          "2023-06-21T05:04:17.215999976",
          "2023-06-21T05:04:18.240999952",
          "2023-06-21T06:04:18.040999905",
          "2023-06-21T07:04:17.840999976",
          "2023-06-21T07:32:10.640999928",
          "2023-06-21T07:32:11.665999905",
          "2023-06-21T08:12:08.115999952",
          "2023-06-21T08:17:11.515999928",
          "2023-06-21T08:17:12.540999905",
          "2023-06-21T08:22:14.915999905",
          "2023-06-21T08:22:15.940999881",
          "2023-06-21T08:27:19.340999976",
          "2023-06-21T08:27:20.365999952",
          "2023-06-21T08:32:23.765999928",
          "2023-06-21T08:32:24.790999905",
          "2023-06-21T08:37:27.165999905",
          "2023-06-21T08:37:28.190999881",
          "2023-06-21T09:37:27.990999952",
          "2023-06-21T09:59:59.965999976"
         ],
         "y": [
          -0.1650093174445999,
          -0.1650093174445999,
          -0.1650093174445999,
          -0.2655992702520962,
          -0.2655992702520962,
          -0.2655992702520962,
          -0.2655992702520962,
          -1.0079654844321482,
          -1.0079654844321482,
          -3.5997236713376566,
          -3.5997236713376566,
          -7.526398888909057,
          -7.526398888909057,
          -10.335640152267274,
          -10.335640152267274,
          -7.1201506149857465,
          -7.1201506149857465,
          7.246404163359969,
          7.246404163359969,
          17.58233559445725,
          17.58233559445725,
          17.58233559445725,
          17.58233559445725,
          15.930077633598358,
          15.930077633598358,
          3.889891616498204,
          3.889891616498204,
          -12.62707892460628,
          -12.62707892460628,
          -15.900231844151946,
          -15.900231844151946,
          -11.15783780380967,
          -11.15783780380967,
          -3.9697383939695925,
          -3.9697383939695925,
          3.555604723641949,
          3.555604723641949,
          8.15299358244711,
          8.15299358244711,
          9.277086973332302,
          9.277086973332302,
          9.242583981928618,
          9.242583981928618,
          9.242583981928618,
          8.16864097079231,
          8.16864097079231,
          3.904730802576424,
          3.904730802576424,
          -3.121093447282348,
          -3.121093447282348,
          -9.853445476954391,
          -9.853445476954391,
          -14.18407843476109,
          -14.18407843476109,
          -10.558122422725333,
          -10.558122422725333,
          6.110155630101701,
          6.110155630101701,
          17.749551871140426,
          17.749551871140426,
          17.22485691849306,
          17.22485691849306,
          17.22485691849306,
          17.22485691849306,
          3.9779194372619457,
          3.9779194372619457,
          -12.481958615407052,
          -12.481958615407052,
          -15.803373257697501,
          -15.803373257697501,
          -11.550954915860899,
          -11.550954915860899,
          -6.201023570564587,
          -6.201023570564587,
          -2.879948232211973,
          -2.879948232211973,
          -2.0661758927237486,
          -2.0661758927237486,
          -2.0661758927237486,
          -2.0661758927237486,
          -2.9170086457818627,
          -2.9170086457818627,
          -6.080930431142193,
          -6.080930431142193,
          -11.191432158096148,
          -11.191432158096148,
          -15.243772610093828,
          -15.243772610093828,
          -11.958345401518514,
          -11.958345401518514,
          4.088878824496419,
          4.088878824496419,
          15.52094274160521,
          15.52094274160521,
          15.52094274160521,
          15.52094274160521,
          13.814175401365134,
          13.376399464476435,
          13.376399464476435,
          11.93316148245971,
          11.93316148245971,
          7.926248757577213,
          7.926248757577213,
          3.336387386901663,
          3.336387386901663,
          0.629326994161687,
          0.629326994161687,
          -0.022080020182727367,
          -0.022080020182727367,
          -0.022080020182727367
         ]
        }
       ],
       "layout": {
        "shapes": [
         {
          "fillcolor": "red",
          "line": {
           "color": "red",
           "width": 3
          },
          "opacity": 0.4,
          "type": "rect",
          "x0": "2023-06-20T14:52:47.629000",
          "x1": "2023-06-20T14:53:48.103000",
          "xref": "x",
          "y0": 0,
          "y1": 1,
          "yref": "y domain"
         },
         {
          "fillcolor": "red",
          "line": {
           "color": "red",
           "width": 3
          },
          "opacity": 0.4,
          "type": "rect",
          "x0": "2023-06-20T18:18:18.378000",
          "x1": "2023-06-20T18:19:44.478000",
          "xref": "x",
          "y0": 0,
          "y1": 1,
          "yref": "y domain"
         },
         {
          "fillcolor": "red",
          "line": {
           "color": "red",
           "width": 3
          },
          "opacity": 0.4,
          "type": "rect",
          "x0": "2023-06-20T22:21:58.978000",
          "x1": "2023-06-20T22:23:22.003000",
          "xref": "x",
          "y0": 0,
          "y1": 1,
          "yref": "y domain"
         },
         {
          "fillcolor": "red",
          "line": {
           "color": "red",
           "width": 3
          },
          "opacity": 0.4,
          "type": "rect",
          "x0": "2023-06-21T01:31:11.879000",
          "x1": "2023-06-21T01:32:28.753000",
          "xref": "x",
          "y0": 0,
          "y1": 1,
          "yref": "y domain"
         },
         {
          "fillcolor": "red",
          "line": {
           "color": "red",
           "width": 3
          },
          "opacity": 0.4,
          "type": "rect",
          "x0": "2023-06-21T05:03:01.878000",
          "x1": "2023-06-21T05:04:17.728000",
          "xref": "x",
          "y0": 0,
          "y1": 1,
          "yref": "y domain"
         }
        ],
        "template": {
         "data": {
          "bar": [
           {
            "error_x": {
             "color": "#2a3f5f"
            },
            "error_y": {
             "color": "#2a3f5f"
            },
            "marker": {
             "line": {
              "color": "#E5ECF6",
              "width": 0.5
             },
             "pattern": {
              "fillmode": "overlay",
              "size": 10,
              "solidity": 0.2
             }
            },
            "type": "bar"
           }
          ],
          "barpolar": [
           {
            "marker": {
             "line": {
              "color": "#E5ECF6",
              "width": 0.5
             },
             "pattern": {
              "fillmode": "overlay",
              "size": 10,
              "solidity": 0.2
             }
            },
            "type": "barpolar"
           }
          ],
          "carpet": [
           {
            "aaxis": {
             "endlinecolor": "#2a3f5f",
             "gridcolor": "white",
             "linecolor": "white",
             "minorgridcolor": "white",
             "startlinecolor": "#2a3f5f"
            },
            "baxis": {
             "endlinecolor": "#2a3f5f",
             "gridcolor": "white",
             "linecolor": "white",
             "minorgridcolor": "white",
             "startlinecolor": "#2a3f5f"
            },
            "type": "carpet"
           }
          ],
          "choropleth": [
           {
            "colorbar": {
             "outlinewidth": 0,
             "ticks": ""
            },
            "type": "choropleth"
           }
          ],
          "contour": [
           {
            "colorbar": {
             "outlinewidth": 0,
             "ticks": ""
            },
            "colorscale": [
             [
              0,
              "#0d0887"
             ],
             [
              0.1111111111111111,
              "#46039f"
             ],
             [
              0.2222222222222222,
              "#7201a8"
             ],
             [
              0.3333333333333333,
              "#9c179e"
             ],
             [
              0.4444444444444444,
              "#bd3786"
             ],
             [
              0.5555555555555556,
              "#d8576b"
             ],
             [
              0.6666666666666666,
              "#ed7953"
             ],
             [
              0.7777777777777778,
              "#fb9f3a"
             ],
             [
              0.8888888888888888,
              "#fdca26"
             ],
             [
              1,
              "#f0f921"
             ]
            ],
            "type": "contour"
           }
          ],
          "contourcarpet": [
           {
            "colorbar": {
             "outlinewidth": 0,
             "ticks": ""
            },
            "type": "contourcarpet"
           }
          ],
          "heatmap": [
           {
            "colorbar": {
             "outlinewidth": 0,
             "ticks": ""
            },
            "colorscale": [
             [
              0,
              "#0d0887"
             ],
             [
              0.1111111111111111,
              "#46039f"
             ],
             [
              0.2222222222222222,
              "#7201a8"
             ],
             [
              0.3333333333333333,
              "#9c179e"
             ],
             [
              0.4444444444444444,
              "#bd3786"
             ],
             [
              0.5555555555555556,
              "#d8576b"
             ],
             [
              0.6666666666666666,
              "#ed7953"
             ],
             [
              0.7777777777777778,
              "#fb9f3a"
             ],
             [
              0.8888888888888888,
              "#fdca26"
             ],
             [
              1,
              "#f0f921"
             ]
            ],
            "type": "heatmap"
           }
          ],
          "heatmapgl": [
           {
            "colorbar": {
             "outlinewidth": 0,
             "ticks": ""
            },
            "colorscale": [
             [
              0,
              "#0d0887"
             ],
             [
              0.1111111111111111,
              "#46039f"
             ],
             [
              0.2222222222222222,
              "#7201a8"
             ],
             [
              0.3333333333333333,
              "#9c179e"
             ],
             [
              0.4444444444444444,
              "#bd3786"
             ],
             [
              0.5555555555555556,
              "#d8576b"
             ],
             [
              0.6666666666666666,
              "#ed7953"
             ],
             [
              0.7777777777777778,
              "#fb9f3a"
             ],
             [
              0.8888888888888888,
              "#fdca26"
             ],
             [
              1,
              "#f0f921"
             ]
            ],
            "type": "heatmapgl"
           }
          ],
          "histogram": [
           {
            "marker": {
             "pattern": {
              "fillmode": "overlay",
              "size": 10,
              "solidity": 0.2
             }
            },
            "type": "histogram"
           }
          ],
          "histogram2d": [
           {
            "colorbar": {
             "outlinewidth": 0,
             "ticks": ""
            },
            "colorscale": [
             [
              0,
              "#0d0887"
             ],
             [
              0.1111111111111111,
              "#46039f"
             ],
             [
              0.2222222222222222,
              "#7201a8"
             ],
             [
              0.3333333333333333,
              "#9c179e"
             ],
             [
              0.4444444444444444,
              "#bd3786"
             ],
             [
              0.5555555555555556,
              "#d8576b"
             ],
             [
              0.6666666666666666,
              "#ed7953"
             ],
             [
              0.7777777777777778,
              "#fb9f3a"
             ],
             [
              0.8888888888888888,
              "#fdca26"
             ],
             [
              1,
              "#f0f921"
             ]
            ],
            "type": "histogram2d"
           }
          ],
          "histogram2dcontour": [
           {
            "colorbar": {
             "outlinewidth": 0,
             "ticks": ""
            },
            "colorscale": [
             [
              0,
              "#0d0887"
             ],
             [
              0.1111111111111111,
              "#46039f"
             ],
             [
              0.2222222222222222,
              "#7201a8"
             ],
             [
              0.3333333333333333,
              "#9c179e"
             ],
             [
              0.4444444444444444,
              "#bd3786"
             ],
             [
              0.5555555555555556,
              "#d8576b"
             ],
             [
              0.6666666666666666,
              "#ed7953"
             ],
             [
              0.7777777777777778,
              "#fb9f3a"
             ],
             [
              0.8888888888888888,
              "#fdca26"
             ],
             [
              1,
              "#f0f921"
             ]
            ],
            "type": "histogram2dcontour"
           }
          ],
          "mesh3d": [
           {
            "colorbar": {
             "outlinewidth": 0,
             "ticks": ""
            },
            "type": "mesh3d"
           }
          ],
          "parcoords": [
           {
            "line": {
             "colorbar": {
              "outlinewidth": 0,
              "ticks": ""
             }
            },
            "type": "parcoords"
           }
          ],
          "pie": [
           {
            "automargin": true,
            "type": "pie"
           }
          ],
          "scatter": [
           {
            "fillpattern": {
             "fillmode": "overlay",
             "size": 10,
             "solidity": 0.2
            },
            "type": "scatter"
           }
          ],
          "scatter3d": [
           {
            "line": {
             "colorbar": {
              "outlinewidth": 0,
              "ticks": ""
             }
            },
            "marker": {
             "colorbar": {
              "outlinewidth": 0,
              "ticks": ""
             }
            },
            "type": "scatter3d"
           }
          ],
          "scattercarpet": [
           {
            "marker": {
             "colorbar": {
              "outlinewidth": 0,
              "ticks": ""
             }
            },
            "type": "scattercarpet"
           }
          ],
          "scattergeo": [
           {
            "marker": {
             "colorbar": {
              "outlinewidth": 0,
              "ticks": ""
             }
            },
            "type": "scattergeo"
           }
          ],
          "scattergl": [
           {
            "marker": {
             "colorbar": {
              "outlinewidth": 0,
              "ticks": ""
             }
            },
            "type": "scattergl"
           }
          ],
          "scattermapbox": [
           {
            "marker": {
             "colorbar": {
              "outlinewidth": 0,
              "ticks": ""
             }
            },
            "type": "scattermapbox"
           }
          ],
          "scatterpolar": [
           {
            "marker": {
             "colorbar": {
              "outlinewidth": 0,
              "ticks": ""
             }
            },
            "type": "scatterpolar"
           }
          ],
          "scatterpolargl": [
           {
            "marker": {
             "colorbar": {
              "outlinewidth": 0,
              "ticks": ""
             }
            },
            "type": "scatterpolargl"
           }
          ],
          "scatterternary": [
           {
            "marker": {
             "colorbar": {
              "outlinewidth": 0,
              "ticks": ""
             }
            },
            "type": "scatterternary"
           }
          ],
          "surface": [
           {
            "colorbar": {
             "outlinewidth": 0,
             "ticks": ""
            },
            "colorscale": [
             [
              0,
              "#0d0887"
             ],
             [
              0.1111111111111111,
              "#46039f"
             ],
             [
              0.2222222222222222,
              "#7201a8"
             ],
             [
              0.3333333333333333,
              "#9c179e"
             ],
             [
              0.4444444444444444,
              "#bd3786"
             ],
             [
              0.5555555555555556,
              "#d8576b"
             ],
             [
              0.6666666666666666,
              "#ed7953"
             ],
             [
              0.7777777777777778,
              "#fb9f3a"
             ],
             [
              0.8888888888888888,
              "#fdca26"
             ],
             [
              1,
              "#f0f921"
             ]
            ],
            "type": "surface"
           }
          ],
          "table": [
           {
            "cells": {
             "fill": {
              "color": "#EBF0F8"
             },
             "line": {
              "color": "white"
             }
            },
            "header": {
             "fill": {
              "color": "#C8D4E3"
             },
             "line": {
              "color": "white"
             }
            },
            "type": "table"
           }
          ]
         },
         "layout": {
          "annotationdefaults": {
           "arrowcolor": "#2a3f5f",
           "arrowhead": 0,
           "arrowwidth": 1
          },
          "autotypenumbers": "strict",
          "coloraxis": {
           "colorbar": {
            "outlinewidth": 0,
            "ticks": ""
           }
          },
          "colorscale": {
           "diverging": [
            [
             0,
             "#8e0152"
            ],
            [
             0.1,
             "#c51b7d"
            ],
            [
             0.2,
             "#de77ae"
            ],
            [
             0.3,
             "#f1b6da"
            ],
            [
             0.4,
             "#fde0ef"
            ],
            [
             0.5,
             "#f7f7f7"
            ],
            [
             0.6,
             "#e6f5d0"
            ],
            [
             0.7,
             "#b8e186"
            ],
            [
             0.8,
             "#7fbc41"
            ],
            [
             0.9,
             "#4d9221"
            ],
            [
             1,
             "#276419"
            ]
           ],
           "sequential": [
            [
             0,
             "#0d0887"
            ],
            [
             0.1111111111111111,
             "#46039f"
            ],
            [
             0.2222222222222222,
             "#7201a8"
            ],
            [
             0.3333333333333333,
             "#9c179e"
            ],
            [
             0.4444444444444444,
             "#bd3786"
            ],
            [
             0.5555555555555556,
             "#d8576b"
            ],
            [
             0.6666666666666666,
             "#ed7953"
            ],
            [
             0.7777777777777778,
             "#fb9f3a"
            ],
            [
             0.8888888888888888,
             "#fdca26"
            ],
            [
             1,
             "#f0f921"
            ]
           ],
           "sequentialminus": [
            [
             0,
             "#0d0887"
            ],
            [
             0.1111111111111111,
             "#46039f"
            ],
            [
             0.2222222222222222,
             "#7201a8"
            ],
            [
             0.3333333333333333,
             "#9c179e"
            ],
            [
             0.4444444444444444,
             "#bd3786"
            ],
            [
             0.5555555555555556,
             "#d8576b"
            ],
            [
             0.6666666666666666,
             "#ed7953"
            ],
            [
             0.7777777777777778,
             "#fb9f3a"
            ],
            [
             0.8888888888888888,
             "#fdca26"
            ],
            [
             1,
             "#f0f921"
            ]
           ]
          },
          "colorway": [
           "#636efa",
           "#EF553B",
           "#00cc96",
           "#ab63fa",
           "#FFA15A",
           "#19d3f3",
           "#FF6692",
           "#B6E880",
           "#FF97FF",
           "#FECB52"
          ],
          "font": {
           "color": "#2a3f5f"
          },
          "geo": {
           "bgcolor": "white",
           "lakecolor": "white",
           "landcolor": "#E5ECF6",
           "showlakes": true,
           "showland": true,
           "subunitcolor": "white"
          },
          "hoverlabel": {
           "align": "left"
          },
          "hovermode": "closest",
          "mapbox": {
           "style": "light"
          },
          "paper_bgcolor": "white",
          "plot_bgcolor": "#E5ECF6",
          "polar": {
           "angularaxis": {
            "gridcolor": "white",
            "linecolor": "white",
            "ticks": ""
           },
           "bgcolor": "#E5ECF6",
           "radialaxis": {
            "gridcolor": "white",
            "linecolor": "white",
            "ticks": ""
           }
          },
          "scene": {
           "xaxis": {
            "backgroundcolor": "#E5ECF6",
            "gridcolor": "white",
            "gridwidth": 2,
            "linecolor": "white",
            "showbackground": true,
            "ticks": "",
            "zerolinecolor": "white"
           },
           "yaxis": {
            "backgroundcolor": "#E5ECF6",
            "gridcolor": "white",
            "gridwidth": 2,
            "linecolor": "white",
            "showbackground": true,
            "ticks": "",
            "zerolinecolor": "white"
           },
           "zaxis": {
            "backgroundcolor": "#E5ECF6",
            "gridcolor": "white",
            "gridwidth": 2,
            "linecolor": "white",
            "showbackground": true,
            "ticks": "",
            "zerolinecolor": "white"
           }
          },
          "shapedefaults": {
           "line": {
            "color": "#2a3f5f"
           }
          },
          "ternary": {
           "aaxis": {
            "gridcolor": "white",
            "linecolor": "white",
            "ticks": ""
           },
           "baxis": {
            "gridcolor": "white",
            "linecolor": "white",
            "ticks": ""
           },
           "bgcolor": "#E5ECF6",
           "caxis": {
            "gridcolor": "white",
            "linecolor": "white",
            "ticks": ""
           }
          },
          "title": {
           "x": 0.05
          },
          "xaxis": {
           "automargin": true,
           "gridcolor": "white",
           "linecolor": "white",
           "ticks": "",
           "title": {
            "standoff": 15
           },
           "zerolinecolor": "white",
           "zerolinewidth": 2
          },
          "yaxis": {
           "automargin": true,
           "gridcolor": "white",
           "linecolor": "white",
           "ticks": "",
           "title": {
            "standoff": 15
           },
           "zerolinecolor": "white",
           "zerolinewidth": 2
          }
         }
        },
        "xaxis": {
         "title": {
          "text": "Date"
         }
        },
        "yaxis": {
         "range": [
          -30,
          30
         ],
         "title": {
          "text": "off_nom_roll (degrees)"
         }
        }
       }
      }
     },
     "metadata": {},
     "output_type": "display_data"
    }
   ],
   "source": [
    "# Demonstrate there is a problem with the current limit of 10.0 deg for NMAN\n",
    "validate.ValidateRoll.max_delta_vals[\"NMAN\"] = 10.0\n",
    "off_nom_roll_val = validate.ValidateRoll(stop=\"2023:172:10:00:00\", days=1)\n",
    "print(off_nom_roll_val.violations)\n",
    "off_nom_roll_val.get_plot_figure()"
   ]
  },
  {
   "cell_type": "code",
   "execution_count": 9,
   "metadata": {},
   "outputs": [
    {
     "name": "stdout",
     "output_type": "stream",
     "text": [
      "start stop\n",
      "----- ----\n"
     ]
    }
   ],
   "source": [
    "# Show that the problem goes away with a larger limit of 12.0 deg.\n",
    "validate.ValidateRoll.max_delta_vals[\"NMAN\"] = 12.0\n",
    "off_nom_roll_val = validate.ValidateRoll(stop=\"2023:327:00:00:00\", days=200)\n",
    "print(off_nom_roll_val.violations)"
   ]
  }
 ],
 "metadata": {
  "kernelspec": {
   "display_name": "ska3-perf",
   "language": "python",
   "name": "python3"
  },
  "language_info": {
   "codemirror_mode": {
    "name": "ipython",
    "version": 3
   },
   "file_extension": ".py",
   "mimetype": "text/x-python",
   "name": "python",
   "nbconvert_exporter": "python",
   "pygments_lexer": "ipython3",
   "version": "3.10.8"
  }
 },
 "nbformat": 4,
 "nbformat_minor": 2
}
