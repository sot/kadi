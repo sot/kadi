{
 "cells": [
  {
   "cell_type": "markdown",
   "metadata": {},
   "source": [
    "# Validate post-2002 commands from PR 250 (ingest pre-2002 commands into v2 archive)\n",
    "\n",
    "This compares the post-2002 commands generated with PR #250 (Support ingest of\n",
    "pre-2002 loads) with commands from PR #248 (Major refector of command\n",
    "interrupts). The commands from PR #248 were validated against flight commands as\n",
    "of kadi version 6.0.1.\n",
    "\n",
    "This is essentially a regression test to ensure that the post-2002 command\n",
    "ingest has not been altered when using the code in PR 250."
   ]
  },
  {
   "cell_type": "code",
   "execution_count": 1,
   "metadata": {},
   "outputs": [],
   "source": [
    "import os\n",
    "from pathlib import Path\n",
    "\n",
    "import numpy as np\n",
    "\n",
    "from kadi import __version__, logger\n",
    "from kadi.commands import commands_v2\n",
    "from kadi.commands.commands_v2 import clear_caches, get_cmds"
   ]
  },
  {
   "cell_type": "code",
   "execution_count": 2,
   "metadata": {},
   "outputs": [
    {
     "name": "stdout",
     "output_type": "stream",
     "text": [
      "6.0.1\n"
     ]
    }
   ],
   "source": [
    "print(__version__)"
   ]
  },
  {
   "cell_type": "code",
   "execution_count": 3,
   "metadata": {},
   "outputs": [],
   "source": [
    "logger.setLevel('DEBUG')"
   ]
  },
  {
   "cell_type": "code",
   "execution_count": 4,
   "metadata": {},
   "outputs": [],
   "source": [
    "start = \"2002:008\"\n",
    "stop = \"2022:200\""
   ]
  },
  {
   "cell_type": "code",
   "execution_count": 5,
   "metadata": {},
   "outputs": [],
   "source": [
    "clear_caches()\n",
    "os.environ['KADI'] = os.path.abspath('../CMDS_pr248')"
   ]
  },
  {
   "cell_type": "code",
   "execution_count": 6,
   "metadata": {},
   "outputs": [
    {
     "name": "stdout",
     "output_type": "stream",
     "text": [
      "2022-09-06 13:53:36,153 get_cmds: Getting commands from archive only\n",
      "2022-09-06 13:53:36,366 load_idx_cmds: Loaded /Users/aldcroft/git/kadi/CMDS_pr248/cmds2.h5 with 1416689 commands\n",
      "2022-09-06 13:53:36,797 load_pars_dict: Loaded /Users/aldcroft/git/kadi/CMDS_pr248/cmds2.pkl with 146150 pars\n"
     ]
    }
   ],
   "source": [
    "cmds_pr248 = get_cmds(start, stop, scenario='flight')\n",
    "bs_pr248 = cmds_pr248[-300000:].pformat_like_backstop()"
   ]
  },
  {
   "cell_type": "code",
   "execution_count": 9,
   "metadata": {},
   "outputs": [],
   "source": [
    "clear_caches()\n",
    "del commands_v2.PARS_DICT._val\n",
    "del commands_v2.REV_PARS_DICT._val\n",
    "os.environ['KADI'] = os.path.abspath('../CMDS_pr250')"
   ]
  },
  {
   "cell_type": "code",
   "execution_count": 10,
   "metadata": {},
   "outputs": [
    {
     "name": "stdout",
     "output_type": "stream",
     "text": [
      "2022-09-06 13:55:06,109 get_cmds: Getting commands from archive only\n",
      "2022-09-06 13:55:06,275 load_idx_cmds: Loaded /Users/aldcroft/git/kadi/utils/cmds2.h5 with 1541474 commands\n",
      "2022-09-06 13:55:06,635 load_pars_dict: Loaded /Users/aldcroft/git/kadi/utils/cmds2.pkl with 158027 pars\n"
     ]
    }
   ],
   "source": [
    "cmds_pre2002 = get_cmds(start, stop, scenario='flight')\n",
    "bs_pre2002 = cmds_pre2002[-300000:].pformat_like_backstop()"
   ]
  },
  {
   "cell_type": "code",
   "execution_count": 11,
   "metadata": {},
   "outputs": [
    {
     "data": {
      "text/plain": [
       "(1407905, 1407905)"
      ]
     },
     "execution_count": 11,
     "metadata": {},
     "output_type": "execute_result"
    }
   ],
   "source": [
    "len(cmds_pr248), len(cmds_pre2002)"
   ]
  },
  {
   "cell_type": "code",
   "execution_count": 12,
   "metadata": {},
   "outputs": [
    {
     "data": {
      "text/plain": [
       "True"
      ]
     },
     "execution_count": 12,
     "metadata": {},
     "output_type": "execute_result"
    }
   ],
   "source": [
    "compare_cols = ('date', 'type', 'tlmsid', 'scs', 'step', 'source', 'vcdu')\n",
    "np.all(cmds_pr248[compare_cols] == cmds_pre2002[compare_cols])"
   ]
  },
  {
   "cell_type": "code",
   "execution_count": 13,
   "metadata": {},
   "outputs": [
    {
     "data": {
      "text/plain": [
       "True"
      ]
     },
     "execution_count": 13,
     "metadata": {},
     "output_type": "execute_result"
    }
   ],
   "source": [
    "bs_pr248 == bs_pre2002"
   ]
  },
  {
   "cell_type": "code",
   "execution_count": 14,
   "metadata": {},
   "outputs": [
    {
     "data": {
      "text/plain": [
       "'2018:295:22:44:56.813 | MP_TARGQUAT      | AOUPTARQ   | OCT2118B | cmds=8, q1=-9.25084444e-01, q2=-2.23250400e-01, q3=-2.97779738e-01, q4=7.5533159'"
      ]
     },
     "execution_count": 14,
     "metadata": {},
     "output_type": "execute_result"
    }
   ],
   "source": [
    "bs_pr248[0]"
   ]
  }
 ],
 "metadata": {
  "kernelspec": {
   "display_name": "Python 3.8.12 ('ska3')",
   "language": "python",
   "name": "python3"
  },
  "language_info": {
   "codemirror_mode": {
    "name": "ipython",
    "version": 3
   },
   "file_extension": ".py",
   "mimetype": "text/x-python",
   "name": "python",
   "nbconvert_exporter": "python",
   "pygments_lexer": "ipython3",
   "version": "3.8.12"
  },
  "orig_nbformat": 4,
  "vscode": {
   "interpreter": {
    "hash": "d2df0004ee630a46de2935730c9c65ee0c09bd3f3b85f07c44dd36ceff3dbd5e"
   }
  }
 },
 "nbformat": 4,
 "nbformat_minor": 2
}
