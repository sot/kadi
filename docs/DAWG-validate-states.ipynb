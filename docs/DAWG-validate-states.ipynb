{
 "cells": [
  {
   "attachments": {},
   "cell_type": "markdown",
   "metadata": {},
   "source": [
    "# Validating the kadi commands archive via command states\n",
    "\n",
    "## Goal\n",
    "\n",
    "Ensure that the kadi commands archive accurately reflects the commands that\n",
    "were run on the spacecraft.\n",
    "\n",
    "## Links\n",
    "\n",
    "- https://nbviewer.org/urls/cxc.cfa.harvard.edu/mta/ASPECT/DAWG/01x17x2023/DAWG-validate-states.ipynb\n",
    "- https://cxc.cfa.harvard.edu/mta/ASPECT/DAWG/01x17x2023/safemode_2022294/\n",
    "- https://cxc.cfa.harvard.edu/mta/ASPECT/DAWG/01x17x2023/validation_latest/\n",
    "- https://cxc.cfa.harvard.edu/mta/ASPECT/DAWG/01x17x2023/validate_pitch.html\n",
    "\n",
    "## Method Overview\n",
    "\n",
    "Validating *all* the commands is not feasible. However, the main potential sources of\n",
    "inaccuracy in the commands archive are:\n",
    "\n",
    "- Single commands or command sequences specified in the Command Events sheet\n",
    "- Command loads not run or stopped by a safing action\n",
    "\n",
    "Instead, validate a limited set of commands that are important in load review and/or\n",
    "processing. Do this by comparing the kadi commanded state value to telemetry. Examples\n",
    "include pitch, off nominal roll, obsid, PCAD mode, SIM position.\n",
    "\n",
    "*If all those key values are correct it is very likely that the rest of commands\n",
    "are correct*.\n",
    "\n",
    "## Implementation\n",
    "\n",
    "### Gather data\n",
    "\n",
    "Validating a state requires a first step to gather data:\n",
    "\n",
    "- Generate the telemetry reference time-series. In some cases this requires specialized code.\n",
    "- Generate the state code reference time-series.\n",
    "- Align those in time and account for missing data.\n",
    "\n",
    "The telemetry data source must include the most recently-available MAUDE data, \n",
    "possibly including real-time data during a comm.\n",
    "\n",
    "### Compare telemetry to state values\n",
    "\n",
    "Next is comparing telemetry to state values using specific criteria based on the state:\n",
    "\n",
    "- Obsid is an integer that should match telemetry exactly.\n",
    "- Pitch is complicated:\n",
    "  - In NPNT, telemetry should match the state value to within the accuracy of the Sun\n",
    "    ephemeris.\n",
    "  - In NMAN, the state value is coarsely sampled and errors are large (up to 20 deg).\n",
    "  - In NSUN or Safe Sun, expect agreement to within 2 deg.\n",
    "\n",
    "Sometimes around safing actions telemetry does not match the commanded state values but\n",
    "we don't care. We need a convenient mechanism to specify exclude times where a match is\n",
    "not required.\n",
    "\n",
    "### Architecture\n",
    "\n",
    "Use a class-based architecture to encapsulate both the common processing tasks and\n",
    "the per-state specific processing.\n",
    "\n",
    "## Testing\n",
    "\n",
    "The implementation should make it easy to test individual components:\n",
    "\n",
    "- Test low-level functions\n",
    "- Validate individual states\n",
    "- Check top-level report generation\n",
    "\n",
    "Main development strategy:\n",
    "\n",
    "- Use a Jupyter notebook within VS code\n",
    "- Write bits of code either in the notebook or directly in `validate_states.py` module.\n",
    "- Notebook code gets transferred to some module.\n",
    "  - I ended up making changes in several other packages to support this.\n",
    "- Use the 2022:293/294 IU reset and safe mode to work out lots of corner cases. This\n",
    "  provides an excellent stress test of commands and states.\n",
    "- Lots of Restart / Run All iteration\n",
    "\n",
    "VS code just keeps getting better and better!\n",
    "\n",
    "## Application\n",
    "\n",
    "Validation should allow convenient inspection of results and tabular display of\n",
    "violations to allow diagnosis of the issue. Here we use an HTML report page with\n",
    "interactive `plotly` graphics.\n",
    "\n",
    "### Cron processing\n",
    "\n",
    "Perform this validation daily via cron job and send automated alerts if there are any\n",
    "out-of-state violations.\n",
    "\n",
    "### Validate updates to Command Events\n",
    "\n",
    "Perform on-demand validation of updates to the Command Events sheet. This is currently\n",
    "done using a command-line application or from the Python interpreter.\n",
    "\n",
    "A key requirement is an option to include `In-work` events in order to check out a new\n",
    "event without impacting other processing."
   ]
  },
  {
   "cell_type": "code",
   "execution_count": 1,
   "metadata": {},
   "outputs": [],
   "source": [
    "import contextlib\n",
    "import os\n",
    "import sys\n",
    "from pathlib import Path\n",
    "\n",
    "import cheta\n",
    "import numpy as np\n",
    "import plotly.graph_objects as go\n",
    "from astropy.table import Table\n",
    "from cheta import fetch\n",
    "from cxotime import CxoTime\n",
    "from matplotlib import pyplot as plt\n",
    "\n",
    "import kadi\n",
    "from kadi.commands.utils import *\n",
    "from kadi.commands.validate import *\n",
    "\n",
    "%matplotlib inline\n"
   ]
  },
  {
   "attachments": {},
   "cell_type": "markdown",
   "metadata": {},
   "source": [
    "## Spoiler - show the final output"
   ]
  },
  {
   "cell_type": "code",
   "execution_count": 2,
   "metadata": {},
   "outputs": [
    {
     "name": "stdout",
     "output_type": "stream",
     "text": [
      "usage: ipykernel_launcher.py [-h] [--stop STOP] [--days DAYS]\n",
      "                             [--log-level LOG_LEVEL] [--out-dir OUT_DIR]\n",
      "                             [--state STATES] [--no-exclude] [--in-work]\n",
      "                             [--version]\n",
      "\n",
      "Validate kadi command states\n",
      "\n",
      "optional arguments:\n",
      "  -h, --help            show this help message and exit\n",
      "  --stop STOP           Stop date for update (default=Now)\n",
      "  --days DAYS           Lookback days (default=14 days)\n",
      "  --log-level LOG_LEVEL\n",
      "                        Logging level (DEBUG | INFO | WARNING, default=INFO)\n",
      "  --out-dir OUT_DIR     Output directory for index.html (default='.')\n",
      "  --state STATES        State(s) to validate (default=ALL)\n",
      "  --no-exclude          Do not apply exclude intervals from validation (for\n",
      "                        testing)\n",
      "  --in-work             Include in-work events in validation (for checking new\n",
      "                        events)\n",
      "  --version             show program's version number and exit\n"
     ]
    }
   ],
   "source": [
    "from kadi.scripts import validate_states\n",
    "with contextlib.suppress(SystemExit):\n",
    "    validate_states.main(['--help'])\n"
   ]
  },
  {
   "attachments": {},
   "cell_type": "markdown",
   "metadata": {},
   "source": [
    "### Time covering the IU-reset and safe mode 2022:293 - 2022:298"
   ]
  },
  {
   "cell_type": "code",
   "execution_count": 3,
   "metadata": {},
   "outputs": [],
   "source": [
    "with contextlib.suppress(SystemExit):\n",
    "    validate_states.main(\n",
    "        [\n",
    "            \"--stop=2022:298\",\n",
    "            \"--days=5\",\n",
    "            \"--out-dir=safemode_2022294\",\n",
    "            \"--log-level=WARNING\",\n",
    "        ]\n",
    "    )"
   ]
  },
  {
   "cell_type": "code",
   "execution_count": 4,
   "metadata": {},
   "outputs": [],
   "source": [
    "!open safemode_2022294/index.html"
   ]
  },
  {
   "attachments": {},
   "cell_type": "markdown",
   "metadata": {},
   "source": [
    "### Last 3 days\n",
    "\n",
    "Note: this application is not very fast, the run below took 50 seconds. At least half\n",
    "of that is for MAUDE queries. This impacts the user experience for a web app..."
   ]
  },
  {
   "cell_type": "code",
   "execution_count": 5,
   "metadata": {},
   "outputs": [],
   "source": [
    "with contextlib.suppress(SystemExit):\n",
    "    validate_states.main(\n",
    "        [\n",
    "            \"--days=3\",\n",
    "            \"--out-dir=validation_latest\",\n",
    "            \"--log-level=WARNING\",\n",
    "        ]\n",
    "    )"
   ]
  },
  {
   "cell_type": "code",
   "execution_count": 6,
   "metadata": {},
   "outputs": [],
   "source": [
    "!open validation_latest/index.html"
   ]
  },
  {
   "attachments": {},
   "cell_type": "markdown",
   "metadata": {},
   "source": [
    "## Prerequisites"
   ]
  },
  {
   "attachments": {},
   "cell_type": "markdown",
   "metadata": {},
   "source": [
    "### Inject a gap into cheta telemetry for testing\n",
    "\n",
    "This allows simulating being in a real-time comm with a 8-hr gap and then 1/2-hr of data.\n",
    "\n",
    "See https://github.com/sot/cheta/pull/242"
   ]
  },
  {
   "cell_type": "code",
   "execution_count": 7,
   "metadata": {},
   "outputs": [],
   "source": [
    "os.environ[\n",
    "    \"CHETA_FETCH_DATA_GAP\"\n",
    "] = \"--exclude=*ephem?_* --start=2022:294:15:00:00 --stop=2022:294:23:00:00\" \n"
   ]
  },
  {
   "attachments": {},
   "cell_type": "markdown",
   "metadata": {},
   "source": [
    "### Is Chandra in Normal mode, Safe mode or something else? \n",
    "\n",
    "What is the state of the OFP (onboard flight program?). Is `CONLOFP` the best MSID to\n",
    "use?\n",
    "\n",
    "New function `kadi.commands.validate.get_ofp_states()`."
   ]
  },
  {
   "cell_type": "code",
   "execution_count": 8,
   "metadata": {},
   "outputs": [
    {
     "name": "stdout",
     "output_type": "stream",
     "text": [
      "LR/15/SD/10 HS_INTERFACE.ONLINE_STATUS.OFP_STATE 0: STARTUP 1: SYNC SAFE MODE 2: SYNC ON-LINE 3: SYNC OFF-LINE 4: SAFE 5: STANDBY ON-LINE 6: STANDBY OFF-LINE 7: NORMAL ON-LINE 8: NORMAL OFF-LINE 9: STANDBY SAFE 10: DEPLOYMENT\n"
     ]
    },
    {
     "data": {
      "text/html": [
       "<div><i>Table length=11</i>\n",
       "<table id=\"table140301694659120\" class=\"table-striped table-bordered table-condensed\">\n",
       "<thead><tr><th>MSID</th><th>CALIBRATION_SET_NUM</th><th>SEQUENCE_NUM</th><th>LOW_RAW_COUNT</th><th>HIGH_RAW_COUNT</th><th>STATE_CODE</th></tr></thead>\n",
       "<thead><tr><th>str15</th><th>int64</th><th>int64</th><th>int64</th><th>int64</th><th>str5</th></tr></thead>\n",
       "<tr><td>CONLOFP</td><td>1</td><td>1</td><td>0</td><td>0</td><td>STUP</td></tr>\n",
       "<tr><td>CONLOFP</td><td>1</td><td>2</td><td>1</td><td>1</td><td>SYSF</td></tr>\n",
       "<tr><td>CONLOFP</td><td>1</td><td>3</td><td>2</td><td>2</td><td>SYON</td></tr>\n",
       "<tr><td>CONLOFP</td><td>1</td><td>4</td><td>3</td><td>3</td><td>SUOF</td></tr>\n",
       "<tr><td>CONLOFP</td><td>1</td><td>5</td><td>4</td><td>4</td><td>SAFE</td></tr>\n",
       "<tr><td>CONLOFP</td><td>1</td><td>6</td><td>5</td><td>5</td><td>STDB</td></tr>\n",
       "<tr><td>CONLOFP</td><td>1</td><td>7</td><td>6</td><td>6</td><td>NSTB</td></tr>\n",
       "<tr><td>CONLOFP</td><td>1</td><td>8</td><td>7</td><td>7</td><td>NRML</td></tr>\n",
       "<tr><td>CONLOFP</td><td>1</td><td>9</td><td>8</td><td>8</td><td>NNRM</td></tr>\n",
       "<tr><td>CONLOFP</td><td>1</td><td>10</td><td>9</td><td>9</td><td>STBS</td></tr>\n",
       "<tr><td>CONLOFP</td><td>1</td><td>11</td><td>10</td><td>10</td><td>DPLY</td></tr>\n",
       "</table></div>"
      ],
      "text/plain": [
       "<Table length=11>\n",
       "  MSID  CALIBRATION_SET_NUM SEQUENCE_NUM LOW_RAW_COUNT HIGH_RAW_COUNT STATE_CODE\n",
       " str15         int64           int64         int64         int64         str5   \n",
       "------- ------------------- ------------ ------------- -------------- ----------\n",
       "CONLOFP                   1            1             0              0       STUP\n",
       "CONLOFP                   1            2             1              1       SYSF\n",
       "CONLOFP                   1            3             2              2       SYON\n",
       "CONLOFP                   1            4             3              3       SUOF\n",
       "CONLOFP                   1            5             4              4       SAFE\n",
       "CONLOFP                   1            6             5              5       STDB\n",
       "CONLOFP                   1            7             6              6       NSTB\n",
       "CONLOFP                   1            8             7              7       NRML\n",
       "CONLOFP                   1            9             8              8       NNRM\n",
       "CONLOFP                   1           10             9              9       STBS\n",
       "CONLOFP                   1           11            10             10       DPLY"
      ]
     },
     "execution_count": 8,
     "metadata": {},
     "output_type": "execute_result"
    }
   ],
   "source": [
    "from Ska.tdb import msids as tdb_msids\n",
    "m = tdb_msids.find(\"conlofp\")[0]\n",
    "print(m.description)\n",
    "t = Table(np.array(m.Tsc))\n",
    "t.sort(\"LOW_RAW_COUNT\")\n",
    "t"
   ]
  },
  {
   "cell_type": "code",
   "execution_count": 9,
   "metadata": {},
   "outputs": [],
   "source": [
    "from kadi.commands.validate import get_ofp_states"
   ]
  },
  {
   "cell_type": "code",
   "execution_count": 10,
   "metadata": {},
   "outputs": [
    {
     "data": {
      "text/html": [
       "<div><i>Table length=5</i>\n",
       "<table id=\"table140301713622448\" class=\"table-striped table-bordered table-condensed\">\n",
       "<thead><tr><th>datestart</th><th>datestop</th><th>duration</th><th>tstart</th><th>tstop</th><th>val</th></tr></thead>\n",
       "<thead><tr><th>str21</th><th>str21</th><th>float64</th><th>float64</th><th>float64</th><th>str4</th></tr></thead>\n",
       "<tr><td>2022:292:00:00:00.320</td><td>2022:293:16:27:57.429</td><td>145677.1091990471</td><td>782524869.5042648</td><td>782670546.6134639</td><td>NRML</td></tr>\n",
       "<tr><td>2022:293:16:27:57.429</td><td>2022:293:16:27:59.479</td><td>2.0500001907348633</td><td>782670546.6134639</td><td>782670548.6634641</td><td>STUP</td></tr>\n",
       "<tr><td>2022:293:16:27:59.479</td><td>2022:293:16:28:00.504</td><td>1.024999976158142</td><td>782670548.6634641</td><td>782670549.688464</td><td>SYON</td></tr>\n",
       "<tr><td>2022:293:16:28:00.504</td><td>2022:294:15:00:00.047</td><td>81119.54262208939</td><td>782670549.688464</td><td>782751669.2310861</td><td>NRML</td></tr>\n",
       "<tr><td>2022:294:23:00:00.096</td><td>2022:294:23:59:59.909</td><td>3599.812722682953</td><td>782780469.2800018</td><td>782784069.0927244</td><td>SAFE</td></tr>\n",
       "</table></div>"
      ],
      "text/plain": [
       "<Table length=5>\n",
       "      datestart              datestop       ...       tstop       val \n",
       "        str21                 str21         ...      float64      str4\n",
       "--------------------- --------------------- ... ----------------- ----\n",
       "2022:292:00:00:00.320 2022:293:16:27:57.429 ... 782670546.6134639 NRML\n",
       "2022:293:16:27:57.429 2022:293:16:27:59.479 ... 782670548.6634641 STUP\n",
       "2022:293:16:27:59.479 2022:293:16:28:00.504 ...  782670549.688464 SYON\n",
       "2022:293:16:28:00.504 2022:294:15:00:00.047 ... 782751669.2310861 NRML\n",
       "2022:294:23:00:00.096 2022:294:23:59:59.909 ... 782784069.0927244 SAFE"
      ]
     },
     "execution_count": 10,
     "metadata": {},
     "output_type": "execute_result"
    }
   ],
   "source": [
    "get_ofp_states(\"2022:295:00:00:00\", days=3)"
   ]
  },
  {
   "cell_type": "code",
   "execution_count": 11,
   "metadata": {},
   "outputs": [],
   "source": [
    "dat = fetch.Msid(\"pitch_comp\", \"2022:293:00:00:00\", \"2022:295:00:00:00\")"
   ]
  },
  {
   "cell_type": "code",
   "execution_count": 12,
   "metadata": {},
   "outputs": [
    {
     "data": {
      "image/png": "[encoded data removed]",
      "text/plain": [
       "<Figure size 432x288 with 1 Axes>"
      ]
     },
     "metadata": {
      "needs_background": "light"
     },
     "output_type": "display_data"
    }
   ],
   "source": [
    "dat.plot('.')\n",
    "dat.plot('-', alpha=0.5);"
   ]
  },
  {
   "cell_type": "code",
   "execution_count": 13,
   "metadata": {},
   "outputs": [],
   "source": [
    "del os.environ[\"CHETA_FETCH_DATA_GAP\"]"
   ]
  },
  {
   "cell_type": "code",
   "execution_count": 14,
   "metadata": {},
   "outputs": [
    {
     "data": {
      "image/png": "[encoded data removed]",
      "text/plain": [
       "<Figure size 432x288 with 1 Axes>"
      ]
     },
     "metadata": {
      "needs_background": "light"
     },
     "output_type": "display_data"
    }
   ],
   "source": [
    "dat = fetch.Msid(\"pitch_comp\", \"2022:293:00:00:00\", \"2022:295:00:00:00.000\")\n",
    "dat.plot('.')"
   ]
  },
  {
   "attachments": {},
   "cell_type": "markdown",
   "metadata": {},
   "source": [
    "## Main code"
   ]
  },
  {
   "cell_type": "code",
   "execution_count": 15,
   "metadata": {},
   "outputs": [
    {
     "data": {
      "text/plain": [
       "[kadi.commands.validate.ValidatePitch,\n",
       " kadi.commands.validate.ValidateRoll,\n",
       " kadi.commands.validate.ValidateDither,\n",
       " kadi.commands.validate.ValidatePcadMode,\n",
       " kadi.commands.validate.ValidateSimpos,\n",
       " kadi.commands.validate.ValidateObsid,\n",
       " kadi.commands.validate.ValidateLETG,\n",
       " kadi.commands.validate.ValidateHETG]"
      ]
     },
     "execution_count": 15,
     "metadata": {},
     "output_type": "execute_result"
    }
   ],
   "source": [
    "Validate.subclasses\n"
   ]
  },
  {
   "attachments": {},
   "cell_type": "markdown",
   "metadata": {},
   "source": [
    "### Pitch"
   ]
  },
  {
   "cell_type": "code",
   "execution_count": 16,
   "metadata": {},
   "outputs": [],
   "source": [
    "vp = ValidatePitch(stop=\"2022:295:18:00:00\", days=3.0)"
   ]
  },
  {
   "cell_type": "code",
   "execution_count": 17,
   "metadata": {},
   "outputs": [
    {
     "data": {
      "text/html": [
       "<div><i>Table length=432924</i>\n",
       "<table id=\"table140302504312896\" class=\"table-striped table-bordered table-condensed\">\n",
       "<thead><tr><th>time</th><th>pitch_comp</th></tr></thead>\n",
       "<thead><tr><th>float64</th><th>float64</th></tr></thead>\n",
       "<tr><td>782589669.925</td><td>167.15916846487335</td></tr>\n",
       "<tr><td>782589670.9499999</td><td>167.15915204270962</td></tr>\n",
       "<tr><td>782589671.9749999</td><td>167.15910891821767</td></tr>\n",
       "<tr><td>782589672.9999999</td><td>167.15910259571464</td></tr>\n",
       "<tr><td>782589674.025</td><td>167.15907774016787</td></tr>\n",
       "<tr><td>782589675.05</td><td>167.1590627687935</td></tr>\n",
       "<tr><td>782589676.0749999</td><td>167.15904721547045</td></tr>\n",
       "<tr><td>782589677.0999999</td><td>167.15904222026435</td></tr>\n",
       "<tr><td>782589678.1249999</td><td>167.1590218511764</td></tr>\n",
       "<tr><td>782589679.15</td><td>167.15898297866076</td></tr>\n",
       "<tr><td>...</td><td>...</td></tr>\n",
       "<tr><td>782848829.9</td><td>90.17866516113281</td></tr>\n",
       "<tr><td>782848833.9999999</td><td>90.18141174316406</td></tr>\n",
       "<tr><td>782848838.0999999</td><td>90.18415832519531</td></tr>\n",
       "<tr><td>782848842.1999999</td><td>90.18141174316406</td></tr>\n",
       "<tr><td>782848846.3</td><td>90.18141174316406</td></tr>\n",
       "<tr><td>782848850.4</td><td>90.18141174316406</td></tr>\n",
       "<tr><td>782848854.4999999</td><td>90.18141174316406</td></tr>\n",
       "<tr><td>782848858.5999999</td><td>90.18415069580078</td></tr>\n",
       "<tr><td>782848862.6999999</td><td>90.18141174316406</td></tr>\n",
       "<tr><td>782848866.8</td><td>90.18141174316406</td></tr>\n",
       "</table></div>"
      ],
      "text/plain": [
       "<Table length=432924>\n",
       "       time           pitch_comp    \n",
       "     float64           float64      \n",
       "----------------- ------------------\n",
       "    782589669.925 167.15916846487335\n",
       "782589670.9499999 167.15915204270962\n",
       "782589671.9749999 167.15910891821767\n",
       "782589672.9999999 167.15910259571464\n",
       "    782589674.025 167.15907774016787\n",
       "     782589675.05  167.1590627687935\n",
       "782589676.0749999 167.15904721547045\n",
       "782589677.0999999 167.15904222026435\n",
       "782589678.1249999  167.1590218511764\n",
       "     782589679.15 167.15898297866076\n",
       "              ...                ...\n",
       "      782848829.9  90.17866516113281\n",
       "782848833.9999999  90.18141174316406\n",
       "782848838.0999999  90.18415832519531\n",
       "782848842.1999999  90.18141174316406\n",
       "      782848846.3  90.18141174316406\n",
       "      782848850.4  90.18141174316406\n",
       "782848854.4999999  90.18141174316406\n",
       "782848858.5999999  90.18415069580078\n",
       "782848862.6999999  90.18141174316406\n",
       "      782848866.8  90.18141174316406"
      ]
     },
     "execution_count": 17,
     "metadata": {},
     "output_type": "execute_result"
    }
   ],
   "source": [
    "vp.tlm"
   ]
  },
  {
   "cell_type": "code",
   "execution_count": 18,
   "metadata": {},
   "outputs": [
    {
     "data": {
      "text/html": [
       "&lt;Column name=&apos;pitch_comp&apos; dtype=&apos;float64&apos; length=432924&gt;\n",
       "<table>\n",
       "<tr><td>167.15916846487335</td></tr>\n",
       "<tr><td>167.15915204270962</td></tr>\n",
       "<tr><td>167.15910891821767</td></tr>\n",
       "<tr><td>167.15910259571464</td></tr>\n",
       "<tr><td>167.15907774016787</td></tr>\n",
       "<tr><td>167.1590627687935</td></tr>\n",
       "<tr><td>167.15904721547045</td></tr>\n",
       "<tr><td>167.15904222026435</td></tr>\n",
       "<tr><td>167.1590218511764</td></tr>\n",
       "<tr><td>167.15898297866076</td></tr>\n",
       "<tr><td>167.15895073665322</td></tr>\n",
       "<tr><td>167.1589490063995</td></tr>\n",
       "<tr><td>...</td></tr>\n",
       "<tr><td>90.18141174316406</td></tr>\n",
       "<tr><td>90.18141174316406</td></tr>\n",
       "<tr><td>90.17866516113281</td></tr>\n",
       "<tr><td>90.18141174316406</td></tr>\n",
       "<tr><td>90.18415832519531</td></tr>\n",
       "<tr><td>90.18141174316406</td></tr>\n",
       "<tr><td>90.18141174316406</td></tr>\n",
       "<tr><td>90.18141174316406</td></tr>\n",
       "<tr><td>90.18141174316406</td></tr>\n",
       "<tr><td>90.18415069580078</td></tr>\n",
       "<tr><td>90.18141174316406</td></tr>\n",
       "<tr><td>90.18141174316406</td></tr>\n",
       "</table>"
      ],
      "text/plain": [
       "<Column name='pitch_comp' dtype='float64' length=432924>\n",
       "167.15916846487335\n",
       "167.15915204270962\n",
       "167.15910891821767\n",
       "167.15910259571464\n",
       "167.15907774016787\n",
       " 167.1590627687935\n",
       "167.15904721547045\n",
       "167.15904222026435\n",
       " 167.1590218511764\n",
       "167.15898297866076\n",
       "167.15895073665322\n",
       " 167.1589490063995\n",
       "               ...\n",
       " 90.18141174316406\n",
       " 90.18141174316406\n",
       " 90.17866516113281\n",
       " 90.18141174316406\n",
       " 90.18415832519531\n",
       " 90.18141174316406\n",
       " 90.18141174316406\n",
       " 90.18141174316406\n",
       " 90.18141174316406\n",
       " 90.18415069580078\n",
       " 90.18141174316406\n",
       " 90.18141174316406"
      ]
     },
     "execution_count": 18,
     "metadata": {},
     "output_type": "execute_result"
    }
   ],
   "source": [
    "vp.tlm_vals"
   ]
  },
  {
   "cell_type": "code",
   "execution_count": 19,
   "metadata": {},
   "outputs": [
    {
     "data": {
      "text/html": [
       "<div><i>Table length=64</i>\n",
       "<table id=\"table140302287886464\" class=\"table-striped table-bordered table-condensed\">\n",
       "<thead><tr><th>datestart</th><th>datestop</th><th>tstart</th><th>tstop</th><th>pitch</th><th>pcad_mode</th><th>trans_keys</th></tr></thead>\n",
       "<thead><tr><th>str21</th><th>str21</th><th>float64</th><th>float64</th><th>float64</th><th>str4</th><th>object</th></tr></thead>\n",
       "<tr><td>2022:292:18:00:00.731</td><td>2022:292:18:05:30.816</td><td>782589669.915</td><td>782590000.0</td><td>167.25861725790938</td><td>NPNT</td><td></td></tr>\n",
       "<tr><td>2022:292:18:05:30.816</td><td>2022:292:19:48:21.394</td><td>782590000.0</td><td>782596170.578</td><td>167.2914203503193</td><td>NPNT</td><td>pitch</td></tr>\n",
       "<tr><td>2022:292:19:48:21.394</td><td>2022:292:19:48:31.645</td><td>782596170.578</td><td>782596180.829</td><td>167.2914203503193</td><td>NMAN</td><td>pcad_mode</td></tr>\n",
       "<tr><td>2022:292:19:48:31.645</td><td>2022:292:19:53:29.184</td><td>782596180.829</td><td>782596478.368</td><td>165.08240098621297</td><td>NMAN</td><td>pitch</td></tr>\n",
       "<tr><td>2022:292:19:53:29.184</td><td>2022:292:19:58:26.723</td><td>782596478.368</td><td>782596775.907</td><td>155.13455517304158</td><td>NMAN</td><td>pitch</td></tr>\n",
       "<tr><td>2022:292:19:58:26.723</td><td>2022:292:20:03:24.262</td><td>782596775.907</td><td>782597073.446</td><td>136.32709333662703</td><td>NMAN</td><td>pitch</td></tr>\n",
       "<tr><td>2022:292:20:03:24.262</td><td>2022:292:20:08:21.800</td><td>782597073.446</td><td>782597370.984</td><td>114.09684025166052</td><td>NMAN</td><td>pitch</td></tr>\n",
       "<tr><td>2022:292:20:08:21.800</td><td>2022:292:20:13:19.339</td><td>782597370.984</td><td>782597668.523</td><td>91.86849678343202</td><td>NMAN</td><td>pitch</td></tr>\n",
       "<tr><td>2022:292:20:13:19.339</td><td>2022:292:20:18:16.878</td><td>782597668.523</td><td>782597966.062</td><td>73.05897371143362</td><td>NMAN</td><td>pitch</td></tr>\n",
       "<tr><td>2022:292:20:18:16.878</td><td>2022:292:20:23:14.417</td><td>782597966.062</td><td>782598263.601</td><td>63.09963604818583</td><td>NMAN</td><td>pitch</td></tr>\n",
       "<tr><td>...</td><td>...</td><td>...</td><td>...</td><td>...</td><td>...</td><td>...</td></tr>\n",
       "<tr><td>2022:293:16:18:50.816</td><td>2022:293:16:27:49.000</td><td>782670000.0</td><td>782670538.184</td><td>170.64672840292172</td><td>NPNT</td><td>pitch</td></tr>\n",
       "<tr><td>2022:293:16:27:49.000</td><td>2022:293:16:32:38.202</td><td>782670538.184</td><td>782670827.386</td><td>168.53000007961032</td><td>NSUN</td><td>pcad_mode,pitch</td></tr>\n",
       "<tr><td>2022:293:16:32:38.202</td><td>2022:293:16:37:27.403</td><td>782670827.386</td><td>782671116.587</td><td>159.11907836260417</td><td>NSUN</td><td>pitch</td></tr>\n",
       "<tr><td>2022:293:16:37:27.403</td><td>2022:293:16:42:16.605</td><td>782671116.587</td><td>782671405.789</td><td>141.06454552323487</td><td>NSUN</td><td>pitch</td></tr>\n",
       "<tr><td>2022:293:16:42:16.605</td><td>2022:293:16:47:05.807</td><td>782671405.789</td><td>782671694.991</td><td>119.55622927637354</td><td>NSUN</td><td>pitch</td></tr>\n",
       "<tr><td>2022:293:16:47:05.807</td><td>2022:293:16:51:55.008</td><td>782671694.991</td><td>782671984.192</td><td>101.50164268246473</td><td>NSUN</td><td>pitch</td></tr>\n",
       "<tr><td>2022:293:16:51:55.008</td><td>2022:293:16:56:44.210</td><td>782671984.192</td><td>782672273.394</td><td>92.09063895542971</td><td>NSUN</td><td>pitch</td></tr>\n",
       "<tr><td>2022:293:16:56:44.210</td><td>2022:294:16:32:28.000</td><td>782672273.394</td><td>782757217.184</td><td>89.98005823396036</td><td>NSUN</td><td>pitch</td></tr>\n",
       "<tr><td>2022:294:16:32:28.000</td><td>2022:294:16:36:36.483</td><td>782757217.184</td><td>782757465.667</td><td>89.50034248417157</td><td>NSUN</td><td>pcad_mode,pitch</td></tr>\n",
       "<tr><td>2022:294:16:36:36.483</td><td>2022:295:17:59:57.626</td><td>782757465.667</td><td>782848866.81</td><td>89.99714171028053</td><td>NSUN</td><td>pitch</td></tr>\n",
       "</table></div>"
      ],
      "text/plain": [
       "<Table length=64>\n",
       "      datestart              datestop       ... pcad_mode    trans_keys  \n",
       "        str21                 str21         ...    str4        object    \n",
       "--------------------- --------------------- ... --------- ---------------\n",
       "2022:292:18:00:00.731 2022:292:18:05:30.816 ...      NPNT                \n",
       "2022:292:18:05:30.816 2022:292:19:48:21.394 ...      NPNT           pitch\n",
       "2022:292:19:48:21.394 2022:292:19:48:31.645 ...      NMAN       pcad_mode\n",
       "2022:292:19:48:31.645 2022:292:19:53:29.184 ...      NMAN           pitch\n",
       "2022:292:19:53:29.184 2022:292:19:58:26.723 ...      NMAN           pitch\n",
       "2022:292:19:58:26.723 2022:292:20:03:24.262 ...      NMAN           pitch\n",
       "2022:292:20:03:24.262 2022:292:20:08:21.800 ...      NMAN           pitch\n",
       "2022:292:20:08:21.800 2022:292:20:13:19.339 ...      NMAN           pitch\n",
       "2022:292:20:13:19.339 2022:292:20:18:16.878 ...      NMAN           pitch\n",
       "2022:292:20:18:16.878 2022:292:20:23:14.417 ...      NMAN           pitch\n",
       "                  ...                   ... ...       ...             ...\n",
       "2022:293:16:18:50.816 2022:293:16:27:49.000 ...      NPNT           pitch\n",
       "2022:293:16:27:49.000 2022:293:16:32:38.202 ...      NSUN pcad_mode,pitch\n",
       "2022:293:16:32:38.202 2022:293:16:37:27.403 ...      NSUN           pitch\n",
       "2022:293:16:37:27.403 2022:293:16:42:16.605 ...      NSUN           pitch\n",
       "2022:293:16:42:16.605 2022:293:16:47:05.807 ...      NSUN           pitch\n",
       "2022:293:16:47:05.807 2022:293:16:51:55.008 ...      NSUN           pitch\n",
       "2022:293:16:51:55.008 2022:293:16:56:44.210 ...      NSUN           pitch\n",
       "2022:293:16:56:44.210 2022:294:16:32:28.000 ...      NSUN           pitch\n",
       "2022:294:16:32:28.000 2022:294:16:36:36.483 ...      NSUN pcad_mode,pitch\n",
       "2022:294:16:36:36.483 2022:295:17:59:57.626 ...      NSUN           pitch"
      ]
     },
     "execution_count": 19,
     "metadata": {},
     "output_type": "execute_result"
    }
   ],
   "source": [
    "vp.states"
   ]
  },
  {
   "cell_type": "code",
   "execution_count": 20,
   "metadata": {},
   "outputs": [
    {
     "data": {
      "text/html": [
       "&lt;Column name=&apos;pitch&apos; dtype=&apos;float64&apos; length=432924&gt;\n",
       "<table>\n",
       "<tr><td>167.25861725790938</td></tr>\n",
       "<tr><td>167.25861725790938</td></tr>\n",
       "<tr><td>167.25861725790938</td></tr>\n",
       "<tr><td>167.25861725790938</td></tr>\n",
       "<tr><td>167.25861725790938</td></tr>\n",
       "<tr><td>167.25861725790938</td></tr>\n",
       "<tr><td>167.25861725790938</td></tr>\n",
       "<tr><td>167.25861725790938</td></tr>\n",
       "<tr><td>167.25861725790938</td></tr>\n",
       "<tr><td>167.25861725790938</td></tr>\n",
       "<tr><td>167.25861725790938</td></tr>\n",
       "<tr><td>167.25861725790938</td></tr>\n",
       "<tr><td>...</td></tr>\n",
       "<tr><td>89.99714171028053</td></tr>\n",
       "<tr><td>89.99714171028053</td></tr>\n",
       "<tr><td>89.99714171028053</td></tr>\n",
       "<tr><td>89.99714171028053</td></tr>\n",
       "<tr><td>89.99714171028053</td></tr>\n",
       "<tr><td>89.99714171028053</td></tr>\n",
       "<tr><td>89.99714171028053</td></tr>\n",
       "<tr><td>89.99714171028053</td></tr>\n",
       "<tr><td>89.99714171028053</td></tr>\n",
       "<tr><td>89.99714171028053</td></tr>\n",
       "<tr><td>89.99714171028053</td></tr>\n",
       "<tr><td>89.99714171028053</td></tr>\n",
       "</table>"
      ],
      "text/plain": [
       "<Column name='pitch' dtype='float64' length=432924>\n",
       "167.25861725790938\n",
       "167.25861725790938\n",
       "167.25861725790938\n",
       "167.25861725790938\n",
       "167.25861725790938\n",
       "167.25861725790938\n",
       "167.25861725790938\n",
       "167.25861725790938\n",
       "167.25861725790938\n",
       "167.25861725790938\n",
       "167.25861725790938\n",
       "167.25861725790938\n",
       "               ...\n",
       " 89.99714171028053\n",
       " 89.99714171028053\n",
       " 89.99714171028053\n",
       " 89.99714171028053\n",
       " 89.99714171028053\n",
       " 89.99714171028053\n",
       " 89.99714171028053\n",
       " 89.99714171028053\n",
       " 89.99714171028053\n",
       " 89.99714171028053\n",
       " 89.99714171028053\n",
       " 89.99714171028053"
      ]
     },
     "execution_count": 20,
     "metadata": {},
     "output_type": "execute_result"
    }
   ],
   "source": [
    "vp.state_vals"
   ]
  },
  {
   "cell_type": "code",
   "execution_count": 21,
   "metadata": {},
   "outputs": [
    {
     "data": {
      "application/vnd.plotly.v1+json": {
       "config": {
        "plotlyServerURL": "https://plot.ly"
       },
       "data": [
        {
         "hovertemplate": "%{x|%Y:%j:%H:%M:%S} %{y}",
         "line": {
          "color": "#1f77b4",
          "width": 3
         },
         "marker": {
          "opacity": 0.9,
          "size": 8
         },
         "mode": "lines+markers",
         "name": "Telem",
         "opacity": 0.75,
         "showlegend": false,
         "type": "scatter",
         "x": [
          "2022-10-19T18:00:00.740999952",
          "2022-10-19T18:02:08.865999952",
          "2022-10-19T18:56:26.315999881",
          "2022-10-19T19:00:00.540999905",
          "2022-10-19T19:42:13.315999881",
          "2022-10-19T19:51:08.365999952",
          "2022-10-19T19:52:00.640999928",
          "2022-10-19T19:52:40.615999952",
          "2022-10-19T19:53:14.440999881",
          "2022-10-19T19:53:44.165999905",
          "2022-10-19T19:54:10.815999881",
          "2022-10-19T19:54:35.415999905",
          "2022-10-19T19:54:57.965999976",
          "2022-10-19T19:55:19.490999952",
          "2022-10-19T19:55:39.990999952",
          "2022-10-19T19:55:59.465999976",
          "2022-10-19T19:56:17.915999905",
          "2022-10-19T19:56:35.340999976",
          "2022-10-19T19:56:51.740999952",
          "2022-10-19T19:57:08.140999928",
          "2022-10-19T19:57:23.515999928",
          "2022-10-19T19:57:38.890999928",
          "2022-10-19T19:57:53.240999952",
          "2022-10-19T19:58:07.590999976",
          "2022-10-19T19:58:21.940999881",
          "2022-10-19T19:58:35.265999928",
          "2022-10-19T19:58:48.590999976",
          "2022-10-19T19:59:01.915999905",
          "2022-10-19T19:59:15.240999952",
          "2022-10-19T19:59:28.565999881",
          "2022-10-19T19:59:41.890999928",
          "2022-10-19T19:59:55.215999976",
          "2022-10-19T20:00:08.540999905",
          "2022-10-19T20:00:21.865999952",
          "2022-10-19T20:00:35.190999881",
          "2022-10-19T20:00:48.515999928",
          "2022-10-19T20:01:01.840999976",
          "2022-10-19T20:01:15.165999905",
          "2022-10-19T20:01:28.490999952",
          "2022-10-19T20:01:41.815999881",
          "2022-10-19T20:01:55.140999928",
          "2022-10-19T20:02:08.465999976",
          "2022-10-19T20:02:21.790999905",
          "2022-10-19T20:02:35.115999952",
          "2022-10-19T20:02:48.440999881",
          "2022-10-19T20:03:01.765999928",
          "2022-10-19T20:03:15.090999976",
          "2022-10-19T20:03:28.415999905",
          "2022-10-19T20:03:41.740999952",
          "2022-10-19T20:03:55.065999881",
          "2022-10-19T20:04:08.390999928",
          "2022-10-19T20:04:21.715999976",
          "2022-10-19T20:04:35.040999905",
          "2022-10-19T20:04:48.365999952",
          "2022-10-19T20:05:01.690999881",
          "2022-10-19T20:05:15.015999928",
          "2022-10-19T20:05:28.340999976",
          "2022-10-19T20:05:41.665999905",
          "2022-10-19T20:05:54.990999952",
          "2022-10-19T20:06:08.315999881",
          "2022-10-19T20:06:21.640999928",
          "2022-10-19T20:06:34.965999976",
          "2022-10-19T20:06:48.290999905",
          "2022-10-19T20:07:01.615999952",
          "2022-10-19T20:07:14.940999881",
          "2022-10-19T20:07:28.265999928",
          "2022-10-19T20:07:41.590999976",
          "2022-10-19T20:07:54.915999905",
          "2022-10-19T20:08:08.240999952",
          "2022-10-19T20:08:21.565999881",
          "2022-10-19T20:08:34.890999928",
          "2022-10-19T20:08:48.215999976",
          "2022-10-19T20:09:01.540999905",
          "2022-10-19T20:09:14.865999952",
          "2022-10-19T20:09:28.190999881",
          "2022-10-19T20:09:41.515999928",
          "2022-10-19T20:09:54.840999976",
          "2022-10-19T20:10:08.165999905",
          "2022-10-19T20:10:21.490999952",
          "2022-10-19T20:10:34.815999881",
          "2022-10-19T20:10:48.140999928",
          "2022-10-19T20:11:01.465999976",
          "2022-10-19T20:11:14.790999905",
          "2022-10-19T20:11:28.115999952",
          "2022-10-19T20:11:41.440999881",
          "2022-10-19T20:11:54.765999928",
          "2022-10-19T20:12:08.090999976",
          "2022-10-19T20:12:21.415999905",
          "2022-10-19T20:12:34.740999952",
          "2022-10-19T20:12:48.065999881",
          "2022-10-19T20:13:01.390999928",
          "2022-10-19T20:13:14.715999976",
          "2022-10-19T20:13:28.040999905",
          "2022-10-19T20:13:42.390999928",
          "2022-10-19T20:13:56.740999952",
          "2022-10-19T20:14:12.115999952",
          "2022-10-19T20:14:27.490999952",
          "2022-10-19T20:14:42.865999952",
          "2022-10-19T20:14:59.265999928",
          "2022-10-19T20:15:16.690999881",
          "2022-10-19T20:15:34.115999952",
          "2022-10-19T20:15:52.565999881",
          "2022-10-19T20:16:12.040999905",
          "2022-10-19T20:16:32.540999905",
          "2022-10-19T20:16:54.065999881",
          "2022-10-19T20:17:17.640999928",
          "2022-10-19T20:17:42.240999952",
          "2022-10-19T20:18:09.915999905",
          "2022-10-19T20:18:40.665999905",
          "2022-10-19T20:19:15.515999928",
          "2022-10-19T20:19:57.540999905",
          "2022-10-19T20:20:54.940999881",
          "2022-10-19T20:35:13.890999928",
          "2022-10-19T21:20:54.740999952",
          "2022-10-19T21:22:49.540999905",
          "2022-10-19T22:16:27.015999928",
          "2022-10-19T22:20:54.540999905",
          "2022-10-19T22:21:25.290999905",
          "2022-10-19T23:14:36.115999952",
          "2022-10-19T23:20:54.340999976",
          "2022-10-19T23:20:55.365999952",
          "2022-10-20T00:13:38.515999928",
          "2022-10-20T00:20:54.140999928",
          "2022-10-20T00:30:45.565999881",
          "2022-10-20T00:40:20.590999976",
          "2022-10-20T00:41:12.865999952",
          "2022-10-20T00:41:52.840999976",
          "2022-10-20T00:42:26.665999905",
          "2022-10-20T00:42:56.390999928",
          "2022-10-20T00:43:23.040999905",
          "2022-10-20T00:43:47.640999928",
          "2022-10-20T00:44:10.190999881",
          "2022-10-20T00:44:31.715999976",
          "2022-10-20T00:44:52.215999976",
          "2022-10-20T00:45:11.690999881",
          "2022-10-20T00:45:30.140999928",
          "2022-10-20T00:45:47.565999881",
          "2022-10-20T00:46:03.965999976",
          "2022-10-20T00:46:20.365999952",
          "2022-10-20T00:46:35.740999952",
          "2022-10-20T00:46:51.115999952",
          "2022-10-20T00:47:05.465999976",
          "2022-10-20T00:47:19.815999881",
          "2022-10-20T00:47:34.165999905",
          "2022-10-20T00:47:47.490999952",
          "2022-10-20T00:48:00.815999881",
          "2022-10-20T00:48:14.140999928",
          "2022-10-20T00:48:27.465999976",
          "2022-10-20T00:48:40.790999905",
          "2022-10-20T00:48:54.115999952",
          "2022-10-20T00:49:07.440999881",
          "2022-10-20T00:49:20.765999928",
          "2022-10-20T00:49:34.090999976",
          "2022-10-20T00:49:47.415999905",
          "2022-10-20T00:50:00.740999952",
          "2022-10-20T00:50:14.065999881",
          "2022-10-20T00:50:27.390999928",
          "2022-10-20T00:50:40.715999976",
          "2022-10-20T00:50:54.040999905",
          "2022-10-20T00:51:07.365999952",
          "2022-10-20T00:51:20.690999881",
          "2022-10-20T00:51:34.015999928",
          "2022-10-20T00:51:47.340999976",
          "2022-10-20T00:52:00.665999905",
          "2022-10-20T00:52:13.990999952",
          "2022-10-20T00:52:27.315999881",
          "2022-10-20T00:52:40.640999928",
          "2022-10-20T00:52:53.965999976",
          "2022-10-20T00:53:07.290999905",
          "2022-10-20T00:53:20.615999952",
          "2022-10-20T00:53:33.940999881",
          "2022-10-20T00:53:47.265999928",
          "2022-10-20T00:54:00.590999976",
          "2022-10-20T00:54:13.915999905",
          "2022-10-20T00:54:27.240999952",
          "2022-10-20T00:54:40.565999881",
          "2022-10-20T00:54:53.890999928",
          "2022-10-20T00:55:07.215999976",
          "2022-10-20T00:55:20.540999905",
          "2022-10-20T00:55:33.865999952",
          "2022-10-20T00:55:47.190999881",
          "2022-10-20T00:56:00.515999928",
          "2022-10-20T00:56:13.840999976",
          "2022-10-20T00:56:27.165999905",
          "2022-10-20T00:56:40.490999952",
          "2022-10-20T00:56:53.815999881",
          "2022-10-20T00:57:07.140999928",
          "2022-10-20T00:57:20.465999976",
          "2022-10-20T00:57:33.790999905",
          "2022-10-20T00:57:47.115999952",
          "2022-10-20T00:58:00.440999881",
          "2022-10-20T00:58:13.765999928",
          "2022-10-20T00:58:27.090999976",
          "2022-10-20T00:58:40.415999905",
          "2022-10-20T00:58:53.740999952",
          "2022-10-20T00:59:07.065999881",
          "2022-10-20T00:59:20.390999928",
          "2022-10-20T00:59:33.715999976",
          "2022-10-20T00:59:47.040999905",
          "2022-10-20T01:00:00.365999952",
          "2022-10-20T01:00:13.690999881",
          "2022-10-20T01:00:27.015999928",
          "2022-10-20T01:00:40.340999976",
          "2022-10-20T01:00:53.665999905",
          "2022-10-20T01:01:06.990999952",
          "2022-10-20T01:01:20.315999881",
          "2022-10-20T01:01:33.640999928",
          "2022-10-20T01:01:46.965999976",
          "2022-10-20T01:02:00.290999905",
          "2022-10-20T01:02:13.615999952",
          "2022-10-20T01:02:26.940999881",
          "2022-10-20T01:02:40.265999928",
          "2022-10-20T01:02:54.615999952",
          "2022-10-20T01:03:08.965999976",
          "2022-10-20T01:03:24.340999976",
          "2022-10-20T01:03:39.715999976",
          "2022-10-20T01:03:55.090999976",
          "2022-10-20T01:04:11.490999952",
          "2022-10-20T01:04:28.915999905",
          "2022-10-20T01:04:46.340999976",
          "2022-10-20T01:05:04.790999905",
          "2022-10-20T01:05:24.265999928",
          "2022-10-20T01:05:44.765999928",
          "2022-10-20T01:06:06.290999905",
          "2022-10-20T01:06:29.865999952",
          "2022-10-20T01:06:54.465999976",
          "2022-10-20T01:07:22.140999928",
          "2022-10-20T01:07:52.890999928",
          "2022-10-20T01:08:27.740999952",
          "2022-10-20T01:09:09.765999928",
          "2022-10-20T01:10:07.165999905",
          "2022-10-20T02:10:06.965999976",
          "2022-10-20T02:16:25.190999881",
          "2022-10-20T03:09:53.440999881",
          "2022-10-20T03:10:06.765999928",
          "2022-10-20T03:16:12.690999881",
          "2022-10-20T04:09:46.065999881",
          "2022-10-20T04:10:06.565999881",
          "2022-10-20T04:15:36.615999952",
          "2022-10-20T05:07:56.190999881",
          "2022-10-20T05:10:06.365999952",
          "2022-10-20T05:21:26.965999976",
          "2022-10-20T05:29:33.840999976",
          "2022-10-20T05:30:26.115999952",
          "2022-10-20T05:31:06.090999976",
          "2022-10-20T05:31:39.915999905",
          "2022-10-20T05:32:09.640999928",
          "2022-10-20T05:32:36.290999905",
          "2022-10-20T05:33:00.890999928",
          "2022-10-20T05:33:23.440999881",
          "2022-10-20T05:33:44.965999976",
          "2022-10-20T05:34:05.465999976",
          "2022-10-20T05:34:24.940999881",
          "2022-10-20T05:34:43.390999928",
          "2022-10-20T05:35:00.815999881",
          "2022-10-20T05:35:17.215999976",
          "2022-10-20T05:35:33.615999952",
          "2022-10-20T05:35:48.990999952",
          "2022-10-20T05:36:04.365999952",
          "2022-10-20T05:36:18.715999976",
          "2022-10-20T05:36:33.065999881",
          "2022-10-20T05:36:47.415999905",
          "2022-10-20T05:37:00.740999952",
          "2022-10-20T05:37:14.065999881",
          "2022-10-20T05:37:27.390999928",
          "2022-10-20T05:37:40.715999976",
          "2022-10-20T05:37:54.040999905",
          "2022-10-20T05:38:07.365999952",
          "2022-10-20T05:38:20.690999881",
          "2022-10-20T05:38:34.015999928",
          "2022-10-20T05:38:47.340999976",
          "2022-10-20T05:39:00.665999905",
          "2022-10-20T05:39:13.990999952",
          "2022-10-20T05:39:27.315999881",
          "2022-10-20T05:39:40.640999928",
          "2022-10-20T05:39:53.965999976",
          "2022-10-20T05:40:07.290999905",
          "2022-10-20T05:40:20.615999952",
          "2022-10-20T05:40:33.940999881",
          "2022-10-20T05:40:47.265999928",
          "2022-10-20T05:41:00.590999976",
          "2022-10-20T05:41:13.915999905",
          "2022-10-20T05:41:27.240999952",
          "2022-10-20T05:41:40.565999881",
          "2022-10-20T05:41:53.890999928",
          "2022-10-20T05:42:07.215999976",
          "2022-10-20T05:42:20.540999905",
          "2022-10-20T05:42:33.865999952",
          "2022-10-20T05:42:47.190999881",
          "2022-10-20T05:43:00.515999928",
          "2022-10-20T05:43:13.840999976",
          "2022-10-20T05:43:27.165999905",
          "2022-10-20T05:43:40.490999952",
          "2022-10-20T05:43:53.815999881",
          "2022-10-20T05:44:07.140999928",
          "2022-10-20T05:44:20.465999976",
          "2022-10-20T05:44:33.790999905",
          "2022-10-20T05:44:47.115999952",
          "2022-10-20T05:45:00.440999881",
          "2022-10-20T05:45:13.765999928",
          "2022-10-20T05:45:27.090999976",
          "2022-10-20T05:45:40.415999905",
          "2022-10-20T05:45:53.740999952",
          "2022-10-20T05:46:07.065999881",
          "2022-10-20T05:46:20.390999928",
          "2022-10-20T05:46:33.715999976",
          "2022-10-20T05:46:47.040999905",
          "2022-10-20T05:47:00.365999952",
          "2022-10-20T05:47:13.690999881",
          "2022-10-20T05:47:27.015999928",
          "2022-10-20T05:47:40.340999976",
          "2022-10-20T05:47:53.665999905",
          "2022-10-20T05:48:06.990999952",
          "2022-10-20T05:48:20.315999881",
          "2022-10-20T05:48:33.640999928",
          "2022-10-20T05:48:46.965999976",
          "2022-10-20T05:49:00.290999905",
          "2022-10-20T05:49:13.615999952",
          "2022-10-20T05:49:26.940999881",
          "2022-10-20T05:49:40.265999928",
          "2022-10-20T05:49:53.590999976",
          "2022-10-20T05:50:06.915999905",
          "2022-10-20T05:50:20.240999952",
          "2022-10-20T05:50:33.565999881",
          "2022-10-20T05:50:46.890999928",
          "2022-10-20T05:51:00.215999976",
          "2022-10-20T05:51:13.540999905",
          "2022-10-20T05:51:26.865999952",
          "2022-10-20T05:51:40.190999881",
          "2022-10-20T05:51:53.515999928",
          "2022-10-20T05:52:07.865999952",
          "2022-10-20T05:52:22.215999976",
          "2022-10-20T05:52:37.590999976",
          "2022-10-20T05:52:52.965999976",
          "2022-10-20T05:53:08.340999976",
          "2022-10-20T05:53:24.740999952",
          "2022-10-20T05:53:42.165999905",
          "2022-10-20T05:53:59.590999976",
          "2022-10-20T05:54:18.040999905",
          "2022-10-20T05:54:37.515999928",
          "2022-10-20T05:54:58.015999928",
          "2022-10-20T05:55:19.540999905",
          "2022-10-20T05:55:43.115999952",
          "2022-10-20T05:56:07.715999976",
          "2022-10-20T05:56:35.390999928",
          "2022-10-20T05:57:06.140999928",
          "2022-10-20T05:57:40.990999952",
          "2022-10-20T05:58:23.015999928",
          "2022-10-20T05:59:20.415999905",
          "2022-10-20T06:01:48.015999928",
          "2022-10-20T06:59:20.215999976",
          "2022-10-20T07:00:27.865999952",
          "2022-10-20T07:53:27.415999905",
          "2022-10-20T07:59:20.015999928",
          "2022-10-20T07:59:22.065999881",
          "2022-10-20T08:52:48.265999928",
          "2022-10-20T08:59:19.815999881",
          "2022-10-20T09:51:26.065999881",
          "2022-10-20T09:59:19.615999952",
          "2022-10-20T10:09:27.440999881",
          "2022-10-20T10:51:27.915999905",
          "2022-10-20T10:59:19.415999905",
          "2022-10-20T11:06:14.540999905",
          "2022-10-20T11:08:46.240999952",
          "2022-10-20T11:09:38.515999928",
          "2022-10-20T11:10:18.490999952",
          "2022-10-20T11:10:52.315999881",
          "2022-10-20T11:11:22.040999905",
          "2022-10-20T11:11:48.690999881",
          "2022-10-20T11:12:13.290999905",
          "2022-10-20T11:12:35.840999976",
          "2022-10-20T11:12:57.365999952",
          "2022-10-20T11:13:17.865999952",
          "2022-10-20T11:13:37.340999976",
          "2022-10-20T11:13:55.790999905",
          "2022-10-20T11:14:13.215999976",
          "2022-10-20T11:14:29.615999952",
          "2022-10-20T11:14:46.015999928",
          "2022-10-20T11:15:01.390999928",
          "2022-10-20T11:15:16.765999928",
          "2022-10-20T11:15:31.115999952",
          "2022-10-20T11:15:45.465999976",
          "2022-10-20T11:15:59.815999881",
          "2022-10-20T11:16:13.140999928",
          "2022-10-20T11:16:26.465999976",
          "2022-10-20T11:16:39.790999905",
          "2022-10-20T11:16:53.115999952",
          "2022-10-20T11:17:06.440999881",
          "2022-10-20T11:17:19.765999928",
          "2022-10-20T11:17:33.090999976",
          "2022-10-20T11:17:46.415999905",
          "2022-10-20T11:17:59.740999952",
          "2022-10-20T11:18:13.065999881",
          "2022-10-20T11:18:26.390999928",
          "2022-10-20T11:18:39.715999976",
          "2022-10-20T11:18:53.040999905",
          "2022-10-20T11:19:06.365999952",
          "2022-10-20T11:19:19.690999881",
          "2022-10-20T11:19:33.015999928",
          "2022-10-20T11:19:46.340999976",
          "2022-10-20T11:19:59.665999905",
          "2022-10-20T11:20:12.990999952",
          "2022-10-20T11:20:26.315999881",
          "2022-10-20T11:20:39.640999928",
          "2022-10-20T11:20:52.965999976",
          "2022-10-20T11:21:06.290999905",
          "2022-10-20T11:21:19.615999952",
          "2022-10-20T11:21:32.940999881",
          "2022-10-20T11:21:46.265999928",
          "2022-10-20T11:21:59.590999976",
          "2022-10-20T11:22:12.915999905",
          "2022-10-20T11:22:26.240999952",
          "2022-10-20T11:22:39.565999881",
          "2022-10-20T11:22:52.890999928",
          "2022-10-20T11:23:06.215999976",
          "2022-10-20T11:23:19.540999905",
          "2022-10-20T11:23:32.865999952",
          "2022-10-20T11:23:46.190999881",
          "2022-10-20T11:23:59.515999928",
          "2022-10-20T11:24:12.840999976",
          "2022-10-20T11:24:26.165999905",
          "2022-10-20T11:24:39.490999952",
          "2022-10-20T11:24:52.815999881",
          "2022-10-20T11:25:06.140999928",
          "2022-10-20T11:25:19.465999976",
          "2022-10-20T11:25:32.790999905",
          "2022-10-20T11:25:46.115999952",
          "2022-10-20T11:25:59.440999881",
          "2022-10-20T11:26:12.765999928",
          "2022-10-20T11:26:26.090999976",
          "2022-10-20T11:26:39.415999905",
          "2022-10-20T11:26:52.740999952",
          "2022-10-20T11:27:06.065999881",
          "2022-10-20T11:27:19.390999928",
          "2022-10-20T11:27:32.715999976",
          "2022-10-20T11:27:46.040999905",
          "2022-10-20T11:27:59.365999952",
          "2022-10-20T11:28:12.690999881",
          "2022-10-20T11:28:26.015999928",
          "2022-10-20T11:28:39.340999976",
          "2022-10-20T11:28:52.665999905",
          "2022-10-20T11:29:05.990999952",
          "2022-10-20T11:29:19.315999881",
          "2022-10-20T11:29:32.640999928",
          "2022-10-20T11:29:45.965999976",
          "2022-10-20T11:29:59.290999905",
          "2022-10-20T11:30:12.615999952",
          "2022-10-20T11:30:25.940999881",
          "2022-10-20T11:30:39.265999928",
          "2022-10-20T11:30:52.590999976",
          "2022-10-20T11:31:05.915999905",
          "2022-10-20T11:31:20.265999928",
          "2022-10-20T11:31:34.615999952",
          "2022-10-20T11:31:49.990999952",
          "2022-10-20T11:32:05.365999952",
          "2022-10-20T11:32:20.740999952",
          "2022-10-20T11:32:37.140999928",
          "2022-10-20T11:32:54.565999881",
          "2022-10-20T11:33:11.990999952",
          "2022-10-20T11:33:30.440999881",
          "2022-10-20T11:33:49.915999905",
          "2022-10-20T11:34:10.415999905",
          "2022-10-20T11:34:31.940999881",
          "2022-10-20T11:34:55.515999928",
          "2022-10-20T11:35:20.115999952",
          "2022-10-20T11:35:47.790999905",
          "2022-10-20T11:36:18.540999905",
          "2022-10-20T11:36:53.390999928",
          "2022-10-20T11:37:35.415999905",
          "2022-10-20T11:38:32.815999881",
          "2022-10-20T12:36:36.790999905",
          "2022-10-20T12:38:32.615999952",
          "2022-10-20T12:41:25.840999976",
          "2022-10-20T12:48:52.740999952",
          "2022-10-20T12:57:52.915999905",
          "2022-10-20T12:57:53.940999881",
          "2022-10-20T12:57:54.965999976",
          "2022-10-20T13:06:25.415999905",
          "2022-10-20T13:57:54.765999928",
          "2022-10-20T14:05:22.690999881",
          "2022-10-20T14:46:38.065999881",
          "2022-10-20T14:52:36.815999881",
          "2022-10-20T14:58:06.865999952",
          "2022-10-20T15:10:20.765999928",
          "2022-10-20T15:58:06.665999905",
          "2022-10-20T16:29:42.915999905",
          "2022-10-20T16:30:07.515999928",
          "2022-10-20T16:30:36.215999976",
          "2022-10-20T16:31:09.015999928",
          "2022-10-20T16:31:13.115999952",
          "2022-10-20T16:31:41.815999881",
          "2022-10-20T16:31:45.915999905",
          "2022-10-20T16:32:14.615999952",
          "2022-10-20T16:32:39.215999976",
          "2022-10-20T16:33:03.815999881",
          "2022-10-20T16:33:28.415999905",
          "2022-10-20T16:33:48.915999905",
          "2022-10-20T16:34:09.415999905",
          "2022-10-20T16:34:29.915999905",
          "2022-10-20T16:34:46.315999881",
          "2022-10-20T16:35:06.815999881",
          "2022-10-20T16:35:27.315999881",
          "2022-10-20T16:35:47.815999881",
          "2022-10-20T16:36:08.315999881",
          "2022-10-20T16:36:24.715999976",
          "2022-10-20T16:36:45.215999976",
          "2022-10-20T16:37:05.715999976",
          "2022-10-20T16:37:22.115999952",
          "2022-10-20T16:37:38.515999928",
          "2022-10-20T16:37:59.015999928",
          "2022-10-20T16:38:19.515999928",
          "2022-10-20T16:38:35.915999905",
          "2022-10-20T16:38:52.315999881",
          "2022-10-20T16:39:12.815999881",
          "2022-10-20T16:39:29.215999976",
          "2022-10-20T16:39:45.615999952",
          "2022-10-20T16:40:02.015999928",
          "2022-10-20T16:40:22.515999928",
          "2022-10-20T16:40:38.915999905",
          "2022-10-20T16:40:55.315999881",
          "2022-10-20T16:41:15.815999881",
          "2022-10-20T16:41:32.215999976",
          "2022-10-20T16:41:48.615999952",
          "2022-10-20T16:42:09.115999952",
          "2022-10-20T16:42:29.615999952",
          "2022-10-20T16:42:50.115999952",
          "2022-10-20T16:43:06.515999928",
          "2022-10-20T16:43:22.915999905",
          "2022-10-20T16:43:43.415999905",
          "2022-10-20T16:44:03.915999905",
          "2022-10-20T16:44:20.315999881",
          "2022-10-20T16:44:36.715999976",
          "2022-10-20T16:44:57.215999976",
          "2022-10-20T16:45:17.715999976",
          "2022-10-20T16:45:34.115999952",
          "2022-10-20T16:45:50.515999928",
          "2022-10-20T16:46:11.015999928",
          "2022-10-20T16:46:27.415999905",
          "2022-10-20T16:46:43.815999881",
          "2022-10-20T16:47:00.215999976",
          "2022-10-20T16:47:16.615999952",
          "2022-10-20T16:47:33.015999928",
          "2022-10-20T16:47:49.415999905",
          "2022-10-20T16:48:09.915999905",
          "2022-10-20T16:48:26.315999881",
          "2022-10-20T16:48:42.715999976",
          "2022-10-20T16:49:03.215999976",
          "2022-10-20T16:49:23.715999976",
          "2022-10-20T16:49:40.115999952",
          "2022-10-20T16:49:56.515999928",
          "2022-10-20T16:50:17.015999928",
          "2022-10-20T16:50:37.515999928",
          "2022-10-20T16:50:53.915999905",
          "2022-10-20T16:51:10.315999881",
          "2022-10-20T16:51:30.815999881",
          "2022-10-20T16:51:51.315999881",
          "2022-10-20T16:52:07.715999976",
          "2022-10-20T16:52:24.115999952",
          "2022-10-20T16:52:44.615999952",
          "2022-10-20T16:53:01.015999928",
          "2022-10-20T16:53:21.515999928",
          "2022-10-20T16:53:37.915999905",
          "2022-10-20T16:53:58.415999905",
          "2022-10-20T16:54:18.915999905",
          "2022-10-20T16:54:35.315999881",
          "2022-10-20T16:54:51.715999976",
          "2022-10-20T16:55:12.215999976",
          "2022-10-20T16:55:28.615999952",
          "2022-10-20T16:55:49.115999952",
          "2022-10-20T16:56:05.515999928",
          "2022-10-20T16:56:26.015999928",
          "2022-10-20T16:56:42.415999905",
          "2022-10-20T16:57:07.015999928",
          "2022-10-20T16:57:39.815999881",
          "2022-10-20T16:58:41.315999881",
          "2022-10-20T16:58:45.415999905",
          "2022-10-20T17:00:27.915999905",
          "2022-10-20T17:00:32.015999928",
          "2022-10-20T17:22:52.715999976",
          "2022-10-20T18:00:31.815999881",
          "2022-10-20T18:02:47.115999952",
          "2022-10-20T18:05:10.615999952",
          "2022-10-20T19:00:31.615999952",
          "2022-10-20T19:01:24.915999905",
          "2022-10-20T19:22:35.915999905",
          "2022-10-20T20:00:31.415999905",
          "2022-10-20T20:01:16.515999928",
          "2022-10-20T20:11:56.115999952",
          "2022-10-20T21:00:31.215999976",
          "2022-10-20T21:00:51.715999976",
          "2022-10-20T21:02:54.715999976",
          "2022-10-20T22:00:31.015999928",
          "2022-10-20T22:03:10.915999905",
          "2022-10-20T22:03:27.315999881",
          "2022-10-20T23:00:30.815999881",
          "2022-10-20T23:00:34.915999905",
          "2022-10-20T23:00:59.515999928",
          "2022-10-21T00:00:30.615999952",
          "2022-10-21T00:00:59.315999881",
          "2022-10-21T00:04:07.915999905",
          "2022-10-21T01:00:30.415999905",
          "2022-10-21T01:00:59.115999952",
          "2022-10-21T01:06:10.715999976",
          "2022-10-21T02:00:30.215999976",
          "2022-10-21T02:00:50.715999976",
          "2022-10-21T02:06:10.515999928",
          "2022-10-21T03:00:30.015999928",
          "2022-10-21T03:01:23.315999881",
          "2022-10-21T03:10:24.515999928",
          "2022-10-21T04:00:29.815999881",
          "2022-10-21T04:00:58.515999928",
          "2022-10-21T04:06:59.315999881",
          "2022-10-21T05:00:29.615999952",
          "2022-10-21T05:02:53.115999952",
          "2022-10-21T05:17:46.915999905",
          "2022-10-21T06:00:29.415999905",
          "2022-10-21T06:02:03.715999976",
          "2022-10-21T06:05:04.115999952",
          "2022-10-21T07:00:29.215999976",
          "2022-10-21T07:03:00.915999905",
          "2022-10-21T07:07:23.315999881",
          "2022-10-21T08:00:29.015999928",
          "2022-10-21T08:00:57.715999976",
          "2022-10-21T08:03:41.715999976",
          "2022-10-21T09:00:28.815999881",
          "2022-10-21T09:01:13.915999905",
          "2022-10-21T09:04:06.115999952",
          "2022-10-21T10:00:28.615999952",
          "2022-10-21T10:04:05.915999905",
          "2022-10-21T10:08:20.115999952",
          "2022-10-21T11:00:28.415999905",
          "2022-10-21T11:01:09.415999905",
          "2022-10-21T11:01:46.315999881",
          "2022-10-21T12:00:28.215999976",
          "2022-10-21T12:09:25.315999881",
          "2022-10-21T12:24:35.515999928",
          "2022-10-21T13:00:28.015999928",
          "2022-10-21T13:11:11.715999976",
          "2022-10-21T13:16:56.115999952",
          "2022-10-21T14:00:27.815999881",
          "2022-10-21T14:07:21.915999905",
          "2022-10-21T14:15:50.315999881",
          "2022-10-21T15:00:27.615999952",
          "2022-10-21T15:00:52.215999976",
          "2022-10-21T15:34:49.915999905",
          "2022-10-21T16:00:27.415999905",
          "2022-10-21T16:10:30.115999952",
          "2022-10-21T16:32:18.015999928",
          "2022-10-21T16:33:02.319089905",
          "2022-10-21T16:37:29.844116584",
          "2022-10-21T16:37:30.100366608",
          "2022-10-21T16:47:47.662927881",
          "2022-10-21T17:37:29.900715486",
          "2022-10-21T17:43:44.282000676",
          "2022-10-21T18:03:44.557111875",
          "2022-10-21T18:12:31.663409964",
          "2022-10-21T18:12:31.664410010",
          "2022-10-21T18:19:38.318698660",
          "2022-10-21T18:19:38.319698707",
          "2022-10-21T18:19:38.575948730",
          "2022-10-21T18:54:08.051132337",
          "2022-10-21T19:19:38.120013848",
          "2022-10-21T19:19:38.888763920",
          "2022-10-21T19:19:40.938764111",
          "2022-10-21T19:25:14.063792244",
          "2022-10-21T19:25:14.064792291",
          "2022-10-21T19:51:28.719173089",
          "2022-10-21T19:51:28.720173136",
          "2022-10-21T19:51:29.488923207",
          "2022-10-21T20:19:23.314058081",
          "2022-10-21T20:51:28.520457998",
          "2022-10-21T20:52:31.557962790",
          "2022-10-21T20:58:56.701742068",
          "2022-10-21T21:51:28.320723072",
          "2022-10-21T21:51:34.214473501",
          "2022-10-21T21:53:22.864481226",
          "2022-10-21T21:53:22.865481273",
          "2022-10-21T21:58:51.119754330",
          "2022-10-21T21:58:51.120754376",
          "2022-10-21T21:58:53.683254496",
          "2022-10-21T22:30:05.077133313",
          "2022-10-21T22:58:50.920997277",
          "2022-10-21T23:31:22.008620635",
          "2022-10-21T23:52:03.027446047",
          "2022-10-21T23:58:50.721220389",
          "2022-10-21T23:58:53.796220556",
          "2022-10-22T00:38:23.340106622",
          "2022-10-22T00:58:50.521423713",
          "2022-10-22T01:07:38.908951894",
          "2022-10-22T01:55:56.584098831",
          "2022-10-22T01:58:50.321607247",
          "2022-10-22T02:04:56.246624723",
          "2022-10-22T02:30:05.046695009",
          "2022-10-22T02:58:50.121770993",
          "2022-10-22T02:58:54.221771136",
          "2022-10-22T03:37:39.690616385",
          "2022-10-22T03:58:49.921914950",
          "2022-10-22T03:59:04.271915451",
          "2022-10-22T03:59:08.628165618",
          "2022-10-22T04:58:49.722039119",
          "2022-10-22T04:59:02.790789500",
          "2022-10-22T04:59:12.528289810",
          "2022-10-22T05:58:49.522143498",
          "2022-10-22T05:58:51.059643522",
          "2022-10-22T06:09:39.628410235",
          "2022-10-22T06:58:49.322228089",
          "2022-10-22T06:58:58.547228352",
          "2022-10-22T07:21:15.403504625",
          "2022-10-22T07:58:49.122292892",
          "2022-10-22T07:59:09.109793201",
          "2022-10-22T07:59:24.997293488",
          "2022-10-22T08:58:48.922338024",
          "2022-10-22T08:59:03.016088143",
          "2022-10-22T09:13:56.303596154",
          "2022-10-22T09:58:48.722363249",
          "2022-10-22T09:58:58.203613297",
          "2022-10-22T10:09:56.509865776",
          "2022-10-22T10:58:48.522368685",
          "2022-10-22T11:01:40.466118470",
          "2022-10-22T11:08:35.334867731",
          "2022-10-22T11:58:48.322354332",
          "2022-10-22T12:01:01.316103474",
          "2022-10-22T12:09:10.753599897",
          "2022-10-22T12:58:48.122320310",
          "2022-10-22T12:58:58.628570095",
          "2022-10-22T13:03:10.009817019",
          "2022-10-22T13:58:47.922266379",
          "2022-10-22T14:02:15.997262612",
          "2022-10-22T14:02:53.409762040",
          "2022-10-22T14:58:47.722192660",
          "2022-10-22T14:58:54.897192493",
          "2022-10-22T15:02:32.965937391",
          "2022-10-22T15:58:47.522099272",
          "2022-10-22T15:58:54.697098986",
          "2022-10-22T16:00:55.134595529",
          "2022-10-22T16:48:09.259507552",
          "2022-10-22T16:48:09.260507599",
          "2022-10-22T17:22:57.282107607",
          "2022-10-22T17:22:57.283107654",
          "2022-10-22T17:38:49.251921311",
          "2022-10-22T17:42:52.615999952",
          "2022-10-22T17:59:57.615999952"
         ],
         "y": [
          167.15916846487335,
          167.15761830476603,
          167.17198880680377,
          167.16861333987217,
          167.18130025270034,
          166.18546142669967,
          165.19780816657226,
          164.21490607875526,
          163.22814022246394,
          162.2431066720432,
          161.2661542309357,
          160.285387315044,
          159.31978963607784,
          158.33859800268897,
          157.3501928631869,
          156.3624710030228,
          155.3828049795267,
          154.41919447782274,
          153.47682193977406,
          152.5008144110534,
          151.55519169494974,
          150.57998839444505,
          149.6431338951269,
          148.68050875440272,
          147.69208830159275,
          146.75125589535514,
          145.78984047540033,
          144.8121465825052,
          143.82324707324182,
          142.8280116953872,
          141.83105067062579,
          140.83400660035335,
          139.83691518151153,
          138.83979828046577,
          137.8426805009676,
          136.84553970021673,
          135.84843110247434,
          134.8512959864848,
          133.85470562777138,
          132.8574422193356,
          131.86039687513832,
          130.86324403807322,
          129.86604770488597,
          128.86891375203612,
          127.87168402175004,
          126.87453065942906,
          125.87731893939363,
          124.88009825793293,
          123.88288851472446,
          122.88559493756922,
          121.88836221746449,
          120.8911366992456,
          119.89379744106077,
          118.89645982972176,
          117.89908531242997,
          116.90170872088171,
          115.90429348615096,
          114.90683507167253,
          113.90941667316972,
          112.91193230305208,
          111.91439084097767,
          110.91734291720859,
          109.91978470749358,
          108.92225319286581,
          107.92469360095068,
          106.92708925035697,
          105.92947934873828,
          104.93181405366292,
          103.93415300964554,
          102.9365378808391,
          101.93895426769669,
          100.94130904262721,
          99.94368368957687,
          98.94614031075434,
          97.94861464572341,
          96.95104341534761,
          95.95354585326429,
          94.95611444736575,
          93.95876262456498,
          92.96136106876497,
          91.96401014597961,
          90.96677649659766,
          89.96956952556029,
          88.97275366266518,
          87.97556228737399,
          86.97853721102837,
          85.98159140186897,
          84.9847746153116,
          83.99046343901513,
          83.00351504018042,
          82.02892978451358,
          81.07135800150054,
          80.1352345776804,
          79.15174557522536,
          78.19399433616579,
          77.19638185868051,
          76.2283233456909,
          75.28978507629311,
          74.32122611214712,
          73.3287828086367,
          72.37436087457566,
          71.40507762362968,
          70.42803453497513,
          69.45084142589242,
          68.48088047633411,
          67.48469012849128,
          66.51904227028741,
          65.522779203191,
          64.5275940559953,
          63.54204641003229,
          62.55470537309049,
          61.56140270372502,
          60.78576394509987,
          60.78963525678657,
          60.78888500953725,
          60.796062894842045,
          60.79262279703297,
          60.792397943976155,
          60.80005681320547,
          60.795414685060415,
          60.79541328110338,
          60.80339318819336,
          60.80023188306829,
          60.79997324990638,
          61.79831998430004,
          62.79190258077019,
          63.77910772463175,
          64.76894914364816,
          65.75654864499708,
          66.73562266193196,
          67.71802544584149,
          68.68500337476601,
          69.66721248492867,
          70.65661734925241,
          71.64507598750022,
          72.62523412769849,
          73.58992846665345,
          74.53246972952101,
          75.50869716383451,
          76.45467563192263,
          77.42987845172891,
          78.36671189199686,
          79.32915517335194,
          80.31735637738582,
          81.25796036253865,
          82.2192868391697,
          83.19683331871018,
          84.18574996471175,
          85.1810243394804,
          86.17813798487559,
          87.17533513295906,
          88.1725348581322,
          89.16968902262491,
          90.16692765917149,
          91.16417350407045,
          92.16138528078685,
          93.15852785236633,
          94.15574440177224,
          95.15301430086595,
          96.15026814554406,
          97.14746526942892,
          98.1452710167244,
          99.14259723857855,
          100.13979540259751,
          101.13711428999017,
          102.13450344085624,
          103.13174125592828,
          104.12911583600746,
          105.12658457587249,
          106.12399079977783,
          107.12140530209957,
          108.11893677468728,
          109.11651847209241,
          110.11405287056766,
          111.11158738186002,
          112.10923390046287,
          113.1069265696223,
          114.10463090610504,
          115.10232437138258,
          116.10008828815799,
          117.09780257642394,
          118.09563956930977,
          119.09358459890836,
          120.09201363474101,
          121.08989378900534,
          122.0877677550035,
          123.08568314419432,
          124.08362127852152,
          125.08156237097407,
          126.0794870158222,
          127.0774027862193,
          128.07521826430204,
          129.0730963224845,
          130.0710445784526,
          131.06885509410822,
          132.06666515349605,
          133.06449556519283,
          134.06220617524312,
          135.05988107264187,
          136.05757692533427,
          137.0551825714154,
          138.05270749341605,
          139.05018832072585,
          140.04757362076117,
          141.04496605409705,
          142.04227921055485,
          143.0400706090088,
          144.0347107149554,
          145.0221247681246,
          145.9973239974582,
          146.9554723918596,
          147.89239998556258,
          148.87657580502864,
          149.8350033622313,
          150.83329027324297,
          151.8019627927501,
          152.7410622442371,
          153.71027102302807,
          154.70318066188153,
          155.6581229605382,
          156.6278409696633,
          157.6051656941115,
          158.58280120865606,
          159.55298519129195,
          160.5497494810795,
          161.5151094841953,
          162.5107038599663,
          163.50493790943773,
          164.4893054449913,
          165.4750647393246,
          166.46651639980493,
          167.25339275400324,
          167.25127136811153,
          167.26574008992762,
          167.26573520228948,
          167.26201062028653,
          167.2773582000996,
          167.2772847582043,
          167.27387649308562,
          167.2886965359994,
          167.28798004869515,
          167.29120028391708,
          166.2918281651162,
          165.29802322795237,
          164.31111944608864,
          163.3217304314849,
          162.33374535768624,
          161.35413844841693,
          160.37093576368397,
          159.4032151421724,
          158.42010887614055,
          157.42984740926397,
          156.44035745334315,
          155.45922528464857,
          154.49348604202868,
          153.54986851229313,
          152.57260778771501,
          151.6258607683684,
          150.64956797167508,
          149.7116919396593,
          148.7488026165299,
          147.75947863554606,
          146.81779885408497,
          145.85548563411373,
          144.87707895737987,
          143.88746710665723,
          142.8916771250456,
          141.89419456028816,
          140.89657316681973,
          139.89895243527437,
          138.901397034595,
          137.90384093257342,
          136.90620300856995,
          135.90860236293994,
          134.91090544068354,
          133.91338166640259,
          132.91573680526758,
          131.91815316250486,
          130.9204924986321,
          129.9227871798604,
          128.92518125326947,
          127.92754650950835,
          126.93048149823767,
          125.93281189983011,
          124.93509484682295,
          123.93737526884773,
          122.9396223828397,
          121.94195058971088,
          120.94416818356805,
          119.94645566515939,
          118.94857635228149,
          117.95074682971023,
          116.95281007136379,
          115.95489595780731,
          114.9570390432635,
          113.9590671867958,
          112.96109114380467,
          111.96307552789393,
          110.96506893378299,
          109.96709578708511,
          108.969061080622,
          107.97093245861939,
          106.97280753082401,
          105.97489485879242,
          104.97694704210049,
          103.97934801554926,
          102.98137229721677,
          101.98339551038625,
          100.98540611812938,
          99.98735202071661,
          98.9895023128482,
          97.99161143383488,
          96.9936759905488,
          95.99591858861955,
          94.9981200985876,
          94.00035966654887,
          93.00276143797612,
          92.00507420386148,
          91.00745075612207,
          90.00998865725258,
          89.01252831150752,
          88.01507904716824,
          87.01773563299967,
          86.02040998004499,
          85.02336566144083,
          84.02889291127362,
          83.04173498363511,
          82.06741459451551,
          81.10972838789773,
          80.17348285112608,
          79.18978129841621,
          78.23207024788613,
          77.2342809467807,
          76.26610956240778,
          75.32740265575003,
          74.35866598029853,
          73.36605745280762,
          72.41141064991085,
          71.44194408458132,
          70.46455460580299,
          69.48684420079444,
          68.51661403836978,
          67.5202198421887,
          66.55429601077147,
          65.55816417135412,
          64.56277087584874,
          63.57699806471427,
          62.58957512229874,
          61.596411435257146,
          60.82234632678007,
          60.82735906710689,
          60.8267555989537,
          60.83526893418298,
          60.8307426110629,
          60.8307292621681,
          60.83986449893014,
          60.836147264588014,
          60.844456747045506,
          60.84159100209156,
          60.8411680197168,
          60.84933767171599,
          60.84745964063287,
          60.846949646548985,
          61.840824293808254,
          62.83565208757262,
          63.823777272194135,
          64.8148449859363,
          65.80313970381863,
          66.78337556051828,
          67.76627576033846,
          68.73344510553218,
          69.71606807971243,
          70.7055380868311,
          71.6940220126117,
          72.67401559970406,
          73.63854728436351,
          74.58100509986681,
          75.55692368373442,
          76.50235643350422,
          77.47726523876415,
          78.41374677129409,
          79.3760014328614,
          80.36397129156123,
          81.30432649147329,
          82.2659966500384,
          83.24350193625621,
          84.23228261196432,
          85.22761900523504,
          86.22477822193326,
          87.22207690204174,
          88.21941033875923,
          89.2168278259804,
          90.21427842736752,
          91.21173930926221,
          92.2091672025208,
          93.20682363050875,
          94.20449216205944,
          95.20211368417846,
          96.19990479514277,
          97.1976290244176,
          98.19553632043784,
          99.19345232587116,
          100.19133153015068,
          101.18940194081271,
          102.18735939572001,
          103.18549842397614,
          104.18362284127564,
          105.18236334407035,
          106.18065542439673,
          107.17879510963978,
          108.17715637186161,
          109.17544496992417,
          110.1737445960351,
          111.17210805544856,
          112.17044458777926,
          113.16872935907014,
          114.16712206118258,
          115.16546292103317,
          116.16376329832462,
          117.1620880311178,
          118.16042231642959,
          119.15876603974505,
          120.1570372100167,
          121.1553213132546,
          122.15357010477338,
          123.1517554718239,
          124.14993766964777,
          125.14804701709534,
          126.14617441460213,
          127.14486582113518,
          128.14284177691817,
          129.14082881719318,
          130.1388108650139,
          131.1368314678649,
          132.13470286365467,
          133.1325530320258,
          134.13045683157864,
          135.12821263353658,
          136.12608143609236,
          137.12382586485296,
          138.12165017549836,
          139.11937129709838,
          140.11708622406388,
          141.11480071091822,
          142.1125049166793,
          143.1100884054753,
          144.10523163400111,
          145.09333812568806,
          146.0694061790179,
          147.02854013483127,
          147.9664222407841,
          148.9517274332318,
          149.91206871618112,
          150.91168751023443,
          151.8817538358414,
          152.82250879454102,
          153.79332305362928,
          154.78804412091958,
          155.74479304813988,
          156.71653553256036,
          157.69605763344714,
          158.67595603550507,
          159.64852343925858,
          160.64708578920477,
          161.61498437701948,
          162.61358775536667,
          163.61077630910836,
          164.59888952615904,
          165.58776472849854,
          166.5820453583895,
          167.37321530114417,
          167.37236272172208,
          167.36871718839524,
          167.37524804231523,
          167.374981714891,
          90,
          167.3750202431255,
          167.373637266436,
          167.3878334692073,
          167.38416539812704,
          168.38356969313816,
          169.3824259541421,
          170.37996674000564,
          171.03140111612774,
          170.99679621122536,
          170.1964569091797,
          169.29652404785156,
          168.31051635742188,
          167.36788940429688,
          167.43641662597656,
          166.59735107421875,
          166.599365234375,
          165.69158935546875,
          164.8619842529297,
          163.96649169921875,
          162.99200439453125,
          162.1490020751953,
          161.1564178466797,
          160.2574920654297,
          159.37057495117188,
          158.47161865234375,
          157.4798126220703,
          156.48455810546875,
          155.51666259765625,
          154.6058349609375,
          153.74098205566406,
          152.74649047851562,
          151.9119873046875,
          150.9772491455078,
          150.1206512451172,
          149.12892150878906,
          148.2622833251953,
          147.32203674316406,
          146.47369384765625,
          145.60511779785156,
          144.6942901611328,
          144.00318908691406,
          143.01417541503906,
          142.12171936035156,
          141.1548309326172,
          140.33038330078125,
          139.4747314453125,
          138.53530883789062,
          137.54823303222656,
          136.6199493408203,
          135.6466064453125,
          134.74591064453125,
          133.81114196777344,
          132.93890380859375,
          131.941650390625,
          131.05113220214844,
          130.1053924560547,
          129.25430297851562,
          128.257080078125,
          127.34264373779297,
          126.39417266845703,
          125.54306030273438,
          124.67176055908203,
          123.72134399414062,
          123.04866790771484,
          122.19576263427734,
          121.31430053710938,
          120.59190368652344,
          119.60289001464844,
          118.72059631347656,
          117.77760314941406,
          116.91632843017578,
          115.93555450439453,
          115.05876159667969,
          114.13419342041016,
          113.23528289794922,
          112.28117370605469,
          111.38322448730469,
          110.46138000488281,
          109.55424499511719,
          108.5679931640625,
          107.69120025634766,
          106.7454605102539,
          105.87788391113281,
          104.9771957397461,
          104.00110626220703,
          103.05811309814453,
          102.14823150634766,
          101.1749038696289,
          100.28711700439453,
          99.36803436279297,
          98.46638488769531,
          97.56294250488281,
          96.58412170410156,
          95.67294311523438,
          94.99044799804688,
          94.2729263305664,
          93.36474609375,
          92.47264862060547,
          91.55354309082031,
          91.55354309082031,
          90.60094451904297,
          90.60094451904297,
          90.05055236816406,
          90.07710266113281,
          90.1485366821289,
          90.05055236816406,
          90.09817504882812,
          90.05055236816406,
          90.1485366821289,
          90.0743637084961,
          90.05055236816406,
          90.14579772949219,
          90.0743637084961,
          90.05055236816406,
          90.14579772949219,
          90.12198638916016,
          90.14579772949219,
          90.05055236816406,
          90.0743637084961,
          90.05055236816406,
          90.14579772949219,
          90.0743637084961,
          90.05055236816406,
          90.14579772949219,
          90.0743637084961,
          90.05055236816406,
          90.14579772949219,
          90.09817504882812,
          90.05055236816406,
          90.14579772949219,
          90.12198638916016,
          90.05055236816406,
          90.14579772949219,
          90.0743637084961,
          90.05055236816406,
          90.14579772949219,
          90.12198638916016,
          90.05055236816406,
          90.14579772949219,
          90.12198638916016,
          90.14579772949219,
          90.05055236816406,
          90.09817504882812,
          90.05055236816406,
          90.14579772949219,
          90.12198638916016,
          90.05055236816406,
          90.14579772949219,
          90.12198638916016,
          90.14579772949219,
          90.05055236816406,
          90.0743637084961,
          90.05055236816406,
          90.14579772949219,
          90.12198638916016,
          90.14579772949219,
          90.05055236816406,
          90.09817504882812,
          90.14579772949219,
          90.05055236816406,
          90.07161712646484,
          90.14579772949219,
          90.04780578613281,
          90.09817504882812,
          90.04780578613281,
          90.14579772949219,
          90.0743637084961,
          90.07161712646484,
          90.14579772949219,
          90.07161712646484,
          90.14305114746094,
          90.02954864501953,
          72.70429992675781,
          72.70429992675781,
          89.5193862915039,
          90.17784118652344,
          90.0938949584961,
          90.1078872680664,
          90.0491714477539,
          90.07715606689453,
          null,
          null,
          90.07715606689453,
          90.10514068603516,
          90.0351791381836,
          90.07715606689453,
          90.10514068603516,
          90.0491714477539,
          90.07715606689453,
          null,
          null,
          90.06040954589844,
          90.04642486572266,
          90.11637878417969,
          90.10238647460938,
          90.11637878417969,
          90.04642486572266,
          90.05766296386719,
          90.11363220214844,
          90.07166290283203,
          null,
          null,
          90.08564758300781,
          90.05766296386719,
          90.14161682128906,
          90.12762451171875,
          89.38605499267578,
          90.26753997802734,
          90.15560913085938,
          90.18359375,
          89.94573211669922,
          90.00170135498047,
          89.9317398071289,
          90.07166290283203,
          89.98770904541016,
          89.95972442626953,
          90.07166290283203,
          90.01569366455078,
          90.05766296386719,
          89.98770904541016,
          90.02967834472656,
          89.98770904541016,
          90.05766296386719,
          90.01569366455078,
          90.05766296386719,
          89.98770904541016,
          90.01569366455078,
          89.98770904541016,
          90.05766296386719,
          90.01569366455078,
          89.98770904541016,
          90.05766296386719,
          90.01569366455078,
          89.98770904541016,
          90.05766296386719,
          90.01569366455078,
          89.98770904541016,
          90.05766296386719,
          90.00170135498047,
          89.98770904541016,
          90.05766296386719,
          90.01569366455078,
          89.98770904541016,
          90.05766296386719,
          90.01569366455078,
          90.05766296386719,
          89.98770904541016,
          90.02967834472656,
          89.98770904541016,
          90.05766296386719,
          90.01569366455078,
          90.05766296386719,
          89.98770904541016,
          90.02967834472656,
          89.98770904541016,
          90.05766296386719,
          90.01569366455078,
          89.98770904541016,
          90.05766296386719,
          90.00170135498047,
          null,
          null,
          90.02446746826172,
          89.97125244140625,
          90.43668365478516,
          90.18141174316406
         ]
        },
        {
         "hovertemplate": "%{x|%Y:%j:%H:%M:%S} %{y}",
         "line": {
          "color": "#ff7f0e",
          "width": 3
         },
         "marker": {
          "opacity": 0.9,
          "size": 8
         },
         "mode": "lines+markers",
         "name": "State",
         "opacity": 0.75,
         "showlegend": false,
         "type": "scatter",
         "x": [
          "2022-10-19T18:00:00.740999952",
          "2022-10-19T18:05:31.815999881",
          "2022-10-19T19:00:00.540999905",
          "2022-10-19T19:48:31.540999905",
          "2022-10-19T19:48:32.565999881",
          "2022-10-19T19:53:28.790999905",
          "2022-10-19T19:53:29.815999881",
          "2022-10-19T19:58:26.040999905",
          "2022-10-19T19:58:27.065999881",
          "2022-10-19T20:03:23.290999905",
          "2022-10-19T20:03:24.315999881",
          "2022-10-19T20:08:21.565999881",
          "2022-10-19T20:08:22.590999976",
          "2022-10-19T20:13:18.815999881",
          "2022-10-19T20:13:19.840999976",
          "2022-10-19T20:18:16.065999881",
          "2022-10-19T20:18:17.090999976",
          "2022-10-19T20:23:14.340999976",
          "2022-10-19T20:23:15.365999952",
          "2022-10-19T20:52:11.715999976",
          "2022-10-19T21:23:15.165999905",
          "2022-10-19T22:23:14.965999976",
          "2022-10-19T23:23:14.765999928",
          "2022-10-19T23:38:51.615999952",
          "2022-10-20T00:23:14.565999881",
          "2022-10-20T00:37:43.765999928",
          "2022-10-20T00:37:44.790999905",
          "2022-10-20T00:42:41.015999928",
          "2022-10-20T00:42:42.040999905",
          "2022-10-20T00:47:39.290999905",
          "2022-10-20T00:47:40.315999881",
          "2022-10-20T00:52:36.540999905",
          "2022-10-20T00:52:37.565999881",
          "2022-10-20T00:57:33.790999905",
          "2022-10-20T00:57:34.815999881",
          "2022-10-20T01:02:32.065999881",
          "2022-10-20T01:02:33.090999976",
          "2022-10-20T01:07:29.315999881",
          "2022-10-20T01:07:30.340999976",
          "2022-10-20T01:12:26.565999881",
          "2022-10-20T01:12:27.590999976",
          "2022-10-20T02:12:27.390999928",
          "2022-10-20T02:25:31.515999928",
          "2022-10-20T03:12:27.190999881",
          "2022-10-20T04:12:26.990999952",
          "2022-10-20T05:12:11.415999905",
          "2022-10-20T05:12:26.790999905",
          "2022-10-20T05:26:57.015999928",
          "2022-10-20T05:26:58.040999905",
          "2022-10-20T05:31:54.265999928",
          "2022-10-20T05:31:55.290999905",
          "2022-10-20T05:36:51.515999928",
          "2022-10-20T05:36:52.540999905",
          "2022-10-20T05:41:48.765999928",
          "2022-10-20T05:41:49.790999905",
          "2022-10-20T05:46:47.040999905",
          "2022-10-20T05:46:48.065999881",
          "2022-10-20T05:51:44.290999905",
          "2022-10-20T05:51:45.315999881",
          "2022-10-20T05:56:41.540999905",
          "2022-10-20T05:56:42.565999881",
          "2022-10-20T06:01:39.815999881",
          "2022-10-20T06:01:40.840999976",
          "2022-10-20T07:01:40.640999928",
          "2022-10-20T07:58:51.315999881",
          "2022-10-20T08:01:40.440999881",
          "2022-10-20T09:01:40.240999952",
          "2022-10-20T10:01:40.040999905",
          "2022-10-20T10:45:31.215999976",
          "2022-10-20T11:01:39.840999976",
          "2022-10-20T11:06:09.415999905",
          "2022-10-20T11:06:10.440999881",
          "2022-10-20T11:11:06.665999905",
          "2022-10-20T11:11:07.690999881",
          "2022-10-20T11:16:04.940999881",
          "2022-10-20T11:16:05.965999976",
          "2022-10-20T11:21:02.190999881",
          "2022-10-20T11:21:03.215999976",
          "2022-10-20T11:25:59.440999881",
          "2022-10-20T11:26:00.465999976",
          "2022-10-20T11:30:56.690999881",
          "2022-10-20T11:30:57.715999976",
          "2022-10-20T11:35:54.965999976",
          "2022-10-20T11:35:55.990999952",
          "2022-10-20T11:40:52.215999976",
          "2022-10-20T11:40:53.240999952",
          "2022-10-20T12:40:53.040999905",
          "2022-10-20T13:32:11.115999952",
          "2022-10-20T13:40:52.840999976",
          "2022-10-20T14:37:06.115999952",
          "2022-10-20T14:40:52.640999928",
          "2022-10-20T14:42:09.515999928",
          "2022-10-20T14:47:10.865999952",
          "2022-10-20T14:47:11.890999928",
          "2022-10-20T14:52:14.265999928",
          "2022-10-20T14:52:15.290999905",
          "2022-10-20T14:57:17.665999905",
          "2022-10-20T14:57:18.690999881",
          "2022-10-20T15:02:20.040999905",
          "2022-10-20T15:07:24.465999976",
          "2022-10-20T16:02:19.840999976",
          "2022-10-20T16:18:51.015999928",
          "2022-10-20T16:27:48.115999952",
          "2022-10-20T16:27:49.140999928",
          "2022-10-20T16:32:35.115999952",
          "2022-10-20T16:32:39.215999976",
          "2022-10-20T16:37:26.215999976",
          "2022-10-20T16:37:30.315999881",
          "2022-10-20T16:42:13.215999976",
          "2022-10-20T16:42:17.315999881",
          "2022-10-20T16:47:04.315999881",
          "2022-10-20T16:47:08.415999905",
          "2022-10-20T16:51:51.315999881",
          "2022-10-20T16:51:55.415999905",
          "2022-10-20T16:56:42.415999905",
          "2022-10-20T16:56:46.515999928",
          "2022-10-20T17:56:46.315999881",
          "2022-10-20T18:56:46.115999952",
          "2022-10-20T19:56:45.915999905",
          "2022-10-20T20:56:45.715999976",
          "2022-10-20T21:56:45.515999928",
          "2022-10-20T22:56:45.315999881",
          "2022-10-20T23:56:45.115999952",
          "2022-10-21T00:56:44.915999905",
          "2022-10-21T01:56:44.715999976",
          "2022-10-21T02:56:44.515999928",
          "2022-10-21T03:56:44.315999881",
          "2022-10-21T04:56:44.115999952",
          "2022-10-21T05:56:43.915999905",
          "2022-10-21T06:56:43.715999976",
          "2022-10-21T07:56:43.515999928",
          "2022-10-21T08:56:43.315999881",
          "2022-10-21T09:56:43.115999952",
          "2022-10-21T10:56:42.915999905",
          "2022-10-21T11:56:42.715999976",
          "2022-10-21T12:56:42.515999928",
          "2022-10-21T13:56:42.315999881",
          "2022-10-21T14:56:42.115999952",
          "2022-10-21T15:56:41.915999905",
          "2022-10-21T16:33:02.319089905",
          "2022-10-21T16:36:36.544111267",
          "2022-10-21T16:56:41.687980309",
          "2022-10-21T17:56:41.488322869",
          "2022-10-21T18:12:31.663409964",
          "2022-10-21T18:12:31.664410010",
          "2022-10-21T18:19:38.318698660",
          "2022-10-21T18:19:38.319698707",
          "2022-10-21T19:19:38.120013848",
          "2022-10-21T19:25:14.063792244",
          "2022-10-21T19:25:14.064792291",
          "2022-10-21T19:51:28.719173089",
          "2022-10-21T19:51:28.720173136",
          "2022-10-21T20:51:28.520457998",
          "2022-10-21T21:51:28.320723072",
          "2022-10-21T21:53:22.864481226",
          "2022-10-21T21:53:22.865481273",
          "2022-10-21T21:58:51.119754330",
          "2022-10-21T21:58:51.120754376",
          "2022-10-21T22:58:50.920997277",
          "2022-10-21T23:58:50.721220389",
          "2022-10-22T00:58:50.521423713",
          "2022-10-22T01:58:50.321607247",
          "2022-10-22T02:58:50.121770993",
          "2022-10-22T03:58:49.921914950",
          "2022-10-22T04:58:49.722039119",
          "2022-10-22T05:58:49.522143498",
          "2022-10-22T06:58:49.322228089",
          "2022-10-22T07:58:49.122292892",
          "2022-10-22T08:58:48.922338024",
          "2022-10-22T09:58:48.722363249",
          "2022-10-22T10:58:48.522368685",
          "2022-10-22T11:58:48.322354332",
          "2022-10-22T12:58:48.122320310",
          "2022-10-22T13:58:47.922266379",
          "2022-10-22T14:58:47.722192660",
          "2022-10-22T15:58:47.522099272",
          "2022-10-22T16:48:09.259507552",
          "2022-10-22T16:48:09.260507599",
          "2022-10-22T17:22:57.282107607",
          "2022-10-22T17:22:57.283107654",
          "2022-10-22T17:59:57.615999952"
         ],
         "y": [
          167.25861725790938,
          167.2914203503193,
          167.2914203503193,
          167.2914203503193,
          165.08240098621297,
          165.08240098621297,
          155.13455517304158,
          155.13455517304158,
          136.32709333662703,
          136.32709333662703,
          114.09684025166052,
          114.09684025166052,
          91.86849678343202,
          91.86849678343202,
          73.05897371143362,
          73.05897371143362,
          63.09963604818583,
          63.09963604818583,
          60.86122377945413,
          60.863772518069,
          60.863772518069,
          60.863772518069,
          60.863772518069,
          60.878525716383365,
          60.878525716383365,
          60.878525716383365,
          63.12318395388863,
          63.12318395388863,
          73.08561493529126,
          73.08561493529126,
          91.89968706687284,
          91.89968706687284,
          114.13301517196375,
          114.13301517196375,
          136.36929155962827,
          136.36929155962827,
          155.18585219876147,
          155.18585219876147,
          165.14363225354796,
          165.14363225354796,
          167.3788556393364,
          167.3788556393364,
          167.3933495278663,
          167.3933495278663,
          167.3933495278663,
          167.4257318810534,
          167.4257318810534,
          167.4257318810534,
          165.19181582205016,
          165.19181582205016,
          155.2295249728921,
          155.2295249728921,
          136.4082140334923,
          136.4082140334923,
          114.16894532767554,
          114.16894532767554,
          91.93290345039154,
          91.93290345039154,
          73.11592988839848,
          73.11592988839848,
          63.15182817307751,
          63.15182817307751,
          60.91216634629464,
          60.91216634629464,
          60.92281952786404,
          60.92281952786404,
          60.92281952786404,
          60.92281952786404,
          60.93807993473553,
          60.93807993473553,
          60.93807993473553,
          63.18070992762728,
          63.18070992762728,
          73.14811437366292,
          73.14811437366292,
          91.96985841349185,
          91.96985841349185,
          114.21093580662361,
          114.21093580662361,
          136.45597066380847,
          136.45597066380847,
          155.28551416411813,
          155.28551416411813,
          165.25654800200522,
          165.25654800200522,
          167.49706557147152,
          167.49706557147152,
          167.5166540008467,
          167.5166540008467,
          167.70348824536825,
          167.70348824536825,
          168.10882482576147,
          168.10882482576147,
          168.75756634046377,
          168.75756634046377,
          169.543273416675,
          169.543273416675,
          170.24915429889057,
          170.24915429889057,
          170.6960091297898,
          170.6960091297898,
          170.64672840292172,
          170.64672840292172,
          168.53000007961032,
          168.53000007961032,
          159.11907836260417,
          159.11907836260417,
          141.06454552323487,
          141.06454552323487,
          119.55622927637354,
          119.55622927637354,
          101.50164268246473,
          101.50164268246473,
          92.09063895542971,
          92.09063895542971,
          89.98005823396036,
          89.98005823396036,
          89.98005823396036,
          89.98005823396036,
          89.98005823396036,
          89.98005823396036,
          89.98005823396036,
          89.98005823396036,
          89.98005823396036,
          89.98005823396036,
          89.98005823396036,
          89.98005823396036,
          89.98005823396036,
          89.98005823396036,
          89.98005823396036,
          89.98005823396036,
          89.98005823396036,
          89.98005823396036,
          89.98005823396036,
          89.98005823396036,
          89.98005823396036,
          89.98005823396036,
          89.98005823396036,
          89.98005823396036,
          89.50034248417157,
          89.99714171028053,
          89.99714171028053,
          89.99714171028053,
          89.99714171028053,
          null,
          null,
          89.99714171028053,
          89.99714171028053,
          89.99714171028053,
          null,
          null,
          89.99714171028053,
          89.99714171028053,
          89.99714171028053,
          89.99714171028053,
          null,
          null,
          89.99714171028053,
          89.99714171028053,
          89.99714171028053,
          89.99714171028053,
          89.99714171028053,
          89.99714171028053,
          89.99714171028053,
          89.99714171028053,
          89.99714171028053,
          89.99714171028053,
          89.99714171028053,
          89.99714171028053,
          89.99714171028053,
          89.99714171028053,
          89.99714171028053,
          89.99714171028053,
          89.99714171028053,
          89.99714171028053,
          89.99714171028053,
          89.99714171028053,
          null,
          null,
          89.99714171028053,
          89.99714171028053
         ]
        }
       ],
       "layout": {
        "shapes": [
         {
          "fillcolor": "black",
          "line": {
           "color": "black",
           "width": 3
          },
          "opacity": 0.2,
          "type": "rect",
          "x0": "2022-10-20T16:27:00",
          "x1": "2022-10-20T16:30:00",
          "xref": "x",
          "y0": 0,
          "y1": 1,
          "yref": "y domain"
         },
         {
          "fillcolor": "black",
          "line": {
           "color": "black",
           "width": 3
          },
          "opacity": 0.2,
          "type": "rect",
          "x0": "2022-10-20T16:27:49",
          "x1": "2022-10-20T17:12:49",
          "xref": "x",
          "y0": 0,
          "y1": 1,
          "yref": "y domain"
         },
         {
          "fillcolor": "black",
          "line": {
           "color": "black",
           "width": 3
          },
          "opacity": 0.2,
          "type": "rect",
          "x0": "2022-10-20T16:27:57.429000",
          "x1": "2022-10-20T16:32:59.479000",
          "xref": "x",
          "y0": 0,
          "y1": 1,
          "yref": "y domain"
         },
         {
          "fillcolor": "black",
          "line": {
           "color": "black",
           "width": 3
          },
          "opacity": 0.2,
          "type": "rect",
          "x0": "2022-10-20T16:27:59.479000",
          "x1": "2022-10-20T16:33:00.504000",
          "xref": "x",
          "y0": 0,
          "y1": 1,
          "yref": "y domain"
         },
         {
          "fillcolor": "black",
          "line": {
           "color": "black",
           "width": 3
          },
          "opacity": 0.2,
          "type": "rect",
          "x0": "2022-10-21T16:32:25.285000",
          "x1": "2022-10-21T16:37:27.347000",
          "xref": "x",
          "y0": 0,
          "y1": 1,
          "yref": "y domain"
         },
         {
          "fillcolor": "black",
          "line": {
           "color": "black",
           "width": 3
          },
          "opacity": 0.2,
          "type": "rect",
          "x0": "2022-10-22T16:48:09.260000",
          "x1": "2022-10-22T16:54:49.722000",
          "xref": "x",
          "y0": 0,
          "y1": 1,
          "yref": "y domain"
         },
         {
          "fillcolor": "black",
          "line": {
           "color": "black",
           "width": 3
          },
          "opacity": 0.2,
          "type": "rect",
          "x0": "2022-10-22T16:50:22.339000",
          "x1": "2022-10-22T17:27:56.002000",
          "xref": "x",
          "y0": 0,
          "y1": 1,
          "yref": "y domain"
         },
         {
          "fillcolor": "black",
          "line": {
           "color": "black",
           "width": 3
          },
          "opacity": 0.2,
          "type": "rect",
          "x0": "2022-10-22T17:22:56.002000",
          "x1": "2022-10-22T17:27:57.027000",
          "xref": "x",
          "y0": 0,
          "y1": 1,
          "yref": "y domain"
         }
        ],
        "template": {
         "data": {
          "bar": [
           {
            "error_x": {
             "color": "#2a3f5f"
            },
            "error_y": {
             "color": "#2a3f5f"
            },
            "marker": {
             "line": {
              "color": "#E5ECF6",
              "width": 0.5
             },
             "pattern": {
              "fillmode": "overlay",
              "size": 10,
              "solidity": 0.2
             }
            },
            "type": "bar"
           }
          ],
          "barpolar": [
           {
            "marker": {
             "line": {
              "color": "#E5ECF6",
              "width": 0.5
             },
             "pattern": {
              "fillmode": "overlay",
              "size": 10,
              "solidity": 0.2
             }
            },
            "type": "barpolar"
           }
          ],
          "carpet": [
           {
            "aaxis": {
             "endlinecolor": "#2a3f5f",
             "gridcolor": "white",
             "linecolor": "white",
             "minorgridcolor": "white",
             "startlinecolor": "#2a3f5f"
            },
            "baxis": {
             "endlinecolor": "#2a3f5f",
             "gridcolor": "white",
             "linecolor": "white",
             "minorgridcolor": "white",
             "startlinecolor": "#2a3f5f"
            },
            "type": "carpet"
           }
          ],
          "choropleth": [
           {
            "colorbar": {
             "outlinewidth": 0,
             "ticks": ""
            },
            "type": "choropleth"
           }
          ],
          "contour": [
           {
            "colorbar": {
             "outlinewidth": 0,
             "ticks": ""
            },
            "colorscale": [
             [
              0,
              "#0d0887"
             ],
             [
              0.1111111111111111,
              "#46039f"
             ],
             [
              0.2222222222222222,
              "#7201a8"
             ],
             [
              0.3333333333333333,
              "#9c179e"
             ],
             [
              0.4444444444444444,
              "#bd3786"
             ],
             [
              0.5555555555555556,
              "#d8576b"
             ],
             [
              0.6666666666666666,
              "#ed7953"
             ],
             [
              0.7777777777777778,
              "#fb9f3a"
             ],
             [
              0.8888888888888888,
              "#fdca26"
             ],
             [
              1,
              "#f0f921"
             ]
            ],
            "type": "contour"
           }
          ],
          "contourcarpet": [
           {
            "colorbar": {
             "outlinewidth": 0,
             "ticks": ""
            },
            "type": "contourcarpet"
           }
          ],
          "heatmap": [
           {
            "colorbar": {
             "outlinewidth": 0,
             "ticks": ""
            },
            "colorscale": [
             [
              0,
              "#0d0887"
             ],
             [
              0.1111111111111111,
              "#46039f"
             ],
             [
              0.2222222222222222,
              "#7201a8"
             ],
             [
              0.3333333333333333,
              "#9c179e"
             ],
             [
              0.4444444444444444,
              "#bd3786"
             ],
             [
              0.5555555555555556,
              "#d8576b"
             ],
             [
              0.6666666666666666,
              "#ed7953"
             ],
             [
              0.7777777777777778,
              "#fb9f3a"
             ],
             [
              0.8888888888888888,
              "#fdca26"
             ],
             [
              1,
              "#f0f921"
             ]
            ],
            "type": "heatmap"
           }
          ],
          "heatmapgl": [
           {
            "colorbar": {
             "outlinewidth": 0,
             "ticks": ""
            },
            "colorscale": [
             [
              0,
              "#0d0887"
             ],
             [
              0.1111111111111111,
              "#46039f"
             ],
             [
              0.2222222222222222,
              "#7201a8"
             ],
             [
              0.3333333333333333,
              "#9c179e"
             ],
             [
              0.4444444444444444,
              "#bd3786"
             ],
             [
              0.5555555555555556,
              "#d8576b"
             ],
             [
              0.6666666666666666,
              "#ed7953"
             ],
             [
              0.7777777777777778,
              "#fb9f3a"
             ],
             [
              0.8888888888888888,
              "#fdca26"
             ],
             [
              1,
              "#f0f921"
             ]
            ],
            "type": "heatmapgl"
           }
          ],
          "histogram": [
           {
            "marker": {
             "pattern": {
              "fillmode": "overlay",
              "size": 10,
              "solidity": 0.2
             }
            },
            "type": "histogram"
           }
          ],
          "histogram2d": [
           {
            "colorbar": {
             "outlinewidth": 0,
             "ticks": ""
            },
            "colorscale": [
             [
              0,
              "#0d0887"
             ],
             [
              0.1111111111111111,
              "#46039f"
             ],
             [
              0.2222222222222222,
              "#7201a8"
             ],
             [
              0.3333333333333333,
              "#9c179e"
             ],
             [
              0.4444444444444444,
              "#bd3786"
             ],
             [
              0.5555555555555556,
              "#d8576b"
             ],
             [
              0.6666666666666666,
              "#ed7953"
             ],
             [
              0.7777777777777778,
              "#fb9f3a"
             ],
             [
              0.8888888888888888,
              "#fdca26"
             ],
             [
              1,
              "#f0f921"
             ]
            ],
            "type": "histogram2d"
           }
          ],
          "histogram2dcontour": [
           {
            "colorbar": {
             "outlinewidth": 0,
             "ticks": ""
            },
            "colorscale": [
             [
              0,
              "#0d0887"
             ],
             [
              0.1111111111111111,
              "#46039f"
             ],
             [
              0.2222222222222222,
              "#7201a8"
             ],
             [
              0.3333333333333333,
              "#9c179e"
             ],
             [
              0.4444444444444444,
              "#bd3786"
             ],
             [
              0.5555555555555556,
              "#d8576b"
             ],
             [
              0.6666666666666666,
              "#ed7953"
             ],
             [
              0.7777777777777778,
              "#fb9f3a"
             ],
             [
              0.8888888888888888,
              "#fdca26"
             ],
             [
              1,
              "#f0f921"
             ]
            ],
            "type": "histogram2dcontour"
           }
          ],
          "mesh3d": [
           {
            "colorbar": {
             "outlinewidth": 0,
             "ticks": ""
            },
            "type": "mesh3d"
           }
          ],
          "parcoords": [
           {
            "line": {
             "colorbar": {
              "outlinewidth": 0,
              "ticks": ""
             }
            },
            "type": "parcoords"
           }
          ],
          "pie": [
           {
            "automargin": true,
            "type": "pie"
           }
          ],
          "scatter": [
           {
            "marker": {
             "colorbar": {
              "outlinewidth": 0,
              "ticks": ""
             }
            },
            "type": "scatter"
           }
          ],
          "scatter3d": [
           {
            "line": {
             "colorbar": {
              "outlinewidth": 0,
              "ticks": ""
             }
            },
            "marker": {
             "colorbar": {
              "outlinewidth": 0,
              "ticks": ""
             }
            },
            "type": "scatter3d"
           }
          ],
          "scattercarpet": [
           {
            "marker": {
             "colorbar": {
              "outlinewidth": 0,
              "ticks": ""
             }
            },
            "type": "scattercarpet"
           }
          ],
          "scattergeo": [
           {
            "marker": {
             "colorbar": {
              "outlinewidth": 0,
              "ticks": ""
             }
            },
            "type": "scattergeo"
           }
          ],
          "scattergl": [
           {
            "marker": {
             "colorbar": {
              "outlinewidth": 0,
              "ticks": ""
             }
            },
            "type": "scattergl"
           }
          ],
          "scattermapbox": [
           {
            "marker": {
             "colorbar": {
              "outlinewidth": 0,
              "ticks": ""
             }
            },
            "type": "scattermapbox"
           }
          ],
          "scatterpolar": [
           {
            "marker": {
             "colorbar": {
              "outlinewidth": 0,
              "ticks": ""
             }
            },
            "type": "scatterpolar"
           }
          ],
          "scatterpolargl": [
           {
            "marker": {
             "colorbar": {
              "outlinewidth": 0,
              "ticks": ""
             }
            },
            "type": "scatterpolargl"
           }
          ],
          "scatterternary": [
           {
            "marker": {
             "colorbar": {
              "outlinewidth": 0,
              "ticks": ""
             }
            },
            "type": "scatterternary"
           }
          ],
          "surface": [
           {
            "colorbar": {
             "outlinewidth": 0,
             "ticks": ""
            },
            "colorscale": [
             [
              0,
              "#0d0887"
             ],
             [
              0.1111111111111111,
              "#46039f"
             ],
             [
              0.2222222222222222,
              "#7201a8"
             ],
             [
              0.3333333333333333,
              "#9c179e"
             ],
             [
              0.4444444444444444,
              "#bd3786"
             ],
             [
              0.5555555555555556,
              "#d8576b"
             ],
             [
              0.6666666666666666,
              "#ed7953"
             ],
             [
              0.7777777777777778,
              "#fb9f3a"
             ],
             [
              0.8888888888888888,
              "#fdca26"
             ],
             [
              1,
              "#f0f921"
             ]
            ],
            "type": "surface"
           }
          ],
          "table": [
           {
            "cells": {
             "fill": {
              "color": "#EBF0F8"
             },
             "line": {
              "color": "white"
             }
            },
            "header": {
             "fill": {
              "color": "#C8D4E3"
             },
             "line": {
              "color": "white"
             }
            },
            "type": "table"
           }
          ]
         },
         "layout": {
          "annotationdefaults": {
           "arrowcolor": "#2a3f5f",
           "arrowhead": 0,
           "arrowwidth": 1
          },
          "autotypenumbers": "strict",
          "coloraxis": {
           "colorbar": {
            "outlinewidth": 0,
            "ticks": ""
           }
          },
          "colorscale": {
           "diverging": [
            [
             0,
             "#8e0152"
            ],
            [
             0.1,
             "#c51b7d"
            ],
            [
             0.2,
             "#de77ae"
            ],
            [
             0.3,
             "#f1b6da"
            ],
            [
             0.4,
             "#fde0ef"
            ],
            [
             0.5,
             "#f7f7f7"
            ],
            [
             0.6,
             "#e6f5d0"
            ],
            [
             0.7,
             "#b8e186"
            ],
            [
             0.8,
             "#7fbc41"
            ],
            [
             0.9,
             "#4d9221"
            ],
            [
             1,
             "#276419"
            ]
           ],
           "sequential": [
            [
             0,
             "#0d0887"
            ],
            [
             0.1111111111111111,
             "#46039f"
            ],
            [
             0.2222222222222222,
             "#7201a8"
            ],
            [
             0.3333333333333333,
             "#9c179e"
            ],
            [
             0.4444444444444444,
             "#bd3786"
            ],
            [
             0.5555555555555556,
             "#d8576b"
            ],
            [
             0.6666666666666666,
             "#ed7953"
            ],
            [
             0.7777777777777778,
             "#fb9f3a"
            ],
            [
             0.8888888888888888,
             "#fdca26"
            ],
            [
             1,
             "#f0f921"
            ]
           ],
           "sequentialminus": [
            [
             0,
             "#0d0887"
            ],
            [
             0.1111111111111111,
             "#46039f"
            ],
            [
             0.2222222222222222,
             "#7201a8"
            ],
            [
             0.3333333333333333,
             "#9c179e"
            ],
            [
             0.4444444444444444,
             "#bd3786"
            ],
            [
             0.5555555555555556,
             "#d8576b"
            ],
            [
             0.6666666666666666,
             "#ed7953"
            ],
            [
             0.7777777777777778,
             "#fb9f3a"
            ],
            [
             0.8888888888888888,
             "#fdca26"
            ],
            [
             1,
             "#f0f921"
            ]
           ]
          },
          "colorway": [
           "#636efa",
           "#EF553B",
           "#00cc96",
           "#ab63fa",
           "#FFA15A",
           "#19d3f3",
           "#FF6692",
           "#B6E880",
           "#FF97FF",
           "#FECB52"
          ],
          "font": {
           "color": "#2a3f5f"
          },
          "geo": {
           "bgcolor": "white",
           "lakecolor": "white",
           "landcolor": "#E5ECF6",
           "showlakes": true,
           "showland": true,
           "subunitcolor": "white"
          },
          "hoverlabel": {
           "align": "left"
          },
          "hovermode": "closest",
          "mapbox": {
           "style": "light"
          },
          "paper_bgcolor": "white",
          "plot_bgcolor": "#E5ECF6",
          "polar": {
           "angularaxis": {
            "gridcolor": "white",
            "linecolor": "white",
            "ticks": ""
           },
           "bgcolor": "#E5ECF6",
           "radialaxis": {
            "gridcolor": "white",
            "linecolor": "white",
            "ticks": ""
           }
          },
          "scene": {
           "xaxis": {
            "backgroundcolor": "#E5ECF6",
            "gridcolor": "white",
            "gridwidth": 2,
            "linecolor": "white",
            "showbackground": true,
            "ticks": "",
            "zerolinecolor": "white"
           },
           "yaxis": {
            "backgroundcolor": "#E5ECF6",
            "gridcolor": "white",
            "gridwidth": 2,
            "linecolor": "white",
            "showbackground": true,
            "ticks": "",
            "zerolinecolor": "white"
           },
           "zaxis": {
            "backgroundcolor": "#E5ECF6",
            "gridcolor": "white",
            "gridwidth": 2,
            "linecolor": "white",
            "showbackground": true,
            "ticks": "",
            "zerolinecolor": "white"
           }
          },
          "shapedefaults": {
           "line": {
            "color": "#2a3f5f"
           }
          },
          "ternary": {
           "aaxis": {
            "gridcolor": "white",
            "linecolor": "white",
            "ticks": ""
           },
           "baxis": {
            "gridcolor": "white",
            "linecolor": "white",
            "ticks": ""
           },
           "bgcolor": "#E5ECF6",
           "caxis": {
            "gridcolor": "white",
            "linecolor": "white",
            "ticks": ""
           }
          },
          "title": {
           "x": 0.05
          },
          "xaxis": {
           "automargin": true,
           "gridcolor": "white",
           "linecolor": "white",
           "ticks": "",
           "title": {
            "standoff": 15
           },
           "zerolinecolor": "white",
           "zerolinewidth": 2
          },
          "yaxis": {
           "automargin": true,
           "gridcolor": "white",
           "linecolor": "white",
           "ticks": "",
           "title": {
            "standoff": 15
           },
           "zerolinecolor": "white",
           "zerolinewidth": 2
          }
         }
        },
        "xaxis": {
         "title": {
          "text": "Date"
         }
        },
        "yaxis": {
         "range": [
          40,
          180
         ],
         "title": {
          "text": "Pitch (degrees)"
         }
        }
       }
      }
     },
     "metadata": {},
     "output_type": "display_data"
    }
   ],
   "source": [
    "fig = vp.get_plot_figure()\n",
    "fig.show()"
   ]
  },
  {
   "cell_type": "code",
   "execution_count": 22,
   "metadata": {},
   "outputs": [
    {
     "data": {
      "application/vnd.plotly.v1+json": {
       "config": {
        "plotlyServerURL": "https://plot.ly"
       },
       "data": [
        {
         "hovertemplate": "%{x|%Y:%j:%H:%M:%S} %{y}",
         "line": {
          "color": "#1f77b4",
          "width": 3
         },
         "marker": {
          "opacity": 0.9,
          "size": 8
         },
         "mode": "lines+markers",
         "name": "Telem",
         "opacity": 0.75,
         "showlegend": false,
         "type": "scatter",
         "x": [
          "2022-10-19T18:00:00.740999952",
          "2022-10-19T18:02:08.865999952",
          "2022-10-19T18:56:26.315999881",
          "2022-10-19T19:00:00.540999905",
          "2022-10-19T19:42:13.315999881",
          "2022-10-19T19:51:08.365999952",
          "2022-10-19T19:52:00.640999928",
          "2022-10-19T19:52:40.615999952",
          "2022-10-19T19:53:14.440999881",
          "2022-10-19T19:53:44.165999905",
          "2022-10-19T19:54:10.815999881",
          "2022-10-19T19:54:35.415999905",
          "2022-10-19T19:54:57.965999976",
          "2022-10-19T19:55:19.490999952",
          "2022-10-19T19:55:39.990999952",
          "2022-10-19T19:55:59.465999976",
          "2022-10-19T19:56:17.915999905",
          "2022-10-19T19:56:35.340999976",
          "2022-10-19T19:56:51.740999952",
          "2022-10-19T19:57:08.140999928",
          "2022-10-19T19:57:23.515999928",
          "2022-10-19T19:57:38.890999928",
          "2022-10-19T19:57:53.240999952",
          "2022-10-19T19:58:07.590999976",
          "2022-10-19T19:58:21.940999881",
          "2022-10-19T19:58:35.265999928",
          "2022-10-19T19:58:48.590999976",
          "2022-10-19T19:59:01.915999905",
          "2022-10-19T19:59:15.240999952",
          "2022-10-19T19:59:28.565999881",
          "2022-10-19T19:59:41.890999928",
          "2022-10-19T19:59:55.215999976",
          "2022-10-19T20:00:08.540999905",
          "2022-10-19T20:00:21.865999952",
          "2022-10-19T20:00:35.190999881",
          "2022-10-19T20:00:48.515999928",
          "2022-10-19T20:01:01.840999976",
          "2022-10-19T20:01:15.165999905",
          "2022-10-19T20:01:28.490999952",
          "2022-10-19T20:01:41.815999881",
          "2022-10-19T20:01:55.140999928",
          "2022-10-19T20:02:08.465999976",
          "2022-10-19T20:02:21.790999905",
          "2022-10-19T20:02:35.115999952",
          "2022-10-19T20:02:48.440999881",
          "2022-10-19T20:03:01.765999928",
          "2022-10-19T20:03:15.090999976",
          "2022-10-19T20:03:28.415999905",
          "2022-10-19T20:03:41.740999952",
          "2022-10-19T20:03:55.065999881",
          "2022-10-19T20:04:08.390999928",
          "2022-10-19T20:04:21.715999976",
          "2022-10-19T20:04:35.040999905",
          "2022-10-19T20:04:48.365999952",
          "2022-10-19T20:05:01.690999881",
          "2022-10-19T20:05:15.015999928",
          "2022-10-19T20:05:28.340999976",
          "2022-10-19T20:05:41.665999905",
          "2022-10-19T20:05:54.990999952",
          "2022-10-19T20:06:08.315999881",
          "2022-10-19T20:06:21.640999928",
          "2022-10-19T20:06:34.965999976",
          "2022-10-19T20:06:48.290999905",
          "2022-10-19T20:07:01.615999952",
          "2022-10-19T20:07:14.940999881",
          "2022-10-19T20:07:28.265999928",
          "2022-10-19T20:07:41.590999976",
          "2022-10-19T20:07:54.915999905",
          "2022-10-19T20:08:08.240999952",
          "2022-10-19T20:08:21.565999881",
          "2022-10-19T20:08:34.890999928",
          "2022-10-19T20:08:48.215999976",
          "2022-10-19T20:09:01.540999905",
          "2022-10-19T20:09:14.865999952",
          "2022-10-19T20:09:28.190999881",
          "2022-10-19T20:09:41.515999928",
          "2022-10-19T20:09:54.840999976",
          "2022-10-19T20:10:08.165999905",
          "2022-10-19T20:10:21.490999952",
          "2022-10-19T20:10:34.815999881",
          "2022-10-19T20:10:48.140999928",
          "2022-10-19T20:11:01.465999976",
          "2022-10-19T20:11:14.790999905",
          "2022-10-19T20:11:28.115999952",
          "2022-10-19T20:11:41.440999881",
          "2022-10-19T20:11:54.765999928",
          "2022-10-19T20:12:08.090999976",
          "2022-10-19T20:12:21.415999905",
          "2022-10-19T20:12:34.740999952",
          "2022-10-19T20:12:48.065999881",
          "2022-10-19T20:13:01.390999928",
          "2022-10-19T20:13:14.715999976",
          "2022-10-19T20:13:28.040999905",
          "2022-10-19T20:13:42.390999928",
          "2022-10-19T20:13:56.740999952",
          "2022-10-19T20:14:12.115999952",
          "2022-10-19T20:14:27.490999952",
          "2022-10-19T20:14:42.865999952",
          "2022-10-19T20:14:59.265999928",
          "2022-10-19T20:15:16.690999881",
          "2022-10-19T20:15:34.115999952",
          "2022-10-19T20:15:52.565999881",
          "2022-10-19T20:16:12.040999905",
          "2022-10-19T20:16:32.540999905",
          "2022-10-19T20:16:54.065999881",
          "2022-10-19T20:17:17.640999928",
          "2022-10-19T20:17:42.240999952",
          "2022-10-19T20:18:09.915999905",
          "2022-10-19T20:18:40.665999905",
          "2022-10-19T20:19:15.515999928",
          "2022-10-19T20:19:57.540999905",
          "2022-10-19T20:20:54.940999881",
          "2022-10-19T20:35:13.890999928",
          "2022-10-19T21:20:54.740999952",
          "2022-10-19T21:22:49.540999905",
          "2022-10-19T22:16:27.015999928",
          "2022-10-19T22:20:54.540999905",
          "2022-10-19T22:21:25.290999905",
          "2022-10-19T23:14:36.115999952",
          "2022-10-19T23:20:54.340999976",
          "2022-10-19T23:20:55.365999952",
          "2022-10-20T00:13:38.515999928",
          "2022-10-20T00:20:54.140999928",
          "2022-10-20T00:30:45.565999881",
          "2022-10-20T00:40:20.590999976",
          "2022-10-20T00:41:12.865999952",
          "2022-10-20T00:41:52.840999976",
          "2022-10-20T00:42:26.665999905",
          "2022-10-20T00:42:56.390999928",
          "2022-10-20T00:43:23.040999905",
          "2022-10-20T00:43:47.640999928",
          "2022-10-20T00:44:10.190999881",
          "2022-10-20T00:44:31.715999976",
          "2022-10-20T00:44:52.215999976",
          "2022-10-20T00:45:11.690999881",
          "2022-10-20T00:45:30.140999928",
          "2022-10-20T00:45:47.565999881",
          "2022-10-20T00:46:03.965999976",
          "2022-10-20T00:46:20.365999952",
          "2022-10-20T00:46:35.740999952",
          "2022-10-20T00:46:51.115999952",
          "2022-10-20T00:47:05.465999976",
          "2022-10-20T00:47:19.815999881",
          "2022-10-20T00:47:34.165999905",
          "2022-10-20T00:47:47.490999952",
          "2022-10-20T00:48:00.815999881",
          "2022-10-20T00:48:14.140999928",
          "2022-10-20T00:48:27.465999976",
          "2022-10-20T00:48:40.790999905",
          "2022-10-20T00:48:54.115999952",
          "2022-10-20T00:49:07.440999881",
          "2022-10-20T00:49:20.765999928",
          "2022-10-20T00:49:34.090999976",
          "2022-10-20T00:49:47.415999905",
          "2022-10-20T00:50:00.740999952",
          "2022-10-20T00:50:14.065999881",
          "2022-10-20T00:50:27.390999928",
          "2022-10-20T00:50:40.715999976",
          "2022-10-20T00:50:54.040999905",
          "2022-10-20T00:51:07.365999952",
          "2022-10-20T00:51:20.690999881",
          "2022-10-20T00:51:34.015999928",
          "2022-10-20T00:51:47.340999976",
          "2022-10-20T00:52:00.665999905",
          "2022-10-20T00:52:13.990999952",
          "2022-10-20T00:52:27.315999881",
          "2022-10-20T00:52:40.640999928",
          "2022-10-20T00:52:53.965999976",
          "2022-10-20T00:53:07.290999905",
          "2022-10-20T00:53:20.615999952",
          "2022-10-20T00:53:33.940999881",
          "2022-10-20T00:53:47.265999928",
          "2022-10-20T00:54:00.590999976",
          "2022-10-20T00:54:13.915999905",
          "2022-10-20T00:54:27.240999952",
          "2022-10-20T00:54:40.565999881",
          "2022-10-20T00:54:53.890999928",
          "2022-10-20T00:55:07.215999976",
          "2022-10-20T00:55:20.540999905",
          "2022-10-20T00:55:33.865999952",
          "2022-10-20T00:55:47.190999881",
          "2022-10-20T00:56:00.515999928",
          "2022-10-20T00:56:13.840999976",
          "2022-10-20T00:56:27.165999905",
          "2022-10-20T00:56:40.490999952",
          "2022-10-20T00:56:53.815999881",
          "2022-10-20T00:57:07.140999928",
          "2022-10-20T00:57:20.465999976",
          "2022-10-20T00:57:33.790999905",
          "2022-10-20T00:57:47.115999952",
          "2022-10-20T00:58:00.440999881",
          "2022-10-20T00:58:13.765999928",
          "2022-10-20T00:58:27.090999976",
          "2022-10-20T00:58:40.415999905",
          "2022-10-20T00:58:53.740999952",
          "2022-10-20T00:59:07.065999881",
          "2022-10-20T00:59:20.390999928",
          "2022-10-20T00:59:33.715999976",
          "2022-10-20T00:59:47.040999905",
          "2022-10-20T01:00:00.365999952",
          "2022-10-20T01:00:13.690999881",
          "2022-10-20T01:00:27.015999928",
          "2022-10-20T01:00:40.340999976",
          "2022-10-20T01:00:53.665999905",
          "2022-10-20T01:01:06.990999952",
          "2022-10-20T01:01:20.315999881",
          "2022-10-20T01:01:33.640999928",
          "2022-10-20T01:01:46.965999976",
          "2022-10-20T01:02:00.290999905",
          "2022-10-20T01:02:13.615999952",
          "2022-10-20T01:02:26.940999881",
          "2022-10-20T01:02:40.265999928",
          "2022-10-20T01:02:54.615999952",
          "2022-10-20T01:03:08.965999976",
          "2022-10-20T01:03:24.340999976",
          "2022-10-20T01:03:39.715999976",
          "2022-10-20T01:03:55.090999976",
          "2022-10-20T01:04:11.490999952",
          "2022-10-20T01:04:28.915999905",
          "2022-10-20T01:04:46.340999976",
          "2022-10-20T01:05:04.790999905",
          "2022-10-20T01:05:24.265999928",
          "2022-10-20T01:05:44.765999928",
          "2022-10-20T01:06:06.290999905",
          "2022-10-20T01:06:29.865999952",
          "2022-10-20T01:06:54.465999976",
          "2022-10-20T01:07:22.140999928",
          "2022-10-20T01:07:52.890999928",
          "2022-10-20T01:08:27.740999952",
          "2022-10-20T01:09:09.765999928",
          "2022-10-20T01:10:07.165999905",
          "2022-10-20T02:10:06.965999976",
          "2022-10-20T02:16:25.190999881",
          "2022-10-20T03:09:53.440999881",
          "2022-10-20T03:10:06.765999928",
          "2022-10-20T03:16:12.690999881",
          "2022-10-20T04:09:46.065999881",
          "2022-10-20T04:10:06.565999881",
          "2022-10-20T04:15:36.615999952",
          "2022-10-20T05:07:56.190999881",
          "2022-10-20T05:10:06.365999952",
          "2022-10-20T05:21:26.965999976",
          "2022-10-20T05:29:33.840999976",
          "2022-10-20T05:30:26.115999952",
          "2022-10-20T05:31:06.090999976",
          "2022-10-20T05:31:39.915999905",
          "2022-10-20T05:32:09.640999928",
          "2022-10-20T05:32:36.290999905",
          "2022-10-20T05:33:00.890999928",
          "2022-10-20T05:33:23.440999881",
          "2022-10-20T05:33:44.965999976",
          "2022-10-20T05:34:05.465999976",
          "2022-10-20T05:34:24.940999881",
          "2022-10-20T05:34:43.390999928",
          "2022-10-20T05:35:00.815999881",
          "2022-10-20T05:35:17.215999976",
          "2022-10-20T05:35:33.615999952",
          "2022-10-20T05:35:48.990999952",
          "2022-10-20T05:36:04.365999952",
          "2022-10-20T05:36:18.715999976",
          "2022-10-20T05:36:33.065999881",
          "2022-10-20T05:36:47.415999905",
          "2022-10-20T05:37:00.740999952",
          "2022-10-20T05:37:14.065999881",
          "2022-10-20T05:37:27.390999928",
          "2022-10-20T05:37:40.715999976",
          "2022-10-20T05:37:54.040999905",
          "2022-10-20T05:38:07.365999952",
          "2022-10-20T05:38:20.690999881",
          "2022-10-20T05:38:34.015999928",
          "2022-10-20T05:38:47.340999976",
          "2022-10-20T05:39:00.665999905",
          "2022-10-20T05:39:13.990999952",
          "2022-10-20T05:39:27.315999881",
          "2022-10-20T05:39:40.640999928",
          "2022-10-20T05:39:53.965999976",
          "2022-10-20T05:40:07.290999905",
          "2022-10-20T05:40:20.615999952",
          "2022-10-20T05:40:33.940999881",
          "2022-10-20T05:40:47.265999928",
          "2022-10-20T05:41:00.590999976",
          "2022-10-20T05:41:13.915999905",
          "2022-10-20T05:41:27.240999952",
          "2022-10-20T05:41:40.565999881",
          "2022-10-20T05:41:53.890999928",
          "2022-10-20T05:42:07.215999976",
          "2022-10-20T05:42:20.540999905",
          "2022-10-20T05:42:33.865999952",
          "2022-10-20T05:42:47.190999881",
          "2022-10-20T05:43:00.515999928",
          "2022-10-20T05:43:13.840999976",
          "2022-10-20T05:43:27.165999905",
          "2022-10-20T05:43:40.490999952",
          "2022-10-20T05:43:53.815999881",
          "2022-10-20T05:44:07.140999928",
          "2022-10-20T05:44:20.465999976",
          "2022-10-20T05:44:33.790999905",
          "2022-10-20T05:44:47.115999952",
          "2022-10-20T05:45:00.440999881",
          "2022-10-20T05:45:13.765999928",
          "2022-10-20T05:45:27.090999976",
          "2022-10-20T05:45:40.415999905",
          "2022-10-20T05:45:53.740999952",
          "2022-10-20T05:46:07.065999881",
          "2022-10-20T05:46:20.390999928",
          "2022-10-20T05:46:33.715999976",
          "2022-10-20T05:46:47.040999905",
          "2022-10-20T05:47:00.365999952",
          "2022-10-20T05:47:13.690999881",
          "2022-10-20T05:47:27.015999928",
          "2022-10-20T05:47:40.340999976",
          "2022-10-20T05:47:53.665999905",
          "2022-10-20T05:48:06.990999952",
          "2022-10-20T05:48:20.315999881",
          "2022-10-20T05:48:33.640999928",
          "2022-10-20T05:48:46.965999976",
          "2022-10-20T05:49:00.290999905",
          "2022-10-20T05:49:13.615999952",
          "2022-10-20T05:49:26.940999881",
          "2022-10-20T05:49:40.265999928",
          "2022-10-20T05:49:53.590999976",
          "2022-10-20T05:50:06.915999905",
          "2022-10-20T05:50:20.240999952",
          "2022-10-20T05:50:33.565999881",
          "2022-10-20T05:50:46.890999928",
          "2022-10-20T05:51:00.215999976",
          "2022-10-20T05:51:13.540999905",
          "2022-10-20T05:51:26.865999952",
          "2022-10-20T05:51:40.190999881",
          "2022-10-20T05:51:53.515999928",
          "2022-10-20T05:52:07.865999952",
          "2022-10-20T05:52:22.215999976",
          "2022-10-20T05:52:37.590999976",
          "2022-10-20T05:52:52.965999976",
          "2022-10-20T05:53:08.340999976",
          "2022-10-20T05:53:24.740999952",
          "2022-10-20T05:53:42.165999905",
          "2022-10-20T05:53:59.590999976",
          "2022-10-20T05:54:18.040999905",
          "2022-10-20T05:54:37.515999928",
          "2022-10-20T05:54:58.015999928",
          "2022-10-20T05:55:19.540999905",
          "2022-10-20T05:55:43.115999952",
          "2022-10-20T05:56:07.715999976",
          "2022-10-20T05:56:35.390999928",
          "2022-10-20T05:57:06.140999928",
          "2022-10-20T05:57:40.990999952",
          "2022-10-20T05:58:23.015999928",
          "2022-10-20T05:59:20.415999905",
          "2022-10-20T06:01:48.015999928",
          "2022-10-20T06:59:20.215999976",
          "2022-10-20T07:00:27.865999952",
          "2022-10-20T07:53:27.415999905",
          "2022-10-20T07:59:20.015999928",
          "2022-10-20T07:59:22.065999881",
          "2022-10-20T08:52:48.265999928",
          "2022-10-20T08:59:19.815999881",
          "2022-10-20T09:51:26.065999881",
          "2022-10-20T09:59:19.615999952",
          "2022-10-20T10:09:27.440999881",
          "2022-10-20T10:51:27.915999905",
          "2022-10-20T10:59:19.415999905",
          "2022-10-20T11:06:14.540999905",
          "2022-10-20T11:08:46.240999952",
          "2022-10-20T11:09:38.515999928",
          "2022-10-20T11:10:18.490999952",
          "2022-10-20T11:10:52.315999881",
          "2022-10-20T11:11:22.040999905",
          "2022-10-20T11:11:48.690999881",
          "2022-10-20T11:12:13.290999905",
          "2022-10-20T11:12:35.840999976",
          "2022-10-20T11:12:57.365999952",
          "2022-10-20T11:13:17.865999952",
          "2022-10-20T11:13:37.340999976",
          "2022-10-20T11:13:55.790999905",
          "2022-10-20T11:14:13.215999976",
          "2022-10-20T11:14:29.615999952",
          "2022-10-20T11:14:46.015999928",
          "2022-10-20T11:15:01.390999928",
          "2022-10-20T11:15:16.765999928",
          "2022-10-20T11:15:31.115999952",
          "2022-10-20T11:15:45.465999976",
          "2022-10-20T11:15:59.815999881",
          "2022-10-20T11:16:13.140999928",
          "2022-10-20T11:16:26.465999976",
          "2022-10-20T11:16:39.790999905",
          "2022-10-20T11:16:53.115999952",
          "2022-10-20T11:17:06.440999881",
          "2022-10-20T11:17:19.765999928",
          "2022-10-20T11:17:33.090999976",
          "2022-10-20T11:17:46.415999905",
          "2022-10-20T11:17:59.740999952",
          "2022-10-20T11:18:13.065999881",
          "2022-10-20T11:18:26.390999928",
          "2022-10-20T11:18:39.715999976",
          "2022-10-20T11:18:53.040999905",
          "2022-10-20T11:19:06.365999952",
          "2022-10-20T11:19:19.690999881",
          "2022-10-20T11:19:33.015999928",
          "2022-10-20T11:19:46.340999976",
          "2022-10-20T11:19:59.665999905",
          "2022-10-20T11:20:12.990999952",
          "2022-10-20T11:20:26.315999881",
          "2022-10-20T11:20:39.640999928",
          "2022-10-20T11:20:52.965999976",
          "2022-10-20T11:21:06.290999905",
          "2022-10-20T11:21:19.615999952",
          "2022-10-20T11:21:32.940999881",
          "2022-10-20T11:21:46.265999928",
          "2022-10-20T11:21:59.590999976",
          "2022-10-20T11:22:12.915999905",
          "2022-10-20T11:22:26.240999952",
          "2022-10-20T11:22:39.565999881",
          "2022-10-20T11:22:52.890999928",
          "2022-10-20T11:23:06.215999976",
          "2022-10-20T11:23:19.540999905",
          "2022-10-20T11:23:32.865999952",
          "2022-10-20T11:23:46.190999881",
          "2022-10-20T11:23:59.515999928",
          "2022-10-20T11:24:12.840999976",
          "2022-10-20T11:24:26.165999905",
          "2022-10-20T11:24:39.490999952",
          "2022-10-20T11:24:52.815999881",
          "2022-10-20T11:25:06.140999928",
          "2022-10-20T11:25:19.465999976",
          "2022-10-20T11:25:32.790999905",
          "2022-10-20T11:25:46.115999952",
          "2022-10-20T11:25:59.440999881",
          "2022-10-20T11:26:12.765999928",
          "2022-10-20T11:26:26.090999976",
          "2022-10-20T11:26:39.415999905",
          "2022-10-20T11:26:52.740999952",
          "2022-10-20T11:27:06.065999881",
          "2022-10-20T11:27:19.390999928",
          "2022-10-20T11:27:32.715999976",
          "2022-10-20T11:27:46.040999905",
          "2022-10-20T11:27:59.365999952",
          "2022-10-20T11:28:12.690999881",
          "2022-10-20T11:28:26.015999928",
          "2022-10-20T11:28:39.340999976",
          "2022-10-20T11:28:52.665999905",
          "2022-10-20T11:29:05.990999952",
          "2022-10-20T11:29:19.315999881",
          "2022-10-20T11:29:32.640999928",
          "2022-10-20T11:29:45.965999976",
          "2022-10-20T11:29:59.290999905",
          "2022-10-20T11:30:12.615999952",
          "2022-10-20T11:30:25.940999881",
          "2022-10-20T11:30:39.265999928",
          "2022-10-20T11:30:52.590999976",
          "2022-10-20T11:31:05.915999905",
          "2022-10-20T11:31:20.265999928",
          "2022-10-20T11:31:34.615999952",
          "2022-10-20T11:31:49.990999952",
          "2022-10-20T11:32:05.365999952",
          "2022-10-20T11:32:20.740999952",
          "2022-10-20T11:32:37.140999928",
          "2022-10-20T11:32:54.565999881",
          "2022-10-20T11:33:11.990999952",
          "2022-10-20T11:33:30.440999881",
          "2022-10-20T11:33:49.915999905",
          "2022-10-20T11:34:10.415999905",
          "2022-10-20T11:34:31.940999881",
          "2022-10-20T11:34:55.515999928",
          "2022-10-20T11:35:20.115999952",
          "2022-10-20T11:35:47.790999905",
          "2022-10-20T11:36:18.540999905",
          "2022-10-20T11:36:53.390999928",
          "2022-10-20T11:37:35.415999905",
          "2022-10-20T11:38:32.815999881",
          "2022-10-20T12:36:36.790999905",
          "2022-10-20T12:38:32.615999952",
          "2022-10-20T12:41:25.840999976",
          "2022-10-20T12:48:52.740999952",
          "2022-10-20T12:57:52.915999905",
          "2022-10-20T12:57:53.940999881",
          "2022-10-20T12:57:54.965999976",
          "2022-10-20T13:06:25.415999905",
          "2022-10-20T13:57:54.765999928",
          "2022-10-20T14:05:22.690999881",
          "2022-10-20T14:46:38.065999881",
          "2022-10-20T14:52:36.815999881",
          "2022-10-20T14:58:06.865999952",
          "2022-10-20T15:10:20.765999928",
          "2022-10-20T15:58:06.665999905",
          "2022-10-20T16:29:42.915999905",
          "2022-10-20T16:30:07.515999928",
          "2022-10-20T16:30:36.215999976",
          "2022-10-20T16:31:09.015999928",
          "2022-10-20T16:31:13.115999952",
          "2022-10-20T16:31:41.815999881",
          "2022-10-20T16:31:45.915999905",
          "2022-10-20T16:32:14.615999952",
          "2022-10-20T16:32:39.215999976",
          "2022-10-20T16:33:03.815999881",
          "2022-10-20T16:33:28.415999905",
          "2022-10-20T16:33:48.915999905",
          "2022-10-20T16:34:09.415999905",
          "2022-10-20T16:34:29.915999905",
          "2022-10-20T16:34:46.315999881",
          "2022-10-20T16:35:06.815999881",
          "2022-10-20T16:35:27.315999881",
          "2022-10-20T16:35:47.815999881",
          "2022-10-20T16:36:08.315999881",
          "2022-10-20T16:36:24.715999976",
          "2022-10-20T16:36:45.215999976",
          "2022-10-20T16:37:05.715999976",
          "2022-10-20T16:37:22.115999952",
          "2022-10-20T16:37:38.515999928",
          "2022-10-20T16:37:59.015999928",
          "2022-10-20T16:38:19.515999928",
          "2022-10-20T16:38:35.915999905",
          "2022-10-20T16:38:52.315999881",
          "2022-10-20T16:39:12.815999881",
          "2022-10-20T16:39:29.215999976",
          "2022-10-20T16:39:45.615999952",
          "2022-10-20T16:40:02.015999928",
          "2022-10-20T16:40:22.515999928",
          "2022-10-20T16:40:38.915999905",
          "2022-10-20T16:40:55.315999881",
          "2022-10-20T16:41:15.815999881",
          "2022-10-20T16:41:32.215999976",
          "2022-10-20T16:41:48.615999952",
          "2022-10-20T16:42:09.115999952",
          "2022-10-20T16:42:29.615999952",
          "2022-10-20T16:42:50.115999952",
          "2022-10-20T16:43:06.515999928",
          "2022-10-20T16:43:22.915999905",
          "2022-10-20T16:43:43.415999905",
          "2022-10-20T16:44:03.915999905",
          "2022-10-20T16:44:20.315999881",
          "2022-10-20T16:44:36.715999976",
          "2022-10-20T16:44:57.215999976",
          "2022-10-20T16:45:17.715999976",
          "2022-10-20T16:45:34.115999952",
          "2022-10-20T16:45:50.515999928",
          "2022-10-20T16:46:11.015999928",
          "2022-10-20T16:46:27.415999905",
          "2022-10-20T16:46:43.815999881",
          "2022-10-20T16:47:00.215999976",
          "2022-10-20T16:47:16.615999952",
          "2022-10-20T16:47:33.015999928",
          "2022-10-20T16:47:49.415999905",
          "2022-10-20T16:48:09.915999905",
          "2022-10-20T16:48:26.315999881",
          "2022-10-20T16:48:42.715999976",
          "2022-10-20T16:49:03.215999976",
          "2022-10-20T16:49:23.715999976",
          "2022-10-20T16:49:40.115999952",
          "2022-10-20T16:49:56.515999928",
          "2022-10-20T16:50:17.015999928",
          "2022-10-20T16:50:37.515999928",
          "2022-10-20T16:50:53.915999905",
          "2022-10-20T16:51:10.315999881",
          "2022-10-20T16:51:30.815999881",
          "2022-10-20T16:51:51.315999881",
          "2022-10-20T16:52:07.715999976",
          "2022-10-20T16:52:24.115999952",
          "2022-10-20T16:52:44.615999952",
          "2022-10-20T16:53:01.015999928",
          "2022-10-20T16:53:21.515999928",
          "2022-10-20T16:53:37.915999905",
          "2022-10-20T16:53:58.415999905",
          "2022-10-20T16:54:18.915999905",
          "2022-10-20T16:54:35.315999881",
          "2022-10-20T16:54:51.715999976",
          "2022-10-20T16:55:12.215999976",
          "2022-10-20T16:55:28.615999952",
          "2022-10-20T16:55:49.115999952",
          "2022-10-20T16:56:05.515999928",
          "2022-10-20T16:56:26.015999928",
          "2022-10-20T16:56:42.415999905",
          "2022-10-20T16:57:07.015999928",
          "2022-10-20T16:57:39.815999881",
          "2022-10-20T16:58:41.315999881",
          "2022-10-20T16:58:45.415999905",
          "2022-10-20T17:00:27.915999905",
          "2022-10-20T17:00:32.015999928",
          "2022-10-20T17:22:52.715999976",
          "2022-10-20T18:00:31.815999881",
          "2022-10-20T18:02:47.115999952",
          "2022-10-20T18:05:10.615999952",
          "2022-10-20T19:00:31.615999952",
          "2022-10-20T19:01:24.915999905",
          "2022-10-20T19:22:35.915999905",
          "2022-10-20T20:00:31.415999905",
          "2022-10-20T20:01:16.515999928",
          "2022-10-20T20:11:56.115999952",
          "2022-10-20T21:00:31.215999976",
          "2022-10-20T21:00:51.715999976",
          "2022-10-20T21:02:54.715999976",
          "2022-10-20T22:00:31.015999928",
          "2022-10-20T22:03:10.915999905",
          "2022-10-20T22:03:27.315999881",
          "2022-10-20T23:00:30.815999881",
          "2022-10-20T23:00:34.915999905",
          "2022-10-20T23:00:59.515999928",
          "2022-10-21T00:00:30.615999952",
          "2022-10-21T00:00:59.315999881",
          "2022-10-21T00:04:07.915999905",
          "2022-10-21T01:00:30.415999905",
          "2022-10-21T01:00:59.115999952",
          "2022-10-21T01:06:10.715999976",
          "2022-10-21T02:00:30.215999976",
          "2022-10-21T02:00:50.715999976",
          "2022-10-21T02:06:10.515999928",
          "2022-10-21T03:00:30.015999928",
          "2022-10-21T03:01:23.315999881",
          "2022-10-21T03:10:24.515999928",
          "2022-10-21T04:00:29.815999881",
          "2022-10-21T04:00:58.515999928",
          "2022-10-21T04:06:59.315999881",
          "2022-10-21T05:00:29.615999952",
          "2022-10-21T05:02:53.115999952",
          "2022-10-21T05:17:46.915999905",
          "2022-10-21T06:00:29.415999905",
          "2022-10-21T06:02:03.715999976",
          "2022-10-21T06:05:04.115999952",
          "2022-10-21T07:00:29.215999976",
          "2022-10-21T07:03:00.915999905",
          "2022-10-21T07:07:23.315999881",
          "2022-10-21T08:00:29.015999928",
          "2022-10-21T08:00:57.715999976",
          "2022-10-21T08:03:41.715999976",
          "2022-10-21T09:00:28.815999881",
          "2022-10-21T09:01:13.915999905",
          "2022-10-21T09:04:06.115999952",
          "2022-10-21T10:00:28.615999952",
          "2022-10-21T10:04:05.915999905",
          "2022-10-21T10:08:20.115999952",
          "2022-10-21T11:00:28.415999905",
          "2022-10-21T11:01:09.415999905",
          "2022-10-21T11:01:46.315999881",
          "2022-10-21T12:00:28.215999976",
          "2022-10-21T12:09:25.315999881",
          "2022-10-21T12:24:35.515999928",
          "2022-10-21T13:00:28.015999928",
          "2022-10-21T13:11:11.715999976",
          "2022-10-21T13:16:56.115999952",
          "2022-10-21T14:00:27.815999881",
          "2022-10-21T14:07:21.915999905",
          "2022-10-21T14:15:50.315999881",
          "2022-10-21T15:00:27.615999952",
          "2022-10-21T15:00:52.215999976",
          "2022-10-21T15:34:49.915999905",
          "2022-10-21T16:00:27.415999905",
          "2022-10-21T16:10:30.115999952",
          "2022-10-21T16:32:18.015999928",
          "2022-10-21T16:33:02.319089905",
          "2022-10-21T16:37:29.844116584",
          "2022-10-21T16:37:30.100366608",
          "2022-10-21T16:47:47.662927881",
          "2022-10-21T17:37:29.900715486",
          "2022-10-21T17:43:44.282000676",
          "2022-10-21T18:03:44.557111875",
          "2022-10-21T18:12:31.663409964",
          "2022-10-21T18:12:31.664410010",
          "2022-10-21T18:19:38.318698660",
          "2022-10-21T18:19:38.319698707",
          "2022-10-21T18:19:38.575948730",
          "2022-10-21T18:54:08.051132337",
          "2022-10-21T19:19:38.120013848",
          "2022-10-21T19:19:38.888763920",
          "2022-10-21T19:19:40.938764111",
          "2022-10-21T19:25:14.063792244",
          "2022-10-21T19:25:14.064792291",
          "2022-10-21T19:51:28.719173089",
          "2022-10-21T19:51:28.720173136",
          "2022-10-21T19:51:29.488923207",
          "2022-10-21T20:19:23.314058081",
          "2022-10-21T20:51:28.520457998",
          "2022-10-21T20:52:31.557962790",
          "2022-10-21T20:58:56.701742068",
          "2022-10-21T21:51:28.320723072",
          "2022-10-21T21:51:34.214473501",
          "2022-10-21T21:53:22.864481226",
          "2022-10-21T21:53:22.865481273",
          "2022-10-21T21:58:51.119754330",
          "2022-10-21T21:58:51.120754376",
          "2022-10-21T21:58:53.683254496",
          "2022-10-21T22:30:05.077133313",
          "2022-10-21T22:58:50.920997277",
          "2022-10-21T23:31:22.008620635",
          "2022-10-21T23:52:03.027446047",
          "2022-10-21T23:58:50.721220389",
          "2022-10-21T23:58:53.796220556",
          "2022-10-22T00:38:23.340106622",
          "2022-10-22T00:58:50.521423713",
          "2022-10-22T01:07:38.908951894",
          "2022-10-22T01:55:56.584098831",
          "2022-10-22T01:58:50.321607247",
          "2022-10-22T02:04:56.246624723",
          "2022-10-22T02:30:05.046695009",
          "2022-10-22T02:58:50.121770993",
          "2022-10-22T02:58:54.221771136",
          "2022-10-22T03:37:39.690616385",
          "2022-10-22T03:58:49.921914950",
          "2022-10-22T03:59:04.271915451",
          "2022-10-22T03:59:08.628165618",
          "2022-10-22T04:58:49.722039119",
          "2022-10-22T04:59:02.790789500",
          "2022-10-22T04:59:12.528289810",
          "2022-10-22T05:58:49.522143498",
          "2022-10-22T05:58:51.059643522",
          "2022-10-22T06:09:39.628410235",
          "2022-10-22T06:58:49.322228089",
          "2022-10-22T06:58:58.547228352",
          "2022-10-22T07:21:15.403504625",
          "2022-10-22T07:58:49.122292892",
          "2022-10-22T07:59:09.109793201",
          "2022-10-22T07:59:24.997293488",
          "2022-10-22T08:58:48.922338024",
          "2022-10-22T08:59:03.016088143",
          "2022-10-22T09:13:56.303596154",
          "2022-10-22T09:58:48.722363249",
          "2022-10-22T09:58:58.203613297",
          "2022-10-22T10:09:56.509865776",
          "2022-10-22T10:58:48.522368685",
          "2022-10-22T11:01:40.466118470",
          "2022-10-22T11:08:35.334867731",
          "2022-10-22T11:58:48.322354332",
          "2022-10-22T12:01:01.316103474",
          "2022-10-22T12:09:10.753599897",
          "2022-10-22T12:58:48.122320310",
          "2022-10-22T12:58:58.628570095",
          "2022-10-22T13:03:10.009817019",
          "2022-10-22T13:58:47.922266379",
          "2022-10-22T14:02:15.997262612",
          "2022-10-22T14:02:53.409762040",
          "2022-10-22T14:58:47.722192660",
          "2022-10-22T14:58:54.897192493",
          "2022-10-22T15:02:32.965937391",
          "2022-10-22T15:58:47.522099272",
          "2022-10-22T15:58:54.697098986",
          "2022-10-22T16:00:55.134595529",
          "2022-10-22T16:48:09.259507552",
          "2022-10-22T16:48:09.260507599",
          "2022-10-22T17:22:57.282107607",
          "2022-10-22T17:22:57.283107654",
          "2022-10-22T17:38:49.251921311",
          "2022-10-22T17:42:52.615999952",
          "2022-10-22T17:59:57.615999952"
         ],
         "y": [
          167.15916846487335,
          167.15761830476603,
          167.17198880680377,
          167.16861333987217,
          167.18130025270034,
          166.18546142669967,
          165.19780816657226,
          164.21490607875526,
          163.22814022246394,
          162.2431066720432,
          161.2661542309357,
          160.285387315044,
          159.31978963607784,
          158.33859800268897,
          157.3501928631869,
          156.3624710030228,
          155.3828049795267,
          154.41919447782274,
          153.47682193977406,
          152.5008144110534,
          151.55519169494974,
          150.57998839444505,
          149.6431338951269,
          148.68050875440272,
          147.69208830159275,
          146.75125589535514,
          145.78984047540033,
          144.8121465825052,
          143.82324707324182,
          142.8280116953872,
          141.83105067062579,
          140.83400660035335,
          139.83691518151153,
          138.83979828046577,
          137.8426805009676,
          136.84553970021673,
          135.84843110247434,
          134.8512959864848,
          133.85470562777138,
          132.8574422193356,
          131.86039687513832,
          130.86324403807322,
          129.86604770488597,
          128.86891375203612,
          127.87168402175004,
          126.87453065942906,
          125.87731893939363,
          124.88009825793293,
          123.88288851472446,
          122.88559493756922,
          121.88836221746449,
          120.8911366992456,
          119.89379744106077,
          118.89645982972176,
          117.89908531242997,
          116.90170872088171,
          115.90429348615096,
          114.90683507167253,
          113.90941667316972,
          112.91193230305208,
          111.91439084097767,
          110.91734291720859,
          109.91978470749358,
          108.92225319286581,
          107.92469360095068,
          106.92708925035697,
          105.92947934873828,
          104.93181405366292,
          103.93415300964554,
          102.9365378808391,
          101.93895426769669,
          100.94130904262721,
          99.94368368957687,
          98.94614031075434,
          97.94861464572341,
          96.95104341534761,
          95.95354585326429,
          94.95611444736575,
          93.95876262456498,
          92.96136106876497,
          91.96401014597961,
          90.96677649659766,
          89.96956952556029,
          88.97275366266518,
          87.97556228737399,
          86.97853721102837,
          85.98159140186897,
          84.9847746153116,
          83.99046343901513,
          83.00351504018042,
          82.02892978451358,
          81.07135800150054,
          80.1352345776804,
          79.15174557522536,
          78.19399433616579,
          77.19638185868051,
          76.2283233456909,
          75.28978507629311,
          74.32122611214712,
          73.3287828086367,
          72.37436087457566,
          71.40507762362968,
          70.42803453497513,
          69.45084142589242,
          68.48088047633411,
          67.48469012849128,
          66.51904227028741,
          65.522779203191,
          64.5275940559953,
          63.54204641003229,
          62.55470537309049,
          61.56140270372502,
          60.78576394509987,
          60.78963525678657,
          60.78888500953725,
          60.796062894842045,
          60.79262279703297,
          60.792397943976155,
          60.80005681320547,
          60.795414685060415,
          60.79541328110338,
          60.80339318819336,
          60.80023188306829,
          60.79997324990638,
          61.79831998430004,
          62.79190258077019,
          63.77910772463175,
          64.76894914364816,
          65.75654864499708,
          66.73562266193196,
          67.71802544584149,
          68.68500337476601,
          69.66721248492867,
          70.65661734925241,
          71.64507598750022,
          72.62523412769849,
          73.58992846665345,
          74.53246972952101,
          75.50869716383451,
          76.45467563192263,
          77.42987845172891,
          78.36671189199686,
          79.32915517335194,
          80.31735637738582,
          81.25796036253865,
          82.2192868391697,
          83.19683331871018,
          84.18574996471175,
          85.1810243394804,
          86.17813798487559,
          87.17533513295906,
          88.1725348581322,
          89.16968902262491,
          90.16692765917149,
          91.16417350407045,
          92.16138528078685,
          93.15852785236633,
          94.15574440177224,
          95.15301430086595,
          96.15026814554406,
          97.14746526942892,
          98.1452710167244,
          99.14259723857855,
          100.13979540259751,
          101.13711428999017,
          102.13450344085624,
          103.13174125592828,
          104.12911583600746,
          105.12658457587249,
          106.12399079977783,
          107.12140530209957,
          108.11893677468728,
          109.11651847209241,
          110.11405287056766,
          111.11158738186002,
          112.10923390046287,
          113.1069265696223,
          114.10463090610504,
          115.10232437138258,
          116.10008828815799,
          117.09780257642394,
          118.09563956930977,
          119.09358459890836,
          120.09201363474101,
          121.08989378900534,
          122.0877677550035,
          123.08568314419432,
          124.08362127852152,
          125.08156237097407,
          126.0794870158222,
          127.0774027862193,
          128.07521826430204,
          129.0730963224845,
          130.0710445784526,
          131.06885509410822,
          132.06666515349605,
          133.06449556519283,
          134.06220617524312,
          135.05988107264187,
          136.05757692533427,
          137.0551825714154,
          138.05270749341605,
          139.05018832072585,
          140.04757362076117,
          141.04496605409705,
          142.04227921055485,
          143.0400706090088,
          144.0347107149554,
          145.0221247681246,
          145.9973239974582,
          146.9554723918596,
          147.89239998556258,
          148.87657580502864,
          149.8350033622313,
          150.83329027324297,
          151.8019627927501,
          152.7410622442371,
          153.71027102302807,
          154.70318066188153,
          155.6581229605382,
          156.6278409696633,
          157.6051656941115,
          158.58280120865606,
          159.55298519129195,
          160.5497494810795,
          161.5151094841953,
          162.5107038599663,
          163.50493790943773,
          164.4893054449913,
          165.4750647393246,
          166.46651639980493,
          167.25339275400324,
          167.25127136811153,
          167.26574008992762,
          167.26573520228948,
          167.26201062028653,
          167.2773582000996,
          167.2772847582043,
          167.27387649308562,
          167.2886965359994,
          167.28798004869515,
          167.29120028391708,
          166.2918281651162,
          165.29802322795237,
          164.31111944608864,
          163.3217304314849,
          162.33374535768624,
          161.35413844841693,
          160.37093576368397,
          159.4032151421724,
          158.42010887614055,
          157.42984740926397,
          156.44035745334315,
          155.45922528464857,
          154.49348604202868,
          153.54986851229313,
          152.57260778771501,
          151.6258607683684,
          150.64956797167508,
          149.7116919396593,
          148.7488026165299,
          147.75947863554606,
          146.81779885408497,
          145.85548563411373,
          144.87707895737987,
          143.88746710665723,
          142.8916771250456,
          141.89419456028816,
          140.89657316681973,
          139.89895243527437,
          138.901397034595,
          137.90384093257342,
          136.90620300856995,
          135.90860236293994,
          134.91090544068354,
          133.91338166640259,
          132.91573680526758,
          131.91815316250486,
          130.9204924986321,
          129.9227871798604,
          128.92518125326947,
          127.92754650950835,
          126.93048149823767,
          125.93281189983011,
          124.93509484682295,
          123.93737526884773,
          122.9396223828397,
          121.94195058971088,
          120.94416818356805,
          119.94645566515939,
          118.94857635228149,
          117.95074682971023,
          116.95281007136379,
          115.95489595780731,
          114.9570390432635,
          113.9590671867958,
          112.96109114380467,
          111.96307552789393,
          110.96506893378299,
          109.96709578708511,
          108.969061080622,
          107.97093245861939,
          106.97280753082401,
          105.97489485879242,
          104.97694704210049,
          103.97934801554926,
          102.98137229721677,
          101.98339551038625,
          100.98540611812938,
          99.98735202071661,
          98.9895023128482,
          97.99161143383488,
          96.9936759905488,
          95.99591858861955,
          94.9981200985876,
          94.00035966654887,
          93.00276143797612,
          92.00507420386148,
          91.00745075612207,
          90.00998865725258,
          89.01252831150752,
          88.01507904716824,
          87.01773563299967,
          86.02040998004499,
          85.02336566144083,
          84.02889291127362,
          83.04173498363511,
          82.06741459451551,
          81.10972838789773,
          80.17348285112608,
          79.18978129841621,
          78.23207024788613,
          77.2342809467807,
          76.26610956240778,
          75.32740265575003,
          74.35866598029853,
          73.36605745280762,
          72.41141064991085,
          71.44194408458132,
          70.46455460580299,
          69.48684420079444,
          68.51661403836978,
          67.5202198421887,
          66.55429601077147,
          65.55816417135412,
          64.56277087584874,
          63.57699806471427,
          62.58957512229874,
          61.596411435257146,
          60.82234632678007,
          60.82735906710689,
          60.8267555989537,
          60.83526893418298,
          60.8307426110629,
          60.8307292621681,
          60.83986449893014,
          60.836147264588014,
          60.844456747045506,
          60.84159100209156,
          60.8411680197168,
          60.84933767171599,
          60.84745964063287,
          60.846949646548985,
          61.840824293808254,
          62.83565208757262,
          63.823777272194135,
          64.8148449859363,
          65.80313970381863,
          66.78337556051828,
          67.76627576033846,
          68.73344510553218,
          69.71606807971243,
          70.7055380868311,
          71.6940220126117,
          72.67401559970406,
          73.63854728436351,
          74.58100509986681,
          75.55692368373442,
          76.50235643350422,
          77.47726523876415,
          78.41374677129409,
          79.3760014328614,
          80.36397129156123,
          81.30432649147329,
          82.2659966500384,
          83.24350193625621,
          84.23228261196432,
          85.22761900523504,
          86.22477822193326,
          87.22207690204174,
          88.21941033875923,
          89.2168278259804,
          90.21427842736752,
          91.21173930926221,
          92.2091672025208,
          93.20682363050875,
          94.20449216205944,
          95.20211368417846,
          96.19990479514277,
          97.1976290244176,
          98.19553632043784,
          99.19345232587116,
          100.19133153015068,
          101.18940194081271,
          102.18735939572001,
          103.18549842397614,
          104.18362284127564,
          105.18236334407035,
          106.18065542439673,
          107.17879510963978,
          108.17715637186161,
          109.17544496992417,
          110.1737445960351,
          111.17210805544856,
          112.17044458777926,
          113.16872935907014,
          114.16712206118258,
          115.16546292103317,
          116.16376329832462,
          117.1620880311178,
          118.16042231642959,
          119.15876603974505,
          120.1570372100167,
          121.1553213132546,
          122.15357010477338,
          123.1517554718239,
          124.14993766964777,
          125.14804701709534,
          126.14617441460213,
          127.14486582113518,
          128.14284177691817,
          129.14082881719318,
          130.1388108650139,
          131.1368314678649,
          132.13470286365467,
          133.1325530320258,
          134.13045683157864,
          135.12821263353658,
          136.12608143609236,
          137.12382586485296,
          138.12165017549836,
          139.11937129709838,
          140.11708622406388,
          141.11480071091822,
          142.1125049166793,
          143.1100884054753,
          144.10523163400111,
          145.09333812568806,
          146.0694061790179,
          147.02854013483127,
          147.9664222407841,
          148.9517274332318,
          149.91206871618112,
          150.91168751023443,
          151.8817538358414,
          152.82250879454102,
          153.79332305362928,
          154.78804412091958,
          155.74479304813988,
          156.71653553256036,
          157.69605763344714,
          158.67595603550507,
          159.64852343925858,
          160.64708578920477,
          161.61498437701948,
          162.61358775536667,
          163.61077630910836,
          164.59888952615904,
          165.58776472849854,
          166.5820453583895,
          167.37321530114417,
          167.37236272172208,
          167.36871718839524,
          167.37524804231523,
          167.374981714891,
          90,
          167.3750202431255,
          167.373637266436,
          167.3878334692073,
          167.38416539812704,
          168.38356969313816,
          169.3824259541421,
          170.37996674000564,
          171.03140111612774,
          170.99679621122536,
          170.1964569091797,
          169.29652404785156,
          168.31051635742188,
          167.36788940429688,
          167.43641662597656,
          166.59735107421875,
          166.599365234375,
          165.69158935546875,
          164.8619842529297,
          163.96649169921875,
          162.99200439453125,
          162.1490020751953,
          161.1564178466797,
          160.2574920654297,
          159.37057495117188,
          158.47161865234375,
          157.4798126220703,
          156.48455810546875,
          155.51666259765625,
          154.6058349609375,
          153.74098205566406,
          152.74649047851562,
          151.9119873046875,
          150.9772491455078,
          150.1206512451172,
          149.12892150878906,
          148.2622833251953,
          147.32203674316406,
          146.47369384765625,
          145.60511779785156,
          144.6942901611328,
          144.00318908691406,
          143.01417541503906,
          142.12171936035156,
          141.1548309326172,
          140.33038330078125,
          139.4747314453125,
          138.53530883789062,
          137.54823303222656,
          136.6199493408203,
          135.6466064453125,
          134.74591064453125,
          133.81114196777344,
          132.93890380859375,
          131.941650390625,
          131.05113220214844,
          130.1053924560547,
          129.25430297851562,
          128.257080078125,
          127.34264373779297,
          126.39417266845703,
          125.54306030273438,
          124.67176055908203,
          123.72134399414062,
          123.04866790771484,
          122.19576263427734,
          121.31430053710938,
          120.59190368652344,
          119.60289001464844,
          118.72059631347656,
          117.77760314941406,
          116.91632843017578,
          115.93555450439453,
          115.05876159667969,
          114.13419342041016,
          113.23528289794922,
          112.28117370605469,
          111.38322448730469,
          110.46138000488281,
          109.55424499511719,
          108.5679931640625,
          107.69120025634766,
          106.7454605102539,
          105.87788391113281,
          104.9771957397461,
          104.00110626220703,
          103.05811309814453,
          102.14823150634766,
          101.1749038696289,
          100.28711700439453,
          99.36803436279297,
          98.46638488769531,
          97.56294250488281,
          96.58412170410156,
          95.67294311523438,
          94.99044799804688,
          94.2729263305664,
          93.36474609375,
          92.47264862060547,
          91.55354309082031,
          91.55354309082031,
          90.60094451904297,
          90.60094451904297,
          90.05055236816406,
          90.07710266113281,
          90.1485366821289,
          90.05055236816406,
          90.09817504882812,
          90.05055236816406,
          90.1485366821289,
          90.0743637084961,
          90.05055236816406,
          90.14579772949219,
          90.0743637084961,
          90.05055236816406,
          90.14579772949219,
          90.12198638916016,
          90.14579772949219,
          90.05055236816406,
          90.0743637084961,
          90.05055236816406,
          90.14579772949219,
          90.0743637084961,
          90.05055236816406,
          90.14579772949219,
          90.0743637084961,
          90.05055236816406,
          90.14579772949219,
          90.09817504882812,
          90.05055236816406,
          90.14579772949219,
          90.12198638916016,
          90.05055236816406,
          90.14579772949219,
          90.0743637084961,
          90.05055236816406,
          90.14579772949219,
          90.12198638916016,
          90.05055236816406,
          90.14579772949219,
          90.12198638916016,
          90.14579772949219,
          90.05055236816406,
          90.09817504882812,
          90.05055236816406,
          90.14579772949219,
          90.12198638916016,
          90.05055236816406,
          90.14579772949219,
          90.12198638916016,
          90.14579772949219,
          90.05055236816406,
          90.0743637084961,
          90.05055236816406,
          90.14579772949219,
          90.12198638916016,
          90.14579772949219,
          90.05055236816406,
          90.09817504882812,
          90.14579772949219,
          90.05055236816406,
          90.07161712646484,
          90.14579772949219,
          90.04780578613281,
          90.09817504882812,
          90.04780578613281,
          90.14579772949219,
          90.0743637084961,
          90.07161712646484,
          90.14579772949219,
          90.07161712646484,
          90.14305114746094,
          90.02954864501953,
          72.70429992675781,
          72.70429992675781,
          89.5193862915039,
          90.17784118652344,
          90.0938949584961,
          90.1078872680664,
          90.0491714477539,
          90.07715606689453,
          null,
          null,
          90.07715606689453,
          90.10514068603516,
          90.0351791381836,
          90.07715606689453,
          90.10514068603516,
          90.0491714477539,
          90.07715606689453,
          null,
          null,
          90.06040954589844,
          90.04642486572266,
          90.11637878417969,
          90.10238647460938,
          90.11637878417969,
          90.04642486572266,
          90.05766296386719,
          90.11363220214844,
          90.07166290283203,
          null,
          null,
          90.08564758300781,
          90.05766296386719,
          90.14161682128906,
          90.12762451171875,
          89.38605499267578,
          90.26753997802734,
          90.15560913085938,
          90.18359375,
          89.94573211669922,
          90.00170135498047,
          89.9317398071289,
          90.07166290283203,
          89.98770904541016,
          89.95972442626953,
          90.07166290283203,
          90.01569366455078,
          90.05766296386719,
          89.98770904541016,
          90.02967834472656,
          89.98770904541016,
          90.05766296386719,
          90.01569366455078,
          90.05766296386719,
          89.98770904541016,
          90.01569366455078,
          89.98770904541016,
          90.05766296386719,
          90.01569366455078,
          89.98770904541016,
          90.05766296386719,
          90.01569366455078,
          89.98770904541016,
          90.05766296386719,
          90.01569366455078,
          89.98770904541016,
          90.05766296386719,
          90.00170135498047,
          89.98770904541016,
          90.05766296386719,
          90.01569366455078,
          89.98770904541016,
          90.05766296386719,
          90.01569366455078,
          90.05766296386719,
          89.98770904541016,
          90.02967834472656,
          89.98770904541016,
          90.05766296386719,
          90.01569366455078,
          90.05766296386719,
          89.98770904541016,
          90.02967834472656,
          89.98770904541016,
          90.05766296386719,
          90.01569366455078,
          89.98770904541016,
          90.05766296386719,
          90.00170135498047,
          null,
          null,
          90.02446746826172,
          89.97125244140625,
          90.43668365478516,
          90.18141174316406
         ]
        },
        {
         "hovertemplate": "%{x|%Y:%j:%H:%M:%S} %{y}",
         "line": {
          "color": "#ff7f0e",
          "width": 3
         },
         "marker": {
          "opacity": 0.9,
          "size": 8
         },
         "mode": "lines+markers",
         "name": "State",
         "opacity": 0.75,
         "showlegend": false,
         "type": "scatter",
         "x": [
          "2022-10-19T18:00:00.740999952",
          "2022-10-19T18:05:31.815999881",
          "2022-10-19T19:00:00.540999905",
          "2022-10-19T19:48:31.540999905",
          "2022-10-19T19:48:32.565999881",
          "2022-10-19T19:53:28.790999905",
          "2022-10-19T19:53:29.815999881",
          "2022-10-19T19:58:26.040999905",
          "2022-10-19T19:58:27.065999881",
          "2022-10-19T20:03:23.290999905",
          "2022-10-19T20:03:24.315999881",
          "2022-10-19T20:08:21.565999881",
          "2022-10-19T20:08:22.590999976",
          "2022-10-19T20:13:18.815999881",
          "2022-10-19T20:13:19.840999976",
          "2022-10-19T20:18:16.065999881",
          "2022-10-19T20:18:17.090999976",
          "2022-10-19T20:23:14.340999976",
          "2022-10-19T20:23:15.365999952",
          "2022-10-19T20:52:11.715999976",
          "2022-10-19T21:23:15.165999905",
          "2022-10-19T22:23:14.965999976",
          "2022-10-19T23:23:14.765999928",
          "2022-10-19T23:38:51.615999952",
          "2022-10-20T00:23:14.565999881",
          "2022-10-20T00:37:43.765999928",
          "2022-10-20T00:37:44.790999905",
          "2022-10-20T00:42:41.015999928",
          "2022-10-20T00:42:42.040999905",
          "2022-10-20T00:47:39.290999905",
          "2022-10-20T00:47:40.315999881",
          "2022-10-20T00:52:36.540999905",
          "2022-10-20T00:52:37.565999881",
          "2022-10-20T00:57:33.790999905",
          "2022-10-20T00:57:34.815999881",
          "2022-10-20T01:02:32.065999881",
          "2022-10-20T01:02:33.090999976",
          "2022-10-20T01:07:29.315999881",
          "2022-10-20T01:07:30.340999976",
          "2022-10-20T01:12:26.565999881",
          "2022-10-20T01:12:27.590999976",
          "2022-10-20T02:12:27.390999928",
          "2022-10-20T02:25:31.515999928",
          "2022-10-20T03:12:27.190999881",
          "2022-10-20T04:12:26.990999952",
          "2022-10-20T05:12:11.415999905",
          "2022-10-20T05:12:26.790999905",
          "2022-10-20T05:26:57.015999928",
          "2022-10-20T05:26:58.040999905",
          "2022-10-20T05:31:54.265999928",
          "2022-10-20T05:31:55.290999905",
          "2022-10-20T05:36:51.515999928",
          "2022-10-20T05:36:52.540999905",
          "2022-10-20T05:41:48.765999928",
          "2022-10-20T05:41:49.790999905",
          "2022-10-20T05:46:47.040999905",
          "2022-10-20T05:46:48.065999881",
          "2022-10-20T05:51:44.290999905",
          "2022-10-20T05:51:45.315999881",
          "2022-10-20T05:56:41.540999905",
          "2022-10-20T05:56:42.565999881",
          "2022-10-20T06:01:39.815999881",
          "2022-10-20T06:01:40.840999976",
          "2022-10-20T07:01:40.640999928",
          "2022-10-20T07:58:51.315999881",
          "2022-10-20T08:01:40.440999881",
          "2022-10-20T09:01:40.240999952",
          "2022-10-20T10:01:40.040999905",
          "2022-10-20T10:45:31.215999976",
          "2022-10-20T11:01:39.840999976",
          "2022-10-20T11:06:09.415999905",
          "2022-10-20T11:06:10.440999881",
          "2022-10-20T11:11:06.665999905",
          "2022-10-20T11:11:07.690999881",
          "2022-10-20T11:16:04.940999881",
          "2022-10-20T11:16:05.965999976",
          "2022-10-20T11:21:02.190999881",
          "2022-10-20T11:21:03.215999976",
          "2022-10-20T11:25:59.440999881",
          "2022-10-20T11:26:00.465999976",
          "2022-10-20T11:30:56.690999881",
          "2022-10-20T11:30:57.715999976",
          "2022-10-20T11:35:54.965999976",
          "2022-10-20T11:35:55.990999952",
          "2022-10-20T11:40:52.215999976",
          "2022-10-20T11:40:53.240999952",
          "2022-10-20T12:40:53.040999905",
          "2022-10-20T13:32:11.115999952",
          "2022-10-20T13:40:52.840999976",
          "2022-10-20T14:37:06.115999952",
          "2022-10-20T14:40:52.640999928",
          "2022-10-20T14:42:09.515999928",
          "2022-10-20T14:47:10.865999952",
          "2022-10-20T14:47:11.890999928",
          "2022-10-20T14:52:14.265999928",
          "2022-10-20T14:52:15.290999905",
          "2022-10-20T14:57:17.665999905",
          "2022-10-20T14:57:18.690999881",
          "2022-10-20T15:02:20.040999905",
          "2022-10-20T15:07:24.465999976",
          "2022-10-20T16:02:19.840999976",
          "2022-10-20T16:18:51.015999928",
          "2022-10-20T16:27:48.115999952",
          "2022-10-20T16:27:49.140999928",
          "2022-10-20T16:32:35.115999952",
          "2022-10-20T16:32:39.215999976",
          "2022-10-20T16:37:26.215999976",
          "2022-10-20T16:37:30.315999881",
          "2022-10-20T16:42:13.215999976",
          "2022-10-20T16:42:17.315999881",
          "2022-10-20T16:47:04.315999881",
          "2022-10-20T16:47:08.415999905",
          "2022-10-20T16:51:51.315999881",
          "2022-10-20T16:51:55.415999905",
          "2022-10-20T16:56:42.415999905",
          "2022-10-20T16:56:46.515999928",
          "2022-10-20T17:56:46.315999881",
          "2022-10-20T18:56:46.115999952",
          "2022-10-20T19:56:45.915999905",
          "2022-10-20T20:56:45.715999976",
          "2022-10-20T21:56:45.515999928",
          "2022-10-20T22:56:45.315999881",
          "2022-10-20T23:56:45.115999952",
          "2022-10-21T00:56:44.915999905",
          "2022-10-21T01:56:44.715999976",
          "2022-10-21T02:56:44.515999928",
          "2022-10-21T03:56:44.315999881",
          "2022-10-21T04:56:44.115999952",
          "2022-10-21T05:56:43.915999905",
          "2022-10-21T06:56:43.715999976",
          "2022-10-21T07:56:43.515999928",
          "2022-10-21T08:56:43.315999881",
          "2022-10-21T09:56:43.115999952",
          "2022-10-21T10:56:42.915999905",
          "2022-10-21T11:56:42.715999976",
          "2022-10-21T12:56:42.515999928",
          "2022-10-21T13:56:42.315999881",
          "2022-10-21T14:56:42.115999952",
          "2022-10-21T15:56:41.915999905",
          "2022-10-21T16:33:02.319089905",
          "2022-10-21T16:36:36.544111267",
          "2022-10-21T16:56:41.687980309",
          "2022-10-21T17:56:41.488322869",
          "2022-10-21T18:12:31.663409964",
          "2022-10-21T18:12:31.664410010",
          "2022-10-21T18:19:38.318698660",
          "2022-10-21T18:19:38.319698707",
          "2022-10-21T19:19:38.120013848",
          "2022-10-21T19:25:14.063792244",
          "2022-10-21T19:25:14.064792291",
          "2022-10-21T19:51:28.719173089",
          "2022-10-21T19:51:28.720173136",
          "2022-10-21T20:51:28.520457998",
          "2022-10-21T21:51:28.320723072",
          "2022-10-21T21:53:22.864481226",
          "2022-10-21T21:53:22.865481273",
          "2022-10-21T21:58:51.119754330",
          "2022-10-21T21:58:51.120754376",
          "2022-10-21T22:58:50.920997277",
          "2022-10-21T23:58:50.721220389",
          "2022-10-22T00:58:50.521423713",
          "2022-10-22T01:58:50.321607247",
          "2022-10-22T02:58:50.121770993",
          "2022-10-22T03:58:49.921914950",
          "2022-10-22T04:58:49.722039119",
          "2022-10-22T05:58:49.522143498",
          "2022-10-22T06:58:49.322228089",
          "2022-10-22T07:58:49.122292892",
          "2022-10-22T08:58:48.922338024",
          "2022-10-22T09:58:48.722363249",
          "2022-10-22T10:58:48.522368685",
          "2022-10-22T11:58:48.322354332",
          "2022-10-22T12:58:48.122320310",
          "2022-10-22T13:58:47.922266379",
          "2022-10-22T14:58:47.722192660",
          "2022-10-22T15:58:47.522099272",
          "2022-10-22T16:48:09.259507552",
          "2022-10-22T16:48:09.260507599",
          "2022-10-22T17:22:57.282107607",
          "2022-10-22T17:22:57.283107654",
          "2022-10-22T17:59:57.615999952"
         ],
         "y": [
          167.25861725790938,
          167.2914203503193,
          167.2914203503193,
          167.2914203503193,
          165.08240098621297,
          165.08240098621297,
          155.13455517304158,
          155.13455517304158,
          136.32709333662703,
          136.32709333662703,
          114.09684025166052,
          114.09684025166052,
          91.86849678343202,
          91.86849678343202,
          73.05897371143362,
          73.05897371143362,
          63.09963604818583,
          63.09963604818583,
          60.86122377945413,
          60.863772518069,
          60.863772518069,
          60.863772518069,
          60.863772518069,
          60.878525716383365,
          60.878525716383365,
          60.878525716383365,
          63.12318395388863,
          63.12318395388863,
          73.08561493529126,
          73.08561493529126,
          91.89968706687284,
          91.89968706687284,
          114.13301517196375,
          114.13301517196375,
          136.36929155962827,
          136.36929155962827,
          155.18585219876147,
          155.18585219876147,
          165.14363225354796,
          165.14363225354796,
          167.3788556393364,
          167.3788556393364,
          167.3933495278663,
          167.3933495278663,
          167.3933495278663,
          167.4257318810534,
          167.4257318810534,
          167.4257318810534,
          165.19181582205016,
          165.19181582205016,
          155.2295249728921,
          155.2295249728921,
          136.4082140334923,
          136.4082140334923,
          114.16894532767554,
          114.16894532767554,
          91.93290345039154,
          91.93290345039154,
          73.11592988839848,
          73.11592988839848,
          63.15182817307751,
          63.15182817307751,
          60.91216634629464,
          60.91216634629464,
          60.92281952786404,
          60.92281952786404,
          60.92281952786404,
          60.92281952786404,
          60.93807993473553,
          60.93807993473553,
          60.93807993473553,
          63.18070992762728,
          63.18070992762728,
          73.14811437366292,
          73.14811437366292,
          91.96985841349185,
          91.96985841349185,
          114.21093580662361,
          114.21093580662361,
          136.45597066380847,
          136.45597066380847,
          155.28551416411813,
          155.28551416411813,
          165.25654800200522,
          165.25654800200522,
          167.49706557147152,
          167.49706557147152,
          167.5166540008467,
          167.5166540008467,
          167.70348824536825,
          167.70348824536825,
          168.10882482576147,
          168.10882482576147,
          168.75756634046377,
          168.75756634046377,
          169.543273416675,
          169.543273416675,
          170.24915429889057,
          170.24915429889057,
          170.6960091297898,
          170.6960091297898,
          170.64672840292172,
          170.64672840292172,
          168.53000007961032,
          168.53000007961032,
          159.11907836260417,
          159.11907836260417,
          141.06454552323487,
          141.06454552323487,
          119.55622927637354,
          119.55622927637354,
          101.50164268246473,
          101.50164268246473,
          92.09063895542971,
          92.09063895542971,
          89.98005823396036,
          89.98005823396036,
          89.98005823396036,
          89.98005823396036,
          89.98005823396036,
          89.98005823396036,
          89.98005823396036,
          89.98005823396036,
          89.98005823396036,
          89.98005823396036,
          89.98005823396036,
          89.98005823396036,
          89.98005823396036,
          89.98005823396036,
          89.98005823396036,
          89.98005823396036,
          89.98005823396036,
          89.98005823396036,
          89.98005823396036,
          89.98005823396036,
          89.98005823396036,
          89.98005823396036,
          89.98005823396036,
          89.98005823396036,
          89.50034248417157,
          89.99714171028053,
          89.99714171028053,
          89.99714171028053,
          89.99714171028053,
          null,
          null,
          89.99714171028053,
          89.99714171028053,
          89.99714171028053,
          null,
          null,
          89.99714171028053,
          89.99714171028053,
          89.99714171028053,
          89.99714171028053,
          null,
          null,
          89.99714171028053,
          89.99714171028053,
          89.99714171028053,
          89.99714171028053,
          89.99714171028053,
          89.99714171028053,
          89.99714171028053,
          89.99714171028053,
          89.99714171028053,
          89.99714171028053,
          89.99714171028053,
          89.99714171028053,
          89.99714171028053,
          89.99714171028053,
          89.99714171028053,
          89.99714171028053,
          89.99714171028053,
          89.99714171028053,
          89.99714171028053,
          89.99714171028053,
          null,
          null,
          89.99714171028053,
          89.99714171028053
         ]
        }
       ],
       "layout": {
        "shapes": [
         {
          "fillcolor": "black",
          "line": {
           "color": "black",
           "width": 3
          },
          "opacity": 0.2,
          "type": "rect",
          "x0": "2022-10-20T16:27:00",
          "x1": "2022-10-20T16:30:00",
          "xref": "x",
          "y0": 0,
          "y1": 1,
          "yref": "y domain"
         },
         {
          "fillcolor": "black",
          "line": {
           "color": "black",
           "width": 3
          },
          "opacity": 0.2,
          "type": "rect",
          "x0": "2022-10-20T16:27:49",
          "x1": "2022-10-20T17:12:49",
          "xref": "x",
          "y0": 0,
          "y1": 1,
          "yref": "y domain"
         },
         {
          "fillcolor": "black",
          "line": {
           "color": "black",
           "width": 3
          },
          "opacity": 0.2,
          "type": "rect",
          "x0": "2022-10-20T16:27:57.429000",
          "x1": "2022-10-20T16:32:59.479000",
          "xref": "x",
          "y0": 0,
          "y1": 1,
          "yref": "y domain"
         },
         {
          "fillcolor": "black",
          "line": {
           "color": "black",
           "width": 3
          },
          "opacity": 0.2,
          "type": "rect",
          "x0": "2022-10-20T16:27:59.479000",
          "x1": "2022-10-20T16:33:00.504000",
          "xref": "x",
          "y0": 0,
          "y1": 1,
          "yref": "y domain"
         },
         {
          "fillcolor": "black",
          "line": {
           "color": "black",
           "width": 3
          },
          "opacity": 0.2,
          "type": "rect",
          "x0": "2022-10-21T16:32:25.285000",
          "x1": "2022-10-21T16:37:27.347000",
          "xref": "x",
          "y0": 0,
          "y1": 1,
          "yref": "y domain"
         },
         {
          "fillcolor": "black",
          "line": {
           "color": "black",
           "width": 3
          },
          "opacity": 0.2,
          "type": "rect",
          "x0": "2022-10-22T16:48:09.260000",
          "x1": "2022-10-22T16:54:49.722000",
          "xref": "x",
          "y0": 0,
          "y1": 1,
          "yref": "y domain"
         },
         {
          "fillcolor": "black",
          "line": {
           "color": "black",
           "width": 3
          },
          "opacity": 0.2,
          "type": "rect",
          "x0": "2022-10-22T16:50:22.339000",
          "x1": "2022-10-22T17:27:56.002000",
          "xref": "x",
          "y0": 0,
          "y1": 1,
          "yref": "y domain"
         },
         {
          "fillcolor": "black",
          "line": {
           "color": "black",
           "width": 3
          },
          "opacity": 0.2,
          "type": "rect",
          "x0": "2022-10-22T17:22:56.002000",
          "x1": "2022-10-22T17:27:57.027000",
          "xref": "x",
          "y0": 0,
          "y1": 1,
          "yref": "y domain"
         }
        ],
        "template": {
         "data": {
          "bar": [
           {
            "error_x": {
             "color": "#2a3f5f"
            },
            "error_y": {
             "color": "#2a3f5f"
            },
            "marker": {
             "line": {
              "color": "#E5ECF6",
              "width": 0.5
             },
             "pattern": {
              "fillmode": "overlay",
              "size": 10,
              "solidity": 0.2
             }
            },
            "type": "bar"
           }
          ],
          "barpolar": [
           {
            "marker": {
             "line": {
              "color": "#E5ECF6",
              "width": 0.5
             },
             "pattern": {
              "fillmode": "overlay",
              "size": 10,
              "solidity": 0.2
             }
            },
            "type": "barpolar"
           }
          ],
          "carpet": [
           {
            "aaxis": {
             "endlinecolor": "#2a3f5f",
             "gridcolor": "white",
             "linecolor": "white",
             "minorgridcolor": "white",
             "startlinecolor": "#2a3f5f"
            },
            "baxis": {
             "endlinecolor": "#2a3f5f",
             "gridcolor": "white",
             "linecolor": "white",
             "minorgridcolor": "white",
             "startlinecolor": "#2a3f5f"
            },
            "type": "carpet"
           }
          ],
          "choropleth": [
           {
            "colorbar": {
             "outlinewidth": 0,
             "ticks": ""
            },
            "type": "choropleth"
           }
          ],
          "contour": [
           {
            "colorbar": {
             "outlinewidth": 0,
             "ticks": ""
            },
            "colorscale": [
             [
              0,
              "#0d0887"
             ],
             [
              0.1111111111111111,
              "#46039f"
             ],
             [
              0.2222222222222222,
              "#7201a8"
             ],
             [
              0.3333333333333333,
              "#9c179e"
             ],
             [
              0.4444444444444444,
              "#bd3786"
             ],
             [
              0.5555555555555556,
              "#d8576b"
             ],
             [
              0.6666666666666666,
              "#ed7953"
             ],
             [
              0.7777777777777778,
              "#fb9f3a"
             ],
             [
              0.8888888888888888,
              "#fdca26"
             ],
             [
              1,
              "#f0f921"
             ]
            ],
            "type": "contour"
           }
          ],
          "contourcarpet": [
           {
            "colorbar": {
             "outlinewidth": 0,
             "ticks": ""
            },
            "type": "contourcarpet"
           }
          ],
          "heatmap": [
           {
            "colorbar": {
             "outlinewidth": 0,
             "ticks": ""
            },
            "colorscale": [
             [
              0,
              "#0d0887"
             ],
             [
              0.1111111111111111,
              "#46039f"
             ],
             [
              0.2222222222222222,
              "#7201a8"
             ],
             [
              0.3333333333333333,
              "#9c179e"
             ],
             [
              0.4444444444444444,
              "#bd3786"
             ],
             [
              0.5555555555555556,
              "#d8576b"
             ],
             [
              0.6666666666666666,
              "#ed7953"
             ],
             [
              0.7777777777777778,
              "#fb9f3a"
             ],
             [
              0.8888888888888888,
              "#fdca26"
             ],
             [
              1,
              "#f0f921"
             ]
            ],
            "type": "heatmap"
           }
          ],
          "heatmapgl": [
           {
            "colorbar": {
             "outlinewidth": 0,
             "ticks": ""
            },
            "colorscale": [
             [
              0,
              "#0d0887"
             ],
             [
              0.1111111111111111,
              "#46039f"
             ],
             [
              0.2222222222222222,
              "#7201a8"
             ],
             [
              0.3333333333333333,
              "#9c179e"
             ],
             [
              0.4444444444444444,
              "#bd3786"
             ],
             [
              0.5555555555555556,
              "#d8576b"
             ],
             [
              0.6666666666666666,
              "#ed7953"
             ],
             [
              0.7777777777777778,
              "#fb9f3a"
             ],
             [
              0.8888888888888888,
              "#fdca26"
             ],
             [
              1,
              "#f0f921"
             ]
            ],
            "type": "heatmapgl"
           }
          ],
          "histogram": [
           {
            "marker": {
             "pattern": {
              "fillmode": "overlay",
              "size": 10,
              "solidity": 0.2
             }
            },
            "type": "histogram"
           }
          ],
          "histogram2d": [
           {
            "colorbar": {
             "outlinewidth": 0,
             "ticks": ""
            },
            "colorscale": [
             [
              0,
              "#0d0887"
             ],
             [
              0.1111111111111111,
              "#46039f"
             ],
             [
              0.2222222222222222,
              "#7201a8"
             ],
             [
              0.3333333333333333,
              "#9c179e"
             ],
             [
              0.4444444444444444,
              "#bd3786"
             ],
             [
              0.5555555555555556,
              "#d8576b"
             ],
             [
              0.6666666666666666,
              "#ed7953"
             ],
             [
              0.7777777777777778,
              "#fb9f3a"
             ],
             [
              0.8888888888888888,
              "#fdca26"
             ],
             [
              1,
              "#f0f921"
             ]
            ],
            "type": "histogram2d"
           }
          ],
          "histogram2dcontour": [
           {
            "colorbar": {
             "outlinewidth": 0,
             "ticks": ""
            },
            "colorscale": [
             [
              0,
              "#0d0887"
             ],
             [
              0.1111111111111111,
              "#46039f"
             ],
             [
              0.2222222222222222,
              "#7201a8"
             ],
             [
              0.3333333333333333,
              "#9c179e"
             ],
             [
              0.4444444444444444,
              "#bd3786"
             ],
             [
              0.5555555555555556,
              "#d8576b"
             ],
             [
              0.6666666666666666,
              "#ed7953"
             ],
             [
              0.7777777777777778,
              "#fb9f3a"
             ],
             [
              0.8888888888888888,
              "#fdca26"
             ],
             [
              1,
              "#f0f921"
             ]
            ],
            "type": "histogram2dcontour"
           }
          ],
          "mesh3d": [
           {
            "colorbar": {
             "outlinewidth": 0,
             "ticks": ""
            },
            "type": "mesh3d"
           }
          ],
          "parcoords": [
           {
            "line": {
             "colorbar": {
              "outlinewidth": 0,
              "ticks": ""
             }
            },
            "type": "parcoords"
           }
          ],
          "pie": [
           {
            "automargin": true,
            "type": "pie"
           }
          ],
          "scatter": [
           {
            "marker": {
             "colorbar": {
              "outlinewidth": 0,
              "ticks": ""
             }
            },
            "type": "scatter"
           }
          ],
          "scatter3d": [
           {
            "line": {
             "colorbar": {
              "outlinewidth": 0,
              "ticks": ""
             }
            },
            "marker": {
             "colorbar": {
              "outlinewidth": 0,
              "ticks": ""
             }
            },
            "type": "scatter3d"
           }
          ],
          "scattercarpet": [
           {
            "marker": {
             "colorbar": {
              "outlinewidth": 0,
              "ticks": ""
             }
            },
            "type": "scattercarpet"
           }
          ],
          "scattergeo": [
           {
            "marker": {
             "colorbar": {
              "outlinewidth": 0,
              "ticks": ""
             }
            },
            "type": "scattergeo"
           }
          ],
          "scattergl": [
           {
            "marker": {
             "colorbar": {
              "outlinewidth": 0,
              "ticks": ""
             }
            },
            "type": "scattergl"
           }
          ],
          "scattermapbox": [
           {
            "marker": {
             "colorbar": {
              "outlinewidth": 0,
              "ticks": ""
             }
            },
            "type": "scattermapbox"
           }
          ],
          "scatterpolar": [
           {
            "marker": {
             "colorbar": {
              "outlinewidth": 0,
              "ticks": ""
             }
            },
            "type": "scatterpolar"
           }
          ],
          "scatterpolargl": [
           {
            "marker": {
             "colorbar": {
              "outlinewidth": 0,
              "ticks": ""
             }
            },
            "type": "scatterpolargl"
           }
          ],
          "scatterternary": [
           {
            "marker": {
             "colorbar": {
              "outlinewidth": 0,
              "ticks": ""
             }
            },
            "type": "scatterternary"
           }
          ],
          "surface": [
           {
            "colorbar": {
             "outlinewidth": 0,
             "ticks": ""
            },
            "colorscale": [
             [
              0,
              "#0d0887"
             ],
             [
              0.1111111111111111,
              "#46039f"
             ],
             [
              0.2222222222222222,
              "#7201a8"
             ],
             [
              0.3333333333333333,
              "#9c179e"
             ],
             [
              0.4444444444444444,
              "#bd3786"
             ],
             [
              0.5555555555555556,
              "#d8576b"
             ],
             [
              0.6666666666666666,
              "#ed7953"
             ],
             [
              0.7777777777777778,
              "#fb9f3a"
             ],
             [
              0.8888888888888888,
              "#fdca26"
             ],
             [
              1,
              "#f0f921"
             ]
            ],
            "type": "surface"
           }
          ],
          "table": [
           {
            "cells": {
             "fill": {
              "color": "#EBF0F8"
             },
             "line": {
              "color": "white"
             }
            },
            "header": {
             "fill": {
              "color": "#C8D4E3"
             },
             "line": {
              "color": "white"
             }
            },
            "type": "table"
           }
          ]
         },
         "layout": {
          "annotationdefaults": {
           "arrowcolor": "#2a3f5f",
           "arrowhead": 0,
           "arrowwidth": 1
          },
          "autotypenumbers": "strict",
          "coloraxis": {
           "colorbar": {
            "outlinewidth": 0,
            "ticks": ""
           }
          },
          "colorscale": {
           "diverging": [
            [
             0,
             "#8e0152"
            ],
            [
             0.1,
             "#c51b7d"
            ],
            [
             0.2,
             "#de77ae"
            ],
            [
             0.3,
             "#f1b6da"
            ],
            [
             0.4,
             "#fde0ef"
            ],
            [
             0.5,
             "#f7f7f7"
            ],
            [
             0.6,
             "#e6f5d0"
            ],
            [
             0.7,
             "#b8e186"
            ],
            [
             0.8,
             "#7fbc41"
            ],
            [
             0.9,
             "#4d9221"
            ],
            [
             1,
             "#276419"
            ]
           ],
           "sequential": [
            [
             0,
             "#0d0887"
            ],
            [
             0.1111111111111111,
             "#46039f"
            ],
            [
             0.2222222222222222,
             "#7201a8"
            ],
            [
             0.3333333333333333,
             "#9c179e"
            ],
            [
             0.4444444444444444,
             "#bd3786"
            ],
            [
             0.5555555555555556,
             "#d8576b"
            ],
            [
             0.6666666666666666,
             "#ed7953"
            ],
            [
             0.7777777777777778,
             "#fb9f3a"
            ],
            [
             0.8888888888888888,
             "#fdca26"
            ],
            [
             1,
             "#f0f921"
            ]
           ],
           "sequentialminus": [
            [
             0,
             "#0d0887"
            ],
            [
             0.1111111111111111,
             "#46039f"
            ],
            [
             0.2222222222222222,
             "#7201a8"
            ],
            [
             0.3333333333333333,
             "#9c179e"
            ],
            [
             0.4444444444444444,
             "#bd3786"
            ],
            [
             0.5555555555555556,
             "#d8576b"
            ],
            [
             0.6666666666666666,
             "#ed7953"
            ],
            [
             0.7777777777777778,
             "#fb9f3a"
            ],
            [
             0.8888888888888888,
             "#fdca26"
            ],
            [
             1,
             "#f0f921"
            ]
           ]
          },
          "colorway": [
           "#636efa",
           "#EF553B",
           "#00cc96",
           "#ab63fa",
           "#FFA15A",
           "#19d3f3",
           "#FF6692",
           "#B6E880",
           "#FF97FF",
           "#FECB52"
          ],
          "font": {
           "color": "#2a3f5f"
          },
          "geo": {
           "bgcolor": "white",
           "lakecolor": "white",
           "landcolor": "#E5ECF6",
           "showlakes": true,
           "showland": true,
           "subunitcolor": "white"
          },
          "hoverlabel": {
           "align": "left"
          },
          "hovermode": "closest",
          "mapbox": {
           "style": "light"
          },
          "paper_bgcolor": "white",
          "plot_bgcolor": "#E5ECF6",
          "polar": {
           "angularaxis": {
            "gridcolor": "white",
            "linecolor": "white",
            "ticks": ""
           },
           "bgcolor": "#E5ECF6",
           "radialaxis": {
            "gridcolor": "white",
            "linecolor": "white",
            "ticks": ""
           }
          },
          "scene": {
           "xaxis": {
            "backgroundcolor": "#E5ECF6",
            "gridcolor": "white",
            "gridwidth": 2,
            "linecolor": "white",
            "showbackground": true,
            "ticks": "",
            "zerolinecolor": "white"
           },
           "yaxis": {
            "backgroundcolor": "#E5ECF6",
            "gridcolor": "white",
            "gridwidth": 2,
            "linecolor": "white",
            "showbackground": true,
            "ticks": "",
            "zerolinecolor": "white"
           },
           "zaxis": {
            "backgroundcolor": "#E5ECF6",
            "gridcolor": "white",
            "gridwidth": 2,
            "linecolor": "white",
            "showbackground": true,
            "ticks": "",
            "zerolinecolor": "white"
           }
          },
          "shapedefaults": {
           "line": {
            "color": "#2a3f5f"
           }
          },
          "ternary": {
           "aaxis": {
            "gridcolor": "white",
            "linecolor": "white",
            "ticks": ""
           },
           "baxis": {
            "gridcolor": "white",
            "linecolor": "white",
            "ticks": ""
           },
           "bgcolor": "#E5ECF6",
           "caxis": {
            "gridcolor": "white",
            "linecolor": "white",
            "ticks": ""
           }
          },
          "title": {
           "x": 0.05
          },
          "xaxis": {
           "automargin": true,
           "gridcolor": "white",
           "linecolor": "white",
           "ticks": "",
           "title": {
            "standoff": 15
           },
           "zerolinecolor": "white",
           "zerolinewidth": 2
          },
          "yaxis": {
           "automargin": true,
           "gridcolor": "white",
           "linecolor": "white",
           "ticks": "",
           "title": {
            "standoff": 15
           },
           "zerolinecolor": "white",
           "zerolinewidth": 2
          }
         }
        },
        "xaxis": {
         "title": {
          "text": "Date"
         }
        },
        "yaxis": {
         "range": [
          40,
          180
         ],
         "title": {
          "text": "Pitch (degrees)"
         }
        }
       }
      }
     },
     "metadata": {},
     "output_type": "display_data"
    }
   ],
   "source": [
    "html = vp.get_plot_html(show=True)"
   ]
  },
  {
   "cell_type": "code",
   "execution_count": 23,
   "metadata": {},
   "outputs": [
    {
     "data": {
      "text/plain": [
       "56012"
      ]
     },
     "execution_count": 23,
     "metadata": {},
     "output_type": "execute_result"
    }
   ],
   "source": [
    "len(html)"
   ]
  },
  {
   "attachments": {},
   "cell_type": "markdown",
   "metadata": {},
   "source": [
    "#### Getting HTML for a single state\n",
    "\n",
    "This hints at the way that other applications (`acis_thermal_check` hint hint) could\n",
    "use this.\n",
    "\n",
    "See `validate.get_index_page_html()` function."
   ]
  },
  {
   "cell_type": "code",
   "execution_count": 24,
   "metadata": {},
   "outputs": [],
   "source": [
    "from IPython.display import HTML"
   ]
  },
  {
   "cell_type": "code",
   "execution_count": 25,
   "metadata": {},
   "outputs": [
    {
     "data": {
      "text/plain": [
       "58084"
      ]
     },
     "execution_count": 25,
     "metadata": {},
     "output_type": "execute_result"
    }
   ],
   "source": [
    "html = vp.get_html()\n",
    "Path('validate_pitch.html').write_text(html)"
   ]
  },
  {
   "cell_type": "code",
   "execution_count": 26,
   "metadata": {},
   "outputs": [],
   "source": [
    "!open validate_pitch.html"
   ]
  },
  {
   "attachments": {},
   "cell_type": "markdown",
   "metadata": {},
   "source": [
    "### Infrastructure: compressing large time-series plots for plotly\n",
    "\n",
    "Down-side of interactive plots in `plotly` is that the HTML source\n",
    "can get huge for more than around 100,000 points. \n",
    "\n",
    "I probably re-invented a wheel here, but I wrote code to split a\n",
    "time series into chunks where the value is constant to within a tolerance.\n",
    "There is also an option to never let a chunk get longer than a certain duration."
   ]
  },
  {
   "cell_type": "code",
   "execution_count": 27,
   "metadata": {},
   "outputs": [
    {
     "name": "stdout",
     "output_type": "stream",
     "text": [
      "432924\n"
     ]
    }
   ],
   "source": [
    "print(len(vp.tlm_vals))"
   ]
  },
  {
   "cell_type": "code",
   "execution_count": 28,
   "metadata": {},
   "outputs": [
    {
     "name": "stdout",
     "output_type": "stream",
     "text": [
      "261\n"
     ]
    },
    {
     "data": {
      "text/plain": [
       "[<TimeSeriesChunk\n",
       " first=<TimeSeriesPoint date=2022:292:18:00:00.741 val=167.15916846487335>\n",
       " min=<TimeSeriesPoint date=2022:292:19:52:00.641 val=165.19780816657226>\n",
       " max=<TimeSeriesPoint date=2022:292:19:42:13.316 val=167.18130025270034>\n",
       " last=<TimeSeriesPoint date=2022:292:19:52:00.641 val=165.19780816657226>>,\n",
       " <TimeSeriesChunk\n",
       " first=<TimeSeriesPoint date=2022:292:19:52:00.641 val=165.19780816657226>\n",
       " min=<TimeSeriesPoint date=2022:292:19:53:14.441 val=163.22814022246394>\n",
       " max=<TimeSeriesPoint date=2022:292:19:52:00.641 val=165.19780816657226>\n",
       " last=<TimeSeriesPoint date=2022:292:19:53:14.441 val=163.22814022246394>>,\n",
       " <TimeSeriesChunk\n",
       " first=<TimeSeriesPoint date=2022:292:19:53:14.441 val=163.22814022246394>\n",
       " min=<TimeSeriesPoint date=2022:292:19:54:10.816 val=161.2661542309357>\n",
       " max=<TimeSeriesPoint date=2022:292:19:53:14.441 val=163.22814022246394>\n",
       " last=<TimeSeriesPoint date=2022:292:19:54:10.816 val=161.2661542309357>>]"
      ]
     },
     "execution_count": 28,
     "metadata": {},
     "output_type": "execute_result"
    }
   ],
   "source": [
    "chunks = get_time_series_chunks(vp.tlm[\"time\"], vp.tlm_vals, max_delta_time=None, max_delta_val=2.0)\n",
    "print(len(chunks))\n",
    "chunks[:3]"
   ]
  },
  {
   "cell_type": "code",
   "execution_count": 29,
   "metadata": {},
   "outputs": [],
   "source": [
    "times, vals = compress_time_series(vp.tlm[\"time\"], vp.tlm_vals, max_delta_val=2.0)"
   ]
  },
  {
   "cell_type": "code",
   "execution_count": 30,
   "metadata": {},
   "outputs": [
    {
     "data": {
      "text/plain": [
       "[<matplotlib.lines.Line2D at 0x7f9aeba32610>]"
      ]
     },
     "execution_count": 30,
     "metadata": {},
     "output_type": "execute_result"
    },
    {
     "data": {
      "image/png": "[encoded data removed]",
      "text/plain": [
       "<Figure size 432x288 with 1 Axes>"
      ]
     },
     "metadata": {
      "needs_background": "light"
     },
     "output_type": "display_data"
    }
   ],
   "source": [
    "plt.plot(times, vals, \"C0\")\n",
    "plt.plot(times, vals, \"C1.\")"
   ]
  },
  {
   "cell_type": "code",
   "execution_count": 31,
   "metadata": {},
   "outputs": [
    {
     "data": {
      "application/vnd.plotly.v1+json": {
       "config": {
        "plotlyServerURL": "https://plot.ly"
       },
       "data": [
        {
         "hovertemplate": "%{x|%Y:%j:%H:%M:%S} %{y}",
         "line": {
          "color": "#1f77b4",
          "width": 3
         },
         "marker": {
          "opacity": 0.9,
          "size": 8
         },
         "mode": "lines+markers",
         "name": "Telem",
         "opacity": 0.75,
         "showlegend": false,
         "type": "scatter",
         "x": [
          "2022-10-19T18:00:00.740999952",
          "2022-10-19T18:02:08.865999952",
          "2022-10-19T18:56:26.315999881",
          "2022-10-19T19:00:00.540999905",
          "2022-10-19T19:42:13.315999881",
          "2022-10-19T19:51:08.365999952",
          "2022-10-19T19:52:00.640999928",
          "2022-10-19T19:52:40.615999952",
          "2022-10-19T19:53:14.440999881",
          "2022-10-19T19:53:44.165999905",
          "2022-10-19T19:54:10.815999881",
          "2022-10-19T19:54:35.415999905",
          "2022-10-19T19:54:57.965999976",
          "2022-10-19T19:55:19.490999952",
          "2022-10-19T19:55:39.990999952",
          "2022-10-19T19:55:59.465999976",
          "2022-10-19T19:56:17.915999905",
          "2022-10-19T19:56:35.340999976",
          "2022-10-19T19:56:51.740999952",
          "2022-10-19T19:57:08.140999928",
          "2022-10-19T19:57:23.515999928",
          "2022-10-19T19:57:38.890999928",
          "2022-10-19T19:57:53.240999952",
          "2022-10-19T19:58:07.590999976",
          "2022-10-19T19:58:21.940999881",
          "2022-10-19T19:58:35.265999928",
          "2022-10-19T19:58:48.590999976",
          "2022-10-19T19:59:01.915999905",
          "2022-10-19T19:59:15.240999952",
          "2022-10-19T19:59:28.565999881",
          "2022-10-19T19:59:41.890999928",
          "2022-10-19T19:59:55.215999976",
          "2022-10-19T20:00:08.540999905",
          "2022-10-19T20:00:21.865999952",
          "2022-10-19T20:00:35.190999881",
          "2022-10-19T20:00:48.515999928",
          "2022-10-19T20:01:01.840999976",
          "2022-10-19T20:01:15.165999905",
          "2022-10-19T20:01:28.490999952",
          "2022-10-19T20:01:41.815999881",
          "2022-10-19T20:01:55.140999928",
          "2022-10-19T20:02:08.465999976",
          "2022-10-19T20:02:21.790999905",
          "2022-10-19T20:02:35.115999952",
          "2022-10-19T20:02:48.440999881",
          "2022-10-19T20:03:01.765999928",
          "2022-10-19T20:03:15.090999976",
          "2022-10-19T20:03:28.415999905",
          "2022-10-19T20:03:41.740999952",
          "2022-10-19T20:03:55.065999881",
          "2022-10-19T20:04:08.390999928",
          "2022-10-19T20:04:21.715999976",
          "2022-10-19T20:04:35.040999905",
          "2022-10-19T20:04:48.365999952",
          "2022-10-19T20:05:01.690999881",
          "2022-10-19T20:05:15.015999928",
          "2022-10-19T20:05:28.340999976",
          "2022-10-19T20:05:41.665999905",
          "2022-10-19T20:05:54.990999952",
          "2022-10-19T20:06:08.315999881",
          "2022-10-19T20:06:21.640999928",
          "2022-10-19T20:06:34.965999976",
          "2022-10-19T20:06:48.290999905",
          "2022-10-19T20:07:01.615999952",
          "2022-10-19T20:07:14.940999881",
          "2022-10-19T20:07:28.265999928",
          "2022-10-19T20:07:41.590999976",
          "2022-10-19T20:07:54.915999905",
          "2022-10-19T20:08:08.240999952",
          "2022-10-19T20:08:21.565999881",
          "2022-10-19T20:08:34.890999928",
          "2022-10-19T20:08:48.215999976",
          "2022-10-19T20:09:01.540999905",
          "2022-10-19T20:09:14.865999952",
          "2022-10-19T20:09:28.190999881",
          "2022-10-19T20:09:41.515999928",
          "2022-10-19T20:09:54.840999976",
          "2022-10-19T20:10:08.165999905",
          "2022-10-19T20:10:21.490999952",
          "2022-10-19T20:10:34.815999881",
          "2022-10-19T20:10:48.140999928",
          "2022-10-19T20:11:01.465999976",
          "2022-10-19T20:11:14.790999905",
          "2022-10-19T20:11:28.115999952",
          "2022-10-19T20:11:41.440999881",
          "2022-10-19T20:11:54.765999928",
          "2022-10-19T20:12:08.090999976",
          "2022-10-19T20:12:21.415999905",
          "2022-10-19T20:12:34.740999952",
          "2022-10-19T20:12:48.065999881",
          "2022-10-19T20:13:01.390999928",
          "2022-10-19T20:13:14.715999976",
          "2022-10-19T20:13:28.040999905",
          "2022-10-19T20:13:42.390999928",
          "2022-10-19T20:13:56.740999952",
          "2022-10-19T20:14:12.115999952",
          "2022-10-19T20:14:27.490999952",
          "2022-10-19T20:14:42.865999952",
          "2022-10-19T20:14:59.265999928",
          "2022-10-19T20:15:16.690999881",
          "2022-10-19T20:15:34.115999952",
          "2022-10-19T20:15:52.565999881",
          "2022-10-19T20:16:12.040999905",
          "2022-10-19T20:16:32.540999905",
          "2022-10-19T20:16:54.065999881",
          "2022-10-19T20:17:17.640999928",
          "2022-10-19T20:17:42.240999952",
          "2022-10-19T20:18:09.915999905",
          "2022-10-19T20:18:40.665999905",
          "2022-10-19T20:19:15.515999928",
          "2022-10-19T20:19:57.540999905",
          "2022-10-19T20:20:54.940999881",
          "2022-10-19T20:35:13.890999928",
          "2022-10-19T21:20:54.740999952",
          "2022-10-19T21:22:49.540999905",
          "2022-10-19T22:16:27.015999928",
          "2022-10-19T22:20:54.540999905",
          "2022-10-19T22:21:25.290999905",
          "2022-10-19T23:14:36.115999952",
          "2022-10-19T23:20:54.340999976",
          "2022-10-19T23:20:55.365999952",
          "2022-10-20T00:13:38.515999928",
          "2022-10-20T00:20:54.140999928",
          "2022-10-20T00:30:45.565999881",
          "2022-10-20T00:40:20.590999976",
          "2022-10-20T00:41:12.865999952",
          "2022-10-20T00:41:52.840999976",
          "2022-10-20T00:42:26.665999905",
          "2022-10-20T00:42:56.390999928",
          "2022-10-20T00:43:23.040999905",
          "2022-10-20T00:43:47.640999928",
          "2022-10-20T00:44:10.190999881",
          "2022-10-20T00:44:31.715999976",
          "2022-10-20T00:44:52.215999976",
          "2022-10-20T00:45:11.690999881",
          "2022-10-20T00:45:30.140999928",
          "2022-10-20T00:45:47.565999881",
          "2022-10-20T00:46:03.965999976",
          "2022-10-20T00:46:20.365999952",
          "2022-10-20T00:46:35.740999952",
          "2022-10-20T00:46:51.115999952",
          "2022-10-20T00:47:05.465999976",
          "2022-10-20T00:47:19.815999881",
          "2022-10-20T00:47:34.165999905",
          "2022-10-20T00:47:47.490999952",
          "2022-10-20T00:48:00.815999881",
          "2022-10-20T00:48:14.140999928",
          "2022-10-20T00:48:27.465999976",
          "2022-10-20T00:48:40.790999905",
          "2022-10-20T00:48:54.115999952",
          "2022-10-20T00:49:07.440999881",
          "2022-10-20T00:49:20.765999928",
          "2022-10-20T00:49:34.090999976",
          "2022-10-20T00:49:47.415999905",
          "2022-10-20T00:50:00.740999952",
          "2022-10-20T00:50:14.065999881",
          "2022-10-20T00:50:27.390999928",
          "2022-10-20T00:50:40.715999976",
          "2022-10-20T00:50:54.040999905",
          "2022-10-20T00:51:07.365999952",
          "2022-10-20T00:51:20.690999881",
          "2022-10-20T00:51:34.015999928",
          "2022-10-20T00:51:47.340999976",
          "2022-10-20T00:52:00.665999905",
          "2022-10-20T00:52:13.990999952",
          "2022-10-20T00:52:27.315999881",
          "2022-10-20T00:52:40.640999928",
          "2022-10-20T00:52:53.965999976",
          "2022-10-20T00:53:07.290999905",
          "2022-10-20T00:53:20.615999952",
          "2022-10-20T00:53:33.940999881",
          "2022-10-20T00:53:47.265999928",
          "2022-10-20T00:54:00.590999976",
          "2022-10-20T00:54:13.915999905",
          "2022-10-20T00:54:27.240999952",
          "2022-10-20T00:54:40.565999881",
          "2022-10-20T00:54:53.890999928",
          "2022-10-20T00:55:07.215999976",
          "2022-10-20T00:55:20.540999905",
          "2022-10-20T00:55:33.865999952",
          "2022-10-20T00:55:47.190999881",
          "2022-10-20T00:56:00.515999928",
          "2022-10-20T00:56:13.840999976",
          "2022-10-20T00:56:27.165999905",
          "2022-10-20T00:56:40.490999952",
          "2022-10-20T00:56:53.815999881",
          "2022-10-20T00:57:07.140999928",
          "2022-10-20T00:57:20.465999976",
          "2022-10-20T00:57:33.790999905",
          "2022-10-20T00:57:47.115999952",
          "2022-10-20T00:58:00.440999881",
          "2022-10-20T00:58:13.765999928",
          "2022-10-20T00:58:27.090999976",
          "2022-10-20T00:58:40.415999905",
          "2022-10-20T00:58:53.740999952",
          "2022-10-20T00:59:07.065999881",
          "2022-10-20T00:59:20.390999928",
          "2022-10-20T00:59:33.715999976",
          "2022-10-20T00:59:47.040999905",
          "2022-10-20T01:00:00.365999952",
          "2022-10-20T01:00:13.690999881",
          "2022-10-20T01:00:27.015999928",
          "2022-10-20T01:00:40.340999976",
          "2022-10-20T01:00:53.665999905",
          "2022-10-20T01:01:06.990999952",
          "2022-10-20T01:01:20.315999881",
          "2022-10-20T01:01:33.640999928",
          "2022-10-20T01:01:46.965999976",
          "2022-10-20T01:02:00.290999905",
          "2022-10-20T01:02:13.615999952",
          "2022-10-20T01:02:26.940999881",
          "2022-10-20T01:02:40.265999928",
          "2022-10-20T01:02:54.615999952",
          "2022-10-20T01:03:08.965999976",
          "2022-10-20T01:03:24.340999976",
          "2022-10-20T01:03:39.715999976",
          "2022-10-20T01:03:55.090999976",
          "2022-10-20T01:04:11.490999952",
          "2022-10-20T01:04:28.915999905",
          "2022-10-20T01:04:46.340999976",
          "2022-10-20T01:05:04.790999905",
          "2022-10-20T01:05:24.265999928",
          "2022-10-20T01:05:44.765999928",
          "2022-10-20T01:06:06.290999905",
          "2022-10-20T01:06:29.865999952",
          "2022-10-20T01:06:54.465999976",
          "2022-10-20T01:07:22.140999928",
          "2022-10-20T01:07:52.890999928",
          "2022-10-20T01:08:27.740999952",
          "2022-10-20T01:09:09.765999928",
          "2022-10-20T01:10:07.165999905",
          "2022-10-20T02:10:06.965999976",
          "2022-10-20T02:16:25.190999881",
          "2022-10-20T03:09:53.440999881",
          "2022-10-20T03:10:06.765999928",
          "2022-10-20T03:16:12.690999881",
          "2022-10-20T04:09:46.065999881",
          "2022-10-20T04:10:06.565999881",
          "2022-10-20T04:15:36.615999952",
          "2022-10-20T05:07:56.190999881",
          "2022-10-20T05:10:06.365999952",
          "2022-10-20T05:21:26.965999976",
          "2022-10-20T05:29:33.840999976",
          "2022-10-20T05:30:26.115999952",
          "2022-10-20T05:31:06.090999976",
          "2022-10-20T05:31:39.915999905",
          "2022-10-20T05:32:09.640999928",
          "2022-10-20T05:32:36.290999905",
          "2022-10-20T05:33:00.890999928",
          "2022-10-20T05:33:23.440999881",
          "2022-10-20T05:33:44.965999976",
          "2022-10-20T05:34:05.465999976",
          "2022-10-20T05:34:24.940999881",
          "2022-10-20T05:34:43.390999928",
          "2022-10-20T05:35:00.815999881",
          "2022-10-20T05:35:17.215999976",
          "2022-10-20T05:35:33.615999952",
          "2022-10-20T05:35:48.990999952",
          "2022-10-20T05:36:04.365999952",
          "2022-10-20T05:36:18.715999976",
          "2022-10-20T05:36:33.065999881",
          "2022-10-20T05:36:47.415999905",
          "2022-10-20T05:37:00.740999952",
          "2022-10-20T05:37:14.065999881",
          "2022-10-20T05:37:27.390999928",
          "2022-10-20T05:37:40.715999976",
          "2022-10-20T05:37:54.040999905",
          "2022-10-20T05:38:07.365999952",
          "2022-10-20T05:38:20.690999881",
          "2022-10-20T05:38:34.015999928",
          "2022-10-20T05:38:47.340999976",
          "2022-10-20T05:39:00.665999905",
          "2022-10-20T05:39:13.990999952",
          "2022-10-20T05:39:27.315999881",
          "2022-10-20T05:39:40.640999928",
          "2022-10-20T05:39:53.965999976",
          "2022-10-20T05:40:07.290999905",
          "2022-10-20T05:40:20.615999952",
          "2022-10-20T05:40:33.940999881",
          "2022-10-20T05:40:47.265999928",
          "2022-10-20T05:41:00.590999976",
          "2022-10-20T05:41:13.915999905",
          "2022-10-20T05:41:27.240999952",
          "2022-10-20T05:41:40.565999881",
          "2022-10-20T05:41:53.890999928",
          "2022-10-20T05:42:07.215999976",
          "2022-10-20T05:42:20.540999905",
          "2022-10-20T05:42:33.865999952",
          "2022-10-20T05:42:47.190999881",
          "2022-10-20T05:43:00.515999928",
          "2022-10-20T05:43:13.840999976",
          "2022-10-20T05:43:27.165999905",
          "2022-10-20T05:43:40.490999952",
          "2022-10-20T05:43:53.815999881",
          "2022-10-20T05:44:07.140999928",
          "2022-10-20T05:44:20.465999976",
          "2022-10-20T05:44:33.790999905",
          "2022-10-20T05:44:47.115999952",
          "2022-10-20T05:45:00.440999881",
          "2022-10-20T05:45:13.765999928",
          "2022-10-20T05:45:27.090999976",
          "2022-10-20T05:45:40.415999905",
          "2022-10-20T05:45:53.740999952",
          "2022-10-20T05:46:07.065999881",
          "2022-10-20T05:46:20.390999928",
          "2022-10-20T05:46:33.715999976",
          "2022-10-20T05:46:47.040999905",
          "2022-10-20T05:47:00.365999952",
          "2022-10-20T05:47:13.690999881",
          "2022-10-20T05:47:27.015999928",
          "2022-10-20T05:47:40.340999976",
          "2022-10-20T05:47:53.665999905",
          "2022-10-20T05:48:06.990999952",
          "2022-10-20T05:48:20.315999881",
          "2022-10-20T05:48:33.640999928",
          "2022-10-20T05:48:46.965999976",
          "2022-10-20T05:49:00.290999905",
          "2022-10-20T05:49:13.615999952",
          "2022-10-20T05:49:26.940999881",
          "2022-10-20T05:49:40.265999928",
          "2022-10-20T05:49:53.590999976",
          "2022-10-20T05:50:06.915999905",
          "2022-10-20T05:50:20.240999952",
          "2022-10-20T05:50:33.565999881",
          "2022-10-20T05:50:46.890999928",
          "2022-10-20T05:51:00.215999976",
          "2022-10-20T05:51:13.540999905",
          "2022-10-20T05:51:26.865999952",
          "2022-10-20T05:51:40.190999881",
          "2022-10-20T05:51:53.515999928",
          "2022-10-20T05:52:07.865999952",
          "2022-10-20T05:52:22.215999976",
          "2022-10-20T05:52:37.590999976",
          "2022-10-20T05:52:52.965999976",
          "2022-10-20T05:53:08.340999976",
          "2022-10-20T05:53:24.740999952",
          "2022-10-20T05:53:42.165999905",
          "2022-10-20T05:53:59.590999976",
          "2022-10-20T05:54:18.040999905",
          "2022-10-20T05:54:37.515999928",
          "2022-10-20T05:54:58.015999928",
          "2022-10-20T05:55:19.540999905",
          "2022-10-20T05:55:43.115999952",
          "2022-10-20T05:56:07.715999976",
          "2022-10-20T05:56:35.390999928",
          "2022-10-20T05:57:06.140999928",
          "2022-10-20T05:57:40.990999952",
          "2022-10-20T05:58:23.015999928",
          "2022-10-20T05:59:20.415999905",
          "2022-10-20T06:01:48.015999928",
          "2022-10-20T06:59:20.215999976",
          "2022-10-20T07:00:27.865999952",
          "2022-10-20T07:53:27.415999905",
          "2022-10-20T07:59:20.015999928",
          "2022-10-20T07:59:22.065999881",
          "2022-10-20T08:52:48.265999928",
          "2022-10-20T08:59:19.815999881",
          "2022-10-20T09:51:26.065999881",
          "2022-10-20T09:59:19.615999952",
          "2022-10-20T10:09:27.440999881",
          "2022-10-20T10:51:27.915999905",
          "2022-10-20T10:59:19.415999905",
          "2022-10-20T11:06:14.540999905",
          "2022-10-20T11:08:46.240999952",
          "2022-10-20T11:09:38.515999928",
          "2022-10-20T11:10:18.490999952",
          "2022-10-20T11:10:52.315999881",
          "2022-10-20T11:11:22.040999905",
          "2022-10-20T11:11:48.690999881",
          "2022-10-20T11:12:13.290999905",
          "2022-10-20T11:12:35.840999976",
          "2022-10-20T11:12:57.365999952",
          "2022-10-20T11:13:17.865999952",
          "2022-10-20T11:13:37.340999976",
          "2022-10-20T11:13:55.790999905",
          "2022-10-20T11:14:13.215999976",
          "2022-10-20T11:14:29.615999952",
          "2022-10-20T11:14:46.015999928",
          "2022-10-20T11:15:01.390999928",
          "2022-10-20T11:15:16.765999928",
          "2022-10-20T11:15:31.115999952",
          "2022-10-20T11:15:45.465999976",
          "2022-10-20T11:15:59.815999881",
          "2022-10-20T11:16:13.140999928",
          "2022-10-20T11:16:26.465999976",
          "2022-10-20T11:16:39.790999905",
          "2022-10-20T11:16:53.115999952",
          "2022-10-20T11:17:06.440999881",
          "2022-10-20T11:17:19.765999928",
          "2022-10-20T11:17:33.090999976",
          "2022-10-20T11:17:46.415999905",
          "2022-10-20T11:17:59.740999952",
          "2022-10-20T11:18:13.065999881",
          "2022-10-20T11:18:26.390999928",
          "2022-10-20T11:18:39.715999976",
          "2022-10-20T11:18:53.040999905",
          "2022-10-20T11:19:06.365999952",
          "2022-10-20T11:19:19.690999881",
          "2022-10-20T11:19:33.015999928",
          "2022-10-20T11:19:46.340999976",
          "2022-10-20T11:19:59.665999905",
          "2022-10-20T11:20:12.990999952",
          "2022-10-20T11:20:26.315999881",
          "2022-10-20T11:20:39.640999928",
          "2022-10-20T11:20:52.965999976",
          "2022-10-20T11:21:06.290999905",
          "2022-10-20T11:21:19.615999952",
          "2022-10-20T11:21:32.940999881",
          "2022-10-20T11:21:46.265999928",
          "2022-10-20T11:21:59.590999976",
          "2022-10-20T11:22:12.915999905",
          "2022-10-20T11:22:26.240999952",
          "2022-10-20T11:22:39.565999881",
          "2022-10-20T11:22:52.890999928",
          "2022-10-20T11:23:06.215999976",
          "2022-10-20T11:23:19.540999905",
          "2022-10-20T11:23:32.865999952",
          "2022-10-20T11:23:46.190999881",
          "2022-10-20T11:23:59.515999928",
          "2022-10-20T11:24:12.840999976",
          "2022-10-20T11:24:26.165999905",
          "2022-10-20T11:24:39.490999952",
          "2022-10-20T11:24:52.815999881",
          "2022-10-20T11:25:06.140999928",
          "2022-10-20T11:25:19.465999976",
          "2022-10-20T11:25:32.790999905",
          "2022-10-20T11:25:46.115999952",
          "2022-10-20T11:25:59.440999881",
          "2022-10-20T11:26:12.765999928",
          "2022-10-20T11:26:26.090999976",
          "2022-10-20T11:26:39.415999905",
          "2022-10-20T11:26:52.740999952",
          "2022-10-20T11:27:06.065999881",
          "2022-10-20T11:27:19.390999928",
          "2022-10-20T11:27:32.715999976",
          "2022-10-20T11:27:46.040999905",
          "2022-10-20T11:27:59.365999952",
          "2022-10-20T11:28:12.690999881",
          "2022-10-20T11:28:26.015999928",
          "2022-10-20T11:28:39.340999976",
          "2022-10-20T11:28:52.665999905",
          "2022-10-20T11:29:05.990999952",
          "2022-10-20T11:29:19.315999881",
          "2022-10-20T11:29:32.640999928",
          "2022-10-20T11:29:45.965999976",
          "2022-10-20T11:29:59.290999905",
          "2022-10-20T11:30:12.615999952",
          "2022-10-20T11:30:25.940999881",
          "2022-10-20T11:30:39.265999928",
          "2022-10-20T11:30:52.590999976",
          "2022-10-20T11:31:05.915999905",
          "2022-10-20T11:31:20.265999928",
          "2022-10-20T11:31:34.615999952",
          "2022-10-20T11:31:49.990999952",
          "2022-10-20T11:32:05.365999952",
          "2022-10-20T11:32:20.740999952",
          "2022-10-20T11:32:37.140999928",
          "2022-10-20T11:32:54.565999881",
          "2022-10-20T11:33:11.990999952",
          "2022-10-20T11:33:30.440999881",
          "2022-10-20T11:33:49.915999905",
          "2022-10-20T11:34:10.415999905",
          "2022-10-20T11:34:31.940999881",
          "2022-10-20T11:34:55.515999928",
          "2022-10-20T11:35:20.115999952",
          "2022-10-20T11:35:47.790999905",
          "2022-10-20T11:36:18.540999905",
          "2022-10-20T11:36:53.390999928",
          "2022-10-20T11:37:35.415999905",
          "2022-10-20T11:38:32.815999881",
          "2022-10-20T12:36:36.790999905",
          "2022-10-20T12:38:32.615999952",
          "2022-10-20T12:41:25.840999976",
          "2022-10-20T12:48:52.740999952",
          "2022-10-20T12:57:52.915999905",
          "2022-10-20T12:57:53.940999881",
          "2022-10-20T12:57:54.965999976",
          "2022-10-20T13:06:25.415999905",
          "2022-10-20T13:57:54.765999928",
          "2022-10-20T14:05:22.690999881",
          "2022-10-20T14:46:38.065999881",
          "2022-10-20T14:52:36.815999881",
          "2022-10-20T14:58:06.865999952",
          "2022-10-20T15:10:20.765999928",
          "2022-10-20T15:58:06.665999905",
          "2022-10-20T16:29:42.915999905",
          "2022-10-20T16:30:07.515999928",
          "2022-10-20T16:30:36.215999976",
          "2022-10-20T16:31:09.015999928",
          "2022-10-20T16:31:13.115999952",
          "2022-10-20T16:31:41.815999881",
          "2022-10-20T16:31:45.915999905",
          "2022-10-20T16:32:14.615999952",
          "2022-10-20T16:32:39.215999976",
          "2022-10-20T16:33:03.815999881",
          "2022-10-20T16:33:28.415999905",
          "2022-10-20T16:33:48.915999905",
          "2022-10-20T16:34:09.415999905",
          "2022-10-20T16:34:29.915999905",
          "2022-10-20T16:34:46.315999881",
          "2022-10-20T16:35:06.815999881",
          "2022-10-20T16:35:27.315999881",
          "2022-10-20T16:35:47.815999881",
          "2022-10-20T16:36:08.315999881",
          "2022-10-20T16:36:24.715999976",
          "2022-10-20T16:36:45.215999976",
          "2022-10-20T16:37:05.715999976",
          "2022-10-20T16:37:22.115999952",
          "2022-10-20T16:37:38.515999928",
          "2022-10-20T16:37:59.015999928",
          "2022-10-20T16:38:19.515999928",
          "2022-10-20T16:38:35.915999905",
          "2022-10-20T16:38:52.315999881",
          "2022-10-20T16:39:12.815999881",
          "2022-10-20T16:39:29.215999976",
          "2022-10-20T16:39:45.615999952",
          "2022-10-20T16:40:02.015999928",
          "2022-10-20T16:40:22.515999928",
          "2022-10-20T16:40:38.915999905",
          "2022-10-20T16:40:55.315999881",
          "2022-10-20T16:41:15.815999881",
          "2022-10-20T16:41:32.215999976",
          "2022-10-20T16:41:48.615999952",
          "2022-10-20T16:42:09.115999952",
          "2022-10-20T16:42:29.615999952",
          "2022-10-20T16:42:50.115999952",
          "2022-10-20T16:43:06.515999928",
          "2022-10-20T16:43:22.915999905",
          "2022-10-20T16:43:43.415999905",
          "2022-10-20T16:44:03.915999905",
          "2022-10-20T16:44:20.315999881",
          "2022-10-20T16:44:36.715999976",
          "2022-10-20T16:44:57.215999976",
          "2022-10-20T16:45:17.715999976",
          "2022-10-20T16:45:34.115999952",
          "2022-10-20T16:45:50.515999928",
          "2022-10-20T16:46:11.015999928",
          "2022-10-20T16:46:27.415999905",
          "2022-10-20T16:46:43.815999881",
          "2022-10-20T16:47:00.215999976",
          "2022-10-20T16:47:16.615999952",
          "2022-10-20T16:47:33.015999928",
          "2022-10-20T16:47:49.415999905",
          "2022-10-20T16:48:09.915999905",
          "2022-10-20T16:48:26.315999881",
          "2022-10-20T16:48:42.715999976",
          "2022-10-20T16:49:03.215999976",
          "2022-10-20T16:49:23.715999976",
          "2022-10-20T16:49:40.115999952",
          "2022-10-20T16:49:56.515999928",
          "2022-10-20T16:50:17.015999928",
          "2022-10-20T16:50:37.515999928",
          "2022-10-20T16:50:53.915999905",
          "2022-10-20T16:51:10.315999881",
          "2022-10-20T16:51:30.815999881",
          "2022-10-20T16:51:51.315999881",
          "2022-10-20T16:52:07.715999976",
          "2022-10-20T16:52:24.115999952",
          "2022-10-20T16:52:44.615999952",
          "2022-10-20T16:53:01.015999928",
          "2022-10-20T16:53:21.515999928",
          "2022-10-20T16:53:37.915999905",
          "2022-10-20T16:53:58.415999905",
          "2022-10-20T16:54:18.915999905",
          "2022-10-20T16:54:35.315999881",
          "2022-10-20T16:54:51.715999976",
          "2022-10-20T16:55:12.215999976",
          "2022-10-20T16:55:28.615999952",
          "2022-10-20T16:55:49.115999952",
          "2022-10-20T16:56:05.515999928",
          "2022-10-20T16:56:26.015999928",
          "2022-10-20T16:56:42.415999905",
          "2022-10-20T16:57:07.015999928",
          "2022-10-20T16:57:39.815999881",
          "2022-10-20T16:58:41.315999881",
          "2022-10-20T16:58:45.415999905",
          "2022-10-20T17:00:27.915999905",
          "2022-10-20T17:00:32.015999928",
          "2022-10-20T17:22:52.715999976",
          "2022-10-20T18:00:31.815999881",
          "2022-10-20T18:02:47.115999952",
          "2022-10-20T18:05:10.615999952",
          "2022-10-20T19:00:31.615999952",
          "2022-10-20T19:01:24.915999905",
          "2022-10-20T19:22:35.915999905",
          "2022-10-20T20:00:31.415999905",
          "2022-10-20T20:01:16.515999928",
          "2022-10-20T20:11:56.115999952",
          "2022-10-20T21:00:31.215999976",
          "2022-10-20T21:00:51.715999976",
          "2022-10-20T21:02:54.715999976",
          "2022-10-20T22:00:31.015999928",
          "2022-10-20T22:03:10.915999905",
          "2022-10-20T22:03:27.315999881",
          "2022-10-20T23:00:30.815999881",
          "2022-10-20T23:00:34.915999905",
          "2022-10-20T23:00:59.515999928",
          "2022-10-21T00:00:30.615999952",
          "2022-10-21T00:00:59.315999881",
          "2022-10-21T00:04:07.915999905",
          "2022-10-21T01:00:30.415999905",
          "2022-10-21T01:00:59.115999952",
          "2022-10-21T01:06:10.715999976",
          "2022-10-21T02:00:30.215999976",
          "2022-10-21T02:00:50.715999976",
          "2022-10-21T02:06:10.515999928",
          "2022-10-21T03:00:30.015999928",
          "2022-10-21T03:01:23.315999881",
          "2022-10-21T03:10:24.515999928",
          "2022-10-21T04:00:29.815999881",
          "2022-10-21T04:00:58.515999928",
          "2022-10-21T04:06:59.315999881",
          "2022-10-21T05:00:29.615999952",
          "2022-10-21T05:02:53.115999952",
          "2022-10-21T05:17:46.915999905",
          "2022-10-21T06:00:29.415999905",
          "2022-10-21T06:02:03.715999976",
          "2022-10-21T06:05:04.115999952",
          "2022-10-21T07:00:29.215999976",
          "2022-10-21T07:03:00.915999905",
          "2022-10-21T07:07:23.315999881",
          "2022-10-21T08:00:29.015999928",
          "2022-10-21T08:00:57.715999976",
          "2022-10-21T08:03:41.715999976",
          "2022-10-21T09:00:28.815999881",
          "2022-10-21T09:01:13.915999905",
          "2022-10-21T09:04:06.115999952",
          "2022-10-21T10:00:28.615999952",
          "2022-10-21T10:04:05.915999905",
          "2022-10-21T10:08:20.115999952",
          "2022-10-21T11:00:28.415999905",
          "2022-10-21T11:01:09.415999905",
          "2022-10-21T11:01:46.315999881",
          "2022-10-21T12:00:28.215999976",
          "2022-10-21T12:09:25.315999881",
          "2022-10-21T12:24:35.515999928",
          "2022-10-21T13:00:28.015999928",
          "2022-10-21T13:11:11.715999976",
          "2022-10-21T13:16:56.115999952",
          "2022-10-21T14:00:27.815999881",
          "2022-10-21T14:07:21.915999905",
          "2022-10-21T14:15:50.315999881",
          "2022-10-21T15:00:27.615999952",
          "2022-10-21T15:00:52.215999976",
          "2022-10-21T15:34:49.915999905",
          "2022-10-21T16:00:27.415999905",
          "2022-10-21T16:10:30.115999952",
          "2022-10-21T16:32:18.015999928",
          "2022-10-21T16:33:02.319089905",
          "2022-10-21T16:37:29.844116584",
          "2022-10-21T16:37:30.100366608",
          "2022-10-21T16:47:47.662927881",
          "2022-10-21T17:37:29.900715486",
          "2022-10-21T17:43:44.282000676",
          "2022-10-21T18:03:44.557111875",
          "2022-10-21T18:12:31.663409964",
          "2022-10-21T18:12:31.664410010",
          "2022-10-21T18:19:38.318698660",
          "2022-10-21T18:19:38.319698707",
          "2022-10-21T18:19:38.575948730",
          "2022-10-21T18:54:08.051132337",
          "2022-10-21T19:19:38.120013848",
          "2022-10-21T19:19:38.888763920",
          "2022-10-21T19:19:40.938764111",
          "2022-10-21T19:25:14.063792244",
          "2022-10-21T19:25:14.064792291",
          "2022-10-21T19:51:28.719173089",
          "2022-10-21T19:51:28.720173136",
          "2022-10-21T19:51:29.488923207",
          "2022-10-21T20:19:23.314058081",
          "2022-10-21T20:51:28.520457998",
          "2022-10-21T20:52:31.557962790",
          "2022-10-21T20:58:56.701742068",
          "2022-10-21T21:51:28.320723072",
          "2022-10-21T21:51:34.214473501",
          "2022-10-21T21:53:22.864481226",
          "2022-10-21T21:53:22.865481273",
          "2022-10-21T21:58:51.119754330",
          "2022-10-21T21:58:51.120754376",
          "2022-10-21T21:58:53.683254496",
          "2022-10-21T22:30:05.077133313",
          "2022-10-21T22:58:50.920997277",
          "2022-10-21T23:31:22.008620635",
          "2022-10-21T23:52:03.027446047",
          "2022-10-21T23:58:50.721220389",
          "2022-10-21T23:58:53.796220556",
          "2022-10-22T00:38:23.340106622",
          "2022-10-22T00:58:50.521423713",
          "2022-10-22T01:07:38.908951894",
          "2022-10-22T01:55:56.584098831",
          "2022-10-22T01:58:50.321607247",
          "2022-10-22T02:04:56.246624723",
          "2022-10-22T02:30:05.046695009",
          "2022-10-22T02:58:50.121770993",
          "2022-10-22T02:58:54.221771136",
          "2022-10-22T03:37:39.690616385",
          "2022-10-22T03:58:49.921914950",
          "2022-10-22T03:59:04.271915451",
          "2022-10-22T03:59:08.628165618",
          "2022-10-22T04:58:49.722039119",
          "2022-10-22T04:59:02.790789500",
          "2022-10-22T04:59:12.528289810",
          "2022-10-22T05:58:49.522143498",
          "2022-10-22T05:58:51.059643522",
          "2022-10-22T06:09:39.628410235",
          "2022-10-22T06:58:49.322228089",
          "2022-10-22T06:58:58.547228352",
          "2022-10-22T07:21:15.403504625",
          "2022-10-22T07:58:49.122292892",
          "2022-10-22T07:59:09.109793201",
          "2022-10-22T07:59:24.997293488",
          "2022-10-22T08:58:48.922338024",
          "2022-10-22T08:59:03.016088143",
          "2022-10-22T09:13:56.303596154",
          "2022-10-22T09:58:48.722363249",
          "2022-10-22T09:58:58.203613297",
          "2022-10-22T10:09:56.509865776",
          "2022-10-22T10:58:48.522368685",
          "2022-10-22T11:01:40.466118470",
          "2022-10-22T11:08:35.334867731",
          "2022-10-22T11:58:48.322354332",
          "2022-10-22T12:01:01.316103474",
          "2022-10-22T12:09:10.753599897",
          "2022-10-22T12:58:48.122320310",
          "2022-10-22T12:58:58.628570095",
          "2022-10-22T13:03:10.009817019",
          "2022-10-22T13:58:47.922266379",
          "2022-10-22T14:02:15.997262612",
          "2022-10-22T14:02:53.409762040",
          "2022-10-22T14:58:47.722192660",
          "2022-10-22T14:58:54.897192493",
          "2022-10-22T15:02:32.965937391",
          "2022-10-22T15:58:47.522099272",
          "2022-10-22T15:58:54.697098986",
          "2022-10-22T16:00:55.134595529",
          "2022-10-22T16:48:09.259507552",
          "2022-10-22T16:48:09.260507599",
          "2022-10-22T17:22:57.282107607",
          "2022-10-22T17:22:57.283107654",
          "2022-10-22T17:38:49.251921311",
          "2022-10-22T17:42:52.615999952",
          "2022-10-22T17:59:57.615999952"
         ],
         "y": [
          167.15916846487335,
          167.15761830476603,
          167.17198880680377,
          167.16861333987217,
          167.18130025270034,
          166.18546142669967,
          165.19780816657226,
          164.21490607875526,
          163.22814022246394,
          162.2431066720432,
          161.2661542309357,
          160.285387315044,
          159.31978963607784,
          158.33859800268897,
          157.3501928631869,
          156.3624710030228,
          155.3828049795267,
          154.41919447782274,
          153.47682193977406,
          152.5008144110534,
          151.55519169494974,
          150.57998839444505,
          149.6431338951269,
          148.68050875440272,
          147.69208830159275,
          146.75125589535514,
          145.78984047540033,
          144.8121465825052,
          143.82324707324182,
          142.8280116953872,
          141.83105067062579,
          140.83400660035335,
          139.83691518151153,
          138.83979828046577,
          137.8426805009676,
          136.84553970021673,
          135.84843110247434,
          134.8512959864848,
          133.85470562777138,
          132.8574422193356,
          131.86039687513832,
          130.86324403807322,
          129.86604770488597,
          128.86891375203612,
          127.87168402175004,
          126.87453065942906,
          125.87731893939363,
          124.88009825793293,
          123.88288851472446,
          122.88559493756922,
          121.88836221746449,
          120.8911366992456,
          119.89379744106077,
          118.89645982972176,
          117.89908531242997,
          116.90170872088171,
          115.90429348615096,
          114.90683507167253,
          113.90941667316972,
          112.91193230305208,
          111.91439084097767,
          110.91734291720859,
          109.91978470749358,
          108.92225319286581,
          107.92469360095068,
          106.92708925035697,
          105.92947934873828,
          104.93181405366292,
          103.93415300964554,
          102.9365378808391,
          101.93895426769669,
          100.94130904262721,
          99.94368368957687,
          98.94614031075434,
          97.94861464572341,
          96.95104341534761,
          95.95354585326429,
          94.95611444736575,
          93.95876262456498,
          92.96136106876497,
          91.96401014597961,
          90.96677649659766,
          89.96956952556029,
          88.97275366266518,
          87.97556228737399,
          86.97853721102837,
          85.98159140186897,
          84.9847746153116,
          83.99046343901513,
          83.00351504018042,
          82.02892978451358,
          81.07135800150054,
          80.1352345776804,
          79.15174557522536,
          78.19399433616579,
          77.19638185868051,
          76.2283233456909,
          75.28978507629311,
          74.32122611214712,
          73.3287828086367,
          72.37436087457566,
          71.40507762362968,
          70.42803453497513,
          69.45084142589242,
          68.48088047633411,
          67.48469012849128,
          66.51904227028741,
          65.522779203191,
          64.5275940559953,
          63.54204641003229,
          62.55470537309049,
          61.56140270372502,
          60.78576394509987,
          60.78963525678657,
          60.78888500953725,
          60.796062894842045,
          60.79262279703297,
          60.792397943976155,
          60.80005681320547,
          60.795414685060415,
          60.79541328110338,
          60.80339318819336,
          60.80023188306829,
          60.79997324990638,
          61.79831998430004,
          62.79190258077019,
          63.77910772463175,
          64.76894914364816,
          65.75654864499708,
          66.73562266193196,
          67.71802544584149,
          68.68500337476601,
          69.66721248492867,
          70.65661734925241,
          71.64507598750022,
          72.62523412769849,
          73.58992846665345,
          74.53246972952101,
          75.50869716383451,
          76.45467563192263,
          77.42987845172891,
          78.36671189199686,
          79.32915517335194,
          80.31735637738582,
          81.25796036253865,
          82.2192868391697,
          83.19683331871018,
          84.18574996471175,
          85.1810243394804,
          86.17813798487559,
          87.17533513295906,
          88.1725348581322,
          89.16968902262491,
          90.16692765917149,
          91.16417350407045,
          92.16138528078685,
          93.15852785236633,
          94.15574440177224,
          95.15301430086595,
          96.15026814554406,
          97.14746526942892,
          98.1452710167244,
          99.14259723857855,
          100.13979540259751,
          101.13711428999017,
          102.13450344085624,
          103.13174125592828,
          104.12911583600746,
          105.12658457587249,
          106.12399079977783,
          107.12140530209957,
          108.11893677468728,
          109.11651847209241,
          110.11405287056766,
          111.11158738186002,
          112.10923390046287,
          113.1069265696223,
          114.10463090610504,
          115.10232437138258,
          116.10008828815799,
          117.09780257642394,
          118.09563956930977,
          119.09358459890836,
          120.09201363474101,
          121.08989378900534,
          122.0877677550035,
          123.08568314419432,
          124.08362127852152,
          125.08156237097407,
          126.0794870158222,
          127.0774027862193,
          128.07521826430204,
          129.0730963224845,
          130.0710445784526,
          131.06885509410822,
          132.06666515349605,
          133.06449556519283,
          134.06220617524312,
          135.05988107264187,
          136.05757692533427,
          137.0551825714154,
          138.05270749341605,
          139.05018832072585,
          140.04757362076117,
          141.04496605409705,
          142.04227921055485,
          143.0400706090088,
          144.0347107149554,
          145.0221247681246,
          145.9973239974582,
          146.9554723918596,
          147.89239998556258,
          148.87657580502864,
          149.8350033622313,
          150.83329027324297,
          151.8019627927501,
          152.7410622442371,
          153.71027102302807,
          154.70318066188153,
          155.6581229605382,
          156.6278409696633,
          157.6051656941115,
          158.58280120865606,
          159.55298519129195,
          160.5497494810795,
          161.5151094841953,
          162.5107038599663,
          163.50493790943773,
          164.4893054449913,
          165.4750647393246,
          166.46651639980493,
          167.25339275400324,
          167.25127136811153,
          167.26574008992762,
          167.26573520228948,
          167.26201062028653,
          167.2773582000996,
          167.2772847582043,
          167.27387649308562,
          167.2886965359994,
          167.28798004869515,
          167.29120028391708,
          166.2918281651162,
          165.29802322795237,
          164.31111944608864,
          163.3217304314849,
          162.33374535768624,
          161.35413844841693,
          160.37093576368397,
          159.4032151421724,
          158.42010887614055,
          157.42984740926397,
          156.44035745334315,
          155.45922528464857,
          154.49348604202868,
          153.54986851229313,
          152.57260778771501,
          151.6258607683684,
          150.64956797167508,
          149.7116919396593,
          148.7488026165299,
          147.75947863554606,
          146.81779885408497,
          145.85548563411373,
          144.87707895737987,
          143.88746710665723,
          142.8916771250456,
          141.89419456028816,
          140.89657316681973,
          139.89895243527437,
          138.901397034595,
          137.90384093257342,
          136.90620300856995,
          135.90860236293994,
          134.91090544068354,
          133.91338166640259,
          132.91573680526758,
          131.91815316250486,
          130.9204924986321,
          129.9227871798604,
          128.92518125326947,
          127.92754650950835,
          126.93048149823767,
          125.93281189983011,
          124.93509484682295,
          123.93737526884773,
          122.9396223828397,
          121.94195058971088,
          120.94416818356805,
          119.94645566515939,
          118.94857635228149,
          117.95074682971023,
          116.95281007136379,
          115.95489595780731,
          114.9570390432635,
          113.9590671867958,
          112.96109114380467,
          111.96307552789393,
          110.96506893378299,
          109.96709578708511,
          108.969061080622,
          107.97093245861939,
          106.97280753082401,
          105.97489485879242,
          104.97694704210049,
          103.97934801554926,
          102.98137229721677,
          101.98339551038625,
          100.98540611812938,
          99.98735202071661,
          98.9895023128482,
          97.99161143383488,
          96.9936759905488,
          95.99591858861955,
          94.9981200985876,
          94.00035966654887,
          93.00276143797612,
          92.00507420386148,
          91.00745075612207,
          90.00998865725258,
          89.01252831150752,
          88.01507904716824,
          87.01773563299967,
          86.02040998004499,
          85.02336566144083,
          84.02889291127362,
          83.04173498363511,
          82.06741459451551,
          81.10972838789773,
          80.17348285112608,
          79.18978129841621,
          78.23207024788613,
          77.2342809467807,
          76.26610956240778,
          75.32740265575003,
          74.35866598029853,
          73.36605745280762,
          72.41141064991085,
          71.44194408458132,
          70.46455460580299,
          69.48684420079444,
          68.51661403836978,
          67.5202198421887,
          66.55429601077147,
          65.55816417135412,
          64.56277087584874,
          63.57699806471427,
          62.58957512229874,
          61.596411435257146,
          60.82234632678007,
          60.82735906710689,
          60.8267555989537,
          60.83526893418298,
          60.8307426110629,
          60.8307292621681,
          60.83986449893014,
          60.836147264588014,
          60.844456747045506,
          60.84159100209156,
          60.8411680197168,
          60.84933767171599,
          60.84745964063287,
          60.846949646548985,
          61.840824293808254,
          62.83565208757262,
          63.823777272194135,
          64.8148449859363,
          65.80313970381863,
          66.78337556051828,
          67.76627576033846,
          68.73344510553218,
          69.71606807971243,
          70.7055380868311,
          71.6940220126117,
          72.67401559970406,
          73.63854728436351,
          74.58100509986681,
          75.55692368373442,
          76.50235643350422,
          77.47726523876415,
          78.41374677129409,
          79.3760014328614,
          80.36397129156123,
          81.30432649147329,
          82.2659966500384,
          83.24350193625621,
          84.23228261196432,
          85.22761900523504,
          86.22477822193326,
          87.22207690204174,
          88.21941033875923,
          89.2168278259804,
          90.21427842736752,
          91.21173930926221,
          92.2091672025208,
          93.20682363050875,
          94.20449216205944,
          95.20211368417846,
          96.19990479514277,
          97.1976290244176,
          98.19553632043784,
          99.19345232587116,
          100.19133153015068,
          101.18940194081271,
          102.18735939572001,
          103.18549842397614,
          104.18362284127564,
          105.18236334407035,
          106.18065542439673,
          107.17879510963978,
          108.17715637186161,
          109.17544496992417,
          110.1737445960351,
          111.17210805544856,
          112.17044458777926,
          113.16872935907014,
          114.16712206118258,
          115.16546292103317,
          116.16376329832462,
          117.1620880311178,
          118.16042231642959,
          119.15876603974505,
          120.1570372100167,
          121.1553213132546,
          122.15357010477338,
          123.1517554718239,
          124.14993766964777,
          125.14804701709534,
          126.14617441460213,
          127.14486582113518,
          128.14284177691817,
          129.14082881719318,
          130.1388108650139,
          131.1368314678649,
          132.13470286365467,
          133.1325530320258,
          134.13045683157864,
          135.12821263353658,
          136.12608143609236,
          137.12382586485296,
          138.12165017549836,
          139.11937129709838,
          140.11708622406388,
          141.11480071091822,
          142.1125049166793,
          143.1100884054753,
          144.10523163400111,
          145.09333812568806,
          146.0694061790179,
          147.02854013483127,
          147.9664222407841,
          148.9517274332318,
          149.91206871618112,
          150.91168751023443,
          151.8817538358414,
          152.82250879454102,
          153.79332305362928,
          154.78804412091958,
          155.74479304813988,
          156.71653553256036,
          157.69605763344714,
          158.67595603550507,
          159.64852343925858,
          160.64708578920477,
          161.61498437701948,
          162.61358775536667,
          163.61077630910836,
          164.59888952615904,
          165.58776472849854,
          166.5820453583895,
          167.37321530114417,
          167.37236272172208,
          167.36871718839524,
          167.37524804231523,
          167.374981714891,
          90,
          167.3750202431255,
          167.373637266436,
          167.3878334692073,
          167.38416539812704,
          168.38356969313816,
          169.3824259541421,
          170.37996674000564,
          171.03140111612774,
          170.99679621122536,
          170.1964569091797,
          169.29652404785156,
          168.31051635742188,
          167.36788940429688,
          167.43641662597656,
          166.59735107421875,
          166.599365234375,
          165.69158935546875,
          164.8619842529297,
          163.96649169921875,
          162.99200439453125,
          162.1490020751953,
          161.1564178466797,
          160.2574920654297,
          159.37057495117188,
          158.47161865234375,
          157.4798126220703,
          156.48455810546875,
          155.51666259765625,
          154.6058349609375,
          153.74098205566406,
          152.74649047851562,
          151.9119873046875,
          150.9772491455078,
          150.1206512451172,
          149.12892150878906,
          148.2622833251953,
          147.32203674316406,
          146.47369384765625,
          145.60511779785156,
          144.6942901611328,
          144.00318908691406,
          143.01417541503906,
          142.12171936035156,
          141.1548309326172,
          140.33038330078125,
          139.4747314453125,
          138.53530883789062,
          137.54823303222656,
          136.6199493408203,
          135.6466064453125,
          134.74591064453125,
          133.81114196777344,
          132.93890380859375,
          131.941650390625,
          131.05113220214844,
          130.1053924560547,
          129.25430297851562,
          128.257080078125,
          127.34264373779297,
          126.39417266845703,
          125.54306030273438,
          124.67176055908203,
          123.72134399414062,
          123.04866790771484,
          122.19576263427734,
          121.31430053710938,
          120.59190368652344,
          119.60289001464844,
          118.72059631347656,
          117.77760314941406,
          116.91632843017578,
          115.93555450439453,
          115.05876159667969,
          114.13419342041016,
          113.23528289794922,
          112.28117370605469,
          111.38322448730469,
          110.46138000488281,
          109.55424499511719,
          108.5679931640625,
          107.69120025634766,
          106.7454605102539,
          105.87788391113281,
          104.9771957397461,
          104.00110626220703,
          103.05811309814453,
          102.14823150634766,
          101.1749038696289,
          100.28711700439453,
          99.36803436279297,
          98.46638488769531,
          97.56294250488281,
          96.58412170410156,
          95.67294311523438,
          94.99044799804688,
          94.2729263305664,
          93.36474609375,
          92.47264862060547,
          91.55354309082031,
          91.55354309082031,
          90.60094451904297,
          90.60094451904297,
          90.05055236816406,
          90.07710266113281,
          90.1485366821289,
          90.05055236816406,
          90.09817504882812,
          90.05055236816406,
          90.1485366821289,
          90.0743637084961,
          90.05055236816406,
          90.14579772949219,
          90.0743637084961,
          90.05055236816406,
          90.14579772949219,
          90.12198638916016,
          90.14579772949219,
          90.05055236816406,
          90.0743637084961,
          90.05055236816406,
          90.14579772949219,
          90.0743637084961,
          90.05055236816406,
          90.14579772949219,
          90.0743637084961,
          90.05055236816406,
          90.14579772949219,
          90.09817504882812,
          90.05055236816406,
          90.14579772949219,
          90.12198638916016,
          90.05055236816406,
          90.14579772949219,
          90.0743637084961,
          90.05055236816406,
          90.14579772949219,
          90.12198638916016,
          90.05055236816406,
          90.14579772949219,
          90.12198638916016,
          90.14579772949219,
          90.05055236816406,
          90.09817504882812,
          90.05055236816406,
          90.14579772949219,
          90.12198638916016,
          90.05055236816406,
          90.14579772949219,
          90.12198638916016,
          90.14579772949219,
          90.05055236816406,
          90.0743637084961,
          90.05055236816406,
          90.14579772949219,
          90.12198638916016,
          90.14579772949219,
          90.05055236816406,
          90.09817504882812,
          90.14579772949219,
          90.05055236816406,
          90.07161712646484,
          90.14579772949219,
          90.04780578613281,
          90.09817504882812,
          90.04780578613281,
          90.14579772949219,
          90.0743637084961,
          90.07161712646484,
          90.14579772949219,
          90.07161712646484,
          90.14305114746094,
          90.02954864501953,
          72.70429992675781,
          72.70429992675781,
          89.5193862915039,
          90.17784118652344,
          90.0938949584961,
          90.1078872680664,
          90.0491714477539,
          90.07715606689453,
          null,
          null,
          90.07715606689453,
          90.10514068603516,
          90.0351791381836,
          90.07715606689453,
          90.10514068603516,
          90.0491714477539,
          90.07715606689453,
          null,
          null,
          90.06040954589844,
          90.04642486572266,
          90.11637878417969,
          90.10238647460938,
          90.11637878417969,
          90.04642486572266,
          90.05766296386719,
          90.11363220214844,
          90.07166290283203,
          null,
          null,
          90.08564758300781,
          90.05766296386719,
          90.14161682128906,
          90.12762451171875,
          89.38605499267578,
          90.26753997802734,
          90.15560913085938,
          90.18359375,
          89.94573211669922,
          90.00170135498047,
          89.9317398071289,
          90.07166290283203,
          89.98770904541016,
          89.95972442626953,
          90.07166290283203,
          90.01569366455078,
          90.05766296386719,
          89.98770904541016,
          90.02967834472656,
          89.98770904541016,
          90.05766296386719,
          90.01569366455078,
          90.05766296386719,
          89.98770904541016,
          90.01569366455078,
          89.98770904541016,
          90.05766296386719,
          90.01569366455078,
          89.98770904541016,
          90.05766296386719,
          90.01569366455078,
          89.98770904541016,
          90.05766296386719,
          90.01569366455078,
          89.98770904541016,
          90.05766296386719,
          90.00170135498047,
          89.98770904541016,
          90.05766296386719,
          90.01569366455078,
          89.98770904541016,
          90.05766296386719,
          90.01569366455078,
          90.05766296386719,
          89.98770904541016,
          90.02967834472656,
          89.98770904541016,
          90.05766296386719,
          90.01569366455078,
          90.05766296386719,
          89.98770904541016,
          90.02967834472656,
          89.98770904541016,
          90.05766296386719,
          90.01569366455078,
          89.98770904541016,
          90.05766296386719,
          90.00170135498047,
          null,
          null,
          90.02446746826172,
          89.97125244140625,
          90.43668365478516,
          90.18141174316406
         ]
        },
        {
         "hovertemplate": "%{x|%Y:%j:%H:%M:%S} %{y}",
         "line": {
          "color": "#ff7f0e",
          "width": 3
         },
         "marker": {
          "opacity": 0.9,
          "size": 8
         },
         "mode": "lines+markers",
         "name": "State",
         "opacity": 0.75,
         "showlegend": false,
         "type": "scatter",
         "x": [
          "2022-10-19T18:00:00.740999952",
          "2022-10-19T18:05:31.815999881",
          "2022-10-19T19:00:00.540999905",
          "2022-10-19T19:48:31.540999905",
          "2022-10-19T19:48:32.565999881",
          "2022-10-19T19:53:28.790999905",
          "2022-10-19T19:53:29.815999881",
          "2022-10-19T19:58:26.040999905",
          "2022-10-19T19:58:27.065999881",
          "2022-10-19T20:03:23.290999905",
          "2022-10-19T20:03:24.315999881",
          "2022-10-19T20:08:21.565999881",
          "2022-10-19T20:08:22.590999976",
          "2022-10-19T20:13:18.815999881",
          "2022-10-19T20:13:19.840999976",
          "2022-10-19T20:18:16.065999881",
          "2022-10-19T20:18:17.090999976",
          "2022-10-19T20:23:14.340999976",
          "2022-10-19T20:23:15.365999952",
          "2022-10-19T20:52:11.715999976",
          "2022-10-19T21:23:15.165999905",
          "2022-10-19T22:23:14.965999976",
          "2022-10-19T23:23:14.765999928",
          "2022-10-19T23:38:51.615999952",
          "2022-10-20T00:23:14.565999881",
          "2022-10-20T00:37:43.765999928",
          "2022-10-20T00:37:44.790999905",
          "2022-10-20T00:42:41.015999928",
          "2022-10-20T00:42:42.040999905",
          "2022-10-20T00:47:39.290999905",
          "2022-10-20T00:47:40.315999881",
          "2022-10-20T00:52:36.540999905",
          "2022-10-20T00:52:37.565999881",
          "2022-10-20T00:57:33.790999905",
          "2022-10-20T00:57:34.815999881",
          "2022-10-20T01:02:32.065999881",
          "2022-10-20T01:02:33.090999976",
          "2022-10-20T01:07:29.315999881",
          "2022-10-20T01:07:30.340999976",
          "2022-10-20T01:12:26.565999881",
          "2022-10-20T01:12:27.590999976",
          "2022-10-20T02:12:27.390999928",
          "2022-10-20T02:25:31.515999928",
          "2022-10-20T03:12:27.190999881",
          "2022-10-20T04:12:26.990999952",
          "2022-10-20T05:12:11.415999905",
          "2022-10-20T05:12:26.790999905",
          "2022-10-20T05:26:57.015999928",
          "2022-10-20T05:26:58.040999905",
          "2022-10-20T05:31:54.265999928",
          "2022-10-20T05:31:55.290999905",
          "2022-10-20T05:36:51.515999928",
          "2022-10-20T05:36:52.540999905",
          "2022-10-20T05:41:48.765999928",
          "2022-10-20T05:41:49.790999905",
          "2022-10-20T05:46:47.040999905",
          "2022-10-20T05:46:48.065999881",
          "2022-10-20T05:51:44.290999905",
          "2022-10-20T05:51:45.315999881",
          "2022-10-20T05:56:41.540999905",
          "2022-10-20T05:56:42.565999881",
          "2022-10-20T06:01:39.815999881",
          "2022-10-20T06:01:40.840999976",
          "2022-10-20T07:01:40.640999928",
          "2022-10-20T07:58:51.315999881",
          "2022-10-20T08:01:40.440999881",
          "2022-10-20T09:01:40.240999952",
          "2022-10-20T10:01:40.040999905",
          "2022-10-20T10:45:31.215999976",
          "2022-10-20T11:01:39.840999976",
          "2022-10-20T11:06:09.415999905",
          "2022-10-20T11:06:10.440999881",
          "2022-10-20T11:11:06.665999905",
          "2022-10-20T11:11:07.690999881",
          "2022-10-20T11:16:04.940999881",
          "2022-10-20T11:16:05.965999976",
          "2022-10-20T11:21:02.190999881",
          "2022-10-20T11:21:03.215999976",
          "2022-10-20T11:25:59.440999881",
          "2022-10-20T11:26:00.465999976",
          "2022-10-20T11:30:56.690999881",
          "2022-10-20T11:30:57.715999976",
          "2022-10-20T11:35:54.965999976",
          "2022-10-20T11:35:55.990999952",
          "2022-10-20T11:40:52.215999976",
          "2022-10-20T11:40:53.240999952",
          "2022-10-20T12:40:53.040999905",
          "2022-10-20T13:32:11.115999952",
          "2022-10-20T13:40:52.840999976",
          "2022-10-20T14:37:06.115999952",
          "2022-10-20T14:40:52.640999928",
          "2022-10-20T14:42:09.515999928",
          "2022-10-20T14:47:10.865999952",
          "2022-10-20T14:47:11.890999928",
          "2022-10-20T14:52:14.265999928",
          "2022-10-20T14:52:15.290999905",
          "2022-10-20T14:57:17.665999905",
          "2022-10-20T14:57:18.690999881",
          "2022-10-20T15:02:20.040999905",
          "2022-10-20T15:07:24.465999976",
          "2022-10-20T16:02:19.840999976",
          "2022-10-20T16:18:51.015999928",
          "2022-10-20T16:27:48.115999952",
          "2022-10-20T16:27:49.140999928",
          "2022-10-20T16:32:35.115999952",
          "2022-10-20T16:32:39.215999976",
          "2022-10-20T16:37:26.215999976",
          "2022-10-20T16:37:30.315999881",
          "2022-10-20T16:42:13.215999976",
          "2022-10-20T16:42:17.315999881",
          "2022-10-20T16:47:04.315999881",
          "2022-10-20T16:47:08.415999905",
          "2022-10-20T16:51:51.315999881",
          "2022-10-20T16:51:55.415999905",
          "2022-10-20T16:56:42.415999905",
          "2022-10-20T16:56:46.515999928",
          "2022-10-20T17:56:46.315999881",
          "2022-10-20T18:56:46.115999952",
          "2022-10-20T19:56:45.915999905",
          "2022-10-20T20:56:45.715999976",
          "2022-10-20T21:56:45.515999928",
          "2022-10-20T22:56:45.315999881",
          "2022-10-20T23:56:45.115999952",
          "2022-10-21T00:56:44.915999905",
          "2022-10-21T01:56:44.715999976",
          "2022-10-21T02:56:44.515999928",
          "2022-10-21T03:56:44.315999881",
          "2022-10-21T04:56:44.115999952",
          "2022-10-21T05:56:43.915999905",
          "2022-10-21T06:56:43.715999976",
          "2022-10-21T07:56:43.515999928",
          "2022-10-21T08:56:43.315999881",
          "2022-10-21T09:56:43.115999952",
          "2022-10-21T10:56:42.915999905",
          "2022-10-21T11:56:42.715999976",
          "2022-10-21T12:56:42.515999928",
          "2022-10-21T13:56:42.315999881",
          "2022-10-21T14:56:42.115999952",
          "2022-10-21T15:56:41.915999905",
          "2022-10-21T16:33:02.319089905",
          "2022-10-21T16:36:36.544111267",
          "2022-10-21T16:56:41.687980309",
          "2022-10-21T17:56:41.488322869",
          "2022-10-21T18:12:31.663409964",
          "2022-10-21T18:12:31.664410010",
          "2022-10-21T18:19:38.318698660",
          "2022-10-21T18:19:38.319698707",
          "2022-10-21T19:19:38.120013848",
          "2022-10-21T19:25:14.063792244",
          "2022-10-21T19:25:14.064792291",
          "2022-10-21T19:51:28.719173089",
          "2022-10-21T19:51:28.720173136",
          "2022-10-21T20:51:28.520457998",
          "2022-10-21T21:51:28.320723072",
          "2022-10-21T21:53:22.864481226",
          "2022-10-21T21:53:22.865481273",
          "2022-10-21T21:58:51.119754330",
          "2022-10-21T21:58:51.120754376",
          "2022-10-21T22:58:50.920997277",
          "2022-10-21T23:58:50.721220389",
          "2022-10-22T00:58:50.521423713",
          "2022-10-22T01:58:50.321607247",
          "2022-10-22T02:58:50.121770993",
          "2022-10-22T03:58:49.921914950",
          "2022-10-22T04:58:49.722039119",
          "2022-10-22T05:58:49.522143498",
          "2022-10-22T06:58:49.322228089",
          "2022-10-22T07:58:49.122292892",
          "2022-10-22T08:58:48.922338024",
          "2022-10-22T09:58:48.722363249",
          "2022-10-22T10:58:48.522368685",
          "2022-10-22T11:58:48.322354332",
          "2022-10-22T12:58:48.122320310",
          "2022-10-22T13:58:47.922266379",
          "2022-10-22T14:58:47.722192660",
          "2022-10-22T15:58:47.522099272",
          "2022-10-22T16:48:09.259507552",
          "2022-10-22T16:48:09.260507599",
          "2022-10-22T17:22:57.282107607",
          "2022-10-22T17:22:57.283107654",
          "2022-10-22T17:59:57.615999952"
         ],
         "y": [
          167.25861725790938,
          167.2914203503193,
          167.2914203503193,
          167.2914203503193,
          165.08240098621297,
          165.08240098621297,
          155.13455517304158,
          155.13455517304158,
          136.32709333662703,
          136.32709333662703,
          114.09684025166052,
          114.09684025166052,
          91.86849678343202,
          91.86849678343202,
          73.05897371143362,
          73.05897371143362,
          63.09963604818583,
          63.09963604818583,
          60.86122377945413,
          60.863772518069,
          60.863772518069,
          60.863772518069,
          60.863772518069,
          60.878525716383365,
          60.878525716383365,
          60.878525716383365,
          63.12318395388863,
          63.12318395388863,
          73.08561493529126,
          73.08561493529126,
          91.89968706687284,
          91.89968706687284,
          114.13301517196375,
          114.13301517196375,
          136.36929155962827,
          136.36929155962827,
          155.18585219876147,
          155.18585219876147,
          165.14363225354796,
          165.14363225354796,
          167.3788556393364,
          167.3788556393364,
          167.3933495278663,
          167.3933495278663,
          167.3933495278663,
          167.4257318810534,
          167.4257318810534,
          167.4257318810534,
          165.19181582205016,
          165.19181582205016,
          155.2295249728921,
          155.2295249728921,
          136.4082140334923,
          136.4082140334923,
          114.16894532767554,
          114.16894532767554,
          91.93290345039154,
          91.93290345039154,
          73.11592988839848,
          73.11592988839848,
          63.15182817307751,
          63.15182817307751,
          60.91216634629464,
          60.91216634629464,
          60.92281952786404,
          60.92281952786404,
          60.92281952786404,
          60.92281952786404,
          60.93807993473553,
          60.93807993473553,
          60.93807993473553,
          63.18070992762728,
          63.18070992762728,
          73.14811437366292,
          73.14811437366292,
          91.96985841349185,
          91.96985841349185,
          114.21093580662361,
          114.21093580662361,
          136.45597066380847,
          136.45597066380847,
          155.28551416411813,
          155.28551416411813,
          165.25654800200522,
          165.25654800200522,
          167.49706557147152,
          167.49706557147152,
          167.5166540008467,
          167.5166540008467,
          167.70348824536825,
          167.70348824536825,
          168.10882482576147,
          168.10882482576147,
          168.75756634046377,
          168.75756634046377,
          169.543273416675,
          169.543273416675,
          170.24915429889057,
          170.24915429889057,
          170.6960091297898,
          170.6960091297898,
          170.64672840292172,
          170.64672840292172,
          168.53000007961032,
          168.53000007961032,
          159.11907836260417,
          159.11907836260417,
          141.06454552323487,
          141.06454552323487,
          119.55622927637354,
          119.55622927637354,
          101.50164268246473,
          101.50164268246473,
          92.09063895542971,
          92.09063895542971,
          89.98005823396036,
          89.98005823396036,
          89.98005823396036,
          89.98005823396036,
          89.98005823396036,
          89.98005823396036,
          89.98005823396036,
          89.98005823396036,
          89.98005823396036,
          89.98005823396036,
          89.98005823396036,
          89.98005823396036,
          89.98005823396036,
          89.98005823396036,
          89.98005823396036,
          89.98005823396036,
          89.98005823396036,
          89.98005823396036,
          89.98005823396036,
          89.98005823396036,
          89.98005823396036,
          89.98005823396036,
          89.98005823396036,
          89.98005823396036,
          89.50034248417157,
          89.99714171028053,
          89.99714171028053,
          89.99714171028053,
          89.99714171028053,
          null,
          null,
          89.99714171028053,
          89.99714171028053,
          89.99714171028053,
          null,
          null,
          89.99714171028053,
          89.99714171028053,
          89.99714171028053,
          89.99714171028053,
          null,
          null,
          89.99714171028053,
          89.99714171028053,
          89.99714171028053,
          89.99714171028053,
          89.99714171028053,
          89.99714171028053,
          89.99714171028053,
          89.99714171028053,
          89.99714171028053,
          89.99714171028053,
          89.99714171028053,
          89.99714171028053,
          89.99714171028053,
          89.99714171028053,
          89.99714171028053,
          89.99714171028053,
          89.99714171028053,
          89.99714171028053,
          89.99714171028053,
          89.99714171028053,
          null,
          null,
          89.99714171028053,
          89.99714171028053
         ]
        }
       ],
       "layout": {
        "shapes": [
         {
          "fillcolor": "black",
          "line": {
           "color": "black",
           "width": 3
          },
          "opacity": 0.2,
          "type": "rect",
          "x0": "2022-10-20T16:27:00",
          "x1": "2022-10-20T16:30:00",
          "xref": "x",
          "y0": 0,
          "y1": 1,
          "yref": "y domain"
         },
         {
          "fillcolor": "black",
          "line": {
           "color": "black",
           "width": 3
          },
          "opacity": 0.2,
          "type": "rect",
          "x0": "2022-10-20T16:27:49",
          "x1": "2022-10-20T17:12:49",
          "xref": "x",
          "y0": 0,
          "y1": 1,
          "yref": "y domain"
         },
         {
          "fillcolor": "black",
          "line": {
           "color": "black",
           "width": 3
          },
          "opacity": 0.2,
          "type": "rect",
          "x0": "2022-10-20T16:27:57.429000",
          "x1": "2022-10-20T16:32:59.479000",
          "xref": "x",
          "y0": 0,
          "y1": 1,
          "yref": "y domain"
         },
         {
          "fillcolor": "black",
          "line": {
           "color": "black",
           "width": 3
          },
          "opacity": 0.2,
          "type": "rect",
          "x0": "2022-10-20T16:27:59.479000",
          "x1": "2022-10-20T16:33:00.504000",
          "xref": "x",
          "y0": 0,
          "y1": 1,
          "yref": "y domain"
         },
         {
          "fillcolor": "black",
          "line": {
           "color": "black",
           "width": 3
          },
          "opacity": 0.2,
          "type": "rect",
          "x0": "2022-10-21T16:32:25.285000",
          "x1": "2022-10-21T16:37:27.347000",
          "xref": "x",
          "y0": 0,
          "y1": 1,
          "yref": "y domain"
         },
         {
          "fillcolor": "black",
          "line": {
           "color": "black",
           "width": 3
          },
          "opacity": 0.2,
          "type": "rect",
          "x0": "2022-10-22T16:48:09.260000",
          "x1": "2022-10-22T16:54:49.722000",
          "xref": "x",
          "y0": 0,
          "y1": 1,
          "yref": "y domain"
         },
         {
          "fillcolor": "black",
          "line": {
           "color": "black",
           "width": 3
          },
          "opacity": 0.2,
          "type": "rect",
          "x0": "2022-10-22T16:50:22.339000",
          "x1": "2022-10-22T17:27:56.002000",
          "xref": "x",
          "y0": 0,
          "y1": 1,
          "yref": "y domain"
         },
         {
          "fillcolor": "black",
          "line": {
           "color": "black",
           "width": 3
          },
          "opacity": 0.2,
          "type": "rect",
          "x0": "2022-10-22T17:22:56.002000",
          "x1": "2022-10-22T17:27:57.027000",
          "xref": "x",
          "y0": 0,
          "y1": 1,
          "yref": "y domain"
         }
        ],
        "template": {
         "data": {
          "bar": [
           {
            "error_x": {
             "color": "#2a3f5f"
            },
            "error_y": {
             "color": "#2a3f5f"
            },
            "marker": {
             "line": {
              "color": "#E5ECF6",
              "width": 0.5
             },
             "pattern": {
              "fillmode": "overlay",
              "size": 10,
              "solidity": 0.2
             }
            },
            "type": "bar"
           }
          ],
          "barpolar": [
           {
            "marker": {
             "line": {
              "color": "#E5ECF6",
              "width": 0.5
             },
             "pattern": {
              "fillmode": "overlay",
              "size": 10,
              "solidity": 0.2
             }
            },
            "type": "barpolar"
           }
          ],
          "carpet": [
           {
            "aaxis": {
             "endlinecolor": "#2a3f5f",
             "gridcolor": "white",
             "linecolor": "white",
             "minorgridcolor": "white",
             "startlinecolor": "#2a3f5f"
            },
            "baxis": {
             "endlinecolor": "#2a3f5f",
             "gridcolor": "white",
             "linecolor": "white",
             "minorgridcolor": "white",
             "startlinecolor": "#2a3f5f"
            },
            "type": "carpet"
           }
          ],
          "choropleth": [
           {
            "colorbar": {
             "outlinewidth": 0,
             "ticks": ""
            },
            "type": "choropleth"
           }
          ],
          "contour": [
           {
            "colorbar": {
             "outlinewidth": 0,
             "ticks": ""
            },
            "colorscale": [
             [
              0,
              "#0d0887"
             ],
             [
              0.1111111111111111,
              "#46039f"
             ],
             [
              0.2222222222222222,
              "#7201a8"
             ],
             [
              0.3333333333333333,
              "#9c179e"
             ],
             [
              0.4444444444444444,
              "#bd3786"
             ],
             [
              0.5555555555555556,
              "#d8576b"
             ],
             [
              0.6666666666666666,
              "#ed7953"
             ],
             [
              0.7777777777777778,
              "#fb9f3a"
             ],
             [
              0.8888888888888888,
              "#fdca26"
             ],
             [
              1,
              "#f0f921"
             ]
            ],
            "type": "contour"
           }
          ],
          "contourcarpet": [
           {
            "colorbar": {
             "outlinewidth": 0,
             "ticks": ""
            },
            "type": "contourcarpet"
           }
          ],
          "heatmap": [
           {
            "colorbar": {
             "outlinewidth": 0,
             "ticks": ""
            },
            "colorscale": [
             [
              0,
              "#0d0887"
             ],
             [
              0.1111111111111111,
              "#46039f"
             ],
             [
              0.2222222222222222,
              "#7201a8"
             ],
             [
              0.3333333333333333,
              "#9c179e"
             ],
             [
              0.4444444444444444,
              "#bd3786"
             ],
             [
              0.5555555555555556,
              "#d8576b"
             ],
             [
              0.6666666666666666,
              "#ed7953"
             ],
             [
              0.7777777777777778,
              "#fb9f3a"
             ],
             [
              0.8888888888888888,
              "#fdca26"
             ],
             [
              1,
              "#f0f921"
             ]
            ],
            "type": "heatmap"
           }
          ],
          "heatmapgl": [
           {
            "colorbar": {
             "outlinewidth": 0,
             "ticks": ""
            },
            "colorscale": [
             [
              0,
              "#0d0887"
             ],
             [
              0.1111111111111111,
              "#46039f"
             ],
             [
              0.2222222222222222,
              "#7201a8"
             ],
             [
              0.3333333333333333,
              "#9c179e"
             ],
             [
              0.4444444444444444,
              "#bd3786"
             ],
             [
              0.5555555555555556,
              "#d8576b"
             ],
             [
              0.6666666666666666,
              "#ed7953"
             ],
             [
              0.7777777777777778,
              "#fb9f3a"
             ],
             [
              0.8888888888888888,
              "#fdca26"
             ],
             [
              1,
              "#f0f921"
             ]
            ],
            "type": "heatmapgl"
           }
          ],
          "histogram": [
           {
            "marker": {
             "pattern": {
              "fillmode": "overlay",
              "size": 10,
              "solidity": 0.2
             }
            },
            "type": "histogram"
           }
          ],
          "histogram2d": [
           {
            "colorbar": {
             "outlinewidth": 0,
             "ticks": ""
            },
            "colorscale": [
             [
              0,
              "#0d0887"
             ],
             [
              0.1111111111111111,
              "#46039f"
             ],
             [
              0.2222222222222222,
              "#7201a8"
             ],
             [
              0.3333333333333333,
              "#9c179e"
             ],
             [
              0.4444444444444444,
              "#bd3786"
             ],
             [
              0.5555555555555556,
              "#d8576b"
             ],
             [
              0.6666666666666666,
              "#ed7953"
             ],
             [
              0.7777777777777778,
              "#fb9f3a"
             ],
             [
              0.8888888888888888,
              "#fdca26"
             ],
             [
              1,
              "#f0f921"
             ]
            ],
            "type": "histogram2d"
           }
          ],
          "histogram2dcontour": [
           {
            "colorbar": {
             "outlinewidth": 0,
             "ticks": ""
            },
            "colorscale": [
             [
              0,
              "#0d0887"
             ],
             [
              0.1111111111111111,
              "#46039f"
             ],
             [
              0.2222222222222222,
              "#7201a8"
             ],
             [
              0.3333333333333333,
              "#9c179e"
             ],
             [
              0.4444444444444444,
              "#bd3786"
             ],
             [
              0.5555555555555556,
              "#d8576b"
             ],
             [
              0.6666666666666666,
              "#ed7953"
             ],
             [
              0.7777777777777778,
              "#fb9f3a"
             ],
             [
              0.8888888888888888,
              "#fdca26"
             ],
             [
              1,
              "#f0f921"
             ]
            ],
            "type": "histogram2dcontour"
           }
          ],
          "mesh3d": [
           {
            "colorbar": {
             "outlinewidth": 0,
             "ticks": ""
            },
            "type": "mesh3d"
           }
          ],
          "parcoords": [
           {
            "line": {
             "colorbar": {
              "outlinewidth": 0,
              "ticks": ""
             }
            },
            "type": "parcoords"
           }
          ],
          "pie": [
           {
            "automargin": true,
            "type": "pie"
           }
          ],
          "scatter": [
           {
            "marker": {
             "colorbar": {
              "outlinewidth": 0,
              "ticks": ""
             }
            },
            "type": "scatter"
           }
          ],
          "scatter3d": [
           {
            "line": {
             "colorbar": {
              "outlinewidth": 0,
              "ticks": ""
             }
            },
            "marker": {
             "colorbar": {
              "outlinewidth": 0,
              "ticks": ""
             }
            },
            "type": "scatter3d"
           }
          ],
          "scattercarpet": [
           {
            "marker": {
             "colorbar": {
              "outlinewidth": 0,
              "ticks": ""
             }
            },
            "type": "scattercarpet"
           }
          ],
          "scattergeo": [
           {
            "marker": {
             "colorbar": {
              "outlinewidth": 0,
              "ticks": ""
             }
            },
            "type": "scattergeo"
           }
          ],
          "scattergl": [
           {
            "marker": {
             "colorbar": {
              "outlinewidth": 0,
              "ticks": ""
             }
            },
            "type": "scattergl"
           }
          ],
          "scattermapbox": [
           {
            "marker": {
             "colorbar": {
              "outlinewidth": 0,
              "ticks": ""
             }
            },
            "type": "scattermapbox"
           }
          ],
          "scatterpolar": [
           {
            "marker": {
             "colorbar": {
              "outlinewidth": 0,
              "ticks": ""
             }
            },
            "type": "scatterpolar"
           }
          ],
          "scatterpolargl": [
           {
            "marker": {
             "colorbar": {
              "outlinewidth": 0,
              "ticks": ""
             }
            },
            "type": "scatterpolargl"
           }
          ],
          "scatterternary": [
           {
            "marker": {
             "colorbar": {
              "outlinewidth": 0,
              "ticks": ""
             }
            },
            "type": "scatterternary"
           }
          ],
          "surface": [
           {
            "colorbar": {
             "outlinewidth": 0,
             "ticks": ""
            },
            "colorscale": [
             [
              0,
              "#0d0887"
             ],
             [
              0.1111111111111111,
              "#46039f"
             ],
             [
              0.2222222222222222,
              "#7201a8"
             ],
             [
              0.3333333333333333,
              "#9c179e"
             ],
             [
              0.4444444444444444,
              "#bd3786"
             ],
             [
              0.5555555555555556,
              "#d8576b"
             ],
             [
              0.6666666666666666,
              "#ed7953"
             ],
             [
              0.7777777777777778,
              "#fb9f3a"
             ],
             [
              0.8888888888888888,
              "#fdca26"
             ],
             [
              1,
              "#f0f921"
             ]
            ],
            "type": "surface"
           }
          ],
          "table": [
           {
            "cells": {
             "fill": {
              "color": "#EBF0F8"
             },
             "line": {
              "color": "white"
             }
            },
            "header": {
             "fill": {
              "color": "#C8D4E3"
             },
             "line": {
              "color": "white"
             }
            },
            "type": "table"
           }
          ]
         },
         "layout": {
          "annotationdefaults": {
           "arrowcolor": "#2a3f5f",
           "arrowhead": 0,
           "arrowwidth": 1
          },
          "autotypenumbers": "strict",
          "coloraxis": {
           "colorbar": {
            "outlinewidth": 0,
            "ticks": ""
           }
          },
          "colorscale": {
           "diverging": [
            [
             0,
             "#8e0152"
            ],
            [
             0.1,
             "#c51b7d"
            ],
            [
             0.2,
             "#de77ae"
            ],
            [
             0.3,
             "#f1b6da"
            ],
            [
             0.4,
             "#fde0ef"
            ],
            [
             0.5,
             "#f7f7f7"
            ],
            [
             0.6,
             "#e6f5d0"
            ],
            [
             0.7,
             "#b8e186"
            ],
            [
             0.8,
             "#7fbc41"
            ],
            [
             0.9,
             "#4d9221"
            ],
            [
             1,
             "#276419"
            ]
           ],
           "sequential": [
            [
             0,
             "#0d0887"
            ],
            [
             0.1111111111111111,
             "#46039f"
            ],
            [
             0.2222222222222222,
             "#7201a8"
            ],
            [
             0.3333333333333333,
             "#9c179e"
            ],
            [
             0.4444444444444444,
             "#bd3786"
            ],
            [
             0.5555555555555556,
             "#d8576b"
            ],
            [
             0.6666666666666666,
             "#ed7953"
            ],
            [
             0.7777777777777778,
             "#fb9f3a"
            ],
            [
             0.8888888888888888,
             "#fdca26"
            ],
            [
             1,
             "#f0f921"
            ]
           ],
           "sequentialminus": [
            [
             0,
             "#0d0887"
            ],
            [
             0.1111111111111111,
             "#46039f"
            ],
            [
             0.2222222222222222,
             "#7201a8"
            ],
            [
             0.3333333333333333,
             "#9c179e"
            ],
            [
             0.4444444444444444,
             "#bd3786"
            ],
            [
             0.5555555555555556,
             "#d8576b"
            ],
            [
             0.6666666666666666,
             "#ed7953"
            ],
            [
             0.7777777777777778,
             "#fb9f3a"
            ],
            [
             0.8888888888888888,
             "#fdca26"
            ],
            [
             1,
             "#f0f921"
            ]
           ]
          },
          "colorway": [
           "#636efa",
           "#EF553B",
           "#00cc96",
           "#ab63fa",
           "#FFA15A",
           "#19d3f3",
           "#FF6692",
           "#B6E880",
           "#FF97FF",
           "#FECB52"
          ],
          "font": {
           "color": "#2a3f5f"
          },
          "geo": {
           "bgcolor": "white",
           "lakecolor": "white",
           "landcolor": "#E5ECF6",
           "showlakes": true,
           "showland": true,
           "subunitcolor": "white"
          },
          "hoverlabel": {
           "align": "left"
          },
          "hovermode": "closest",
          "mapbox": {
           "style": "light"
          },
          "paper_bgcolor": "white",
          "plot_bgcolor": "#E5ECF6",
          "polar": {
           "angularaxis": {
            "gridcolor": "white",
            "linecolor": "white",
            "ticks": ""
           },
           "bgcolor": "#E5ECF6",
           "radialaxis": {
            "gridcolor": "white",
            "linecolor": "white",
            "ticks": ""
           }
          },
          "scene": {
           "xaxis": {
            "backgroundcolor": "#E5ECF6",
            "gridcolor": "white",
            "gridwidth": 2,
            "linecolor": "white",
            "showbackground": true,
            "ticks": "",
            "zerolinecolor": "white"
           },
           "yaxis": {
            "backgroundcolor": "#E5ECF6",
            "gridcolor": "white",
            "gridwidth": 2,
            "linecolor": "white",
            "showbackground": true,
            "ticks": "",
            "zerolinecolor": "white"
           },
           "zaxis": {
            "backgroundcolor": "#E5ECF6",
            "gridcolor": "white",
            "gridwidth": 2,
            "linecolor": "white",
            "showbackground": true,
            "ticks": "",
            "zerolinecolor": "white"
           }
          },
          "shapedefaults": {
           "line": {
            "color": "#2a3f5f"
           }
          },
          "ternary": {
           "aaxis": {
            "gridcolor": "white",
            "linecolor": "white",
            "ticks": ""
           },
           "baxis": {
            "gridcolor": "white",
            "linecolor": "white",
            "ticks": ""
           },
           "bgcolor": "#E5ECF6",
           "caxis": {
            "gridcolor": "white",
            "linecolor": "white",
            "ticks": ""
           }
          },
          "title": {
           "x": 0.05
          },
          "xaxis": {
           "automargin": true,
           "gridcolor": "white",
           "linecolor": "white",
           "ticks": "",
           "title": {
            "standoff": 15
           },
           "zerolinecolor": "white",
           "zerolinewidth": 2
          },
          "yaxis": {
           "automargin": true,
           "gridcolor": "white",
           "linecolor": "white",
           "ticks": "",
           "title": {
            "standoff": 15
           },
           "zerolinecolor": "white",
           "zerolinewidth": 2
          }
         }
        },
        "xaxis": {
         "title": {
          "text": "Date"
         }
        },
        "yaxis": {
         "range": [
          40,
          180
         ],
         "title": {
          "text": "Pitch (degrees)"
         }
        }
       }
      }
     },
     "metadata": {},
     "output_type": "display_data"
    }
   ],
   "source": [
    "vp.get_plot_figure().show()"
   ]
  },
  {
   "cell_type": "markdown",
   "metadata": {},
   "source": [
    "## Dither"
   ]
  },
  {
   "cell_type": "code",
   "execution_count": 32,
   "metadata": {},
   "outputs": [],
   "source": [
    "vd = ValidateDither(stop=\"2022:297\", days=7)"
   ]
  },
  {
   "cell_type": "code",
   "execution_count": 33,
   "metadata": {},
   "outputs": [
    {
     "data": {
      "application/vnd.plotly.v1+json": {
       "config": {
        "plotlyServerURL": "https://plot.ly"
       },
       "data": [
        {
         "hovertemplate": "%{x|%Y:%j:%H:%M:%S} %{y}",
         "line": {
          "color": "#1f77b4",
          "width": 3
         },
         "marker": {
          "opacity": 0.9,
          "size": 8
         },
         "mode": "lines+markers",
         "name": "Telem",
         "opacity": 0.75,
         "showlegend": false,
         "type": "scatter",
         "x": [
          "2022-10-17T00:00:06.321856633",
          "2022-10-19T11:19:10.735337511",
          "2022-10-19T11:19:18.935338036",
          "2022-10-19T11:30:06.735378877",
          "2022-10-19T11:30:14.935379401",
          "2022-10-20T16:29:36.341970101",
          "2022-10-20T16:29:44.541970626",
          "2022-10-23T23:59:58.871348635"
         ],
         "y": [
          1,
          1,
          0,
          0,
          1,
          1,
          0,
          0
         ]
        },
        {
         "hovertemplate": "%{x|%Y:%j:%H:%M:%S} %{y}",
         "line": {
          "color": "#ff7f0e",
          "width": 3
         },
         "marker": {
          "opacity": 0.9,
          "size": 8
         },
         "mode": "lines+markers",
         "name": "State",
         "opacity": 0.75,
         "showlegend": false,
         "type": "scatter",
         "x": [
          "2022-10-17T00:00:06.321856633",
          "2022-10-20T16:29:03.541968003",
          "2022-10-20T16:29:11.741968528",
          "2022-10-23T23:59:58.871348635"
         ],
         "y": [
          1,
          1,
          0,
          0
         ]
        }
       ],
       "layout": {
        "shapes": [
         {
          "fillcolor": "black",
          "line": {
           "color": "black",
           "width": 3
          },
          "opacity": 0.2,
          "type": "rect",
          "x0": "2022-10-19T11:19:00",
          "x1": "2022-10-19T11:32:00",
          "xref": "x",
          "y0": 0,
          "y1": 1,
          "yref": "y domain"
         },
         {
          "fillcolor": "black",
          "line": {
           "color": "black",
           "width": 3
          },
          "opacity": 0.2,
          "type": "rect",
          "x0": "2022-10-20T16:27:00",
          "x1": "2022-10-20T16:30:00",
          "xref": "x",
          "y0": 0,
          "y1": 1,
          "yref": "y domain"
         },
         {
          "fillcolor": "black",
          "line": {
           "color": "black",
           "width": 3
          },
          "opacity": 0.2,
          "type": "rect",
          "x0": "2022-10-20T16:27:57.429000",
          "x1": "2022-10-20T16:32:59.479000",
          "xref": "x",
          "y0": 0,
          "y1": 1,
          "yref": "y domain"
         },
         {
          "fillcolor": "black",
          "line": {
           "color": "black",
           "width": 3
          },
          "opacity": 0.2,
          "type": "rect",
          "x0": "2022-10-20T16:27:59.479000",
          "x1": "2022-10-20T16:33:00.504000",
          "xref": "x",
          "y0": 0,
          "y1": 1,
          "yref": "y domain"
         },
         {
          "fillcolor": "black",
          "line": {
           "color": "black",
           "width": 3
          },
          "opacity": 0.2,
          "type": "rect",
          "x0": "2022-10-21T16:32:25.285000",
          "x1": "2022-10-21T16:37:27.347000",
          "xref": "x",
          "y0": 0,
          "y1": 1,
          "yref": "y domain"
         },
         {
          "fillcolor": "black",
          "line": {
           "color": "black",
           "width": 3
          },
          "opacity": 0.2,
          "type": "rect",
          "x0": "2022-10-21T16:33:01.794000",
          "x1": "2022-10-22T17:18:09.260000",
          "xref": "x",
          "y0": 0,
          "y1": 1,
          "yref": "y domain"
         },
         {
          "fillcolor": "black",
          "line": {
           "color": "black",
           "width": 3
          },
          "opacity": 0.2,
          "type": "rect",
          "x0": "2022-10-22T16:48:09.260000",
          "x1": "2022-10-22T16:54:49.722000",
          "xref": "x",
          "y0": 0,
          "y1": 1,
          "yref": "y domain"
         },
         {
          "fillcolor": "black",
          "line": {
           "color": "black",
           "width": 3
          },
          "opacity": 0.2,
          "type": "rect",
          "x0": "2022-10-22T16:50:22.339000",
          "x1": "2022-10-22T17:27:56.002000",
          "xref": "x",
          "y0": 0,
          "y1": 1,
          "yref": "y domain"
         },
         {
          "fillcolor": "black",
          "line": {
           "color": "black",
           "width": 3
          },
          "opacity": 0.2,
          "type": "rect",
          "x0": "2022-10-22T17:22:56.002000",
          "x1": "2022-10-22T17:27:57.027000",
          "xref": "x",
          "y0": 0,
          "y1": 1,
          "yref": "y domain"
         },
         {
          "fillcolor": "black",
          "line": {
           "color": "black",
           "width": 3
          },
          "opacity": 0.2,
          "type": "rect",
          "x0": "2022-10-22T17:22:57.027000",
          "x1": "2022-10-22T18:11:01.477000",
          "xref": "x",
          "y0": 0,
          "y1": 1,
          "yref": "y domain"
         }
        ],
        "template": {
         "data": {
          "bar": [
           {
            "error_x": {
             "color": "#2a3f5f"
            },
            "error_y": {
             "color": "#2a3f5f"
            },
            "marker": {
             "line": {
              "color": "#E5ECF6",
              "width": 0.5
             },
             "pattern": {
              "fillmode": "overlay",
              "size": 10,
              "solidity": 0.2
             }
            },
            "type": "bar"
           }
          ],
          "barpolar": [
           {
            "marker": {
             "line": {
              "color": "#E5ECF6",
              "width": 0.5
             },
             "pattern": {
              "fillmode": "overlay",
              "size": 10,
              "solidity": 0.2
             }
            },
            "type": "barpolar"
           }
          ],
          "carpet": [
           {
            "aaxis": {
             "endlinecolor": "#2a3f5f",
             "gridcolor": "white",
             "linecolor": "white",
             "minorgridcolor": "white",
             "startlinecolor": "#2a3f5f"
            },
            "baxis": {
             "endlinecolor": "#2a3f5f",
             "gridcolor": "white",
             "linecolor": "white",
             "minorgridcolor": "white",
             "startlinecolor": "#2a3f5f"
            },
            "type": "carpet"
           }
          ],
          "choropleth": [
           {
            "colorbar": {
             "outlinewidth": 0,
             "ticks": ""
            },
            "type": "choropleth"
           }
          ],
          "contour": [
           {
            "colorbar": {
             "outlinewidth": 0,
             "ticks": ""
            },
            "colorscale": [
             [
              0,
              "#0d0887"
             ],
             [
              0.1111111111111111,
              "#46039f"
             ],
             [
              0.2222222222222222,
              "#7201a8"
             ],
             [
              0.3333333333333333,
              "#9c179e"
             ],
             [
              0.4444444444444444,
              "#bd3786"
             ],
             [
              0.5555555555555556,
              "#d8576b"
             ],
             [
              0.6666666666666666,
              "#ed7953"
             ],
             [
              0.7777777777777778,
              "#fb9f3a"
             ],
             [
              0.8888888888888888,
              "#fdca26"
             ],
             [
              1,
              "#f0f921"
             ]
            ],
            "type": "contour"
           }
          ],
          "contourcarpet": [
           {
            "colorbar": {
             "outlinewidth": 0,
             "ticks": ""
            },
            "type": "contourcarpet"
           }
          ],
          "heatmap": [
           {
            "colorbar": {
             "outlinewidth": 0,
             "ticks": ""
            },
            "colorscale": [
             [
              0,
              "#0d0887"
             ],
             [
              0.1111111111111111,
              "#46039f"
             ],
             [
              0.2222222222222222,
              "#7201a8"
             ],
             [
              0.3333333333333333,
              "#9c179e"
             ],
             [
              0.4444444444444444,
              "#bd3786"
             ],
             [
              0.5555555555555556,
              "#d8576b"
             ],
             [
              0.6666666666666666,
              "#ed7953"
             ],
             [
              0.7777777777777778,
              "#fb9f3a"
             ],
             [
              0.8888888888888888,
              "#fdca26"
             ],
             [
              1,
              "#f0f921"
             ]
            ],
            "type": "heatmap"
           }
          ],
          "heatmapgl": [
           {
            "colorbar": {
             "outlinewidth": 0,
             "ticks": ""
            },
            "colorscale": [
             [
              0,
              "#0d0887"
             ],
             [
              0.1111111111111111,
              "#46039f"
             ],
             [
              0.2222222222222222,
              "#7201a8"
             ],
             [
              0.3333333333333333,
              "#9c179e"
             ],
             [
              0.4444444444444444,
              "#bd3786"
             ],
             [
              0.5555555555555556,
              "#d8576b"
             ],
             [
              0.6666666666666666,
              "#ed7953"
             ],
             [
              0.7777777777777778,
              "#fb9f3a"
             ],
             [
              0.8888888888888888,
              "#fdca26"
             ],
             [
              1,
              "#f0f921"
             ]
            ],
            "type": "heatmapgl"
           }
          ],
          "histogram": [
           {
            "marker": {
             "pattern": {
              "fillmode": "overlay",
              "size": 10,
              "solidity": 0.2
             }
            },
            "type": "histogram"
           }
          ],
          "histogram2d": [
           {
            "colorbar": {
             "outlinewidth": 0,
             "ticks": ""
            },
            "colorscale": [
             [
              0,
              "#0d0887"
             ],
             [
              0.1111111111111111,
              "#46039f"
             ],
             [
              0.2222222222222222,
              "#7201a8"
             ],
             [
              0.3333333333333333,
              "#9c179e"
             ],
             [
              0.4444444444444444,
              "#bd3786"
             ],
             [
              0.5555555555555556,
              "#d8576b"
             ],
             [
              0.6666666666666666,
              "#ed7953"
             ],
             [
              0.7777777777777778,
              "#fb9f3a"
             ],
             [
              0.8888888888888888,
              "#fdca26"
             ],
             [
              1,
              "#f0f921"
             ]
            ],
            "type": "histogram2d"
           }
          ],
          "histogram2dcontour": [
           {
            "colorbar": {
             "outlinewidth": 0,
             "ticks": ""
            },
            "colorscale": [
             [
              0,
              "#0d0887"
             ],
             [
              0.1111111111111111,
              "#46039f"
             ],
             [
              0.2222222222222222,
              "#7201a8"
             ],
             [
              0.3333333333333333,
              "#9c179e"
             ],
             [
              0.4444444444444444,
              "#bd3786"
             ],
             [
              0.5555555555555556,
              "#d8576b"
             ],
             [
              0.6666666666666666,
              "#ed7953"
             ],
             [
              0.7777777777777778,
              "#fb9f3a"
             ],
             [
              0.8888888888888888,
              "#fdca26"
             ],
             [
              1,
              "#f0f921"
             ]
            ],
            "type": "histogram2dcontour"
           }
          ],
          "mesh3d": [
           {
            "colorbar": {
             "outlinewidth": 0,
             "ticks": ""
            },
            "type": "mesh3d"
           }
          ],
          "parcoords": [
           {
            "line": {
             "colorbar": {
              "outlinewidth": 0,
              "ticks": ""
             }
            },
            "type": "parcoords"
           }
          ],
          "pie": [
           {
            "automargin": true,
            "type": "pie"
           }
          ],
          "scatter": [
           {
            "marker": {
             "colorbar": {
              "outlinewidth": 0,
              "ticks": ""
             }
            },
            "type": "scatter"
           }
          ],
          "scatter3d": [
           {
            "line": {
             "colorbar": {
              "outlinewidth": 0,
              "ticks": ""
             }
            },
            "marker": {
             "colorbar": {
              "outlinewidth": 0,
              "ticks": ""
             }
            },
            "type": "scatter3d"
           }
          ],
          "scattercarpet": [
           {
            "marker": {
             "colorbar": {
              "outlinewidth": 0,
              "ticks": ""
             }
            },
            "type": "scattercarpet"
           }
          ],
          "scattergeo": [
           {
            "marker": {
             "colorbar": {
              "outlinewidth": 0,
              "ticks": ""
             }
            },
            "type": "scattergeo"
           }
          ],
          "scattergl": [
           {
            "marker": {
             "colorbar": {
              "outlinewidth": 0,
              "ticks": ""
             }
            },
            "type": "scattergl"
           }
          ],
          "scattermapbox": [
           {
            "marker": {
             "colorbar": {
              "outlinewidth": 0,
              "ticks": ""
             }
            },
            "type": "scattermapbox"
           }
          ],
          "scatterpolar": [
           {
            "marker": {
             "colorbar": {
              "outlinewidth": 0,
              "ticks": ""
             }
            },
            "type": "scatterpolar"
           }
          ],
          "scatterpolargl": [
           {
            "marker": {
             "colorbar": {
              "outlinewidth": 0,
              "ticks": ""
             }
            },
            "type": "scatterpolargl"
           }
          ],
          "scatterternary": [
           {
            "marker": {
             "colorbar": {
              "outlinewidth": 0,
              "ticks": ""
             }
            },
            "type": "scatterternary"
           }
          ],
          "surface": [
           {
            "colorbar": {
             "outlinewidth": 0,
             "ticks": ""
            },
            "colorscale": [
             [
              0,
              "#0d0887"
             ],
             [
              0.1111111111111111,
              "#46039f"
             ],
             [
              0.2222222222222222,
              "#7201a8"
             ],
             [
              0.3333333333333333,
              "#9c179e"
             ],
             [
              0.4444444444444444,
              "#bd3786"
             ],
             [
              0.5555555555555556,
              "#d8576b"
             ],
             [
              0.6666666666666666,
              "#ed7953"
             ],
             [
              0.7777777777777778,
              "#fb9f3a"
             ],
             [
              0.8888888888888888,
              "#fdca26"
             ],
             [
              1,
              "#f0f921"
             ]
            ],
            "type": "surface"
           }
          ],
          "table": [
           {
            "cells": {
             "fill": {
              "color": "#EBF0F8"
             },
             "line": {
              "color": "white"
             }
            },
            "header": {
             "fill": {
              "color": "#C8D4E3"
             },
             "line": {
              "color": "white"
             }
            },
            "type": "table"
           }
          ]
         },
         "layout": {
          "annotationdefaults": {
           "arrowcolor": "#2a3f5f",
           "arrowhead": 0,
           "arrowwidth": 1
          },
          "autotypenumbers": "strict",
          "coloraxis": {
           "colorbar": {
            "outlinewidth": 0,
            "ticks": ""
           }
          },
          "colorscale": {
           "diverging": [
            [
             0,
             "#8e0152"
            ],
            [
             0.1,
             "#c51b7d"
            ],
            [
             0.2,
             "#de77ae"
            ],
            [
             0.3,
             "#f1b6da"
            ],
            [
             0.4,
             "#fde0ef"
            ],
            [
             0.5,
             "#f7f7f7"
            ],
            [
             0.6,
             "#e6f5d0"
            ],
            [
             0.7,
             "#b8e186"
            ],
            [
             0.8,
             "#7fbc41"
            ],
            [
             0.9,
             "#4d9221"
            ],
            [
             1,
             "#276419"
            ]
           ],
           "sequential": [
            [
             0,
             "#0d0887"
            ],
            [
             0.1111111111111111,
             "#46039f"
            ],
            [
             0.2222222222222222,
             "#7201a8"
            ],
            [
             0.3333333333333333,
             "#9c179e"
            ],
            [
             0.4444444444444444,
             "#bd3786"
            ],
            [
             0.5555555555555556,
             "#d8576b"
            ],
            [
             0.6666666666666666,
             "#ed7953"
            ],
            [
             0.7777777777777778,
             "#fb9f3a"
            ],
            [
             0.8888888888888888,
             "#fdca26"
            ],
            [
             1,
             "#f0f921"
            ]
           ],
           "sequentialminus": [
            [
             0,
             "#0d0887"
            ],
            [
             0.1111111111111111,
             "#46039f"
            ],
            [
             0.2222222222222222,
             "#7201a8"
            ],
            [
             0.3333333333333333,
             "#9c179e"
            ],
            [
             0.4444444444444444,
             "#bd3786"
            ],
            [
             0.5555555555555556,
             "#d8576b"
            ],
            [
             0.6666666666666666,
             "#ed7953"
            ],
            [
             0.7777777777777778,
             "#fb9f3a"
            ],
            [
             0.8888888888888888,
             "#fdca26"
            ],
            [
             1,
             "#f0f921"
            ]
           ]
          },
          "colorway": [
           "#636efa",
           "#EF553B",
           "#00cc96",
           "#ab63fa",
           "#FFA15A",
           "#19d3f3",
           "#FF6692",
           "#B6E880",
           "#FF97FF",
           "#FECB52"
          ],
          "font": {
           "color": "#2a3f5f"
          },
          "geo": {
           "bgcolor": "white",
           "lakecolor": "white",
           "landcolor": "#E5ECF6",
           "showlakes": true,
           "showland": true,
           "subunitcolor": "white"
          },
          "hoverlabel": {
           "align": "left"
          },
          "hovermode": "closest",
          "mapbox": {
           "style": "light"
          },
          "paper_bgcolor": "white",
          "plot_bgcolor": "#E5ECF6",
          "polar": {
           "angularaxis": {
            "gridcolor": "white",
            "linecolor": "white",
            "ticks": ""
           },
           "bgcolor": "#E5ECF6",
           "radialaxis": {
            "gridcolor": "white",
            "linecolor": "white",
            "ticks": ""
           }
          },
          "scene": {
           "xaxis": {
            "backgroundcolor": "#E5ECF6",
            "gridcolor": "white",
            "gridwidth": 2,
            "linecolor": "white",
            "showbackground": true,
            "ticks": "",
            "zerolinecolor": "white"
           },
           "yaxis": {
            "backgroundcolor": "#E5ECF6",
            "gridcolor": "white",
            "gridwidth": 2,
            "linecolor": "white",
            "showbackground": true,
            "ticks": "",
            "zerolinecolor": "white"
           },
           "zaxis": {
            "backgroundcolor": "#E5ECF6",
            "gridcolor": "white",
            "gridwidth": 2,
            "linecolor": "white",
            "showbackground": true,
            "ticks": "",
            "zerolinecolor": "white"
           }
          },
          "shapedefaults": {
           "line": {
            "color": "#2a3f5f"
           }
          },
          "ternary": {
           "aaxis": {
            "gridcolor": "white",
            "linecolor": "white",
            "ticks": ""
           },
           "baxis": {
            "gridcolor": "white",
            "linecolor": "white",
            "ticks": ""
           },
           "bgcolor": "#E5ECF6",
           "caxis": {
            "gridcolor": "white",
            "linecolor": "white",
            "ticks": ""
           }
          },
          "title": {
           "x": 0.05
          },
          "xaxis": {
           "automargin": true,
           "gridcolor": "white",
           "linecolor": "white",
           "ticks": "",
           "title": {
            "standoff": 15
           },
           "zerolinecolor": "white",
           "zerolinewidth": 2
          },
          "yaxis": {
           "automargin": true,
           "gridcolor": "white",
           "linecolor": "white",
           "ticks": "",
           "title": {
            "standoff": 15
           },
           "zerolinecolor": "white",
           "zerolinewidth": 2
          }
         }
        },
        "xaxis": {
         "title": {
          "text": "Date"
         }
        },
        "yaxis": {
         "tickmode": "array",
         "ticktext": [
          "DISA",
          "ENAB"
         ],
         "tickvals": [
          0,
          1
         ],
         "title": {
          "text": "Dither"
         }
        }
       }
      }
     },
     "metadata": {},
     "output_type": "display_data"
    }
   ],
   "source": [
    "html = vd.get_plot_html(show=True)"
   ]
  },
  {
   "cell_type": "code",
   "execution_count": 34,
   "metadata": {},
   "outputs": [],
   "source": [
    "vt = ValidateSimpos(stop=\"2022:296\", days=4)"
   ]
  },
  {
   "cell_type": "code",
   "execution_count": 35,
   "metadata": {},
   "outputs": [
    {
     "data": {
      "application/vnd.plotly.v1+json": {
       "config": {
        "plotlyServerURL": "https://plot.ly"
       },
       "data": [
        {
         "hovertemplate": "%{x|%Y:%j:%H:%M:%S} %{y}",
         "line": {
          "color": "#1f77b4",
          "width": 3
         },
         "marker": {
          "opacity": 0.9,
          "size": 8
         },
         "mode": "lines+markers",
         "name": "Telem",
         "opacity": 0.75,
         "showlegend": false,
         "type": "scatter",
         "x": [
          "2022-10-19T00:00:21.332766191",
          "2022-10-19T00:39:42.932915226",
          "2022-10-19T00:40:15.732917324",
          "2022-10-19T01:21:15.733072654",
          "2022-10-19T01:21:48.533074633",
          "2022-10-19T02:03:21.333232060",
          "2022-10-19T02:03:54.133234159",
          "2022-10-19T02:44:54.133389488",
          "2022-10-19T02:45:26.933391467",
          "2022-10-19T03:26:59.733548895",
          "2022-10-19T03:27:32.533550993",
          "2022-10-19T03:28:05.333552972",
          "2022-10-19T03:28:38.133555070",
          "2022-10-19T03:29:10.933557168",
          "2022-10-19T03:29:43.733559266",
          "2022-10-19T03:30:16.533561245",
          "2022-10-19T03:30:49.333563343",
          "2022-10-19T03:31:22.133565441",
          "2022-10-19T15:16:34.136236683",
          "2022-10-19T15:17:06.936238781",
          "2022-10-19T15:17:39.736240879",
          "2022-10-19T15:18:12.536242977",
          "2022-10-19T15:18:45.336244956",
          "2022-10-19T15:19:18.136247054",
          "2022-10-19T15:19:50.936249152",
          "2022-10-19T15:20:23.736251250",
          "2022-10-19T15:20:56.536253348",
          "2022-10-19T19:48:48.537269488",
          "2022-10-19T19:49:21.337271586",
          "2022-10-19T19:49:54.137273685",
          "2022-10-20T00:38:32.538367167",
          "2022-10-20T00:39:05.338369146",
          "2022-10-20T05:27:43.739462629",
          "2022-10-20T05:28:16.539464727",
          "2022-10-20T11:06:39.740746633",
          "2022-10-20T11:07:12.540748731",
          "2022-10-20T11:07:45.340750829",
          "2022-10-20T16:30:17.341972724",
          "2022-10-20T16:30:50.141974822",
          "2022-10-20T16:31:22.941976920",
          "2022-10-20T16:31:55.741978899",
          "2022-10-20T16:32:28.541980997",
          "2022-10-20T16:33:01.341983095",
          "2022-10-20T16:33:34.141985193",
          "2022-10-20T16:34:06.941987172",
          "2022-10-20T16:34:39.741989270",
          "2022-10-22T16:58:34.864259616",
          "2022-10-22T16:59:07.664261833",
          "2022-10-22T17:00:13.264266268",
          "2022-10-22T23:59:30.865894452"
         ],
         "y": [
          72040,
          72040,
          72639,
          72639,
          73231,
          73231,
          76215,
          76215,
          75625,
          75625,
          56496,
          31903,
          7130,
          -17616,
          -42469,
          -67425,
          -92492,
          -99616,
          -99616,
          -79477,
          -53952,
          -28433,
          -2711,
          22876,
          48296,
          73594,
          75623,
          75623,
          81910,
          92903,
          92903,
          75624,
          75624,
          92903,
          92903,
          86462,
          75624,
          75624,
          69421,
          44913,
          20259,
          -4414,
          -29059,
          -53718,
          -78274,
          -99616,
          -99616,
          -15421,
          -99616,
          -99616
         ]
        },
        {
         "hovertemplate": "%{x|%Y:%j:%H:%M:%S} %{y}",
         "line": {
          "color": "#ff7f0e",
          "width": 3
         },
         "marker": {
          "opacity": 0.9,
          "size": 8
         },
         "mode": "lines+markers",
         "name": "State",
         "opacity": 0.75,
         "showlegend": false,
         "type": "scatter",
         "x": [
          "2022-10-19T00:00:21.332766191",
          "2022-10-19T00:38:37.332911149",
          "2022-10-19T00:39:10.132913128",
          "2022-10-19T01:20:42.933070556",
          "2022-10-19T01:21:15.733072654",
          "2022-10-19T02:02:15.733227864",
          "2022-10-19T02:02:48.533229962",
          "2022-10-19T02:44:21.333387390",
          "2022-10-19T02:44:54.133389488",
          "2022-10-19T03:25:54.133544699",
          "2022-10-19T03:26:26.933546797",
          "2022-10-19T15:16:01.336234704",
          "2022-10-19T15:16:34.136236683",
          "2022-10-19T19:48:15.737267509",
          "2022-10-19T19:48:48.537269488",
          "2022-10-20T00:37:26.938362971",
          "2022-10-20T00:37:59.738365069",
          "2022-10-20T05:26:38.139458552",
          "2022-10-20T05:27:10.939460650",
          "2022-10-20T11:05:34.140742556",
          "2022-10-20T11:06:06.940744654",
          "2022-10-20T16:27:33.341962353",
          "2022-10-20T16:28:06.141964451",
          "2022-10-22T23:59:30.865894452"
         ],
         "y": [
          72040,
          72040,
          72640,
          72640,
          73232,
          73232,
          76216,
          76216,
          75624,
          75624,
          -99616,
          -99616,
          75624,
          75624,
          92904,
          92904,
          75624,
          75624,
          92904,
          92904,
          75624,
          75624,
          -99616,
          -99616
         ]
        }
       ],
       "layout": {
        "shapes": [
         {
          "fillcolor": "black",
          "line": {
           "color": "black",
           "width": 3
          },
          "opacity": 0.2,
          "type": "rect",
          "x0": "2022-10-20T16:27:00",
          "x1": "2022-10-20T16:30:00",
          "xref": "x",
          "y0": 0,
          "y1": 1,
          "yref": "y domain"
         }
        ],
        "template": {
         "data": {
          "bar": [
           {
            "error_x": {
             "color": "#2a3f5f"
            },
            "error_y": {
             "color": "#2a3f5f"
            },
            "marker": {
             "line": {
              "color": "#E5ECF6",
              "width": 0.5
             },
             "pattern": {
              "fillmode": "overlay",
              "size": 10,
              "solidity": 0.2
             }
            },
            "type": "bar"
           }
          ],
          "barpolar": [
           {
            "marker": {
             "line": {
              "color": "#E5ECF6",
              "width": 0.5
             },
             "pattern": {
              "fillmode": "overlay",
              "size": 10,
              "solidity": 0.2
             }
            },
            "type": "barpolar"
           }
          ],
          "carpet": [
           {
            "aaxis": {
             "endlinecolor": "#2a3f5f",
             "gridcolor": "white",
             "linecolor": "white",
             "minorgridcolor": "white",
             "startlinecolor": "#2a3f5f"
            },
            "baxis": {
             "endlinecolor": "#2a3f5f",
             "gridcolor": "white",
             "linecolor": "white",
             "minorgridcolor": "white",
             "startlinecolor": "#2a3f5f"
            },
            "type": "carpet"
           }
          ],
          "choropleth": [
           {
            "colorbar": {
             "outlinewidth": 0,
             "ticks": ""
            },
            "type": "choropleth"
           }
          ],
          "contour": [
           {
            "colorbar": {
             "outlinewidth": 0,
             "ticks": ""
            },
            "colorscale": [
             [
              0,
              "#0d0887"
             ],
             [
              0.1111111111111111,
              "#46039f"
             ],
             [
              0.2222222222222222,
              "#7201a8"
             ],
             [
              0.3333333333333333,
              "#9c179e"
             ],
             [
              0.4444444444444444,
              "#bd3786"
             ],
             [
              0.5555555555555556,
              "#d8576b"
             ],
             [
              0.6666666666666666,
              "#ed7953"
             ],
             [
              0.7777777777777778,
              "#fb9f3a"
             ],
             [
              0.8888888888888888,
              "#fdca26"
             ],
             [
              1,
              "#f0f921"
             ]
            ],
            "type": "contour"
           }
          ],
          "contourcarpet": [
           {
            "colorbar": {
             "outlinewidth": 0,
             "ticks": ""
            },
            "type": "contourcarpet"
           }
          ],
          "heatmap": [
           {
            "colorbar": {
             "outlinewidth": 0,
             "ticks": ""
            },
            "colorscale": [
             [
              0,
              "#0d0887"
             ],
             [
              0.1111111111111111,
              "#46039f"
             ],
             [
              0.2222222222222222,
              "#7201a8"
             ],
             [
              0.3333333333333333,
              "#9c179e"
             ],
             [
              0.4444444444444444,
              "#bd3786"
             ],
             [
              0.5555555555555556,
              "#d8576b"
             ],
             [
              0.6666666666666666,
              "#ed7953"
             ],
             [
              0.7777777777777778,
              "#fb9f3a"
             ],
             [
              0.8888888888888888,
              "#fdca26"
             ],
             [
              1,
              "#f0f921"
             ]
            ],
            "type": "heatmap"
           }
          ],
          "heatmapgl": [
           {
            "colorbar": {
             "outlinewidth": 0,
             "ticks": ""
            },
            "colorscale": [
             [
              0,
              "#0d0887"
             ],
             [
              0.1111111111111111,
              "#46039f"
             ],
             [
              0.2222222222222222,
              "#7201a8"
             ],
             [
              0.3333333333333333,
              "#9c179e"
             ],
             [
              0.4444444444444444,
              "#bd3786"
             ],
             [
              0.5555555555555556,
              "#d8576b"
             ],
             [
              0.6666666666666666,
              "#ed7953"
             ],
             [
              0.7777777777777778,
              "#fb9f3a"
             ],
             [
              0.8888888888888888,
              "#fdca26"
             ],
             [
              1,
              "#f0f921"
             ]
            ],
            "type": "heatmapgl"
           }
          ],
          "histogram": [
           {
            "marker": {
             "pattern": {
              "fillmode": "overlay",
              "size": 10,
              "solidity": 0.2
             }
            },
            "type": "histogram"
           }
          ],
          "histogram2d": [
           {
            "colorbar": {
             "outlinewidth": 0,
             "ticks": ""
            },
            "colorscale": [
             [
              0,
              "#0d0887"
             ],
             [
              0.1111111111111111,
              "#46039f"
             ],
             [
              0.2222222222222222,
              "#7201a8"
             ],
             [
              0.3333333333333333,
              "#9c179e"
             ],
             [
              0.4444444444444444,
              "#bd3786"
             ],
             [
              0.5555555555555556,
              "#d8576b"
             ],
             [
              0.6666666666666666,
              "#ed7953"
             ],
             [
              0.7777777777777778,
              "#fb9f3a"
             ],
             [
              0.8888888888888888,
              "#fdca26"
             ],
             [
              1,
              "#f0f921"
             ]
            ],
            "type": "histogram2d"
           }
          ],
          "histogram2dcontour": [
           {
            "colorbar": {
             "outlinewidth": 0,
             "ticks": ""
            },
            "colorscale": [
             [
              0,
              "#0d0887"
             ],
             [
              0.1111111111111111,
              "#46039f"
             ],
             [
              0.2222222222222222,
              "#7201a8"
             ],
             [
              0.3333333333333333,
              "#9c179e"
             ],
             [
              0.4444444444444444,
              "#bd3786"
             ],
             [
              0.5555555555555556,
              "#d8576b"
             ],
             [
              0.6666666666666666,
              "#ed7953"
             ],
             [
              0.7777777777777778,
              "#fb9f3a"
             ],
             [
              0.8888888888888888,
              "#fdca26"
             ],
             [
              1,
              "#f0f921"
             ]
            ],
            "type": "histogram2dcontour"
           }
          ],
          "mesh3d": [
           {
            "colorbar": {
             "outlinewidth": 0,
             "ticks": ""
            },
            "type": "mesh3d"
           }
          ],
          "parcoords": [
           {
            "line": {
             "colorbar": {
              "outlinewidth": 0,
              "ticks": ""
             }
            },
            "type": "parcoords"
           }
          ],
          "pie": [
           {
            "automargin": true,
            "type": "pie"
           }
          ],
          "scatter": [
           {
            "marker": {
             "colorbar": {
              "outlinewidth": 0,
              "ticks": ""
             }
            },
            "type": "scatter"
           }
          ],
          "scatter3d": [
           {
            "line": {
             "colorbar": {
              "outlinewidth": 0,
              "ticks": ""
             }
            },
            "marker": {
             "colorbar": {
              "outlinewidth": 0,
              "ticks": ""
             }
            },
            "type": "scatter3d"
           }
          ],
          "scattercarpet": [
           {
            "marker": {
             "colorbar": {
              "outlinewidth": 0,
              "ticks": ""
             }
            },
            "type": "scattercarpet"
           }
          ],
          "scattergeo": [
           {
            "marker": {
             "colorbar": {
              "outlinewidth": 0,
              "ticks": ""
             }
            },
            "type": "scattergeo"
           }
          ],
          "scattergl": [
           {
            "marker": {
             "colorbar": {
              "outlinewidth": 0,
              "ticks": ""
             }
            },
            "type": "scattergl"
           }
          ],
          "scattermapbox": [
           {
            "marker": {
             "colorbar": {
              "outlinewidth": 0,
              "ticks": ""
             }
            },
            "type": "scattermapbox"
           }
          ],
          "scatterpolar": [
           {
            "marker": {
             "colorbar": {
              "outlinewidth": 0,
              "ticks": ""
             }
            },
            "type": "scatterpolar"
           }
          ],
          "scatterpolargl": [
           {
            "marker": {
             "colorbar": {
              "outlinewidth": 0,
              "ticks": ""
             }
            },
            "type": "scatterpolargl"
           }
          ],
          "scatterternary": [
           {
            "marker": {
             "colorbar": {
              "outlinewidth": 0,
              "ticks": ""
             }
            },
            "type": "scatterternary"
           }
          ],
          "surface": [
           {
            "colorbar": {
             "outlinewidth": 0,
             "ticks": ""
            },
            "colorscale": [
             [
              0,
              "#0d0887"
             ],
             [
              0.1111111111111111,
              "#46039f"
             ],
             [
              0.2222222222222222,
              "#7201a8"
             ],
             [
              0.3333333333333333,
              "#9c179e"
             ],
             [
              0.4444444444444444,
              "#bd3786"
             ],
             [
              0.5555555555555556,
              "#d8576b"
             ],
             [
              0.6666666666666666,
              "#ed7953"
             ],
             [
              0.7777777777777778,
              "#fb9f3a"
             ],
             [
              0.8888888888888888,
              "#fdca26"
             ],
             [
              1,
              "#f0f921"
             ]
            ],
            "type": "surface"
           }
          ],
          "table": [
           {
            "cells": {
             "fill": {
              "color": "#EBF0F8"
             },
             "line": {
              "color": "white"
             }
            },
            "header": {
             "fill": {
              "color": "#C8D4E3"
             },
             "line": {
              "color": "white"
             }
            },
            "type": "table"
           }
          ]
         },
         "layout": {
          "annotationdefaults": {
           "arrowcolor": "#2a3f5f",
           "arrowhead": 0,
           "arrowwidth": 1
          },
          "autotypenumbers": "strict",
          "coloraxis": {
           "colorbar": {
            "outlinewidth": 0,
            "ticks": ""
           }
          },
          "colorscale": {
           "diverging": [
            [
             0,
             "#8e0152"
            ],
            [
             0.1,
             "#c51b7d"
            ],
            [
             0.2,
             "#de77ae"
            ],
            [
             0.3,
             "#f1b6da"
            ],
            [
             0.4,
             "#fde0ef"
            ],
            [
             0.5,
             "#f7f7f7"
            ],
            [
             0.6,
             "#e6f5d0"
            ],
            [
             0.7,
             "#b8e186"
            ],
            [
             0.8,
             "#7fbc41"
            ],
            [
             0.9,
             "#4d9221"
            ],
            [
             1,
             "#276419"
            ]
           ],
           "sequential": [
            [
             0,
             "#0d0887"
            ],
            [
             0.1111111111111111,
             "#46039f"
            ],
            [
             0.2222222222222222,
             "#7201a8"
            ],
            [
             0.3333333333333333,
             "#9c179e"
            ],
            [
             0.4444444444444444,
             "#bd3786"
            ],
            [
             0.5555555555555556,
             "#d8576b"
            ],
            [
             0.6666666666666666,
             "#ed7953"
            ],
            [
             0.7777777777777778,
             "#fb9f3a"
            ],
            [
             0.8888888888888888,
             "#fdca26"
            ],
            [
             1,
             "#f0f921"
            ]
           ],
           "sequentialminus": [
            [
             0,
             "#0d0887"
            ],
            [
             0.1111111111111111,
             "#46039f"
            ],
            [
             0.2222222222222222,
             "#7201a8"
            ],
            [
             0.3333333333333333,
             "#9c179e"
            ],
            [
             0.4444444444444444,
             "#bd3786"
            ],
            [
             0.5555555555555556,
             "#d8576b"
            ],
            [
             0.6666666666666666,
             "#ed7953"
            ],
            [
             0.7777777777777778,
             "#fb9f3a"
            ],
            [
             0.8888888888888888,
             "#fdca26"
            ],
            [
             1,
             "#f0f921"
            ]
           ]
          },
          "colorway": [
           "#636efa",
           "#EF553B",
           "#00cc96",
           "#ab63fa",
           "#FFA15A",
           "#19d3f3",
           "#FF6692",
           "#B6E880",
           "#FF97FF",
           "#FECB52"
          ],
          "font": {
           "color": "#2a3f5f"
          },
          "geo": {
           "bgcolor": "white",
           "lakecolor": "white",
           "landcolor": "#E5ECF6",
           "showlakes": true,
           "showland": true,
           "subunitcolor": "white"
          },
          "hoverlabel": {
           "align": "left"
          },
          "hovermode": "closest",
          "mapbox": {
           "style": "light"
          },
          "paper_bgcolor": "white",
          "plot_bgcolor": "#E5ECF6",
          "polar": {
           "angularaxis": {
            "gridcolor": "white",
            "linecolor": "white",
            "ticks": ""
           },
           "bgcolor": "#E5ECF6",
           "radialaxis": {
            "gridcolor": "white",
            "linecolor": "white",
            "ticks": ""
           }
          },
          "scene": {
           "xaxis": {
            "backgroundcolor": "#E5ECF6",
            "gridcolor": "white",
            "gridwidth": 2,
            "linecolor": "white",
            "showbackground": true,
            "ticks": "",
            "zerolinecolor": "white"
           },
           "yaxis": {
            "backgroundcolor": "#E5ECF6",
            "gridcolor": "white",
            "gridwidth": 2,
            "linecolor": "white",
            "showbackground": true,
            "ticks": "",
            "zerolinecolor": "white"
           },
           "zaxis": {
            "backgroundcolor": "#E5ECF6",
            "gridcolor": "white",
            "gridwidth": 2,
            "linecolor": "white",
            "showbackground": true,
            "ticks": "",
            "zerolinecolor": "white"
           }
          },
          "shapedefaults": {
           "line": {
            "color": "#2a3f5f"
           }
          },
          "ternary": {
           "aaxis": {
            "gridcolor": "white",
            "linecolor": "white",
            "ticks": ""
           },
           "baxis": {
            "gridcolor": "white",
            "linecolor": "white",
            "ticks": ""
           },
           "bgcolor": "#E5ECF6",
           "caxis": {
            "gridcolor": "white",
            "linecolor": "white",
            "ticks": ""
           }
          },
          "title": {
           "x": 0.05
          },
          "xaxis": {
           "automargin": true,
           "gridcolor": "white",
           "linecolor": "white",
           "ticks": "",
           "title": {
            "standoff": 15
           },
           "zerolinecolor": "white",
           "zerolinewidth": 2
          },
          "yaxis": {
           "automargin": true,
           "gridcolor": "white",
           "linecolor": "white",
           "ticks": "",
           "title": {
            "standoff": 15
           },
           "zerolinecolor": "white",
           "zerolinewidth": 2
          }
         }
        },
        "xaxis": {
         "title": {
          "text": "Date"
         }
        },
        "yaxis": {
         "title": {
          "text": "SIM-Z (steps)"
         }
        }
       }
      }
     },
     "metadata": {},
     "output_type": "display_data"
    }
   ],
   "source": [
    "html = vt.get_plot_html(show=True)"
   ]
  },
  {
   "attachments": {},
   "cell_type": "markdown",
   "metadata": {},
   "source": [
    "## Obsid"
   ]
  },
  {
   "cell_type": "code",
   "execution_count": 36,
   "metadata": {},
   "outputs": [
    {
     "data": {
      "application/vnd.plotly.v1+json": {
       "config": {
        "plotlyServerURL": "https://plot.ly"
       },
       "data": [
        {
         "hovertemplate": "%{x|%Y:%j:%H:%M:%S} %{y}",
         "line": {
          "color": "#1f77b4",
          "width": 3
         },
         "marker": {
          "opacity": 0.9,
          "size": 8
         },
         "mode": "lines+markers",
         "name": "Telem",
         "opacity": 0.75,
         "showlegend": false,
         "type": "scatter",
         "x": [
          "2022-10-20T00:00:00.138221160",
          "2022-10-20T00:40:31.438374654",
          "2022-10-20T00:40:33.488374725",
          "2022-10-20T05:29:44.689470306",
          "2022-10-20T05:29:46.739470378",
          "2022-10-20T11:08:57.090755359",
          "2022-10-20T11:08:59.140755430",
          "2022-10-20T14:34:50.391535297",
          "2022-10-20T14:34:52.441535488",
          "2022-10-20T16:27:55.891963736",
          "2022-10-20T16:27:57.941963926",
          "2022-10-24T03:29:58.172143832",
          "2022-10-24T03:30:00.222143904",
          "2022-10-24T08:48:40.573350683",
          "2022-10-24T08:48:42.623350755",
          "2022-10-24T10:27:37.373725430",
          "2022-10-24T10:27:39.423725501",
          "2022-10-24T14:05:58.924552337",
          "2022-10-24T14:06:00.974552408",
          "2022-10-24T14:51:27.474724546",
          "2022-10-24T14:51:29.524724618",
          "2022-10-24T15:22:47.324843184",
          "2022-10-24T15:22:49.374843255",
          "2022-10-24T16:36:37.375122801",
          "2022-10-24T16:36:39.425122872",
          "2022-10-24T18:04:25.875455276",
          "2022-10-24T18:04:27.925455466",
          "2022-10-24T19:36:01.925802246",
          "2022-10-24T19:36:03.975802318",
          "2022-10-24T21:07:40.026149288",
          "2022-10-24T21:07:42.076149360",
          "2022-10-25T03:06:35.277508512",
          "2022-10-25T03:06:37.327508703",
          "2022-10-25T09:11:39.528891221",
          "2022-10-25T09:11:41.578891293",
          "2022-10-25T11:08:44.879334584",
          "2022-10-25T11:08:46.929334775",
          "2022-10-25T14:03:16.279995576",
          "2022-10-25T14:03:18.329995767",
          "2022-10-25T20:02:11.531355039",
          "2022-10-25T20:02:13.581355229",
          "2022-10-26T02:07:19.882738129",
          "2022-10-26T02:07:21.932738200",
          "2022-10-26T06:58:56.633842603",
          "2022-10-26T06:58:58.683842793",
          "2022-10-26T12:57:51.885202185",
          "2022-10-26T12:57:53.935202375",
          "2022-10-26T19:03:02.286585465",
          "2022-10-26T19:03:04.336585656",
          "2022-10-26T23:54:39.037690178",
          "2022-10-26T23:54:41.087690249",
          "2022-10-26T23:59:58.837710277"
         ],
         "y": [
          25194,
          25194,
          27515,
          27515,
          27511,
          27511,
          25806,
          25806,
          27506,
          27506,
          0,
          0,
          45150,
          45150,
          45149,
          45149,
          45148,
          45148,
          45147,
          45147,
          45146,
          45146,
          45145,
          45145,
          45144,
          45144,
          45143,
          45143,
          45142,
          45142,
          45141,
          45141,
          45140,
          45140,
          45139,
          45139,
          62622,
          62622,
          45138,
          45138,
          45137,
          45137,
          45136,
          45136,
          45135,
          45135,
          45134,
          45134,
          45133,
          45133,
          45132,
          45132
         ]
        },
        {
         "hovertemplate": "%{x|%Y:%j:%H:%M:%S} %{y}",
         "line": {
          "color": "#ff7f0e",
          "width": 3
         },
         "marker": {
          "opacity": 0.9,
          "size": 8
         },
         "mode": "lines+markers",
         "name": "State",
         "opacity": 0.75,
         "showlegend": false,
         "type": "scatter",
         "x": [
          "2022-10-20T00:00:00.138221160",
          "2022-10-20T00:40:33.488374725",
          "2022-10-20T00:40:35.538374916",
          "2022-10-20T05:29:46.739470378",
          "2022-10-20T05:29:48.789470569",
          "2022-10-20T11:08:59.140755430",
          "2022-10-20T11:09:01.190755621",
          "2022-10-20T14:34:52.441535488",
          "2022-10-20T14:34:54.491535560",
          "2022-10-20T16:27:55.891963736",
          "2022-10-20T16:27:57.941963926",
          "2022-10-24T03:29:58.172143832",
          "2022-10-24T03:30:00.222143904",
          "2022-10-24T08:48:42.623350755",
          "2022-10-24T08:48:44.673350945",
          "2022-10-24T10:27:39.423725501",
          "2022-10-24T10:27:41.473725692",
          "2022-10-24T14:05:58.924552337",
          "2022-10-24T14:06:00.974552408",
          "2022-10-24T14:51:29.524724618",
          "2022-10-24T14:51:31.574724809",
          "2022-10-24T15:22:49.374843255",
          "2022-10-24T15:22:51.424843446",
          "2022-10-24T16:36:39.425122872",
          "2022-10-24T16:36:41.475123063",
          "2022-10-24T18:04:25.875455276",
          "2022-10-24T18:04:27.925455466",
          "2022-10-24T19:36:03.975802318",
          "2022-10-24T19:36:06.025802508",
          "2022-10-24T21:07:40.026149288",
          "2022-10-24T21:07:42.076149360",
          "2022-10-25T03:06:35.277508512",
          "2022-10-25T03:06:37.327508703",
          "2022-10-25T09:11:41.578891293",
          "2022-10-25T09:11:43.628891483",
          "2022-10-25T11:08:44.879334584",
          "2022-10-25T11:08:46.929334775",
          "2022-10-25T14:03:18.329995767",
          "2022-10-25T14:03:20.379995838",
          "2022-10-25T20:02:13.581355229",
          "2022-10-25T20:02:15.631355301",
          "2022-10-26T02:07:19.882738129",
          "2022-10-26T02:07:21.932738200",
          "2022-10-26T06:58:58.683842793",
          "2022-10-26T06:59:00.733842865",
          "2022-10-26T12:57:51.885202185",
          "2022-10-26T12:57:53.935202375",
          "2022-10-26T19:03:02.286585465",
          "2022-10-26T19:03:04.336585656",
          "2022-10-26T23:54:41.087690249",
          "2022-10-26T23:54:43.137690440",
          "2022-10-26T23:59:58.837710277"
         ],
         "y": [
          25194,
          25194,
          27515,
          27515,
          27511,
          27511,
          25806,
          25806,
          27506,
          27506,
          0,
          0,
          45150,
          45150,
          45149,
          45149,
          45148,
          45148,
          45147,
          45147,
          45146,
          45146,
          45145,
          45145,
          45144,
          45144,
          45143,
          45143,
          45142,
          45142,
          45141,
          45141,
          45140,
          45140,
          45139,
          45139,
          62622,
          62622,
          45138,
          45138,
          45137,
          45137,
          45136,
          45136,
          45135,
          45135,
          45134,
          45134,
          45133,
          45133,
          45132,
          45132
         ]
        }
       ],
       "layout": {
        "shapes": [
         {
          "fillcolor": "black",
          "line": {
           "color": "black",
           "width": 3
          },
          "opacity": 0.2,
          "type": "rect",
          "x0": "2022-10-20T16:27:00",
          "x1": "2022-10-20T16:30:00",
          "xref": "x",
          "y0": 0,
          "y1": 1,
          "yref": "y domain"
         }
        ],
        "template": {
         "data": {
          "bar": [
           {
            "error_x": {
             "color": "#2a3f5f"
            },
            "error_y": {
             "color": "#2a3f5f"
            },
            "marker": {
             "line": {
              "color": "#E5ECF6",
              "width": 0.5
             },
             "pattern": {
              "fillmode": "overlay",
              "size": 10,
              "solidity": 0.2
             }
            },
            "type": "bar"
           }
          ],
          "barpolar": [
           {
            "marker": {
             "line": {
              "color": "#E5ECF6",
              "width": 0.5
             },
             "pattern": {
              "fillmode": "overlay",
              "size": 10,
              "solidity": 0.2
             }
            },
            "type": "barpolar"
           }
          ],
          "carpet": [
           {
            "aaxis": {
             "endlinecolor": "#2a3f5f",
             "gridcolor": "white",
             "linecolor": "white",
             "minorgridcolor": "white",
             "startlinecolor": "#2a3f5f"
            },
            "baxis": {
             "endlinecolor": "#2a3f5f",
             "gridcolor": "white",
             "linecolor": "white",
             "minorgridcolor": "white",
             "startlinecolor": "#2a3f5f"
            },
            "type": "carpet"
           }
          ],
          "choropleth": [
           {
            "colorbar": {
             "outlinewidth": 0,
             "ticks": ""
            },
            "type": "choropleth"
           }
          ],
          "contour": [
           {
            "colorbar": {
             "outlinewidth": 0,
             "ticks": ""
            },
            "colorscale": [
             [
              0,
              "#0d0887"
             ],
             [
              0.1111111111111111,
              "#46039f"
             ],
             [
              0.2222222222222222,
              "#7201a8"
             ],
             [
              0.3333333333333333,
              "#9c179e"
             ],
             [
              0.4444444444444444,
              "#bd3786"
             ],
             [
              0.5555555555555556,
              "#d8576b"
             ],
             [
              0.6666666666666666,
              "#ed7953"
             ],
             [
              0.7777777777777778,
              "#fb9f3a"
             ],
             [
              0.8888888888888888,
              "#fdca26"
             ],
             [
              1,
              "#f0f921"
             ]
            ],
            "type": "contour"
           }
          ],
          "contourcarpet": [
           {
            "colorbar": {
             "outlinewidth": 0,
             "ticks": ""
            },
            "type": "contourcarpet"
           }
          ],
          "heatmap": [
           {
            "colorbar": {
             "outlinewidth": 0,
             "ticks": ""
            },
            "colorscale": [
             [
              0,
              "#0d0887"
             ],
             [
              0.1111111111111111,
              "#46039f"
             ],
             [
              0.2222222222222222,
              "#7201a8"
             ],
             [
              0.3333333333333333,
              "#9c179e"
             ],
             [
              0.4444444444444444,
              "#bd3786"
             ],
             [
              0.5555555555555556,
              "#d8576b"
             ],
             [
              0.6666666666666666,
              "#ed7953"
             ],
             [
              0.7777777777777778,
              "#fb9f3a"
             ],
             [
              0.8888888888888888,
              "#fdca26"
             ],
             [
              1,
              "#f0f921"
             ]
            ],
            "type": "heatmap"
           }
          ],
          "heatmapgl": [
           {
            "colorbar": {
             "outlinewidth": 0,
             "ticks": ""
            },
            "colorscale": [
             [
              0,
              "#0d0887"
             ],
             [
              0.1111111111111111,
              "#46039f"
             ],
             [
              0.2222222222222222,
              "#7201a8"
             ],
             [
              0.3333333333333333,
              "#9c179e"
             ],
             [
              0.4444444444444444,
              "#bd3786"
             ],
             [
              0.5555555555555556,
              "#d8576b"
             ],
             [
              0.6666666666666666,
              "#ed7953"
             ],
             [
              0.7777777777777778,
              "#fb9f3a"
             ],
             [
              0.8888888888888888,
              "#fdca26"
             ],
             [
              1,
              "#f0f921"
             ]
            ],
            "type": "heatmapgl"
           }
          ],
          "histogram": [
           {
            "marker": {
             "pattern": {
              "fillmode": "overlay",
              "size": 10,
              "solidity": 0.2
             }
            },
            "type": "histogram"
           }
          ],
          "histogram2d": [
           {
            "colorbar": {
             "outlinewidth": 0,
             "ticks": ""
            },
            "colorscale": [
             [
              0,
              "#0d0887"
             ],
             [
              0.1111111111111111,
              "#46039f"
             ],
             [
              0.2222222222222222,
              "#7201a8"
             ],
             [
              0.3333333333333333,
              "#9c179e"
             ],
             [
              0.4444444444444444,
              "#bd3786"
             ],
             [
              0.5555555555555556,
              "#d8576b"
             ],
             [
              0.6666666666666666,
              "#ed7953"
             ],
             [
              0.7777777777777778,
              "#fb9f3a"
             ],
             [
              0.8888888888888888,
              "#fdca26"
             ],
             [
              1,
              "#f0f921"
             ]
            ],
            "type": "histogram2d"
           }
          ],
          "histogram2dcontour": [
           {
            "colorbar": {
             "outlinewidth": 0,
             "ticks": ""
            },
            "colorscale": [
             [
              0,
              "#0d0887"
             ],
             [
              0.1111111111111111,
              "#46039f"
             ],
             [
              0.2222222222222222,
              "#7201a8"
             ],
             [
              0.3333333333333333,
              "#9c179e"
             ],
             [
              0.4444444444444444,
              "#bd3786"
             ],
             [
              0.5555555555555556,
              "#d8576b"
             ],
             [
              0.6666666666666666,
              "#ed7953"
             ],
             [
              0.7777777777777778,
              "#fb9f3a"
             ],
             [
              0.8888888888888888,
              "#fdca26"
             ],
             [
              1,
              "#f0f921"
             ]
            ],
            "type": "histogram2dcontour"
           }
          ],
          "mesh3d": [
           {
            "colorbar": {
             "outlinewidth": 0,
             "ticks": ""
            },
            "type": "mesh3d"
           }
          ],
          "parcoords": [
           {
            "line": {
             "colorbar": {
              "outlinewidth": 0,
              "ticks": ""
             }
            },
            "type": "parcoords"
           }
          ],
          "pie": [
           {
            "automargin": true,
            "type": "pie"
           }
          ],
          "scatter": [
           {
            "marker": {
             "colorbar": {
              "outlinewidth": 0,
              "ticks": ""
             }
            },
            "type": "scatter"
           }
          ],
          "scatter3d": [
           {
            "line": {
             "colorbar": {
              "outlinewidth": 0,
              "ticks": ""
             }
            },
            "marker": {
             "colorbar": {
              "outlinewidth": 0,
              "ticks": ""
             }
            },
            "type": "scatter3d"
           }
          ],
          "scattercarpet": [
           {
            "marker": {
             "colorbar": {
              "outlinewidth": 0,
              "ticks": ""
             }
            },
            "type": "scattercarpet"
           }
          ],
          "scattergeo": [
           {
            "marker": {
             "colorbar": {
              "outlinewidth": 0,
              "ticks": ""
             }
            },
            "type": "scattergeo"
           }
          ],
          "scattergl": [
           {
            "marker": {
             "colorbar": {
              "outlinewidth": 0,
              "ticks": ""
             }
            },
            "type": "scattergl"
           }
          ],
          "scattermapbox": [
           {
            "marker": {
             "colorbar": {
              "outlinewidth": 0,
              "ticks": ""
             }
            },
            "type": "scattermapbox"
           }
          ],
          "scatterpolar": [
           {
            "marker": {
             "colorbar": {
              "outlinewidth": 0,
              "ticks": ""
             }
            },
            "type": "scatterpolar"
           }
          ],
          "scatterpolargl": [
           {
            "marker": {
             "colorbar": {
              "outlinewidth": 0,
              "ticks": ""
             }
            },
            "type": "scatterpolargl"
           }
          ],
          "scatterternary": [
           {
            "marker": {
             "colorbar": {
              "outlinewidth": 0,
              "ticks": ""
             }
            },
            "type": "scatterternary"
           }
          ],
          "surface": [
           {
            "colorbar": {
             "outlinewidth": 0,
             "ticks": ""
            },
            "colorscale": [
             [
              0,
              "#0d0887"
             ],
             [
              0.1111111111111111,
              "#46039f"
             ],
             [
              0.2222222222222222,
              "#7201a8"
             ],
             [
              0.3333333333333333,
              "#9c179e"
             ],
             [
              0.4444444444444444,
              "#bd3786"
             ],
             [
              0.5555555555555556,
              "#d8576b"
             ],
             [
              0.6666666666666666,
              "#ed7953"
             ],
             [
              0.7777777777777778,
              "#fb9f3a"
             ],
             [
              0.8888888888888888,
              "#fdca26"
             ],
             [
              1,
              "#f0f921"
             ]
            ],
            "type": "surface"
           }
          ],
          "table": [
           {
            "cells": {
             "fill": {
              "color": "#EBF0F8"
             },
             "line": {
              "color": "white"
             }
            },
            "header": {
             "fill": {
              "color": "#C8D4E3"
             },
             "line": {
              "color": "white"
             }
            },
            "type": "table"
           }
          ]
         },
         "layout": {
          "annotationdefaults": {
           "arrowcolor": "#2a3f5f",
           "arrowhead": 0,
           "arrowwidth": 1
          },
          "autotypenumbers": "strict",
          "coloraxis": {
           "colorbar": {
            "outlinewidth": 0,
            "ticks": ""
           }
          },
          "colorscale": {
           "diverging": [
            [
             0,
             "#8e0152"
            ],
            [
             0.1,
             "#c51b7d"
            ],
            [
             0.2,
             "#de77ae"
            ],
            [
             0.3,
             "#f1b6da"
            ],
            [
             0.4,
             "#fde0ef"
            ],
            [
             0.5,
             "#f7f7f7"
            ],
            [
             0.6,
             "#e6f5d0"
            ],
            [
             0.7,
             "#b8e186"
            ],
            [
             0.8,
             "#7fbc41"
            ],
            [
             0.9,
             "#4d9221"
            ],
            [
             1,
             "#276419"
            ]
           ],
           "sequential": [
            [
             0,
             "#0d0887"
            ],
            [
             0.1111111111111111,
             "#46039f"
            ],
            [
             0.2222222222222222,
             "#7201a8"
            ],
            [
             0.3333333333333333,
             "#9c179e"
            ],
            [
             0.4444444444444444,
             "#bd3786"
            ],
            [
             0.5555555555555556,
             "#d8576b"
            ],
            [
             0.6666666666666666,
             "#ed7953"
            ],
            [
             0.7777777777777778,
             "#fb9f3a"
            ],
            [
             0.8888888888888888,
             "#fdca26"
            ],
            [
             1,
             "#f0f921"
            ]
           ],
           "sequentialminus": [
            [
             0,
             "#0d0887"
            ],
            [
             0.1111111111111111,
             "#46039f"
            ],
            [
             0.2222222222222222,
             "#7201a8"
            ],
            [
             0.3333333333333333,
             "#9c179e"
            ],
            [
             0.4444444444444444,
             "#bd3786"
            ],
            [
             0.5555555555555556,
             "#d8576b"
            ],
            [
             0.6666666666666666,
             "#ed7953"
            ],
            [
             0.7777777777777778,
             "#fb9f3a"
            ],
            [
             0.8888888888888888,
             "#fdca26"
            ],
            [
             1,
             "#f0f921"
            ]
           ]
          },
          "colorway": [
           "#636efa",
           "#EF553B",
           "#00cc96",
           "#ab63fa",
           "#FFA15A",
           "#19d3f3",
           "#FF6692",
           "#B6E880",
           "#FF97FF",
           "#FECB52"
          ],
          "font": {
           "color": "#2a3f5f"
          },
          "geo": {
           "bgcolor": "white",
           "lakecolor": "white",
           "landcolor": "#E5ECF6",
           "showlakes": true,
           "showland": true,
           "subunitcolor": "white"
          },
          "hoverlabel": {
           "align": "left"
          },
          "hovermode": "closest",
          "mapbox": {
           "style": "light"
          },
          "paper_bgcolor": "white",
          "plot_bgcolor": "#E5ECF6",
          "polar": {
           "angularaxis": {
            "gridcolor": "white",
            "linecolor": "white",
            "ticks": ""
           },
           "bgcolor": "#E5ECF6",
           "radialaxis": {
            "gridcolor": "white",
            "linecolor": "white",
            "ticks": ""
           }
          },
          "scene": {
           "xaxis": {
            "backgroundcolor": "#E5ECF6",
            "gridcolor": "white",
            "gridwidth": 2,
            "linecolor": "white",
            "showbackground": true,
            "ticks": "",
            "zerolinecolor": "white"
           },
           "yaxis": {
            "backgroundcolor": "#E5ECF6",
            "gridcolor": "white",
            "gridwidth": 2,
            "linecolor": "white",
            "showbackground": true,
            "ticks": "",
            "zerolinecolor": "white"
           },
           "zaxis": {
            "backgroundcolor": "#E5ECF6",
            "gridcolor": "white",
            "gridwidth": 2,
            "linecolor": "white",
            "showbackground": true,
            "ticks": "",
            "zerolinecolor": "white"
           }
          },
          "shapedefaults": {
           "line": {
            "color": "#2a3f5f"
           }
          },
          "ternary": {
           "aaxis": {
            "gridcolor": "white",
            "linecolor": "white",
            "ticks": ""
           },
           "baxis": {
            "gridcolor": "white",
            "linecolor": "white",
            "ticks": ""
           },
           "bgcolor": "#E5ECF6",
           "caxis": {
            "gridcolor": "white",
            "linecolor": "white",
            "ticks": ""
           }
          },
          "title": {
           "x": 0.05
          },
          "xaxis": {
           "automargin": true,
           "gridcolor": "white",
           "linecolor": "white",
           "ticks": "",
           "title": {
            "standoff": 15
           },
           "zerolinecolor": "white",
           "zerolinewidth": 2
          },
          "yaxis": {
           "automargin": true,
           "gridcolor": "white",
           "linecolor": "white",
           "ticks": "",
           "title": {
            "standoff": 15
           },
           "zerolinecolor": "white",
           "zerolinewidth": 2
          }
         }
        },
        "xaxis": {
         "title": {
          "text": "Date"
         }
        },
        "yaxis": {
         "title": {
          "text": "OBSID"
         }
        }
       }
      }
     },
     "metadata": {},
     "output_type": "display_data"
    }
   ],
   "source": [
    "vo = ValidateObsid(stop=\"2022:300\", days=7)\n",
    "fig = vo.get_plot_figure()\n",
    "fig.show()"
   ]
  },
  {
   "cell_type": "code",
   "execution_count": 37,
   "metadata": {},
   "outputs": [
    {
     "data": {
      "application/vnd.plotly.v1+json": {
       "config": {
        "plotlyServerURL": "https://plot.ly"
       },
       "data": [
        {
         "hovertemplate": "%{x|%Y:%j:%H:%M:%S} %{y}",
         "line": {
          "color": "#1f77b4",
          "width": 3
         },
         "marker": {
          "opacity": 0.9,
          "size": 8
         },
         "mode": "lines+markers",
         "name": "Telem",
         "opacity": 0.75,
         "showlegend": false,
         "type": "scatter",
         "x": [
          "2022-10-20T00:00:00.138221160",
          "2022-10-20T00:40:31.438374654",
          "2022-10-20T00:40:33.488374725",
          "2022-10-20T05:29:44.689470306",
          "2022-10-20T05:29:46.739470378",
          "2022-10-20T11:08:57.090755359",
          "2022-10-20T11:08:59.140755430",
          "2022-10-20T14:34:50.391535297",
          "2022-10-20T14:34:52.441535488",
          "2022-10-20T16:27:55.891963736",
          "2022-10-20T16:27:57.941963926",
          "2022-10-24T03:29:58.172143832",
          "2022-10-24T03:30:00.222143904",
          "2022-10-24T08:48:40.573350683",
          "2022-10-24T08:48:42.623350755",
          "2022-10-24T10:27:37.373725430",
          "2022-10-24T10:27:39.423725501",
          "2022-10-24T14:05:58.924552337",
          "2022-10-24T14:06:00.974552408",
          "2022-10-24T14:51:27.474724546",
          "2022-10-24T14:51:29.524724618",
          "2022-10-24T15:22:47.324843184",
          "2022-10-24T15:22:49.374843255",
          "2022-10-24T16:36:37.375122801",
          "2022-10-24T16:36:39.425122872",
          "2022-10-24T18:04:25.875455276",
          "2022-10-24T18:04:27.925455466",
          "2022-10-24T19:36:01.925802246",
          "2022-10-24T19:36:03.975802318",
          "2022-10-24T21:07:40.026149288",
          "2022-10-24T21:07:42.076149360",
          "2022-10-25T03:06:35.277508512",
          "2022-10-25T03:06:37.327508703",
          "2022-10-25T09:11:39.528891221",
          "2022-10-25T09:11:41.578891293",
          "2022-10-25T11:08:44.879334584",
          "2022-10-25T11:08:46.929334775",
          "2022-10-25T14:03:16.279995576",
          "2022-10-25T14:03:18.329995767",
          "2022-10-25T20:02:11.531355039",
          "2022-10-25T20:02:13.581355229",
          "2022-10-26T02:07:19.882738129",
          "2022-10-26T02:07:21.932738200",
          "2022-10-26T06:58:56.633842603",
          "2022-10-26T06:58:58.683842793",
          "2022-10-26T12:57:51.885202185",
          "2022-10-26T12:57:53.935202375",
          "2022-10-26T19:03:02.286585465",
          "2022-10-26T19:03:04.336585656",
          "2022-10-26T23:54:39.037690178",
          "2022-10-26T23:54:41.087690249",
          "2022-10-26T23:59:58.837710277"
         ],
         "y": [
          25194,
          25194,
          27515,
          27515,
          27511,
          27511,
          25806,
          25806,
          27506,
          27506,
          0,
          0,
          45150,
          45150,
          45149,
          45149,
          45148,
          45148,
          45147,
          45147,
          45146,
          45146,
          45145,
          45145,
          45144,
          45144,
          45143,
          45143,
          45142,
          45142,
          45141,
          45141,
          45140,
          45140,
          45139,
          45139,
          62622,
          62622,
          45138,
          45138,
          45137,
          45137,
          45136,
          45136,
          45135,
          45135,
          45134,
          45134,
          45133,
          45133,
          45132,
          45132
         ]
        },
        {
         "hovertemplate": "%{x|%Y:%j:%H:%M:%S} %{y}",
         "line": {
          "color": "#ff7f0e",
          "width": 3
         },
         "marker": {
          "opacity": 0.9,
          "size": 8
         },
         "mode": "lines+markers",
         "name": "State",
         "opacity": 0.75,
         "showlegend": false,
         "type": "scatter",
         "x": [
          "2022-10-20T00:00:00.138221160",
          "2022-10-20T00:40:33.488374725",
          "2022-10-20T00:40:35.538374916",
          "2022-10-20T05:29:46.739470378",
          "2022-10-20T05:29:48.789470569",
          "2022-10-20T11:08:59.140755430",
          "2022-10-20T11:09:01.190755621",
          "2022-10-20T14:34:52.441535488",
          "2022-10-20T14:34:54.491535560",
          "2022-10-20T16:27:55.891963736",
          "2022-10-20T16:27:57.941963926",
          "2022-10-24T03:29:58.172143832",
          "2022-10-24T03:30:00.222143904",
          "2022-10-24T08:48:42.623350755",
          "2022-10-24T08:48:44.673350945",
          "2022-10-24T10:27:39.423725501",
          "2022-10-24T10:27:41.473725692",
          "2022-10-24T14:05:58.924552337",
          "2022-10-24T14:06:00.974552408",
          "2022-10-24T14:51:29.524724618",
          "2022-10-24T14:51:31.574724809",
          "2022-10-24T15:22:49.374843255",
          "2022-10-24T15:22:51.424843446",
          "2022-10-24T16:36:39.425122872",
          "2022-10-24T16:36:41.475123063",
          "2022-10-24T18:04:25.875455276",
          "2022-10-24T18:04:27.925455466",
          "2022-10-24T19:36:03.975802318",
          "2022-10-24T19:36:06.025802508",
          "2022-10-24T21:07:40.026149288",
          "2022-10-24T21:07:42.076149360",
          "2022-10-25T03:06:35.277508512",
          "2022-10-25T03:06:37.327508703",
          "2022-10-25T09:11:41.578891293",
          "2022-10-25T09:11:43.628891483",
          "2022-10-25T11:08:44.879334584",
          "2022-10-25T11:08:46.929334775",
          "2022-10-25T14:03:18.329995767",
          "2022-10-25T14:03:20.379995838",
          "2022-10-25T20:02:13.581355229",
          "2022-10-25T20:02:15.631355301",
          "2022-10-26T02:07:19.882738129",
          "2022-10-26T02:07:21.932738200",
          "2022-10-26T06:58:58.683842793",
          "2022-10-26T06:59:00.733842865",
          "2022-10-26T12:57:51.885202185",
          "2022-10-26T12:57:53.935202375",
          "2022-10-26T19:03:02.286585465",
          "2022-10-26T19:03:04.336585656",
          "2022-10-26T23:54:41.087690249",
          "2022-10-26T23:54:43.137690440",
          "2022-10-26T23:59:58.837710277"
         ],
         "y": [
          25194,
          25194,
          27515,
          27515,
          27511,
          27511,
          25806,
          25806,
          27506,
          27506,
          0,
          0,
          45150,
          45150,
          45149,
          45149,
          45148,
          45148,
          45147,
          45147,
          45146,
          45146,
          45145,
          45145,
          45144,
          45144,
          45143,
          45143,
          45142,
          45142,
          45141,
          45141,
          45140,
          45140,
          45139,
          45139,
          62622,
          62622,
          45138,
          45138,
          45137,
          45137,
          45136,
          45136,
          45135,
          45135,
          45134,
          45134,
          45133,
          45133,
          45132,
          45132
         ]
        }
       ],
       "layout": {
        "shapes": [
         {
          "fillcolor": "black",
          "line": {
           "color": "black",
           "width": 3
          },
          "opacity": 0.2,
          "type": "rect",
          "x0": "2022-10-20T16:27:00",
          "x1": "2022-10-20T16:30:00",
          "xref": "x",
          "y0": 0,
          "y1": 1,
          "yref": "y domain"
         }
        ],
        "template": {
         "data": {
          "bar": [
           {
            "error_x": {
             "color": "#2a3f5f"
            },
            "error_y": {
             "color": "#2a3f5f"
            },
            "marker": {
             "line": {
              "color": "#E5ECF6",
              "width": 0.5
             },
             "pattern": {
              "fillmode": "overlay",
              "size": 10,
              "solidity": 0.2
             }
            },
            "type": "bar"
           }
          ],
          "barpolar": [
           {
            "marker": {
             "line": {
              "color": "#E5ECF6",
              "width": 0.5
             },
             "pattern": {
              "fillmode": "overlay",
              "size": 10,
              "solidity": 0.2
             }
            },
            "type": "barpolar"
           }
          ],
          "carpet": [
           {
            "aaxis": {
             "endlinecolor": "#2a3f5f",
             "gridcolor": "white",
             "linecolor": "white",
             "minorgridcolor": "white",
             "startlinecolor": "#2a3f5f"
            },
            "baxis": {
             "endlinecolor": "#2a3f5f",
             "gridcolor": "white",
             "linecolor": "white",
             "minorgridcolor": "white",
             "startlinecolor": "#2a3f5f"
            },
            "type": "carpet"
           }
          ],
          "choropleth": [
           {
            "colorbar": {
             "outlinewidth": 0,
             "ticks": ""
            },
            "type": "choropleth"
           }
          ],
          "contour": [
           {
            "colorbar": {
             "outlinewidth": 0,
             "ticks": ""
            },
            "colorscale": [
             [
              0,
              "#0d0887"
             ],
             [
              0.1111111111111111,
              "#46039f"
             ],
             [
              0.2222222222222222,
              "#7201a8"
             ],
             [
              0.3333333333333333,
              "#9c179e"
             ],
             [
              0.4444444444444444,
              "#bd3786"
             ],
             [
              0.5555555555555556,
              "#d8576b"
             ],
             [
              0.6666666666666666,
              "#ed7953"
             ],
             [
              0.7777777777777778,
              "#fb9f3a"
             ],
             [
              0.8888888888888888,
              "#fdca26"
             ],
             [
              1,
              "#f0f921"
             ]
            ],
            "type": "contour"
           }
          ],
          "contourcarpet": [
           {
            "colorbar": {
             "outlinewidth": 0,
             "ticks": ""
            },
            "type": "contourcarpet"
           }
          ],
          "heatmap": [
           {
            "colorbar": {
             "outlinewidth": 0,
             "ticks": ""
            },
            "colorscale": [
             [
              0,
              "#0d0887"
             ],
             [
              0.1111111111111111,
              "#46039f"
             ],
             [
              0.2222222222222222,
              "#7201a8"
             ],
             [
              0.3333333333333333,
              "#9c179e"
             ],
             [
              0.4444444444444444,
              "#bd3786"
             ],
             [
              0.5555555555555556,
              "#d8576b"
             ],
             [
              0.6666666666666666,
              "#ed7953"
             ],
             [
              0.7777777777777778,
              "#fb9f3a"
             ],
             [
              0.8888888888888888,
              "#fdca26"
             ],
             [
              1,
              "#f0f921"
             ]
            ],
            "type": "heatmap"
           }
          ],
          "heatmapgl": [
           {
            "colorbar": {
             "outlinewidth": 0,
             "ticks": ""
            },
            "colorscale": [
             [
              0,
              "#0d0887"
             ],
             [
              0.1111111111111111,
              "#46039f"
             ],
             [
              0.2222222222222222,
              "#7201a8"
             ],
             [
              0.3333333333333333,
              "#9c179e"
             ],
             [
              0.4444444444444444,
              "#bd3786"
             ],
             [
              0.5555555555555556,
              "#d8576b"
             ],
             [
              0.6666666666666666,
              "#ed7953"
             ],
             [
              0.7777777777777778,
              "#fb9f3a"
             ],
             [
              0.8888888888888888,
              "#fdca26"
             ],
             [
              1,
              "#f0f921"
             ]
            ],
            "type": "heatmapgl"
           }
          ],
          "histogram": [
           {
            "marker": {
             "pattern": {
              "fillmode": "overlay",
              "size": 10,
              "solidity": 0.2
             }
            },
            "type": "histogram"
           }
          ],
          "histogram2d": [
           {
            "colorbar": {
             "outlinewidth": 0,
             "ticks": ""
            },
            "colorscale": [
             [
              0,
              "#0d0887"
             ],
             [
              0.1111111111111111,
              "#46039f"
             ],
             [
              0.2222222222222222,
              "#7201a8"
             ],
             [
              0.3333333333333333,
              "#9c179e"
             ],
             [
              0.4444444444444444,
              "#bd3786"
             ],
             [
              0.5555555555555556,
              "#d8576b"
             ],
             [
              0.6666666666666666,
              "#ed7953"
             ],
             [
              0.7777777777777778,
              "#fb9f3a"
             ],
             [
              0.8888888888888888,
              "#fdca26"
             ],
             [
              1,
              "#f0f921"
             ]
            ],
            "type": "histogram2d"
           }
          ],
          "histogram2dcontour": [
           {
            "colorbar": {
             "outlinewidth": 0,
             "ticks": ""
            },
            "colorscale": [
             [
              0,
              "#0d0887"
             ],
             [
              0.1111111111111111,
              "#46039f"
             ],
             [
              0.2222222222222222,
              "#7201a8"
             ],
             [
              0.3333333333333333,
              "#9c179e"
             ],
             [
              0.4444444444444444,
              "#bd3786"
             ],
             [
              0.5555555555555556,
              "#d8576b"
             ],
             [
              0.6666666666666666,
              "#ed7953"
             ],
             [
              0.7777777777777778,
              "#fb9f3a"
             ],
             [
              0.8888888888888888,
              "#fdca26"
             ],
             [
              1,
              "#f0f921"
             ]
            ],
            "type": "histogram2dcontour"
           }
          ],
          "mesh3d": [
           {
            "colorbar": {
             "outlinewidth": 0,
             "ticks": ""
            },
            "type": "mesh3d"
           }
          ],
          "parcoords": [
           {
            "line": {
             "colorbar": {
              "outlinewidth": 0,
              "ticks": ""
             }
            },
            "type": "parcoords"
           }
          ],
          "pie": [
           {
            "automargin": true,
            "type": "pie"
           }
          ],
          "scatter": [
           {
            "marker": {
             "colorbar": {
              "outlinewidth": 0,
              "ticks": ""
             }
            },
            "type": "scatter"
           }
          ],
          "scatter3d": [
           {
            "line": {
             "colorbar": {
              "outlinewidth": 0,
              "ticks": ""
             }
            },
            "marker": {
             "colorbar": {
              "outlinewidth": 0,
              "ticks": ""
             }
            },
            "type": "scatter3d"
           }
          ],
          "scattercarpet": [
           {
            "marker": {
             "colorbar": {
              "outlinewidth": 0,
              "ticks": ""
             }
            },
            "type": "scattercarpet"
           }
          ],
          "scattergeo": [
           {
            "marker": {
             "colorbar": {
              "outlinewidth": 0,
              "ticks": ""
             }
            },
            "type": "scattergeo"
           }
          ],
          "scattergl": [
           {
            "marker": {
             "colorbar": {
              "outlinewidth": 0,
              "ticks": ""
             }
            },
            "type": "scattergl"
           }
          ],
          "scattermapbox": [
           {
            "marker": {
             "colorbar": {
              "outlinewidth": 0,
              "ticks": ""
             }
            },
            "type": "scattermapbox"
           }
          ],
          "scatterpolar": [
           {
            "marker": {
             "colorbar": {
              "outlinewidth": 0,
              "ticks": ""
             }
            },
            "type": "scatterpolar"
           }
          ],
          "scatterpolargl": [
           {
            "marker": {
             "colorbar": {
              "outlinewidth": 0,
              "ticks": ""
             }
            },
            "type": "scatterpolargl"
           }
          ],
          "scatterternary": [
           {
            "marker": {
             "colorbar": {
              "outlinewidth": 0,
              "ticks": ""
             }
            },
            "type": "scatterternary"
           }
          ],
          "surface": [
           {
            "colorbar": {
             "outlinewidth": 0,
             "ticks": ""
            },
            "colorscale": [
             [
              0,
              "#0d0887"
             ],
             [
              0.1111111111111111,
              "#46039f"
             ],
             [
              0.2222222222222222,
              "#7201a8"
             ],
             [
              0.3333333333333333,
              "#9c179e"
             ],
             [
              0.4444444444444444,
              "#bd3786"
             ],
             [
              0.5555555555555556,
              "#d8576b"
             ],
             [
              0.6666666666666666,
              "#ed7953"
             ],
             [
              0.7777777777777778,
              "#fb9f3a"
             ],
             [
              0.8888888888888888,
              "#fdca26"
             ],
             [
              1,
              "#f0f921"
             ]
            ],
            "type": "surface"
           }
          ],
          "table": [
           {
            "cells": {
             "fill": {
              "color": "#EBF0F8"
             },
             "line": {
              "color": "white"
             }
            },
            "header": {
             "fill": {
              "color": "#C8D4E3"
             },
             "line": {
              "color": "white"
             }
            },
            "type": "table"
           }
          ]
         },
         "layout": {
          "annotationdefaults": {
           "arrowcolor": "#2a3f5f",
           "arrowhead": 0,
           "arrowwidth": 1
          },
          "autotypenumbers": "strict",
          "coloraxis": {
           "colorbar": {
            "outlinewidth": 0,
            "ticks": ""
           }
          },
          "colorscale": {
           "diverging": [
            [
             0,
             "#8e0152"
            ],
            [
             0.1,
             "#c51b7d"
            ],
            [
             0.2,
             "#de77ae"
            ],
            [
             0.3,
             "#f1b6da"
            ],
            [
             0.4,
             "#fde0ef"
            ],
            [
             0.5,
             "#f7f7f7"
            ],
            [
             0.6,
             "#e6f5d0"
            ],
            [
             0.7,
             "#b8e186"
            ],
            [
             0.8,
             "#7fbc41"
            ],
            [
             0.9,
             "#4d9221"
            ],
            [
             1,
             "#276419"
            ]
           ],
           "sequential": [
            [
             0,
             "#0d0887"
            ],
            [
             0.1111111111111111,
             "#46039f"
            ],
            [
             0.2222222222222222,
             "#7201a8"
            ],
            [
             0.3333333333333333,
             "#9c179e"
            ],
            [
             0.4444444444444444,
             "#bd3786"
            ],
            [
             0.5555555555555556,
             "#d8576b"
            ],
            [
             0.6666666666666666,
             "#ed7953"
            ],
            [
             0.7777777777777778,
             "#fb9f3a"
            ],
            [
             0.8888888888888888,
             "#fdca26"
            ],
            [
             1,
             "#f0f921"
            ]
           ],
           "sequentialminus": [
            [
             0,
             "#0d0887"
            ],
            [
             0.1111111111111111,
             "#46039f"
            ],
            [
             0.2222222222222222,
             "#7201a8"
            ],
            [
             0.3333333333333333,
             "#9c179e"
            ],
            [
             0.4444444444444444,
             "#bd3786"
            ],
            [
             0.5555555555555556,
             "#d8576b"
            ],
            [
             0.6666666666666666,
             "#ed7953"
            ],
            [
             0.7777777777777778,
             "#fb9f3a"
            ],
            [
             0.8888888888888888,
             "#fdca26"
            ],
            [
             1,
             "#f0f921"
            ]
           ]
          },
          "colorway": [
           "#636efa",
           "#EF553B",
           "#00cc96",
           "#ab63fa",
           "#FFA15A",
           "#19d3f3",
           "#FF6692",
           "#B6E880",
           "#FF97FF",
           "#FECB52"
          ],
          "font": {
           "color": "#2a3f5f"
          },
          "geo": {
           "bgcolor": "white",
           "lakecolor": "white",
           "landcolor": "#E5ECF6",
           "showlakes": true,
           "showland": true,
           "subunitcolor": "white"
          },
          "hoverlabel": {
           "align": "left"
          },
          "hovermode": "closest",
          "mapbox": {
           "style": "light"
          },
          "paper_bgcolor": "white",
          "plot_bgcolor": "#E5ECF6",
          "polar": {
           "angularaxis": {
            "gridcolor": "white",
            "linecolor": "white",
            "ticks": ""
           },
           "bgcolor": "#E5ECF6",
           "radialaxis": {
            "gridcolor": "white",
            "linecolor": "white",
            "ticks": ""
           }
          },
          "scene": {
           "xaxis": {
            "backgroundcolor": "#E5ECF6",
            "gridcolor": "white",
            "gridwidth": 2,
            "linecolor": "white",
            "showbackground": true,
            "ticks": "",
            "zerolinecolor": "white"
           },
           "yaxis": {
            "backgroundcolor": "#E5ECF6",
            "gridcolor": "white",
            "gridwidth": 2,
            "linecolor": "white",
            "showbackground": true,
            "ticks": "",
            "zerolinecolor": "white"
           },
           "zaxis": {
            "backgroundcolor": "#E5ECF6",
            "gridcolor": "white",
            "gridwidth": 2,
            "linecolor": "white",
            "showbackground": true,
            "ticks": "",
            "zerolinecolor": "white"
           }
          },
          "shapedefaults": {
           "line": {
            "color": "#2a3f5f"
           }
          },
          "ternary": {
           "aaxis": {
            "gridcolor": "white",
            "linecolor": "white",
            "ticks": ""
           },
           "baxis": {
            "gridcolor": "white",
            "linecolor": "white",
            "ticks": ""
           },
           "bgcolor": "#E5ECF6",
           "caxis": {
            "gridcolor": "white",
            "linecolor": "white",
            "ticks": ""
           }
          },
          "title": {
           "x": 0.05
          },
          "xaxis": {
           "automargin": true,
           "gridcolor": "white",
           "linecolor": "white",
           "ticks": "",
           "title": {
            "standoff": 15
           },
           "zerolinecolor": "white",
           "zerolinewidth": 2
          },
          "yaxis": {
           "automargin": true,
           "gridcolor": "white",
           "linecolor": "white",
           "ticks": "",
           "title": {
            "standoff": 15
           },
           "zerolinecolor": "white",
           "zerolinewidth": 2
          }
         }
        },
        "xaxis": {
         "title": {
          "text": "Date"
         }
        },
        "yaxis": {
         "title": {
          "text": "OBSID"
         }
        }
       }
      }
     },
     "metadata": {},
     "output_type": "display_data"
    }
   ],
   "source": [
    "out = vo.get_plot_html(show=True)"
   ]
  },
  {
   "attachments": {},
   "cell_type": "markdown",
   "metadata": {},
   "source": [
    "### Playing: making gaps in plotly"
   ]
  },
  {
   "cell_type": "code",
   "execution_count": 38,
   "metadata": {},
   "outputs": [
    {
     "data": {
      "application/vnd.plotly.v1+json": {
       "config": {
        "plotlyServerURL": "https://plot.ly"
       },
       "data": [
        {
         "hovertemplate": "%{x|%Y:%j:%H:%M:%S} %{y}",
         "mode": "lines",
         "type": "scatter",
         "x": [
          "2022-01-01T00:00:00.000000000",
          "2022-01-02T00:00:00.000000000",
          "2022-01-03T00:00:00.000000000",
          "2022-01-04T00:00:00.000000000",
          "2022-01-05T00:00:00.000000000"
         ],
         "y": [
          1,
          2,
          null,
          2,
          4
         ]
        }
       ],
       "layout": {
        "template": {
         "data": {
          "bar": [
           {
            "error_x": {
             "color": "#2a3f5f"
            },
            "error_y": {
             "color": "#2a3f5f"
            },
            "marker": {
             "line": {
              "color": "#E5ECF6",
              "width": 0.5
             },
             "pattern": {
              "fillmode": "overlay",
              "size": 10,
              "solidity": 0.2
             }
            },
            "type": "bar"
           }
          ],
          "barpolar": [
           {
            "marker": {
             "line": {
              "color": "#E5ECF6",
              "width": 0.5
             },
             "pattern": {
              "fillmode": "overlay",
              "size": 10,
              "solidity": 0.2
             }
            },
            "type": "barpolar"
           }
          ],
          "carpet": [
           {
            "aaxis": {
             "endlinecolor": "#2a3f5f",
             "gridcolor": "white",
             "linecolor": "white",
             "minorgridcolor": "white",
             "startlinecolor": "#2a3f5f"
            },
            "baxis": {
             "endlinecolor": "#2a3f5f",
             "gridcolor": "white",
             "linecolor": "white",
             "minorgridcolor": "white",
             "startlinecolor": "#2a3f5f"
            },
            "type": "carpet"
           }
          ],
          "choropleth": [
           {
            "colorbar": {
             "outlinewidth": 0,
             "ticks": ""
            },
            "type": "choropleth"
           }
          ],
          "contour": [
           {
            "colorbar": {
             "outlinewidth": 0,
             "ticks": ""
            },
            "colorscale": [
             [
              0,
              "#0d0887"
             ],
             [
              0.1111111111111111,
              "#46039f"
             ],
             [
              0.2222222222222222,
              "#7201a8"
             ],
             [
              0.3333333333333333,
              "#9c179e"
             ],
             [
              0.4444444444444444,
              "#bd3786"
             ],
             [
              0.5555555555555556,
              "#d8576b"
             ],
             [
              0.6666666666666666,
              "#ed7953"
             ],
             [
              0.7777777777777778,
              "#fb9f3a"
             ],
             [
              0.8888888888888888,
              "#fdca26"
             ],
             [
              1,
              "#f0f921"
             ]
            ],
            "type": "contour"
           }
          ],
          "contourcarpet": [
           {
            "colorbar": {
             "outlinewidth": 0,
             "ticks": ""
            },
            "type": "contourcarpet"
           }
          ],
          "heatmap": [
           {
            "colorbar": {
             "outlinewidth": 0,
             "ticks": ""
            },
            "colorscale": [
             [
              0,
              "#0d0887"
             ],
             [
              0.1111111111111111,
              "#46039f"
             ],
             [
              0.2222222222222222,
              "#7201a8"
             ],
             [
              0.3333333333333333,
              "#9c179e"
             ],
             [
              0.4444444444444444,
              "#bd3786"
             ],
             [
              0.5555555555555556,
              "#d8576b"
             ],
             [
              0.6666666666666666,
              "#ed7953"
             ],
             [
              0.7777777777777778,
              "#fb9f3a"
             ],
             [
              0.8888888888888888,
              "#fdca26"
             ],
             [
              1,
              "#f0f921"
             ]
            ],
            "type": "heatmap"
           }
          ],
          "heatmapgl": [
           {
            "colorbar": {
             "outlinewidth": 0,
             "ticks": ""
            },
            "colorscale": [
             [
              0,
              "#0d0887"
             ],
             [
              0.1111111111111111,
              "#46039f"
             ],
             [
              0.2222222222222222,
              "#7201a8"
             ],
             [
              0.3333333333333333,
              "#9c179e"
             ],
             [
              0.4444444444444444,
              "#bd3786"
             ],
             [
              0.5555555555555556,
              "#d8576b"
             ],
             [
              0.6666666666666666,
              "#ed7953"
             ],
             [
              0.7777777777777778,
              "#fb9f3a"
             ],
             [
              0.8888888888888888,
              "#fdca26"
             ],
             [
              1,
              "#f0f921"
             ]
            ],
            "type": "heatmapgl"
           }
          ],
          "histogram": [
           {
            "marker": {
             "pattern": {
              "fillmode": "overlay",
              "size": 10,
              "solidity": 0.2
             }
            },
            "type": "histogram"
           }
          ],
          "histogram2d": [
           {
            "colorbar": {
             "outlinewidth": 0,
             "ticks": ""
            },
            "colorscale": [
             [
              0,
              "#0d0887"
             ],
             [
              0.1111111111111111,
              "#46039f"
             ],
             [
              0.2222222222222222,
              "#7201a8"
             ],
             [
              0.3333333333333333,
              "#9c179e"
             ],
             [
              0.4444444444444444,
              "#bd3786"
             ],
             [
              0.5555555555555556,
              "#d8576b"
             ],
             [
              0.6666666666666666,
              "#ed7953"
             ],
             [
              0.7777777777777778,
              "#fb9f3a"
             ],
             [
              0.8888888888888888,
              "#fdca26"
             ],
             [
              1,
              "#f0f921"
             ]
            ],
            "type": "histogram2d"
           }
          ],
          "histogram2dcontour": [
           {
            "colorbar": {
             "outlinewidth": 0,
             "ticks": ""
            },
            "colorscale": [
             [
              0,
              "#0d0887"
             ],
             [
              0.1111111111111111,
              "#46039f"
             ],
             [
              0.2222222222222222,
              "#7201a8"
             ],
             [
              0.3333333333333333,
              "#9c179e"
             ],
             [
              0.4444444444444444,
              "#bd3786"
             ],
             [
              0.5555555555555556,
              "#d8576b"
             ],
             [
              0.6666666666666666,
              "#ed7953"
             ],
             [
              0.7777777777777778,
              "#fb9f3a"
             ],
             [
              0.8888888888888888,
              "#fdca26"
             ],
             [
              1,
              "#f0f921"
             ]
            ],
            "type": "histogram2dcontour"
           }
          ],
          "mesh3d": [
           {
            "colorbar": {
             "outlinewidth": 0,
             "ticks": ""
            },
            "type": "mesh3d"
           }
          ],
          "parcoords": [
           {
            "line": {
             "colorbar": {
              "outlinewidth": 0,
              "ticks": ""
             }
            },
            "type": "parcoords"
           }
          ],
          "pie": [
           {
            "automargin": true,
            "type": "pie"
           }
          ],
          "scatter": [
           {
            "marker": {
             "colorbar": {
              "outlinewidth": 0,
              "ticks": ""
             }
            },
            "type": "scatter"
           }
          ],
          "scatter3d": [
           {
            "line": {
             "colorbar": {
              "outlinewidth": 0,
              "ticks": ""
             }
            },
            "marker": {
             "colorbar": {
              "outlinewidth": 0,
              "ticks": ""
             }
            },
            "type": "scatter3d"
           }
          ],
          "scattercarpet": [
           {
            "marker": {
             "colorbar": {
              "outlinewidth": 0,
              "ticks": ""
             }
            },
            "type": "scattercarpet"
           }
          ],
          "scattergeo": [
           {
            "marker": {
             "colorbar": {
              "outlinewidth": 0,
              "ticks": ""
             }
            },
            "type": "scattergeo"
           }
          ],
          "scattergl": [
           {
            "marker": {
             "colorbar": {
              "outlinewidth": 0,
              "ticks": ""
             }
            },
            "type": "scattergl"
           }
          ],
          "scattermapbox": [
           {
            "marker": {
             "colorbar": {
              "outlinewidth": 0,
              "ticks": ""
             }
            },
            "type": "scattermapbox"
           }
          ],
          "scatterpolar": [
           {
            "marker": {
             "colorbar": {
              "outlinewidth": 0,
              "ticks": ""
             }
            },
            "type": "scatterpolar"
           }
          ],
          "scatterpolargl": [
           {
            "marker": {
             "colorbar": {
              "outlinewidth": 0,
              "ticks": ""
             }
            },
            "type": "scatterpolargl"
           }
          ],
          "scatterternary": [
           {
            "marker": {
             "colorbar": {
              "outlinewidth": 0,
              "ticks": ""
             }
            },
            "type": "scatterternary"
           }
          ],
          "surface": [
           {
            "colorbar": {
             "outlinewidth": 0,
             "ticks": ""
            },
            "colorscale": [
             [
              0,
              "#0d0887"
             ],
             [
              0.1111111111111111,
              "#46039f"
             ],
             [
              0.2222222222222222,
              "#7201a8"
             ],
             [
              0.3333333333333333,
              "#9c179e"
             ],
             [
              0.4444444444444444,
              "#bd3786"
             ],
             [
              0.5555555555555556,
              "#d8576b"
             ],
             [
              0.6666666666666666,
              "#ed7953"
             ],
             [
              0.7777777777777778,
              "#fb9f3a"
             ],
             [
              0.8888888888888888,
              "#fdca26"
             ],
             [
              1,
              "#f0f921"
             ]
            ],
            "type": "surface"
           }
          ],
          "table": [
           {
            "cells": {
             "fill": {
              "color": "#EBF0F8"
             },
             "line": {
              "color": "white"
             }
            },
            "header": {
             "fill": {
              "color": "#C8D4E3"
             },
             "line": {
              "color": "white"
             }
            },
            "type": "table"
           }
          ]
         },
         "layout": {
          "annotationdefaults": {
           "arrowcolor": "#2a3f5f",
           "arrowhead": 0,
           "arrowwidth": 1
          },
          "autotypenumbers": "strict",
          "coloraxis": {
           "colorbar": {
            "outlinewidth": 0,
            "ticks": ""
           }
          },
          "colorscale": {
           "diverging": [
            [
             0,
             "#8e0152"
            ],
            [
             0.1,
             "#c51b7d"
            ],
            [
             0.2,
             "#de77ae"
            ],
            [
             0.3,
             "#f1b6da"
            ],
            [
             0.4,
             "#fde0ef"
            ],
            [
             0.5,
             "#f7f7f7"
            ],
            [
             0.6,
             "#e6f5d0"
            ],
            [
             0.7,
             "#b8e186"
            ],
            [
             0.8,
             "#7fbc41"
            ],
            [
             0.9,
             "#4d9221"
            ],
            [
             1,
             "#276419"
            ]
           ],
           "sequential": [
            [
             0,
             "#0d0887"
            ],
            [
             0.1111111111111111,
             "#46039f"
            ],
            [
             0.2222222222222222,
             "#7201a8"
            ],
            [
             0.3333333333333333,
             "#9c179e"
            ],
            [
             0.4444444444444444,
             "#bd3786"
            ],
            [
             0.5555555555555556,
             "#d8576b"
            ],
            [
             0.6666666666666666,
             "#ed7953"
            ],
            [
             0.7777777777777778,
             "#fb9f3a"
            ],
            [
             0.8888888888888888,
             "#fdca26"
            ],
            [
             1,
             "#f0f921"
            ]
           ],
           "sequentialminus": [
            [
             0,
             "#0d0887"
            ],
            [
             0.1111111111111111,
             "#46039f"
            ],
            [
             0.2222222222222222,
             "#7201a8"
            ],
            [
             0.3333333333333333,
             "#9c179e"
            ],
            [
             0.4444444444444444,
             "#bd3786"
            ],
            [
             0.5555555555555556,
             "#d8576b"
            ],
            [
             0.6666666666666666,
             "#ed7953"
            ],
            [
             0.7777777777777778,
             "#fb9f3a"
            ],
            [
             0.8888888888888888,
             "#fdca26"
            ],
            [
             1,
             "#f0f921"
            ]
           ]
          },
          "colorway": [
           "#636efa",
           "#EF553B",
           "#00cc96",
           "#ab63fa",
           "#FFA15A",
           "#19d3f3",
           "#FF6692",
           "#B6E880",
           "#FF97FF",
           "#FECB52"
          ],
          "font": {
           "color": "#2a3f5f"
          },
          "geo": {
           "bgcolor": "white",
           "lakecolor": "white",
           "landcolor": "#E5ECF6",
           "showlakes": true,
           "showland": true,
           "subunitcolor": "white"
          },
          "hoverlabel": {
           "align": "left"
          },
          "hovermode": "closest",
          "mapbox": {
           "style": "light"
          },
          "paper_bgcolor": "white",
          "plot_bgcolor": "#E5ECF6",
          "polar": {
           "angularaxis": {
            "gridcolor": "white",
            "linecolor": "white",
            "ticks": ""
           },
           "bgcolor": "#E5ECF6",
           "radialaxis": {
            "gridcolor": "white",
            "linecolor": "white",
            "ticks": ""
           }
          },
          "scene": {
           "xaxis": {
            "backgroundcolor": "#E5ECF6",
            "gridcolor": "white",
            "gridwidth": 2,
            "linecolor": "white",
            "showbackground": true,
            "ticks": "",
            "zerolinecolor": "white"
           },
           "yaxis": {
            "backgroundcolor": "#E5ECF6",
            "gridcolor": "white",
            "gridwidth": 2,
            "linecolor": "white",
            "showbackground": true,
            "ticks": "",
            "zerolinecolor": "white"
           },
           "zaxis": {
            "backgroundcolor": "#E5ECF6",
            "gridcolor": "white",
            "gridwidth": 2,
            "linecolor": "white",
            "showbackground": true,
            "ticks": "",
            "zerolinecolor": "white"
           }
          },
          "shapedefaults": {
           "line": {
            "color": "#2a3f5f"
           }
          },
          "ternary": {
           "aaxis": {
            "gridcolor": "white",
            "linecolor": "white",
            "ticks": ""
           },
           "baxis": {
            "gridcolor": "white",
            "linecolor": "white",
            "ticks": ""
           },
           "bgcolor": "#E5ECF6",
           "caxis": {
            "gridcolor": "white",
            "linecolor": "white",
            "ticks": ""
           }
          },
          "title": {
           "x": 0.05
          },
          "xaxis": {
           "automargin": true,
           "gridcolor": "white",
           "linecolor": "white",
           "ticks": "",
           "title": {
            "standoff": 15
           },
           "zerolinecolor": "white",
           "zerolinewidth": 2
          },
          "yaxis": {
           "automargin": true,
           "gridcolor": "white",
           "linecolor": "white",
           "ticks": "",
           "title": {
            "standoff": 15
           },
           "zerolinecolor": "white",
           "zerolinewidth": 2
          }
         }
        }
       }
      }
     },
     "metadata": {},
     "output_type": "display_data"
    }
   ],
   "source": [
    "x = CxoTime([\"2022:001\", \"2022:002\", \"2022:003\" ,\"2022:004\", \"2022:005\"]).datetime64\n",
    "y = [1, 2, np.nan, 2, 4]\n",
    "hovertemplate = \"%{x|%Y:%j:%H:%M:%S} %{y}\"\n",
    "\n",
    "fig = go.Figure()\n",
    "fig.add_trace(go.Scatter(x=x, y=y, mode=\"lines\", hovertemplate=hovertemplate))\n",
    "fig.show()\n"
   ]
  },
  {
   "cell_type": "code",
   "execution_count": 39,
   "metadata": {},
   "outputs": [],
   "source": [
    "dat = fetch.Msid('tephin', '2022:001', '2022:002')"
   ]
  },
  {
   "cell_type": "code",
   "execution_count": null,
   "metadata": {},
   "outputs": [],
   "source": []
  }
 ],
 "metadata": {
  "kernelspec": {
   "display_name": "Python 3.8.12 ('ska3')",
   "language": "python",
   "name": "python3"
  },
  "language_info": {
   "codemirror_mode": {
    "name": "ipython",
    "version": 3
   },
   "file_extension": ".py",
   "mimetype": "text/x-python",
   "name": "python",
   "nbconvert_exporter": "python",
   "pygments_lexer": "ipython3",
   "version": "3.8.12 (default, Oct 12 2021, 06:23:56) \n[Clang 10.0.0 ]"
  },
  "orig_nbformat": 4,
  "vscode": {
   "interpreter": {
    "hash": "d2df0004ee630a46de2935730c9c65ee0c09bd3f3b85f07c44dd36ceff3dbd5e"
   }
  }
 },
 "nbformat": 4,
 "nbformat_minor": 2
}
