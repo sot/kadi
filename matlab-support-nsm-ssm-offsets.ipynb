{
 "cells": [
  {
   "cell_type": "code",
   "execution_count": 1,
   "metadata": {},
   "outputs": [],
   "source": [
    "import os\n",
    "import sys\n",
    "from pathlib import Path\n",
    "\n",
    "sys.path.insert(0, \"/Users/aldcroft/git/chandra_maneuver\")\n",
    "\n",
    "import astropy.units as u\n",
    "from cxotime import CxoTime\n",
    "\n",
    "import kadi.commands as kc\n",
    "import kadi.commands.states as kcs\n",
    "from kadi.scripts import update_cmds_v2"
   ]
  },
  {
   "cell_type": "code",
   "execution_count": 2,
   "metadata": {},
   "outputs": [],
   "source": [
    "kadi_dir = Path(\"nsm-ssm-offset\")\n",
    "kadi_dir.mkdir(exist_ok=True)"
   ]
  },
  {
   "cell_type": "code",
   "execution_count": 3,
   "metadata": {},
   "outputs": [],
   "source": [
    "stop = CxoTime(\"2023:200\")  # Clean period with no command events within +/- 50 days\n",
    "os.environ[\"KADI\"] = str(kadi_dir)  # Data root for reading/writing cmds2.h5,pkl\n",
    "kc.conf.commands_dir = str(kadi_dir)  # Directory for cmd_events.csv and loads\n",
    "os.environ[\"KADI_COMMANDS_DEFAULT_STOP\"] = stop.date\n",
    "os.environ[\"KADI_SCENARIO\"] = \"test-scenario\""
   ]
  },
  {
   "cell_type": "code",
   "execution_count": 4,
   "metadata": {},
   "outputs": [
    {
     "name": "stdout",
     "output_type": "stream",
     "text": [
      "******************************************\n",
      "Running: /Users/aldcroft/git/kadi/kadi/scripts/update_cmds_v2.py\n",
      "Version: 7.11.1.dev0+g0022729.d20240809\n",
      "Time: Fri Aug  9 15:47:31 2024\n",
      "User: root\n",
      "Machine: saos-MBP\n",
      "Processing args:\n",
      "{'data_root': 'nsm-ssm-offset',\n",
      " 'log_level': 10,\n",
      " 'lookback': 30,\n",
      " 'scenario': 'test-scenario',\n",
      " 'stop': '2023:200:00:00:00.000'}\n",
      "******************************************\n",
      "2024-08-09 15:47:31,811 load_idx_cmds: Loaded nsm-ssm-offset/cmds2.h5 with 8206 commands\n",
      "2024-08-09 15:47:31,814 load_pars_dict: Loaded nsm-ssm-offset/cmds2.pkl with 1060 pars\n",
      "2024-08-09 15:47:31,814 get_cmd_events: Reading command events /Users/aldcroft/git/kadi/nsm-ssm-offset/test-scenario/cmd_events.csv\n",
      "2024-08-09 15:47:31,817 filter_cmd_events_default_stop: Filtering cmd_events to stop date 2023:200:00:00:00.000 (2 vs 2)\n",
      "2024-08-09 15:47:31,819 get_occweb_page: Getting OCCweb FOT/mission_planning/PRODUCTS/APPR_LOADS/2023/JUN with cache=False\n",
      "2024-08-09 15:47:31,975 get_load_cmds_from_occweb_or_local: Already have /Users/aldcroft/git/kadi/nsm-ssm-offset/loads/JUN1923A.pkl.gz\n",
      "2024-08-09 15:47:31,979 get_load_cmds_from_occweb_or_local: Already have /Users/aldcroft/git/kadi/nsm-ssm-offset/loads/JUN2623A.pkl.gz\n",
      "2024-08-09 15:47:31,982 get_occweb_page: Getting OCCweb FOT/mission_planning/PRODUCTS/APPR_LOADS/2023/JUL with cache=False\n",
      "2024-08-09 15:47:32,089 get_load_cmds_from_occweb_or_local: Already have /Users/aldcroft/git/kadi/nsm-ssm-offset/loads/JUL0323A.pkl.gz\n",
      "2024-08-09 15:47:32,094 get_load_cmds_from_occweb_or_local: Already have /Users/aldcroft/git/kadi/nsm-ssm-offset/loads/JUL1023B.pkl.gz\n",
      "2024-08-09 15:47:32,098 get_load_cmds_from_occweb_or_local: Already have /Users/aldcroft/git/kadi/nsm-ssm-offset/loads/JUL1723A.pkl.gz\n",
      "2024-08-09 15:47:32,103 update_archive_and_get_cmds_recent: Including loads JUN1923A, JUN2623A, JUL0323A, JUL1023B, JUL1723A\n",
      "2024-08-09 15:47:32,108 update_archive_and_get_cmds_recent: Load JUN1923A has 2380 commands with RLTT=2023:170:01:57:54.596\n",
      "2024-08-09 15:47:32,111 update_archive_and_get_cmds_recent: Load JUN2623A has 1843 commands with RLTT=2023:177:05:22:40.513\n",
      "2024-08-09 15:47:32,114 update_archive_and_get_cmds_recent: Load JUL0323A has 1809 commands with RLTT=2023:183:16:42:00.000\n",
      "2024-08-09 15:47:32,117 update_archive_and_get_cmds_recent: Load JUL1023B has 1674 commands with RLTT=2023:191:03:46:28.615\n",
      "2024-08-09 15:47:32,160 update_archive_and_get_cmds_recent: Load JUL1723A has 1636 commands with RLTT=2023:197:10:07:02.262\n",
      "2024-08-09 15:47:32,162 update_archive_and_get_cmds_recent: Including cmd_events:\n",
      "  Safe mode at 2023:199:00:00:00.000\n",
      "params_str='160'\n",
      "hej args=[160]\n",
      "args=(160,)\n",
      "out=({'type': 'COMMAND_SW', 'tlmsid': 'ACPCSFSU', 'params': {'PITCH': 160}},)\n",
      "2024-08-09 15:47:32,168 update_archive_and_get_cmds_recent: Processing JUN1923A with 2380 commands\n",
      "2024-08-09 15:47:32,168 update_archive_and_get_cmds_recent: Adding 2380 commands from JUN1923A\n",
      "2024-08-09 15:47:32,169 update_archive_and_get_cmds_recent: Processing JUN2623A with 1843 commands\n",
      "2024-08-09 15:47:32,170 update_archive_and_get_cmds_recent: Adding 1843 commands from JUN2623A\n",
      "2024-08-09 15:47:32,170 update_archive_and_get_cmds_recent: Processing JUL0323A with 1809 commands\n",
      "2024-08-09 15:47:32,171 update_archive_and_get_cmds_recent: Adding 1809 commands from JUL0323A\n",
      "2024-08-09 15:47:32,171 update_archive_and_get_cmds_recent: Processing JUL1023B with 1674 commands\n",
      "2024-08-09 15:47:32,172 update_archive_and_get_cmds_recent: Adding 1674 commands from JUL1023B\n",
      "2024-08-09 15:47:32,172 update_archive_and_get_cmds_recent: Processing JUL1723A with 1636 commands\n",
      "2024-08-09 15:47:32,173 update_archive_and_get_cmds_recent: Adding 1636 commands from JUL1723A\n",
      "2024-08-09 15:47:32,173 update_archive_and_get_cmds_recent: Processing CMD_EVT Safe_mode at 2023:199:00:00:00.000 with 15 commands\n",
      "2024-08-09 15:47:32,174 update_archive_and_get_cmds_recent: Removing 1345 cmds in SCS slots [128, 129, 130, 131, 132, 133] from JUL1723A due to DISABLE SCS in CMD_EVT at 2023:199:00:00:00.000\n",
      "2024-08-09 15:47:32,175 update_archive_and_get_cmds_recent: Adding 15 commands from CMD_EVT Safe_mode at 2023:199:00:00:00.000\n",
      "2024-08-09 15:47:32,208 get_matching_block_idx: Selecting commands from cmds_arch[0:]\n",
      "2024-08-09 15:47:32,212 load_pars_dict: Loaded /Users/aldcroft/git/kadi/nsm-ssm-offset/cmds2.pkl with 1060 pars\n",
      "2024-08-09 15:47:32,476 get_matching_block_idx: Matching blocks for (a) recent commands and (b) existing HDF5\n",
      "2024-08-09 15:47:32,476 get_matching_block_idx:   Match(a=0, b=0, size=8206)\n",
      "2024-08-09 15:47:32,477 get_matching_block_idx:   Match(a=8206, b=8206, size=0)\n",
      "2024-08-09 15:47:32,477 get_matching_block_idx: Diffs between (a) recent commands and (b) existing HDF5\n",
      "2024-08-09 15:47:32,477 get_matching_block_idx:   ('equal', 0, 8206, 0, 8206)\n",
      "2024-08-09 15:47:32,529 _update_cmds_archive: No new commands found, skipping writing nsm-ssm-offset/cmds2.h5\n"
     ]
    }
   ],
   "source": [
    "update_cmds_v2.main(\n",
    "    (\n",
    "        \"--lookback=30\",\n",
    "        f\"--stop={stop.date}\",\n",
    "        f\"--data-root={kadi_dir}\",\n",
    "        f\"--scenario={os.environ['KADI_SCENARIO']}\",\n",
    "    )\n",
    ")"
   ]
  },
  {
   "cell_type": "code",
   "execution_count": 5,
   "metadata": {},
   "outputs": [
    {
     "name": "stdout",
     "output_type": "stream",
     "text": [
      "params_str='160'\n",
      "hej args=[160]\n",
      "args=(160,)\n",
      "out=({'type': 'COMMAND_SW', 'tlmsid': 'ACPCSFSU', 'params': {'PITCH': 160}},)\n",
      "2023:199:00:00:00.000 | COMMAND_SW       | ACPCSFSU   | CMD_EVT  | event=Safe_mode, event_date=2023:199:00:00:00, pitch=160, scs=0\n",
      "2023:199:00:00:00.000 | COMMAND_SW       | CODISASX   | CMD_EVT  | codisas1=128 , event=Safe_mode, event_date=2023:199:00:00:00, msid=CODISASX, scs\n",
      "2023:199:00:00:00.000 | COMMAND_SW       | CODISASX   | CMD_EVT  | codisas1=129 , event=Safe_mode, event_date=2023:199:00:00:00, msid=CODISASX, scs\n",
      "2023:199:00:00:00.000 | COMMAND_SW       | CODISASX   | CMD_EVT  | codisas1=130 , event=Safe_mode, event_date=2023:199:00:00:00, msid=CODISASX, scs\n",
      "2023:199:00:00:00.000 | COMMAND_SW       | CODISASX   | CMD_EVT  | codisas1=131 , event=Safe_mode, event_date=2023:199:00:00:00, msid=CODISASX, scs\n",
      "2023:199:00:00:00.000 | COMMAND_SW       | CODISASX   | CMD_EVT  | codisas1=132 , event=Safe_mode, event_date=2023:199:00:00:00, msid=CODISASX, scs\n",
      "2023:199:00:00:00.000 | COMMAND_SW       | CODISASX   | CMD_EVT  | codisas1=133 , event=Safe_mode, event_date=2023:199:00:00:00, msid=CODISASX, scs\n",
      "2023:199:00:00:00.000 | COMMAND_SW       | OORMPDS    | CMD_EVT  | event=Safe_mode, event_date=2023:199:00:00:00, scs=0\n",
      "2023:199:00:00:01.025 | COMMAND_HW       | AFIDP      | CMD_EVT  | event=Safe_mode, event_date=2023:199:00:00:00, msid=AFLCRSET, scs=0\n",
      "2023:199:00:00:01.025 | SIMTRANS         | None       | CMD_EVT  | event=Safe_mode, event_date=2023:199:00:00:00, pos=-99616, scs=0\n",
      "2023:199:00:01:06.685 | ACISPKT          | AA00000000 | CMD_EVT  | event=Safe_mode, event_date=2023:199:00:00:00, scs=0\n",
      "2023:199:00:01:07.710 | ACISPKT          | AA00000000 | CMD_EVT  | event=Safe_mode, event_date=2023:199:00:00:00, scs=0\n",
      "2023:199:00:01:17.960 | ACISPKT          | WSPOW0002A | CMD_EVT  | event=Safe_mode, event_date=2023:199:00:00:00, scs=0\n",
      "2023:199:00:01:17.960 | COMMAND_SW       | AODSDITH   | CMD_EVT  | event=Safe_mode, event_date=2023:199:00:00:00, scs=0\n",
      "2023:199:00:01:17.960 | COMMAND_SW       | CSELFMT5   | CMD_EVT  | event=Safe_mode, event_date=2023:199:00:00:00, scs=0\n",
      "2023:204:20:02:00.000 | LOAD_EVENT       | None       | JUL1723A | event_type=SCHEDULED_STOP_TIME, scs=0\n"
     ]
    }
   ],
   "source": [
    "cmds = kc.get_cmds(\"2023:199\")\n",
    "cmds = cmds[cmds[\"type\"] != \"ORBPOINT\"]\n",
    "cmds.pprint_like_backstop()"
   ]
  },
  {
   "cell_type": "code",
   "execution_count": 6,
   "metadata": {},
   "outputs": [
    {
     "name": "stdout",
     "output_type": "stream",
     "text": [
      "      datestart              datestop           tstart        tstop           pitch        pcad_mode    trans_keys  \n",
      "--------------------- --------------------- ------------- ------------- ------------------ --------- ---------------\n",
      "2023:199:00:00:00.000 2023:199:00:04:14.544 806025669.184 806025923.728  146.2274793335969      SSUN pcad_mode,pitch\n",
      "2023:199:00:04:14.544 2023:199:00:08:29.087 806025923.728 806026178.271 152.32392727432023      SSUN           pitch\n",
      "2023:199:00:08:29.087 2023:199:00:12:43.631 806026178.271 806026432.815 158.42031720723375      SSUN           pitch\n",
      "2023:199:00:12:43.631 2023:201:00:00:00.000 806026432.815 806198469.184  160.0062381964713      SSUN           pitch\n"
     ]
    }
   ],
   "source": [
    "states = kcs.get_states(\"2023:199\", \"2023:201\", state_keys=[\"pitch\", \"pcad_mode\"])\n",
    "states.pprint_all()"
   ]
  },
  {
   "cell_type": "code",
   "execution_count": null,
   "metadata": {},
   "outputs": [],
   "source": []
  }
 ],
 "metadata": {
  "kernelspec": {
   "display_name": "Python 3",
   "language": "python",
   "name": "python3"
  },
  "language_info": {
   "codemirror_mode": {
    "name": "ipython",
    "version": 3
   },
   "file_extension": ".py",
   "mimetype": "text/x-python",
   "name": "python",
   "nbconvert_exporter": "python",
   "pygments_lexer": "ipython3",
   "version": "3.11.8"
  }
 },
 "nbformat": 4,
 "nbformat_minor": 2
}
