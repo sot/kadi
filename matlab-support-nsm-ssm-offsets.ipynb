{
 "cells": [
  {
   "cell_type": "code",
   "execution_count": 1,
   "metadata": {},
   "outputs": [],
   "source": [
    "import os\n",
    "import sys\n",
    "from pathlib import Path\n",
    "\n",
    "sys.path.insert(0, \"/Users/aldcroft/git/ska_sun\")\n",
    "\n",
    "from cxotime import CxoTime\n",
    "\n",
    "import kadi.commands as kc\n",
    "import kadi.commands.states as kcs\n",
    "from kadi.scripts import update_cmds_v2"
   ]
  },
  {
   "cell_type": "code",
   "execution_count": 2,
   "metadata": {},
   "outputs": [],
   "source": [
    "kadi_dir = Path(\"nsm-ssm-offset\")\n",
    "kadi_dir.mkdir(exist_ok=True)"
   ]
  },
  {
   "cell_type": "code",
   "execution_count": 3,
   "metadata": {},
   "outputs": [],
   "source": [
    "stop = CxoTime(\"2023:203\")  # Clean period with no command events within +/- 50 days\n",
    "os.environ[\"KADI\"] = str(kadi_dir)  # Data root for reading/writing cmds2.h5,pkl\n",
    "kc.conf.commands_dir = str(kadi_dir)  # Directory for cmd_events.csv and loads\n",
    "os.environ[\"KADI_COMMANDS_DEFAULT_STOP\"] = stop.date\n",
    "os.environ[\"KADI_SCENARIO\"] = \"test-scenario\""
   ]
  },
  {
   "cell_type": "code",
   "execution_count": 4,
   "metadata": {},
   "outputs": [
    {
     "name": "stdout",
     "output_type": "stream",
     "text": [
      "******************************************\n",
      "Running: /Users/aldcroft/git/kadi/kadi/scripts/update_cmds_v2.py\n",
      "Version: 7.11.1.dev5+gd0b5943.d20240812\n",
      "Time: Mon Aug 12 06:46:22 2024\n",
      "User: root\n",
      "Machine: saos-MBP\n",
      "Processing args:\n",
      "{'data_root': 'nsm-ssm-offset',\n",
      " 'log_level': 10,\n",
      " 'lookback': 30,\n",
      " 'scenario': 'test-scenario',\n",
      " 'stop': '2023:203:00:00:00.000'}\n",
      "******************************************\n",
      "2024-08-12 06:46:22,664 load_idx_cmds: Loaded nsm-ssm-offset/cmds2.h5 with 8241 commands\n",
      "2024-08-12 06:46:22,667 load_pars_dict: Loaded nsm-ssm-offset/cmds2.pkl with 1087 pars\n",
      "2024-08-12 06:46:22,667 get_cmd_events: Reading command events /Users/aldcroft/git/kadi/nsm-ssm-offset/test-scenario/cmd_events.csv\n",
      "2024-08-12 06:46:22,671 filter_cmd_events_default_stop: Filtering cmd_events to stop date 2023:203:00:00:00.000 (4 vs 4)\n",
      "2024-08-12 06:46:22,673 get_occweb_page: Getting OCCweb FOT/mission_planning/PRODUCTS/APPR_LOADS/2023/JUN with cache=False\n",
      "2024-08-12 06:46:23,115 get_load_cmds_from_occweb_or_local: Already have /Users/aldcroft/git/kadi/nsm-ssm-offset/loads/JUN2623A.pkl.gz\n",
      "2024-08-12 06:46:23,119 get_occweb_page: Getting OCCweb FOT/mission_planning/PRODUCTS/APPR_LOADS/2023/JUL with cache=False\n",
      "2024-08-12 06:46:23,533 get_load_cmds_from_occweb_or_local: Already have /Users/aldcroft/git/kadi/nsm-ssm-offset/loads/JUL0323A.pkl.gz\n",
      "2024-08-12 06:46:23,539 get_load_cmds_from_occweb_or_local: Already have /Users/aldcroft/git/kadi/nsm-ssm-offset/loads/JUL1023B.pkl.gz\n",
      "2024-08-12 06:46:23,543 get_load_cmds_from_occweb_or_local: Already have /Users/aldcroft/git/kadi/nsm-ssm-offset/loads/JUL1723A.pkl.gz\n",
      "2024-08-12 06:46:23,548 update_archive_and_get_cmds_recent: Including loads JUN2623A, JUL0323A, JUL1023B, JUL1723A\n",
      "2024-08-12 06:46:23,551 update_archive_and_get_cmds_recent: Load JUN2623A has 1843 commands with RLTT=2023:177:05:22:40.513\n",
      "2024-08-12 06:46:23,554 update_archive_and_get_cmds_recent: Load JUL0323A has 1809 commands with RLTT=2023:183:16:42:00.000\n",
      "2024-08-12 06:46:23,558 update_archive_and_get_cmds_recent: Load JUL1023B has 1674 commands with RLTT=2023:191:03:46:28.615\n",
      "2024-08-12 06:46:23,561 update_archive_and_get_cmds_recent: Load JUL1723A has 1636 commands with RLTT=2023:197:10:07:02.262\n",
      "2024-08-12 06:46:23,563 update_archive_and_get_cmds_recent: Including cmd_events:\n",
      "  Safe mode at 2023:199:00:00:00.000\n",
      "  NSM at 2023:200:00:00:00.000\n",
      "  Maneuver at 2023:200:12:00:00.000\n",
      "  Safe mode at 2023:201:00:00:00.000\n",
      "2024-08-12 06:46:23,580 update_archive_and_get_cmds_recent: Processing JUN2623A with 1843 commands\n",
      "2024-08-12 06:46:23,581 update_archive_and_get_cmds_recent: Adding 1843 commands from JUN2623A\n",
      "2024-08-12 06:46:23,581 update_archive_and_get_cmds_recent: Processing JUL0323A with 1809 commands\n",
      "2024-08-12 06:46:23,582 update_archive_and_get_cmds_recent: Adding 1809 commands from JUL0323A\n",
      "2024-08-12 06:46:23,582 update_archive_and_get_cmds_recent: Processing JUL1023B with 1674 commands\n",
      "2024-08-12 06:46:23,583 update_archive_and_get_cmds_recent: Adding 1674 commands from JUL1023B\n",
      "2024-08-12 06:46:23,583 update_archive_and_get_cmds_recent: Processing JUL1723A with 1636 commands\n",
      "2024-08-12 06:46:23,584 update_archive_and_get_cmds_recent: Adding 1636 commands from JUL1723A\n",
      "2024-08-12 06:46:23,584 update_archive_and_get_cmds_recent: Processing CMD_EVT Safe_mode at 2023:199:00:00:00.000 with 15 commands\n",
      "2024-08-12 06:46:23,585 update_archive_and_get_cmds_recent: Removing 1345 cmds in SCS slots [128, 129, 130, 131, 132, 133] from JUL1723A due to DISABLE SCS in CMD_EVT at 2023:199:00:00:00.000\n",
      "2024-08-12 06:46:23,586 update_archive_and_get_cmds_recent: Adding 15 commands from CMD_EVT Safe_mode at 2023:199:00:00:00.000\n",
      "2024-08-12 06:46:23,586 update_archive_and_get_cmds_recent: Processing CMD_EVT NSM at 2023:200:00:00:00.000 with 14 commands\n",
      "2024-08-12 06:46:23,587 update_archive_and_get_cmds_recent: Adding 14 commands from CMD_EVT NSM at 2023:200:00:00:00.000\n",
      "2024-08-12 06:46:23,587 update_archive_and_get_cmds_recent: Processing CMD_EVT Maneuver at 2023:200:12:00:00.000 with 4 commands\n",
      "2024-08-12 06:46:23,588 update_archive_and_get_cmds_recent: Adding 4 commands from CMD_EVT Maneuver at 2023:200:12:00:00.000\n",
      "2024-08-12 06:46:23,588 update_archive_and_get_cmds_recent: Processing CMD_EVT Safe_mode at 2023:201:00:00:00.000 with 15 commands\n",
      "2024-08-12 06:46:23,589 update_archive_and_get_cmds_recent: Adding 15 commands from CMD_EVT Safe_mode at 2023:201:00:00:00.000\n",
      "2024-08-12 06:46:23,819 get_cmds_obs_final: No starcat for obsid 25904 at 2023:200:12:38:42.599 even though npnt_enab is True\n",
      "2024-08-12 06:46:23,825 get_matching_block_idx: Selecting commands from cmds_arch[2428:]\n",
      "2024-08-12 06:46:23,828 load_pars_dict: Loaded /Users/aldcroft/git/kadi/nsm-ssm-offset/cmds2.pkl with 1087 pars\n",
      "2024-08-12 06:46:24,054 get_matching_block_idx: Matching blocks for (a) recent commands and (b) existing HDF5\n",
      "2024-08-12 06:46:24,054 get_matching_block_idx:   Match(a=0, b=0, size=3)\n",
      "2024-08-12 06:46:24,055 get_matching_block_idx:   Match(a=6, b=3, size=50)\n",
      "2024-08-12 06:46:24,055 get_matching_block_idx:   Match(a=57, b=53, size=5756)\n",
      "2024-08-12 06:46:24,055 get_matching_block_idx:   Match(a=5813, b=5809, size=0)\n",
      "2024-08-12 06:46:24,056 get_matching_block_idx: Diffs between (a) recent commands and (b) existing HDF5\n",
      "2024-08-12 06:46:24,056 get_matching_block_idx:   ('equal', 0, 3, 0, 3)\n",
      "2024-08-12 06:46:24,056 get_matching_block_idx:   ('delete', 3, 6, 3, 3)\n",
      "2024-08-12 06:46:24,057 get_matching_block_idx:   ('equal', 6, 56, 3, 53)\n",
      "2024-08-12 06:46:24,057 get_matching_block_idx:   ('delete', 56, 57, 53, 53)\n",
      "2024-08-12 06:46:24,057 get_matching_block_idx:   ('equal', 57, 5813, 53, 5809)\n",
      "2024-08-12 06:46:24,093 _update_cmds_archive: No new commands found, skipping writing nsm-ssm-offset/cmds2.h5\n"
     ]
    }
   ],
   "source": [
    "update_cmds_v2.main(\n",
    "    (\n",
    "        \"--lookback=30\",\n",
    "        f\"--stop={stop.date}\",\n",
    "        f\"--data-root={kadi_dir}\",\n",
    "        f\"--scenario={os.environ['KADI_SCENARIO']}\",\n",
    "    )\n",
    ")"
   ]
  },
  {
   "cell_type": "code",
   "execution_count": 5,
   "metadata": {},
   "outputs": [
    {
     "name": "stdout",
     "output_type": "stream",
     "text": [
      "2023:199:00:00:00.000 | COMMAND_SW       | ACPCSFSU   | CMD_EVT  | event=Safe_mode, event_date=2023:199:00:00:00, pitch=160, scs=0\n",
      "2023:199:00:00:00.000 | COMMAND_SW       | CODISASX   | CMD_EVT  | codisas1=128 , event=Safe_mode, event_date=2023:199:00:00:00, msid=CODISASX, scs\n",
      "2023:199:00:00:00.000 | COMMAND_SW       | CODISASX   | CMD_EVT  | codisas1=129 , event=Safe_mode, event_date=2023:199:00:00:00, msid=CODISASX, scs\n",
      "2023:199:00:00:00.000 | COMMAND_SW       | CODISASX   | CMD_EVT  | codisas1=130 , event=Safe_mode, event_date=2023:199:00:00:00, msid=CODISASX, scs\n",
      "2023:199:00:00:00.000 | COMMAND_SW       | CODISASX   | CMD_EVT  | codisas1=131 , event=Safe_mode, event_date=2023:199:00:00:00, msid=CODISASX, scs\n",
      "2023:199:00:00:00.000 | COMMAND_SW       | CODISASX   | CMD_EVT  | codisas1=132 , event=Safe_mode, event_date=2023:199:00:00:00, msid=CODISASX, scs\n",
      "2023:199:00:00:00.000 | COMMAND_SW       | CODISASX   | CMD_EVT  | codisas1=133 , event=Safe_mode, event_date=2023:199:00:00:00, msid=CODISASX, scs\n",
      "2023:199:00:00:00.000 | COMMAND_SW       | OORMPDS    | CMD_EVT  | event=Safe_mode, event_date=2023:199:00:00:00, scs=0\n",
      "2023:199:00:00:01.025 | COMMAND_HW       | AFIDP      | CMD_EVT  | event=Safe_mode, event_date=2023:199:00:00:00, msid=AFLCRSET, scs=0\n",
      "2023:199:00:00:01.025 | SIMTRANS         | None       | CMD_EVT  | event=Safe_mode, event_date=2023:199:00:00:00, pos=-99616, scs=0\n",
      "2023:199:00:01:06.685 | ACISPKT          | AA00000000 | CMD_EVT  | event=Safe_mode, event_date=2023:199:00:00:00, scs=0\n",
      "2023:199:00:01:07.710 | ACISPKT          | AA00000000 | CMD_EVT  | event=Safe_mode, event_date=2023:199:00:00:00, scs=0\n",
      "2023:199:00:01:17.960 | ACISPKT          | WSPOW0002A | CMD_EVT  | event=Safe_mode, event_date=2023:199:00:00:00, scs=0\n",
      "2023:199:00:01:17.960 | COMMAND_SW       | AODSDITH   | CMD_EVT  | event=Safe_mode, event_date=2023:199:00:00:00, scs=0\n",
      "2023:199:00:01:17.960 | COMMAND_SW       | CSELFMT5   | CMD_EVT  | event=Safe_mode, event_date=2023:199:00:00:00, scs=0\n",
      "2023:200:00:00:00.000 | COMMAND_SW       | AONSMSAF   | CMD_EVT  | event=NSM, event_date=2023:200:00:00:00, scs=0\n",
      "2023:200:00:00:00.000 | COMMAND_SW       | CODISASX   | CMD_EVT  | codisas1=128 , event=NSM, event_date=2023:200:00:00:00, msid=CODISASX, scs=0\n",
      "2023:200:00:00:00.000 | COMMAND_SW       | CODISASX   | CMD_EVT  | codisas1=129 , event=NSM, event_date=2023:200:00:00:00, msid=CODISASX, scs=0\n",
      "2023:200:00:00:00.000 | COMMAND_SW       | CODISASX   | CMD_EVT  | codisas1=130 , event=NSM, event_date=2023:200:00:00:00, msid=CODISASX, scs=0\n",
      "2023:200:00:00:00.000 | COMMAND_SW       | CODISASX   | CMD_EVT  | codisas1=131 , event=NSM, event_date=2023:200:00:00:00, msid=CODISASX, scs=0\n",
      "2023:200:00:00:00.000 | COMMAND_SW       | CODISASX   | CMD_EVT  | codisas1=132 , event=NSM, event_date=2023:200:00:00:00, msid=CODISASX, scs=0\n",
      "2023:200:00:00:00.000 | COMMAND_SW       | CODISASX   | CMD_EVT  | codisas1=133 , event=NSM, event_date=2023:200:00:00:00, msid=CODISASX, scs=0\n",
      "2023:200:00:00:00.000 | COMMAND_SW       | OORMPDS    | CMD_EVT  | event=NSM, event_date=2023:200:00:00:00, scs=0\n",
      "2023:200:00:00:01.025 | COMMAND_HW       | AFIDP      | CMD_EVT  | event=NSM, event_date=2023:200:00:00:00, msid=AFLCRSET, scs=0\n",
      "2023:200:00:00:01.025 | SIMTRANS         | None       | CMD_EVT  | event=NSM, event_date=2023:200:00:00:00, pos=-99616, scs=0\n",
      "2023:200:00:01:06.685 | ACISPKT          | AA00000000 | CMD_EVT  | event=NSM, event_date=2023:200:00:00:00, scs=0\n",
      "2023:200:00:01:07.710 | ACISPKT          | AA00000000 | CMD_EVT  | event=NSM, event_date=2023:200:00:00:00, scs=0\n",
      "2023:200:00:01:17.960 | ACISPKT          | WSPOW0002A | CMD_EVT  | event=NSM, event_date=2023:200:00:00:00, scs=0\n",
      "2023:200:00:01:17.960 | COMMAND_SW       | AODSDITH   | CMD_EVT  | event=NSM, event_date=2023:200:00:00:00, scs=0\n",
      "2023:200:00:23:18.026 | LOAD_EVENT       | OBS        | CMD_EVT  | manvr_start=2023:200:00:00:00.000, npnt_enab=False, obs_start=2023:200:00:23:18.\n",
      "2023:200:12:00:00.000 | COMMAND_SW       | AONMMODE   | CMD_EVT  | event=Maneuver, event_date=2023:200:12:00:00, msid=AONMMODE, scs=0\n",
      "2023:200:12:00:00.256 | COMMAND_SW       | AONM2NPE   | CMD_EVT  | event=Maneuver, event_date=2023:200:12:00:00, msid=AONM2NPE, scs=0\n",
      "2023:200:12:00:04.356 | MP_TARGQUAT      | AOUPTARQ   | CMD_EVT  | event=Maneuver, event_date=2023:200:12:00:00, q1=8.08891720e-01, q2=-4.83421050e\n",
      "2023:200:12:00:10.250 | COMMAND_SW       | AOMANUVR   | CMD_EVT  | event=Maneuver, event_date=2023:200:12:00:00, msid=AOMANUVR, scs=0\n",
      "2023:200:12:38:42.599 | LOAD_EVENT       | OBS        | CMD_EVT  | manvr_start=2023:200:12:00:10.250, npnt_enab=True, obs_start=2023:200:12:38:42.5\n",
      "2023:201:00:00:00.000 | COMMAND_SW       | ACPCSFSU   | CMD_EVT  | event=Safe_mode, event_date=2023:201:00:00:00, scs=0\n",
      "2023:201:00:00:00.000 | COMMAND_SW       | CODISASX   | CMD_EVT  | codisas1=128 , event=Safe_mode, event_date=2023:201:00:00:00, msid=CODISASX, scs\n",
      "2023:201:00:00:00.000 | COMMAND_SW       | CODISASX   | CMD_EVT  | codisas1=129 , event=Safe_mode, event_date=2023:201:00:00:00, msid=CODISASX, scs\n",
      "2023:201:00:00:00.000 | COMMAND_SW       | CODISASX   | CMD_EVT  | codisas1=130 , event=Safe_mode, event_date=2023:201:00:00:00, msid=CODISASX, scs\n",
      "2023:201:00:00:00.000 | COMMAND_SW       | CODISASX   | CMD_EVT  | codisas1=131 , event=Safe_mode, event_date=2023:201:00:00:00, msid=CODISASX, scs\n",
      "2023:201:00:00:00.000 | COMMAND_SW       | CODISASX   | CMD_EVT  | codisas1=132 , event=Safe_mode, event_date=2023:201:00:00:00, msid=CODISASX, scs\n",
      "2023:201:00:00:00.000 | COMMAND_SW       | CODISASX   | CMD_EVT  | codisas1=133 , event=Safe_mode, event_date=2023:201:00:00:00, msid=CODISASX, scs\n",
      "2023:201:00:00:00.000 | COMMAND_SW       | OORMPDS    | CMD_EVT  | event=Safe_mode, event_date=2023:201:00:00:00, scs=0\n",
      "2023:201:00:00:01.025 | COMMAND_HW       | AFIDP      | CMD_EVT  | event=Safe_mode, event_date=2023:201:00:00:00, msid=AFLCRSET, scs=0\n",
      "2023:201:00:00:01.025 | SIMTRANS         | None       | CMD_EVT  | event=Safe_mode, event_date=2023:201:00:00:00, pos=-99616, scs=0\n",
      "2023:201:00:01:06.685 | ACISPKT          | AA00000000 | CMD_EVT  | event=Safe_mode, event_date=2023:201:00:00:00, scs=0\n",
      "2023:201:00:01:07.710 | ACISPKT          | AA00000000 | CMD_EVT  | event=Safe_mode, event_date=2023:201:00:00:00, scs=0\n",
      "2023:201:00:01:17.960 | ACISPKT          | WSPOW0002A | CMD_EVT  | event=Safe_mode, event_date=2023:201:00:00:00, scs=0\n",
      "2023:201:00:01:17.960 | COMMAND_SW       | AODSDITH   | CMD_EVT  | event=Safe_mode, event_date=2023:201:00:00:00, scs=0\n",
      "2023:201:00:01:17.960 | COMMAND_SW       | CSELFMT5   | CMD_EVT  | event=Safe_mode, event_date=2023:201:00:00:00, scs=0\n",
      "2023:204:20:02:00.000 | LOAD_EVENT       | None       | JUL1723A | event_type=SCHEDULED_STOP_TIME, scs=0\n"
     ]
    }
   ],
   "source": [
    "cmds = kc.get_cmds(\"2023:199\")\n",
    "cmds = cmds[cmds[\"type\"] != \"ORBPOINT\"]\n",
    "cmds.pprint_like_backstop()"
   ]
  },
  {
   "cell_type": "code",
   "execution_count": 6,
   "metadata": {},
   "outputs": [
    {
     "name": "stdout",
     "output_type": "stream",
     "text": [
      "      datestart       pitch pcad_mode    trans_keys  \n",
      "--------------------- ----- --------- ---------------\n",
      "2023:198:23:00:00.000 144.6      NPNT                \n",
      "2023:199:00:00:00.000 146.2      SSUN pcad_mode,pitch\n",
      "2023:199:00:04:14.544 152.3      SSUN           pitch\n",
      "2023:199:00:08:29.087 158.4      SSUN           pitch\n",
      "2023:199:00:12:43.631 160.0      SSUN           pitch\n",
      "2023:200:00:00:00.000 158.1      NSUN pcad_mode,pitch\n",
      "2023:200:00:05:20.553 146.4      NSUN           pitch\n",
      "2023:200:00:10:41.105 125.4      NSUN           pitch\n",
      "2023:200:00:16:01.658 104.3      NSUN           pitch\n",
      "2023:200:00:21:22.210  92.7      NSUN           pitch\n",
      "2023:200:00:26:42.763  90.0      NSUN           pitch\n",
      "2023:200:12:00:00.000  90.0      NMAN       pcad_mode\n",
      "2023:200:12:00:10.250  90.7      NMAN           pitch\n",
      "2023:200:12:04:59.280  92.4      NMAN           pitch\n",
      "2023:200:12:09:48.309  96.4      NMAN           pitch\n",
      "2023:200:12:14:37.339 102.0      NMAN           pitch\n",
      "2023:200:12:19:26.368 108.2      NMAN           pitch\n",
      "2023:200:12:24:15.398 113.9      NMAN           pitch\n",
      "2023:200:12:29:04.427 118.0      NMAN           pitch\n",
      "2023:200:12:33:53.457 119.7      NMAN           pitch\n",
      "2023:200:12:38:42.486 120.0      NPNT pcad_mode,pitch\n",
      "2023:200:13:18:50.816 120.0      NPNT           pitch\n",
      "2023:200:16:05:30.816 120.0      NPNT           pitch\n",
      "2023:200:18:52:10.816 120.1      NPNT           pitch\n",
      "2023:200:21:38:50.816 120.1      NPNT           pitch\n",
      "2023:201:00:00:00.000 116.9      SSUN pcad_mode,pitch\n",
      "2023:201:00:05:47.717 105.0      SSUN           pitch\n",
      "2023:201:00:11:35.433  93.2      SSUN           pitch\n",
      "2023:201:00:17:23.150  90.0      SSUN           pitch\n"
     ]
    }
   ],
   "source": [
    "states = kcs.get_states(\n",
    "    \"2023:198:23:00:00\", \"2023:201:12:00:00\", state_keys=[\"pitch\", \"pcad_mode\"]\n",
    ")\n",
    "states[\"pitch\"].info.format = \".1f\"\n",
    "states[\"datestart\", \"pitch\", \"pcad_mode\", \"trans_keys\"].pprint_all()"
   ]
  }
 ],
 "metadata": {
  "kernelspec": {
   "display_name": "Python 3",
   "language": "python",
   "name": "python3"
  },
  "language_info": {
   "codemirror_mode": {
    "name": "ipython",
    "version": 3
   },
   "file_extension": ".py",
   "mimetype": "text/x-python",
   "name": "python",
   "nbconvert_exporter": "python",
   "pygments_lexer": "ipython3",
   "version": "3.11.8"
  }
 },
 "nbformat": 4,
 "nbformat_minor": 2
}
